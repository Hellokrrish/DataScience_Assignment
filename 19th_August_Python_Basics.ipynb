{
 "cells": [
  {
   "cell_type": "markdown",
   "id": "f48d7019-c843-42a1-bbb8-c24f4ebc2dfd",
   "metadata": {},
   "source": [
    "##### 1. Declare two variables, `x` and `y`, and assign them integer values. Swap the values of these variables without using any temporary variable."
   ]
  },
  {
   "cell_type": "code",
   "execution_count": 1,
   "id": "f54949bc-b8ec-4577-b774-11b578988dc0",
   "metadata": {},
   "outputs": [
    {
     "name": "stdout",
     "output_type": "stream",
     "text": [
      "The value of x is: 20\n",
      "The value of y is: 10\n"
     ]
    }
   ],
   "source": [
    "x=10\n",
    "y=20\n",
    "x,y=y,x # the value swap the two top most items. \n",
    "print(\"The value of x is:\",x)\n",
    "print(\"The value of y is:\",y)"
   ]
  },
  {
   "cell_type": "markdown",
   "id": "9c142954-8c2d-4b45-9e8e-e0baa93874af",
   "metadata": {},
   "source": [
    "\n",
    "##### 2. Create a program that calculates the area of a rectangle. Take the length and width as inputs from the user and store them in variables. Calculate and display the area."
   ]
  },
  {
   "cell_type": "code",
   "execution_count": 2,
   "id": "35b6b6ab-113e-40bd-bfcb-08f4bd0757e5",
   "metadata": {},
   "outputs": [
    {
     "name": "stdin",
     "output_type": "stream",
     "text": [
      "Enter the Length of Rectangle 2\n",
      "Enter the width of the Rectangle 3\n"
     ]
    },
    {
     "name": "stdout",
     "output_type": "stream",
     "text": [
      "The area of a Rectangle is: 6.0\n"
     ]
    }
   ],
   "source": [
    "Length=float(input(\"Enter the Length of Rectangle\")) \n",
    "Width=float(input(\"Enter the width of the Rectangle\"))\n",
    "Area=Length*Width # To using rectangle formula.\n",
    "print(\"The area of a Rectangle is:\",Area)"
   ]
  },
  {
   "cell_type": "markdown",
   "id": "2898fab7-8876-429b-b9b8-47d524b85214",
   "metadata": {},
   "source": [
    "\n",
    "##### 3. Write a Python program that converts temperatures from Celsius to Fahrenheit. Take the temperature in Celsius as input, store it in a variable, convert it to Fahrenheit, and display the result. \n"
   ]
  },
  {
   "cell_type": "code",
   "execution_count": 3,
   "id": "a9f1754a-fb0d-414b-9e95-534a13e2e451",
   "metadata": {},
   "outputs": [
    {
     "name": "stdin",
     "output_type": "stream",
     "text": [
      "Enter the temperature in celsius 45\n"
     ]
    },
    {
     "name": "stdout",
     "output_type": "stream",
     "text": [
      "the fahrenheit is: 113.0\n"
     ]
    }
   ],
   "source": [
    "celsius=int(input('Enter the temperature in celsius'))\n",
    "fahrenheit=(1.8*celsius)+32 # To convert the celsius to fahrenheit.\n",
    "print(\"the fahrenheit is:\",fahrenheit)"
   ]
  },
  {
   "cell_type": "markdown",
   "id": "10d5ff77-72d4-4627-be0a-348656d50324",
   "metadata": {},
   "source": [
    "### String Based questions:"
   ]
  },
  {
   "cell_type": "markdown",
   "id": "44dc7a44-df84-424f-b1c5-d1929c939bea",
   "metadata": {},
   "source": [
    "###### 1. Write a Python program that takes a string as input and prints the length of the string."
   ]
  },
  {
   "cell_type": "code",
   "execution_count": 4,
   "id": "34900675-2beb-4e51-a90a-c470615f95d5",
   "metadata": {},
   "outputs": [
    {
     "name": "stdin",
     "output_type": "stream",
     "text": [
      "Enter the any string data science\n"
     ]
    },
    {
     "data": {
      "text/plain": [
       "12"
      ]
     },
     "execution_count": 4,
     "metadata": {},
     "output_type": "execute_result"
    }
   ],
   "source": [
    "d=str(input(\"Enter the any string\"))\n",
    "len(d) # To find the length of a string."
   ]
  },
  {
   "cell_type": "markdown",
   "id": "655d4878-3024-4fbf-8929-8c663c24ebdb",
   "metadata": {},
   "source": [
    "##### 2. Create a program that takes a sentence from the user and counts the number of vowels (a, e, i, o, u) in the string."
   ]
  },
  {
   "cell_type": "code",
   "execution_count": 5,
   "id": "97fcacd9-2de9-4d87-80b2-81ba5c136ed8",
   "metadata": {},
   "outputs": [
    {
     "name": "stdin",
     "output_type": "stream",
     "text": [
      "Enter a sentence i want to become a data scientist\n"
     ]
    },
    {
     "name": "stdout",
     "output_type": "stream",
     "text": [
      "12\n"
     ]
    }
   ],
   "source": [
    "sentence=input(\"Enter a sentence\")\n",
    "count=0 # To count the how many vowels in a given a sentence. \n",
    "for i in sentence:\n",
    "    if(i=='a'or i=='e'or i=='i'or i=='o'or i=='u'or i=='A' or i=='E' or i=='I' or i=='O' or i=='U'):\n",
    "        count=count+1 # Increment.\n",
    "print(count) # print the result."
   ]
  },
  {
   "cell_type": "markdown",
   "id": "584adedc-ade3-4bab-9ac7-6fe9265bf068",
   "metadata": {},
   "source": [
    "\n",
    "###### 3. Given a string, reverse the order of characters using string slicing and print the reversed string.\n"
   ]
  },
  {
   "cell_type": "code",
   "execution_count": 6,
   "id": "e6fe560c-09c1-499e-89bb-5510df837068",
   "metadata": {},
   "outputs": [
    {
     "data": {
      "text/plain": [
       "'ahtees,anhsirkamar'"
      ]
     },
     "execution_count": 6,
     "metadata": {},
     "output_type": "execute_result"
    }
   ],
   "source": [
    "b='ramakrishna,seetha' # To given a characters and assign that in a variable b.\n",
    "b[::-1] # Using string slicing."
   ]
  },
  {
   "cell_type": "markdown",
   "id": "7f879d6f-fa52-40b7-b797-42beee1f0e63",
   "metadata": {},
   "source": [
    "##### 4. Write a program that takes a string as input and checks if it is a palindrome (reads the same forwards and backwards)."
   ]
  },
  {
   "cell_type": "code",
   "execution_count": 7,
   "id": "4aa210f9-1a90-4431-a714-9a6c15aa183e",
   "metadata": {},
   "outputs": [
    {
     "name": "stdin",
     "output_type": "stream",
     "text": [
      "Enter the values madam\n"
     ]
    },
    {
     "name": "stdout",
     "output_type": "stream",
     "text": [
      "it is a palindrome\n"
     ]
    }
   ],
   "source": [
    "c=input(\"Enter the values\") # Take values from the user.\n",
    "if c==c[::-1]: # Using if statement to check the condition is true or false.\n",
    "    print('it is a palindrome')\n",
    "else: # Using else statement .\n",
    "    print('it is not a palindrome')"
   ]
  },
  {
   "cell_type": "markdown",
   "id": "8b1a1a55-5ad5-40b3-8f15-e9a6538db527",
   "metadata": {},
   "source": [
    "##### 5. Create a program that takes a string as input and removes all the spaces from it. Print the modified string without spaces."
   ]
  },
  {
   "cell_type": "code",
   "execution_count": 8,
   "id": "7c16dc18-93c1-4efd-9f5d-5a91e08425d5",
   "metadata": {},
   "outputs": [
    {
     "name": "stdin",
     "output_type": "stream",
     "text": [
      "Enter the value    ramakrishna  \n"
     ]
    },
    {
     "data": {
      "text/plain": [
       "'ramakrishna'"
      ]
     },
     "execution_count": 8,
     "metadata": {},
     "output_type": "execute_result"
    }
   ],
   "source": [
    "n=input(\"Enter the value\") # To take a input from the user. \n",
    "n.strip() # using strip function to remove the whitespaces."
   ]
  },
  {
   "cell_type": "code",
   "execution_count": null,
   "id": "aeade81b-593c-4f0b-ab21-6de601f14533",
   "metadata": {},
   "outputs": [],
   "source": []
  }
 ],
 "metadata": {
  "kernelspec": {
   "display_name": "Python 3 (ipykernel)",
   "language": "python",
   "name": "python3"
  },
  "language_info": {
   "codemirror_mode": {
    "name": "ipython",
    "version": 3
   },
   "file_extension": ".py",
   "mimetype": "text/x-python",
   "name": "python",
   "nbconvert_exporter": "python",
   "pygments_lexer": "ipython3",
   "version": "3.10.8"
  }
 },
 "nbformat": 4,
 "nbformat_minor": 5
}
