{
 "cells": [
  {
   "cell_type": "markdown",
   "id": "addab8bd-3cf3-4256-a118-564396e9a866",
   "metadata": {},
   "source": [
    "# String Based Questions:"
   ]
  },
  {
   "cell_type": "markdown",
   "id": "0f838816-94f0-44ae-ab94-fe2b18222387",
   "metadata": {},
   "source": [
    "### 1. Write a program to reverse a string. \n"
   ]
  },
  {
   "cell_type": "code",
   "execution_count": 2,
   "id": "5e39eb4c-d59e-4c32-bd63-f703dbc613b4",
   "metadata": {},
   "outputs": [
    {
     "data": {
      "text/plain": [
       "'anhsirkamar'"
      ]
     },
     "execution_count": 2,
     "metadata": {},
     "output_type": "execute_result"
    }
   ],
   "source": [
    "a=\"ramakrishna\"# Give a value and assign a value to a variable:\n",
    "a[::-1]# Using indexing:"
   ]
  },
  {
   "cell_type": "markdown",
   "id": "ad29338d-bfc6-4495-92ef-adca2d6fb8c2",
   "metadata": {},
   "source": [
    "### 2. Check if a string is a palindrome."
   ]
  },
  {
   "cell_type": "code",
   "execution_count": 7,
   "id": "17fab65e-7c82-4f2d-b9e8-c4f42c3b5ad1",
   "metadata": {},
   "outputs": [
    {
     "name": "stdin",
     "output_type": "stream",
     "text": [
      "Enter a value malayalam\n"
     ]
    },
    {
     "name": "stdout",
     "output_type": "stream",
     "text": [
      "palindrome\n"
     ]
    }
   ],
   "source": [
    "b=input(\"Enter a value\")# Take a string from the user:\n",
    "if b==b[::-1]:# To check if the string is palindrome or not:\n",
    "    print(\"palindrome\")   "
   ]
  },
  {
   "cell_type": "markdown",
   "id": "6921a108-a06c-4f13-8038-8e4ea1ff5c1a",
   "metadata": {},
   "source": [
    "### 3. Convert a string to uppercase."
   ]
  },
  {
   "cell_type": "code",
   "execution_count": 10,
   "id": "7ee560c1-a18b-489c-9955-8fb82142eeaa",
   "metadata": {},
   "outputs": [
    {
     "data": {
      "text/plain": [
       "'FULL STACK DATA SCIENCE PRO'"
      ]
     },
     "execution_count": 10,
     "metadata": {},
     "output_type": "execute_result"
    }
   ],
   "source": [
    "c=\"full stack data science pro\" # Take a string: \n",
    "c.upper() # using Upper function:"
   ]
  },
  {
   "cell_type": "markdown",
   "id": "d1ad4ccd-423a-47b1-8f2e-db1fa0ef06b9",
   "metadata": {},
   "source": [
    "### 4. Convert a string to lowercase."
   ]
  },
  {
   "cell_type": "code",
   "execution_count": 11,
   "id": "ec917028-4ea1-4ac3-b898-71ee848a14da",
   "metadata": {},
   "outputs": [
    {
     "data": {
      "text/plain": [
       "'mahindra dhoni'"
      ]
     },
     "execution_count": 11,
     "metadata": {},
     "output_type": "execute_result"
    }
   ],
   "source": [
    "d=\"MAHINDRA DHONI\" # Take a string:\n",
    "d.lower() # using lower function:"
   ]
  },
  {
   "cell_type": "markdown",
   "id": "9a5051ce-6709-4d1e-b02c-ba4c5e2dbfa1",
   "metadata": {},
   "source": [
    "### 5. Count the number of vowels in a string."
   ]
  },
  {
   "cell_type": "code",
   "execution_count": 3,
   "id": "6b04951a-6dbc-46c3-9497-5a0e170341c5",
   "metadata": {},
   "outputs": [
    {
     "name": "stdout",
     "output_type": "stream",
     "text": [
      "6\n"
     ]
    }
   ],
   "source": [
    "g=\"swamyvivekananda\" # Give a string:\n",
    "count=0\n",
    "for i in g: # Using for loop: \n",
    "    if(i=='a'or i=='e'or i=='i'or i=='o'or i=='u'or i=='A'or i=='E'or i=='I'or i=='O'or i=='U'):\n",
    "        count=count+1 # Increment count value:\n",
    "print(count) # print the result: "
   ]
  },
  {
   "cell_type": "markdown",
   "id": "1e73ce25-4ee4-4160-8162-f6ec5e880e26",
   "metadata": {},
   "source": [
    "### 6. Count the number of consonants in a string."
   ]
  },
  {
   "cell_type": "code",
   "execution_count": 9,
   "id": "8a910f90-6915-4bbd-abcb-15801593cf55",
   "metadata": {},
   "outputs": [
    {
     "name": "stdout",
     "output_type": "stream",
     "text": [
      "3\n"
     ]
    }
   ],
   "source": [
    "string=\"shiva\" # Take a string.\n",
    "count=0\n",
    "for i in string: # Using for loop.\n",
    "    if(i!='a'and i!='e'and i!='i'and i!='o'and'u'and i!='A'and i!='E'and i!='I'and i!='O'and i!='U'): # if condtion is true then executed.\n",
    "        count=count+1\n",
    "print(count) # print  the result."
   ]
  },
  {
   "cell_type": "markdown",
   "id": "1c55b3ff-118c-4f6f-b478-db49708b2bf7",
   "metadata": {},
   "source": [
    "### 7. Remove all whitespaces from a string."
   ]
  },
  {
   "cell_type": "code",
   "execution_count": 18,
   "id": "7ca392eb-c5be-4553-ba5a-926247cda0a8",
   "metadata": {},
   "outputs": [
    {
     "data": {
      "text/plain": [
       "'someswararao'"
      ]
     },
     "execution_count": 18,
     "metadata": {},
     "output_type": "execute_result"
    }
   ],
   "source": [
    "H=\"  someswararao  \" # Take a string value and assign a variable:\n",
    "H.strip() # Using strip() function: "
   ]
  },
  {
   "cell_type": "markdown",
   "id": "6d37ec35-cea8-4570-a2cf-a0c6e9f551cf",
   "metadata": {},
   "source": [
    "### 8. Find the length of a string without using the `len()` function."
   ]
  },
  {
   "cell_type": "code",
   "execution_count": 1,
   "id": "fa3dda7b-1b89-455a-8f27-8396b39d16a7",
   "metadata": {},
   "outputs": [
    {
     "name": "stdin",
     "output_type": "stream",
     "text": [
      " swamyvivekananda\n"
     ]
    },
    {
     "name": "stdout",
     "output_type": "stream",
     "text": [
      "16\n"
     ]
    }
   ],
   "source": [
    "string=input() # Take a input from the user.   \n",
    "count=0 # Initilize a count variable.\n",
    "for j in string: # iterating element of a string.\n",
    "        count=count+1\n",
    "print(count) # print the result."
   ]
  },
  {
   "cell_type": "markdown",
   "id": "0a54c776-28e8-4cf2-82b9-7cc3009a9890",
   "metadata": {},
   "source": [
    "### 9. Check if a string contains a specific word."
   ]
  },
  {
   "cell_type": "code",
   "execution_count": 14,
   "id": "7ab1f6c1-0799-45da-ae1f-c0335a036f25",
   "metadata": {},
   "outputs": [
    {
     "name": "stdout",
     "output_type": "stream",
     "text": [
      "the string contains'20'\n"
     ]
    }
   ],
   "source": [
    "j=\"i am 20 years old\" # Take a string value.\n",
    "if '20'in j: # Check the specific word is there or not. \n",
    "    print(\"the string contains'20'\") # print the result.\n",
    "else:\n",
    "    print(\"the sring doesnot contain'20'\")"
   ]
  },
  {
   "cell_type": "markdown",
   "id": "7c21d9aa-eee7-4a2e-8b1a-771407a28e72",
   "metadata": {},
   "source": [
    "### 10. Replace a word in a string with another word."
   ]
  },
  {
   "cell_type": "code",
   "execution_count": 7,
   "id": "4ad215a3-b3c0-4117-8582-aacd6915f45f",
   "metadata": {},
   "outputs": [
    {
     "name": "stdin",
     "output_type": "stream",
     "text": [
      "Enter a word radhakrishna\n"
     ]
    },
    {
     "data": {
      "text/plain": [
       "'krishnakrishna'"
      ]
     },
     "execution_count": 7,
     "metadata": {},
     "output_type": "execute_result"
    }
   ],
   "source": [
    "string=input(\"Enter a word\") # Take a string from the user.\n",
    "string.replace(\"radha\",\"krishna\") # using replace method to replace the value taken from the user."
   ]
  },
  {
   "cell_type": "markdown",
   "id": "619d2943-38bc-456b-9476-b7fceaf6689a",
   "metadata": {},
   "source": [
    "### 11. Count the occurrences of a word in a string."
   ]
  },
  {
   "cell_type": "code",
   "execution_count": 19,
   "id": "70a05ceb-9631-4ecd-a924-edd41a9628a0",
   "metadata": {},
   "outputs": [
    {
     "name": "stdout",
     "output_type": "stream",
     "text": [
      "1\n"
     ]
    }
   ],
   "source": [
    "def CountOccurrences(str,word): # Take a user defined function.\n",
    "    a=str.split(\" \") # To split the string. \n",
    "    count=0\n",
    "    for i in range(0,len(a)):\n",
    "        if(word==a[i]): # To check the word is equal to given string or not.     \n",
    "            count=count+1 # Then count the value.\n",
    "            return count \n",
    "str=\"full stack data science pro\" # Take a string.\n",
    "word=\"full\"\n",
    "print(CountOccurrences(str,word)) # print the result.       "
   ]
  },
  {
   "cell_type": "markdown",
   "id": "a31bbf9d-a6df-49a6-8da2-f15bcffb6511",
   "metadata": {},
   "source": [
    "### 12. Find the first occurrence of a word in a string."
   ]
  },
  {
   "cell_type": "code",
   "execution_count": 1,
   "id": "ad32e0ea-2225-4ef9-8bb3-834402e45a3a",
   "metadata": {},
   "outputs": [
    {
     "name": "stdout",
     "output_type": "stream",
     "text": [
      "Index of the first occurrence: 11\n"
     ]
    }
   ],
   "source": [
    "def find_first_occurrence(text, word):\n",
    "    # Step 1: Find the index of the first occurrence of the word in the text.\n",
    "    index = text.find(word)\n",
    "\n",
    "    # Step 2: Check if the index is -1, indicating that the word was not found.\n",
    "    if index == -1:\n",
    "        return None  # Return None if the word is not found.\n",
    "\n",
    "    # Step 3: Return the index of the first occurrence of the word.\n",
    "    return index\n",
    "\n",
    "# Example usage\n",
    "text = \"This is an example sentence. This sentence contains the word example.\"\n",
    "word = \"example\"\n",
    "result = find_first_occurrence(text, word)\n",
    "print(\"Index of the first occurrence:\", result)"
   ]
  },
  {
   "cell_type": "markdown",
   "id": "54f314e8-f7aa-4f5f-8eb4-6358ae18d2ec",
   "metadata": {},
   "source": [
    "### 13. Find the last occurrence of a word in a string."
   ]
  },
  {
   "cell_type": "code",
   "execution_count": 2,
   "id": "6ae48bf3-bc51-4e44-be8f-de93dbe239c6",
   "metadata": {},
   "outputs": [
    {
     "name": "stdout",
     "output_type": "stream",
     "text": [
      "Index of the last occurrence: 66\n"
     ]
    }
   ],
   "source": [
    "def find_last_occurrence(text, word):\n",
    "    # Step 1: Find the index of the last occurrence of the word in the text.\n",
    "    index = text.rfind(word)\n",
    "\n",
    "    # Step 2: Check if the index is -1, indicating that the word was not found.\n",
    "    if index == -1:\n",
    "        return None  # Return None if the word is not found.\n",
    "\n",
    "    # Step 3: Return the index of the last occurrence of the word.\n",
    "    return index\n",
    "\n",
    "# Example usage\n",
    "text = \"This is an example sentence. This sentence also contains the word example.\"\n",
    "word = \"example\"\n",
    "result = find_last_occurrence(text, word)\n",
    "print(\"Index of the last occurrence:\", result)"
   ]
  },
  {
   "cell_type": "markdown",
   "id": "dafa0989-f4af-4d35-8c12-3dadf4c5fc25",
   "metadata": {},
   "source": [
    "### 14. Split a string into a list of words."
   ]
  },
  {
   "cell_type": "code",
   "execution_count": 3,
   "id": "2298f240-2480-4507-ad5b-af2b360af3d7",
   "metadata": {},
   "outputs": [
    {
     "name": "stdout",
     "output_type": "stream",
     "text": [
      "List of words: ['This', 'is', 'an', 'example', 'sentence.']\n"
     ]
    }
   ],
   "source": [
    "def split_string_into_words(text):\n",
    "    # Step 1: Use the split() method to split the text into a list of words.\n",
    "    words_list = text.split()\n",
    "\n",
    "    # Step 2: Return the list of words.\n",
    "    return words_list\n",
    "\n",
    "# Example usage\n",
    "text = \"This is an example sentence.\"\n",
    "words = split_string_into_words(text)\n",
    "print(\"List of words:\", words)"
   ]
  },
  {
   "cell_type": "markdown",
   "id": "5455fb76-2c03-4000-95b3-10d2ec880e9d",
   "metadata": {},
   "source": [
    "### 15. Join a list of words into a string."
   ]
  },
  {
   "cell_type": "code",
   "execution_count": 4,
   "id": "0f77ca5f-bb9a-45ff-bc0e-7b5b637cb325",
   "metadata": {},
   "outputs": [
    {
     "name": "stdout",
     "output_type": "stream",
     "text": [
      "Joined string: This is an example sentence.\n"
     ]
    }
   ],
   "source": [
    "def join_words_into_string(words_list):\n",
    "    # Step 1: Use the join() method to join the words in the list into a single string.\n",
    "    joined_string = ' '.join(words_list)\n",
    "\n",
    "    # Step 2: Return the joined string.\n",
    "    return joined_string\n",
    "\n",
    "# Example usage\n",
    "words = [\"This\", \"is\", \"an\", \"example\", \"sentence.\"]\n",
    "text = join_words_into_string(words)\n",
    "print(\"Joined string:\", text)"
   ]
  },
  {
   "cell_type": "markdown",
   "id": "36e30ef9-a2f3-4fa8-9efb-5615b400318a",
   "metadata": {},
   "source": [
    "### 16. Convert a string where words are separated by spaces to one where words are separated by underscores."
   ]
  },
  {
   "cell_type": "code",
   "execution_count": 5,
   "id": "7c65fdbb-d4a2-4f77-95fd-f70d5b20e6e4",
   "metadata": {},
   "outputs": [
    {
     "name": "stdout",
     "output_type": "stream",
     "text": [
      "Converted text: This_is_an_example_sentence.\n"
     ]
    }
   ],
   "source": [
    "def convert_to_underscore_separated(text):\n",
    "    # Step 1: Use the replace() method to replace spaces with underscores.\n",
    "    underscore_separated = text.replace(\" \", \"_\")\n",
    "\n",
    "    # Step 2: Return the converted string.\n",
    "    return underscore_separated\n",
    "\n",
    "# Example usage\n",
    "text = \"This is an example sentence.\"\n",
    "converted_text = convert_to_underscore_separated(text)\n",
    "print(\"Converted text:\", converted_text)"
   ]
  },
  {
   "cell_type": "markdown",
   "id": "e782a42c-0189-42d4-b5ec-231f1d47cda1",
   "metadata": {},
   "source": [
    "### 17. Check if a string starts with a specific word or phrase."
   ]
  },
  {
   "cell_type": "code",
   "execution_count": 6,
   "id": "65804866-d2b8-4df7-9b20-55a493ffae14",
   "metadata": {},
   "outputs": [
    {
     "name": "stdout",
     "output_type": "stream",
     "text": [
      "The text starts with the prefix.\n"
     ]
    }
   ],
   "source": [
    "def starts_with(text, prefix):\n",
    "    # Step 1: Use the startswith() method to check if the text starts with the specified prefix.\n",
    "    is_start = text.startswith(prefix)\n",
    "\n",
    "    # Step 2: Return the result of the check.\n",
    "    return is_start\n",
    "\n",
    "# Example usage\n",
    "text = \"Hello, world!\"\n",
    "prefix = \"Hello\"\n",
    "result = starts_with(text, prefix)\n",
    "if result:\n",
    "    print(\"The text starts with the prefix.\")\n",
    "else:\n",
    "    print(\"The text does not start with the prefix.\")"
   ]
  },
  {
   "cell_type": "markdown",
   "id": "308f97ce-aceb-4598-a24c-be1f9957d4a3",
   "metadata": {},
   "source": [
    "### 18. Check if a string ends with a specific word or phrase."
   ]
  },
  {
   "cell_type": "code",
   "execution_count": 7,
   "id": "4acfc3ba-ff0b-4433-a331-4607647bb6a2",
   "metadata": {},
   "outputs": [
    {
     "name": "stdout",
     "output_type": "stream",
     "text": [
      "The text ends with the suffix.\n"
     ]
    }
   ],
   "source": [
    "def ends_with(text, suffix):\n",
    "    # Step 1: Use the endswith() method to check if the text ends with the specified suffix.\n",
    "    is_end = text.endswith(suffix)\n",
    "\n",
    "    # Step 2: Return the result of the check.\n",
    "    return is_end\n",
    "\n",
    "# Example usage\n",
    "text = \"Hello, world!\"\n",
    "suffix = \"world!\"\n",
    "result = ends_with(text, suffix)\n",
    "if result:\n",
    "    print(\"The text ends with the suffix.\")\n",
    "else:\n",
    "    print(\"The text does not end with the suffix.\")"
   ]
  },
  {
   "cell_type": "markdown",
   "id": "098c9413-9d74-429a-a5b1-8a2d371041c0",
   "metadata": {},
   "source": [
    "### 19. Convert a string to title case (e.g., \"hello world\" to \"Hello World\")."
   ]
  },
  {
   "cell_type": "code",
   "execution_count": 8,
   "id": "632b5d5e-3b64-402a-b467-ea6b99235027",
   "metadata": {},
   "outputs": [
    {
     "name": "stdout",
     "output_type": "stream",
     "text": [
      "Title case: Hello World\n"
     ]
    }
   ],
   "source": [
    "def convert_to_title_case(text):\n",
    "    # Step 1: Use the title() method to convert the text to title case.\n",
    "    title_case_text = text.title()\n",
    "\n",
    "    # Step 2: Return the converted text.\n",
    "    return title_case_text\n",
    "\n",
    "# Example usage\n",
    "text = \"hello world\"\n",
    "title_case_result = convert_to_title_case(text)\n",
    "print(\"Title case:\", title_case_result)"
   ]
  },
  {
   "cell_type": "markdown",
   "id": "df0cead9-bb37-4dc1-ad2b-5b3c8ff9c2df",
   "metadata": {},
   "source": [
    "### 20. Find the longest word in a string."
   ]
  },
  {
   "cell_type": "code",
   "execution_count": 9,
   "id": "b6988198-e8d2-48cb-b828-baa8f1cb8aea",
   "metadata": {},
   "outputs": [
    {
     "name": "stdout",
     "output_type": "stream",
     "text": [
      "Longest word: sentence\n"
     ]
    }
   ],
   "source": [
    "def find_longest_word(text):\n",
    "    # Step 1: Use the split() method to split the text into a list of words.\n",
    "    words = text.split()\n",
    "\n",
    "    # Step 2: Initialize variables to keep track of the longest word and its length.\n",
    "    longest_word = \"\"\n",
    "    max_length = 0\n",
    "\n",
    "    # Step 3: Iterate through the list of words.\n",
    "    for word in words:\n",
    "        # Check if the length of the current word is greater than the current max_length.\n",
    "        if len(word) > max_length:\n",
    "            max_length = len(word)\n",
    "            longest_word = word\n",
    "\n",
    "    # Step 4: Return the longest word.\n",
    "    return longest_word\n",
    "\n",
    "# Example usage\n",
    "text = \"This is an example sentence with some long words.\"\n",
    "longest_word = find_longest_word(text)\n",
    "print(\"Longest word:\", longest_word)"
   ]
  },
  {
   "cell_type": "markdown",
   "id": "e6b1ce05-d955-4114-aa97-3b12c43abf1e",
   "metadata": {},
   "source": [
    "### 21. Find the shortest word in a string."
   ]
  },
  {
   "cell_type": "code",
   "execution_count": 10,
   "id": "881f1972-bcee-4ddb-82be-0ca9fb4482cd",
   "metadata": {},
   "outputs": [
    {
     "name": "stdout",
     "output_type": "stream",
     "text": [
      "Shortest word: is\n"
     ]
    }
   ],
   "source": [
    "def find_shortest_word(text):\n",
    "    # Step 1: Use the split() method to split the text into a list of words.\n",
    "    words = text.split()\n",
    "\n",
    "    # Step 2: Initialize variables to keep track of the shortest word and its length.\n",
    "    shortest_word = None\n",
    "    min_length = float('inf')  # Initialize to a large value\n",
    "\n",
    "    # Step 3: Iterate through the list of words.\n",
    "    for word in words:\n",
    "        # Check if the length of the current word is smaller than the current min_length.\n",
    "        if len(word) < min_length:\n",
    "            min_length = len(word)\n",
    "            shortest_word = word\n",
    "\n",
    "    # Step 4: Return the shortest word.\n",
    "    return shortest_word\n",
    "\n",
    "# Example usage\n",
    "text = \"This is an example sentence with some short words.\"\n",
    "shortest_word = find_shortest_word(text)\n",
    "print(\"Shortest word:\", shortest_word)"
   ]
  },
  {
   "cell_type": "markdown",
   "id": "55d08935-386b-48e8-9880-365465be983c",
   "metadata": {},
   "source": [
    "### 22. Reverse the order of words in a string."
   ]
  },
  {
   "cell_type": "code",
   "execution_count": 12,
   "id": "8dba7fcb-4aff-4818-aeac-2879db162fa7",
   "metadata": {},
   "outputs": [
    {
     "name": "stdout",
     "output_type": "stream",
     "text": [
      "world hello\n"
     ]
    }
   ],
   "source": [
    "string = \"hello world\"\n",
    "# reversing words in a given string\n",
    "s = string.split()[::-1]\n",
    "l = []\n",
    "for i in s:\n",
    "    # appending reversed words to l\n",
    "    l.append(i)\n",
    "# printing reverse words\n",
    "print(\" \".join(l))"
   ]
  },
  {
   "cell_type": "markdown",
   "id": "cc572f3e-f6a1-495a-92ee-f131df573e3c",
   "metadata": {},
   "source": [
    "### 23. Check if a string is alphanumeric."
   ]
  },
  {
   "cell_type": "code",
   "execution_count": 13,
   "id": "8109a165-2368-4641-9594-8178d3fc3e00",
   "metadata": {},
   "outputs": [
    {
     "name": "stdout",
     "output_type": "stream",
     "text": [
      "The string is alphanumeric.\n"
     ]
    }
   ],
   "source": [
    "def is_alphanumeric(text):\n",
    "    # Step 1: Use the isalnum() method to check if the string is alphanumeric.\n",
    "    return text.isalnum()\n",
    "\n",
    "# Example usage\n",
    "text = \"Hello123\"\n",
    "result = is_alphanumeric(text)\n",
    "if result:\n",
    "    print(\"The string is alphanumeric.\")\n",
    "else:\n",
    "    print(\"The string is not alphanumeric.\")"
   ]
  },
  {
   "cell_type": "markdown",
   "id": "2405eec0-aec8-4491-af8e-b89d56b7a842",
   "metadata": {},
   "source": [
    "### 24. Extract all digits from a string."
   ]
  },
  {
   "cell_type": "code",
   "execution_count": 15,
   "id": "6a5d5d10-8d1e-4927-84fa-3312c4dbbfee",
   "metadata": {},
   "outputs": [
    {
     "name": "stdout",
     "output_type": "stream",
     "text": [
      "Extracted digits: 123456\n"
     ]
    }
   ],
   "source": [
    "def extract_digits(text):\n",
    "    # Step 1: Initialize an empty string to store the extracted digits.\n",
    "    digits = \"\"\n",
    "\n",
    "    # Step 2: Iterate through each character in the text.\n",
    "    for char in text:\n",
    "        # Check if the character is a digit using the isdigit() method.\n",
    "        if char.isdigit():\n",
    "            # Append the digit to the digits string.\n",
    "            digits += char\n",
    "\n",
    "    # Step 3: Return the extracted digits.\n",
    "    return digits\n",
    "\n",
    "# Example usage\n",
    "text = \"Hello123World456\"\n",
    "extracted_digits = extract_digits(text)\n",
    "print(\"Extracted digits:\", extracted_digits)"
   ]
  },
  {
   "cell_type": "markdown",
   "id": "6886f653-6d5c-4121-b3ef-9d3bfdc4dea5",
   "metadata": {},
   "source": [
    "### 25. Extract all alphabets from a string"
   ]
  },
  {
   "cell_type": "code",
   "execution_count": 16,
   "id": "9a59b07d-0e72-4e5f-bc26-1990c13fb17a",
   "metadata": {},
   "outputs": [
    {
     "name": "stdout",
     "output_type": "stream",
     "text": [
      "H e l l o W o r l d\n"
     ]
    }
   ],
   "source": [
    "def extract_alphabets(input_string):\n",
    "    alphabets = ' '.join([char for char in input_string if char.isalpha()])\n",
    "    return alphabets\n",
    "\n",
    "# Example input string\n",
    "input_string = \"Hello123World456\"\n",
    "result = extract_alphabets(input_string)\n",
    "print(result)"
   ]
  },
  {
   "cell_type": "markdown",
   "id": "fed9f7a8-d2ae-40d7-a4f6-b625a341cb73",
   "metadata": {},
   "source": [
    "### 26. Count the number of uppercase letters in a string."
   ]
  },
  {
   "cell_type": "code",
   "execution_count": 18,
   "id": "619fed6a-a35f-4672-93ca-8a8663c50982",
   "metadata": {},
   "outputs": [
    {
     "name": "stdout",
     "output_type": "stream",
     "text": [
      "6\n"
     ]
    }
   ],
   "source": [
    "def count_uppercase(input_string):\n",
    "    uppercase_count = sum(1 for char in input_string if char.isupper())\n",
    "    return uppercase_count\n",
    "# Example input string\n",
    "input_string = \"HelloWORLD\"\n",
    "result = count_uppercase(input_string)\n",
    "print(result)"
   ]
  },
  {
   "cell_type": "markdown",
   "id": "d4c1d8c6-0de3-4c8b-9a9c-73be94dc237c",
   "metadata": {},
   "source": [
    "### 27. Count the number of lowercase letters in a string.¶"
   ]
  },
  {
   "cell_type": "code",
   "execution_count": 19,
   "id": "37ddf421-22b9-4781-9c30-cbfdfb13e1a8",
   "metadata": {},
   "outputs": [
    {
     "name": "stdout",
     "output_type": "stream",
     "text": [
      "4\n"
     ]
    }
   ],
   "source": [
    "def count_lowercase(input_string):\n",
    "    lowercase_count = sum(1 for char in input_string if char.islower())\n",
    "    return lowercase_count\n",
    "\n",
    "# Example input string\n",
    "input_string = \"HelloWORLD\"\n",
    "result = count_lowercase(input_string)\n",
    "print(result)"
   ]
  },
  {
   "cell_type": "markdown",
   "id": "1967c5de-9844-400f-86d7-bc1346733652",
   "metadata": {},
   "source": [
    "### 28. Swap the case of each character in a string.¶"
   ]
  },
  {
   "cell_type": "code",
   "execution_count": 20,
   "id": "b3bfd279-6e8c-4eef-87bb-52f0d5244afe",
   "metadata": {},
   "outputs": [
    {
     "name": "stdout",
     "output_type": "stream",
     "text": [
      "hELLOworld\n"
     ]
    }
   ],
   "source": [
    "def swap_case(input_string):\n",
    "    swapped_string = input_string.swapcase()\n",
    "    return swapped_string\n",
    "\n",
    "# Example input string\n",
    "input_string = \"HelloWORLD\"\n",
    "result = swap_case(input_string)\n",
    "print(result)"
   ]
  },
  {
   "cell_type": "markdown",
   "id": "7117545c-401d-40f2-bae3-b05c983edfd7",
   "metadata": {},
   "source": [
    "### 29. Remove a specific word from a string."
   ]
  },
  {
   "cell_type": "code",
   "execution_count": 1,
   "id": "9e30d837-4c18-44ab-afdc-bdc977eada1a",
   "metadata": {},
   "outputs": [
    {
     "name": "stdout",
     "output_type": "stream",
     "text": [
      "Hello world, welcome to the of programming.\n"
     ]
    }
   ],
   "source": [
    "def remove_word(input_string, word_to_remove):\n",
    "    words = input_string.split()  # Split the input string into a list of words\n",
    "    filtered_words = [word for word in words if word != word_to_remove]  # Create a new list excluding the word to remove\n",
    "    modified_string = ' '.join(filtered_words)  # Join the filtered words back into a string\n",
    "    return modified_string\n",
    "# Example input string and word to remove\n",
    "input_string = \"Hello world, welcome to the world of programming.\"\n",
    "word_to_remove = \"world\"\n",
    "result = remove_word(input_string, word_to_remove)\n",
    "print(result)\n"
   ]
  },
  {
   "cell_type": "markdown",
   "id": "df0cbcb4-2b39-4e9f-ad8a-607a61c3667c",
   "metadata": {},
   "source": [
    "### 30. Check if a string is a valid email address."
   ]
  },
  {
   "cell_type": "code",
   "execution_count": 2,
   "id": "56c172a1-66de-4fca-b1c0-384e2ce629c5",
   "metadata": {},
   "outputs": [
    {
     "name": "stdout",
     "output_type": "stream",
     "text": [
      "True\n",
      "False\n"
     ]
    }
   ],
   "source": [
    "import re  # Import the regular expression module\n",
    "def is_valid_email(email):\n",
    "    pattern = r'^[\\w\\.-]+@[\\w\\.-]+\\.\\w+$'  # Regular expression pattern for a basic email validation\n",
    "    if re.match(pattern, email):\n",
    "        return True\n",
    "    else:\n",
    "        return False\n",
    "# Example email addresses\n",
    "email1 = \"example@email.com\"\n",
    "email2 = \"invalid-email\"\n",
    "result1 = is_valid_email(email1)\n",
    "result2 = is_valid_email(email2)\n",
    "print(result1)\n",
    "print(result2)"
   ]
  },
  {
   "cell_type": "markdown",
   "id": "d4b0c539-c574-4475-b961-0afb95b56736",
   "metadata": {},
   "source": [
    "### 31. Extract the username from an email address string."
   ]
  },
  {
   "cell_type": "code",
   "execution_count": 3,
   "id": "df65b6f9-d64b-4786-91e2-71b439f33454",
   "metadata": {},
   "outputs": [
    {
     "name": "stdout",
     "output_type": "stream",
     "text": [
      "example\n"
     ]
    }
   ],
   "source": [
    "def extract_username(email):\n",
    "    username = email.split('@')[0]  # Split the email address at \"@\" and take the first part\n",
    "    return username\n",
    "# Example email address\n",
    "email = \"example@email.com\"\n",
    "result = extract_username(email)\n",
    "print(result)"
   ]
  },
  {
   "cell_type": "markdown",
   "id": "cc69f4bc-aaef-4f2f-88b1-f5bd756cb3a1",
   "metadata": {},
   "source": [
    "### 32. Extract the domain name from an email address string."
   ]
  },
  {
   "cell_type": "code",
   "execution_count": 4,
   "id": "46f725a5-94af-40e6-b07a-137181b5cba4",
   "metadata": {},
   "outputs": [
    {
     "name": "stdout",
     "output_type": "stream",
     "text": [
      "email.com\n"
     ]
    }
   ],
   "source": [
    "def extract_domain(email):\n",
    "    domain = email.split('@')[1]  # Split the email address at \"@\" and take the second part\n",
    "    return domain\n",
    "# Example email address\n",
    "email = \"example@email.com\"\n",
    "result = extract_domain(email)\n",
    "print(result)"
   ]
  },
  {
   "cell_type": "markdown",
   "id": "1a0fa0dd-4b1c-4a85-8f4e-5b4841e3f21e",
   "metadata": {},
   "source": [
    "### 33. Replace multiple spaces in a string with a single space."
   ]
  },
  {
   "cell_type": "code",
   "execution_count": 5,
   "id": "667bc2ca-dffd-45c8-bdc5-c61bb1076ffb",
   "metadata": {},
   "outputs": [
    {
     "name": "stdout",
     "output_type": "stream",
     "text": [
      "Hello world! How are you?\n"
     ]
    }
   ],
   "source": [
    "def replace_multiple_spaces(input_string):\n",
    "    cleaned_string = ' '.join(input_string.split())  # Split the string at spaces and then join using a single space\n",
    "    return cleaned_string\n",
    "# Example input string with multiple spaces\n",
    "input_string = \"Hello     world!   How   are   you?\"\n",
    "result = replace_multiple_spaces(input_string)\n",
    "print(result)"
   ]
  },
  {
   "cell_type": "markdown",
   "id": "01a0aea2-0dfc-4381-b56c-b4db710677c9",
   "metadata": {},
   "source": [
    "### 34. Check if a string is a valid URL."
   ]
  },
  {
   "cell_type": "code",
   "execution_count": 6,
   "id": "1f7a08a0-70f3-4154-92c4-c76dfebec48f",
   "metadata": {},
   "outputs": [
    {
     "name": "stdout",
     "output_type": "stream",
     "text": [
      "True\n",
      "False\n"
     ]
    }
   ],
   "source": [
    "from urllib.parse import urlparse\n",
    "def is_valid_url(url):\n",
    "    try:\n",
    "        result = urlparse(url)\n",
    "        return all([result.scheme, result.netloc])  # Check if both scheme and netloc are present\n",
    "    except ValueError:\n",
    "        return False\n",
    "# Example URLs\n",
    "url1 = \"https://www.example.com\"\n",
    "url2 = \"invalid-url\"\n",
    "result1 = is_valid_url(url1)\n",
    "result2 = is_valid_url(url2)\n",
    "print(result1)  # Should print True\n",
    "print(result2)  # Should print False"
   ]
  },
  {
   "cell_type": "markdown",
   "id": "18487f34-d757-464d-ad95-57abb50ddc0d",
   "metadata": {},
   "source": [
    "### 35. Extract the protocol (http or https) from a URL string."
   ]
  },
  {
   "cell_type": "code",
   "execution_count": 7,
   "id": "bd42d2c9-132d-4e39-a155-70b93a1f575f",
   "metadata": {},
   "outputs": [
    {
     "name": "stdout",
     "output_type": "stream",
     "text": [
      "Protocol 1: https\n",
      "Protocol 2: http\n",
      "Protocol 3: ftp\n"
     ]
    }
   ],
   "source": [
    "def extract_protocol(url):\n",
    "    # Find the index of the first occurrence of \"://\"\n",
    "    protocol_end = url.find(\"://\")\n",
    "    if protocol_end != -1:\n",
    "        # Extract the protocol from the URL\n",
    "        protocol = url[:protocol_end]\n",
    "        return protocol\n",
    "    else:\n",
    "        return None\n",
    "# Example URL strings\n",
    "url1 = \"https://www.example.com\"\n",
    "url2 = \"http://google.com\"\n",
    "url3 = \"ftp://ftp.example.com\"\n",
    "# Extract protocols\n",
    "protocol1 = extract_protocol(url1)\n",
    "protocol2 = extract_protocol(url2)\n",
    "protocol3 = extract_protocol(url3)\n",
    "# Print extracted protocols\n",
    "print(\"Protocol 1:\", protocol1)\n",
    "print(\"Protocol 2:\", protocol2)\n",
    "print(\"Protocol 3:\", protocol3)"
   ]
  },
  {
   "cell_type": "markdown",
   "id": "1482af9a-8fc2-4ecc-a2b9-6d1bc76793bd",
   "metadata": {},
   "source": [
    "### 36. Find the frequency of each character in a string."
   ]
  },
  {
   "cell_type": "code",
   "execution_count": 8,
   "id": "1665529f-985b-44bb-8fed-ebc700654615",
   "metadata": {},
   "outputs": [
    {
     "name": "stdout",
     "output_type": "stream",
     "text": [
      "Character: 'h', Frequency: 1\n",
      "Character: 'e', Frequency: 1\n",
      "Character: 'l', Frequency: 3\n",
      "Character: 'o', Frequency: 2\n",
      "Character: ' ', Frequency: 1\n",
      "Character: 'w', Frequency: 1\n",
      "Character: 'r', Frequency: 1\n",
      "Character: 'd', Frequency: 1\n"
     ]
    }
   ],
   "source": [
    "def character_frequency(input_string):\n",
    "    frequency = {}  # Create an empty dictionary to store character frequencies\n",
    "    for char in input_string:\n",
    "        if char in frequency:\n",
    "            frequency[char] += 1  # Increment the frequency count if the character is already in the dictionary\n",
    "        else:\n",
    "            frequency[char] = 1   # Initialize the frequency count to 1 if the character is not in the dictionary\n",
    "\n",
    "    return frequency\n",
    "# Example string\n",
    "input_str = \"hello world\"\n",
    "# Calculate character frequencies\n",
    "char_freq = character_frequency(input_str)\n",
    "# Print character frequencies\n",
    "for char, freq in char_freq.items():\n",
    "    print(f\"Character: '{char}', Frequency: {freq}\")"
   ]
  },
  {
   "cell_type": "markdown",
   "id": "e7b3a830-8a2b-4d3c-a103-572a78720ba9",
   "metadata": {},
   "source": [
    "### 37. Remove all punctuation from a string."
   ]
  },
  {
   "cell_type": "code",
   "execution_count": 9,
   "id": "ef9c289a-2ca8-4637-831f-2e49e3c9fbf1",
   "metadata": {},
   "outputs": [
    {
     "name": "stdout",
     "output_type": "stream",
     "text": [
      "Original string: Hello, world! How's it going?\n",
      "Cleaned string: Hello world Hows it going\n"
     ]
    }
   ],
   "source": [
    "import string\n",
    "def remove_punctuation(input_string):\n",
    "    # Create a translation table to remove punctuation\n",
    "    translator = str.maketrans(\"\", \"\", string.punctuation)\n",
    "    # Use the translation table to remove punctuation from the input string\n",
    "    clean_string = input_string.translate(translator)\n",
    "    return clean_string\n",
    "# Example string with punctuation\n",
    "input_str = \"Hello, world! How's it going?\"\n",
    "# Remove punctuation\n",
    "cleaned_str = remove_punctuation(input_str)\n",
    "# Print the cleaned string\n",
    "print(\"Original string:\", input_str)\n",
    "print(\"Cleaned string:\", cleaned_str)"
   ]
  },
  {
   "cell_type": "markdown",
   "id": "85dfbbf1-2234-4c83-a034-fc548c92944f",
   "metadata": {},
   "source": [
    "### 38. Check if a string contains only digits."
   ]
  },
  {
   "cell_type": "code",
   "execution_count": 10,
   "id": "5fe4dbc7-4023-43a1-a5b0-eb44d1fc6c35",
   "metadata": {},
   "outputs": [
    {
     "name": "stdout",
     "output_type": "stream",
     "text": [
      "'12345' contains only digits: True\n",
      "'Hello123' contains only digits: False\n",
      "'456.789' contains only digits: False\n"
     ]
    }
   ],
   "source": [
    "def contains_only_digits(input_string):\n",
    "    # Check if all characters in the string are digits\n",
    "    return input_string.isdigit()\n",
    "# Example strings\n",
    "string1 = \"12345\"\n",
    "string2 = \"Hello123\"\n",
    "string3 = \"456.789\"\n",
    "# Check if strings contain only digits\n",
    "result1 = contains_only_digits(string1)\n",
    "result2 = contains_only_digits(string2)\n",
    "result3 = contains_only_digits(string3)\n",
    "# Print the results\n",
    "print(f\"'{string1}' contains only digits:\", result1)\n",
    "print(f\"'{string2}' contains only digits:\", result2)\n",
    "print(f\"'{string3}' contains only digits:\", result3)"
   ]
  },
  {
   "cell_type": "markdown",
   "id": "ae0032ef-f467-432e-9d37-a5a163a80ff0",
   "metadata": {},
   "source": [
    "### 39. Check if a string contains only alphabets."
   ]
  },
  {
   "cell_type": "code",
   "execution_count": 11,
   "id": "acae4457-487c-467f-b630-8df0975609a2",
   "metadata": {},
   "outputs": [
    {
     "name": "stdout",
     "output_type": "stream",
     "text": [
      "'Hello' contains only alphabets: True\n",
      "'Hello123' contains only alphabets: False\n",
      "'12345' contains only alphabets: False\n"
     ]
    }
   ],
   "source": [
    "def contains_only_alphabets(input_string):\n",
    "    # Check if all characters in the string are alphabetic\n",
    "    return input_string.isalpha()\n",
    "# Example strings\n",
    "string1 = \"Hello\"\n",
    "string2 = \"Hello123\"\n",
    "string3 = \"12345\"\n",
    "# Check if strings contain only alphabets\n",
    "result1 = contains_only_alphabets(string1)\n",
    "result2 = contains_only_alphabets(string2)\n",
    "result3 = contains_only_alphabets(string3)\n",
    "# Print the results\n",
    "print(f\"'{string1}' contains only alphabets:\", result1)\n",
    "print(f\"'{string2}' contains only alphabets:\", result2)\n",
    "print(f\"'{string3}' contains only alphabets:\", result3)"
   ]
  },
  {
   "cell_type": "markdown",
   "id": "3eb1279d-5207-48d3-abee-4167f9a568f9",
   "metadata": {},
   "source": [
    "### 40. Convert a string to a list of characters."
   ]
  },
  {
   "cell_type": "code",
   "execution_count": 12,
   "id": "640b0823-cbe0-4d69-aa04-a02a61be8f95",
   "metadata": {},
   "outputs": [
    {
     "name": "stdout",
     "output_type": "stream",
     "text": [
      "Original string: Hello, world!\n",
      "List of characters: ['H', 'e', 'l', 'l', 'o', ',', ' ', 'w', 'o', 'r', 'l', 'd', '!']\n"
     ]
    }
   ],
   "source": [
    "def string_to_list(input_string):\n",
    "    # Use list() constructor to convert the string to a list of characters\n",
    "    char_list = list(input_string)\n",
    "    return char_list\n",
    "# Example string\n",
    "input_str = \"Hello, world!\"\n",
    "# Convert the string to a list of characters\n",
    "char_list = string_to_list(input_str)\n",
    "# Print the list of characters\n",
    "print(\"Original string:\", input_str)\n",
    "print(\"List of characters:\", char_list)"
   ]
  },
  {
   "cell_type": "markdown",
   "id": "5be64c59-f92a-44da-8055-b511ea0bc744",
   "metadata": {},
   "source": [
    "### 41. Check if two strings are anagrams."
   ]
  },
  {
   "cell_type": "code",
   "execution_count": 13,
   "id": "56a1a143-bfa7-4764-9161-e8d04156e54b",
   "metadata": {},
   "outputs": [
    {
     "name": "stdout",
     "output_type": "stream",
     "text": [
      "'listen' and 'silent' are anagrams: True\n",
      "'hello' and 'world' are anagrams: False\n"
     ]
    }
   ],
   "source": [
    "def are_anagrams(str1, str2):\n",
    "    # Remove spaces and convert strings to lowercase for accurate comparison\n",
    "    str1 = str1.replace(\" \", \"\").lower()\n",
    "    str2 = str2.replace(\" \", \"\").lower()\n",
    "    # Sort the characters in both strings and compare\n",
    "    return sorted(str1) == sorted(str2)\n",
    "# Example strings\n",
    "string1 = \"listen\"\n",
    "string2 = \"silent\"\n",
    "string3 = \"hello\"\n",
    "string4 = \"world\"\n",
    "# Check if strings are anagrams\n",
    "result1 = are_anagrams(string1, string2)\n",
    "result2 = are_anagrams(string3, string4)\n",
    "# Print the results\n",
    "print(f\"'{string1}' and '{string2}' are anagrams:\", result1)\n",
    "print(f\"'{string3}' and '{string4}' are anagrams:\", result2)"
   ]
  },
  {
   "cell_type": "markdown",
   "id": "f0265543-8613-48b8-a43f-1b42df5d9e9f",
   "metadata": {},
   "source": [
    "### 42. Encode a string using a Caesar cipher."
   ]
  },
  {
   "cell_type": "code",
   "execution_count": 14,
   "id": "c1980adf-4d9c-4479-8694-37621deed47d",
   "metadata": {},
   "outputs": [
    {
     "name": "stdout",
     "output_type": "stream",
     "text": [
      "Encoded text: ehoor, zruog!\n"
     ]
    }
   ],
   "source": [
    "# Define a function named caesar_cipher that encodes a string using a Caesar cipher.\n",
    "def caesar_cipher(text, shift):\n",
    "  \"\"\"\n",
    "  Encodes a string using a Caesar cipher.\n",
    "\n",
    "  Args:\n",
    "    text: The string to encode.\n",
    "    shift: The number of positions to shift each letter.\n",
    "\n",
    "  Returns:\n",
    "    The encoded string.\n",
    "  \"\"\"\n",
    "\n",
    "  # Initialize an empty string to store the encoded text.\n",
    "  encoded_text = \"\"\n",
    "\n",
    "  # Iterate through each character in the input text.\n",
    "  for char in text:\n",
    "    # Check if the character is alphabetic.\n",
    "    if char.isalpha():\n",
    "      # Calculate the encoded character's Unicode code point value by shifting it by the specified amount.\n",
    "      # Ensure the value wraps around within the lowercase alphabet range (a-z).\n",
    "      encoded_char = chr((ord(char) + shift - ord('a')) % 26 + ord('a'))\n",
    "    else:\n",
    "      # Keep non-alphabetic characters unchanged.\n",
    "      encoded_char = char\n",
    "\n",
    "    # Add the encoded character to the encoded text.\n",
    "    encoded_text += encoded_char\n",
    "\n",
    "  # Return the resulting encoded text.\n",
    "  return encoded_text\n",
    "\n",
    "# Define the input text and the shift value for encoding.\n",
    "text = \"Hello, world!\"\n",
    "shift = 3\n",
    "# Call the caesar_cipher function to encode the text using the specified shift.\n",
    "encoded_text = caesar_cipher(text, shift)\n",
    "\n",
    "# Print the encoded text.\n",
    "print(\"Encoded text:\", encoded_text)"
   ]
  },
  {
   "cell_type": "markdown",
   "id": "083d94cd-c18b-4276-a1b7-234ecede9fe2",
   "metadata": {},
   "source": [
    "### 43. Decode a Caesar cipher encoded string."
   ]
  },
  {
   "cell_type": "code",
   "execution_count": 15,
   "id": "e9473011-43da-4af6-807c-1254832cc1f7",
   "metadata": {},
   "outputs": [
    {
     "name": "stdout",
     "output_type": "stream",
     "text": [
      "Decoded text: ilmm, world!\n"
     ]
    }
   ],
   "source": [
    "# Define a function to decode a string using a Caesar cipher\n",
    "def caesar_cipher_decoder(text, shift):\n",
    "    \"\"\"\n",
    "    Decodes a string using a Caesar cipher.\n",
    "\n",
    "    Args:\n",
    "        text: The string to decode.\n",
    "        shift: The number of positions to shift each letter.\n",
    "\n",
    "    Returns:\n",
    "        The decoded string.\n",
    "    \"\"\"\n",
    "\n",
    "    # Initialize an empty string to store the decoded text\n",
    "    decoded_text = \"\"\n",
    "\n",
    "    # Loop through each character in the input text\n",
    "    for char in text:\n",
    "        # Check if the character is an alphabetic character\n",
    "        if char.isalpha():\n",
    "            # Calculate the decoded character using the shift value\n",
    "            decoded_char = chr((ord(char) - shift - ord('a')) % 26 + ord('a'))\n",
    "        else:\n",
    "            # If the character is not alphabetic, keep it unchanged\n",
    "            decoded_char = char\n",
    "\n",
    "        # Add the decoded character to the decoded text\n",
    "        decoded_text += decoded_char\n",
    "\n",
    "    # Return the fully decoded text\n",
    "    return decoded_text\n",
    "\n",
    "# Example input\n",
    "text = \"lopp, zruog!\"\n",
    "shift = 3\n",
    "\n",
    "# Call the caesar_cipher_decoder function to decode the input text\n",
    "decoded_text = caesar_cipher_decoder(text, shift)\n",
    "\n",
    "# Print the decoded text\n",
    "print(\"Decoded text:\", decoded_text)"
   ]
  },
  {
   "cell_type": "markdown",
   "id": "d57f9609-8587-4ed4-a421-0646d7a11d39",
   "metadata": {},
   "source": [
    "### 44. Find the most frequent word in a string."
   ]
  },
  {
   "cell_type": "code",
   "execution_count": 16,
   "id": "af6e6ba5-5ff8-4d10-a2d2-88ff4ad5c1fb",
   "metadata": {},
   "outputs": [
    {
     "name": "stdout",
     "output_type": "stream",
     "text": [
      "Most frequent word: hello\n"
     ]
    }
   ],
   "source": [
    "import re\n",
    "from collections import Counter\n",
    "\n",
    "def most_frequent_word(input_string):\n",
    "    # Remove punctuation and convert to lowercase\n",
    "    clean_string = re.sub(r'[^\\w\\s]', '', input_string).lower()\n",
    "\n",
    "    # Split the string into words\n",
    "    words = clean_string.split()\n",
    "\n",
    "    # Use Counter to count word frequencies\n",
    "    word_counter = Counter(words)\n",
    "\n",
    "    # Find the most common word\n",
    "    most_common_word = word_counter.most_common(1)[0][0]\n",
    "\n",
    "    return most_common_word\n",
    "\n",
    "# Example string\n",
    "input_str = \"Hello world, hello there! How's the world?\"\n",
    "\n",
    "# Find the most frequent word\n",
    "most_common = most_frequent_word(input_str)\n",
    "\n",
    "# Print the result\n",
    "print(\"Most frequent word:\", most_common)"
   ]
  },
  {
   "cell_type": "markdown",
   "id": "6b157043-cbb8-4839-9316-7975efc20a65",
   "metadata": {},
   "source": [
    "### 45. Find all unique words in a string."
   ]
  },
  {
   "cell_type": "code",
   "execution_count": 17,
   "id": "5e066ebe-1ccc-4269-9cb4-14c35a49901a",
   "metadata": {},
   "outputs": [
    {
     "name": "stdout",
     "output_type": "stream",
     "text": [
      "Unique words: {'hello', 'the', 'world', 'hows', 'there'}\n"
     ]
    }
   ],
   "source": [
    "import re\n",
    "\n",
    "def unique_words(input_string):\n",
    "    # Remove punctuation and convert to lowercase\n",
    "    clean_string = re.sub(r'[^\\w\\s]', '', input_string).lower()\n",
    "\n",
    "    # Split the string into words and convert to a set for uniqueness\n",
    "    words = set(clean_string.split())\n",
    "\n",
    "    return words\n",
    "\n",
    "# Example string\n",
    "input_str = \"Hello world, hello there! How's the world?\"\n",
    "\n",
    "# Find unique words\n",
    "unique_word_set = unique_words(input_str)\n",
    "\n",
    "# Print the result\n",
    "print(\"Unique words:\", unique_word_set)"
   ]
  },
  {
   "cell_type": "markdown",
   "id": "dd785361-2dde-453c-96de-a18109a9b897",
   "metadata": {},
   "source": [
    "### 46. Count the number of syllables in a string."
   ]
  },
  {
   "cell_type": "code",
   "execution_count": 18,
   "id": "fd36548f-dedf-4cf8-8602-fd832a1d7527",
   "metadata": {},
   "outputs": [
    {
     "name": "stdout",
     "output_type": "stream",
     "text": [
      "'hello' has 2 syllables.\n",
      "'banana' has 3 syllables.\n",
      "'syllable' has 3 syllables.\n"
     ]
    }
   ],
   "source": [
    "import re\n",
    "\n",
    "def count_syllables(word):\n",
    "    # Count vowel groups using regular expression\n",
    "    vowel_groups = re.findall(r'[aeiouy]+', word, re.IGNORECASE)\n",
    "\n",
    "    return len(vowel_groups)\n",
    "\n",
    "# Example words\n",
    "word1 = \"hello\"\n",
    "word2 = \"banana\"\n",
    "word3 = \"syllable\"\n",
    "\n",
    "# Count syllables\n",
    "syllables1 = count_syllables(word1)\n",
    "syllables2 = count_syllables(word2)\n",
    "syllables3 = count_syllables(word3)\n",
    "\n",
    "# Print the results\n",
    "print(f\"'{word1}' has {syllables1} syllables.\")\n",
    "print(f\"'{word2}' has {syllables2} syllables.\")\n",
    "print(f\"'{word3}' has {syllables3} syllables.\")"
   ]
  },
  {
   "cell_type": "markdown",
   "id": "0f166b5d-fce8-4293-8603-975ccf0d0b76",
   "metadata": {},
   "source": [
    "### 47. Check if a string contains any special characters."
   ]
  },
  {
   "cell_type": "code",
   "execution_count": 19,
   "id": "9f079ac0-cb1d-4baf-a6ba-c250340f9d46",
   "metadata": {},
   "outputs": [
    {
     "name": "stdout",
     "output_type": "stream",
     "text": [
      "'Hello, world!' contains special characters: True\n",
      "'This is a test.' contains special characters: True\n",
      "'Special@Characters' contains special characters: True\n"
     ]
    }
   ],
   "source": [
    "import re\n",
    "\n",
    "def contains_special_characters(input_string):\n",
    "    # Define a regular expression pattern to match special characters\n",
    "    pattern = re.compile(r'[!@#$%^&*()_+{}\\[\\]:;<>,.?~\\\\/]')\n",
    "\n",
    "    # Use the search() method to find a match\n",
    "    match = pattern.search(input_string)\n",
    "\n",
    "    # Return True if a match is found, False otherwise\n",
    "    return bool(match)\n",
    "\n",
    "# Example strings\n",
    "string1 = \"Hello, world!\"\n",
    "string2 = \"This is a test.\"\n",
    "string3 = \"Special@Characters\"\n",
    "\n",
    "# Check if strings contain special characters\n",
    "result1 = contains_special_characters(string1)\n",
    "result2 = contains_special_characters(string2)\n",
    "result3 = contains_special_characters(string3)\n",
    "\n",
    "# Print the results\n",
    "print(f\"'{string1}' contains special characters:\", result1)\n",
    "print(f\"'{string2}' contains special characters:\", result2)\n",
    "print(f\"'{string3}' contains special characters:\", result3)\n"
   ]
  },
  {
   "cell_type": "markdown",
   "id": "2c423bab-9a38-4dd7-9aa7-0ff89e87db7e",
   "metadata": {},
   "source": [
    "### 48. Remove the nth word from a string."
   ]
  },
  {
   "cell_type": "code",
   "execution_count": 21,
   "id": "f472b37d-2962-4323-a88d-2583075716f9",
   "metadata": {},
   "outputs": [
    {
     "name": "stdout",
     "output_type": "stream",
     "text": [
      "Original string: This is an example sentence to test the function.\n",
      "Modified string: This is an sentence to test the function.\n",
      "Removed word: example\n"
     ]
    }
   ],
   "source": [
    "def remove_nth_word(input_string, n):\n",
    "    # Split the input string into words\n",
    "    words = input_string.split()\n",
    "\n",
    "    # Check if n is within a valid range\n",
    "    if n >= 1 and n <= len(words):\n",
    "        # Remove the nth word by excluding it from the words list\n",
    "        removed_word = words.pop(n - 1)\n",
    "\n",
    "        # Join the remaining words to form the modified string\n",
    "        modified_string = ' '.join(words)\n",
    "\n",
    "        return modified_string, removed_word\n",
    "    else:\n",
    "        return None, None\n",
    "\n",
    "# Example string and n value\n",
    "input_str = \"This is an example sentence to test the function.\"\n",
    "n_value = 4\n",
    "\n",
    "# Remove the nth word\n",
    "modified_str, removed_word = remove_nth_word(input_str, n_value)\n",
    "\n",
    "# Print the results\n",
    "print(\"Original string:\", input_str)\n",
    "if modified_str is not None:\n",
    "    print(\"Modified string:\", modified_str)\n",
    "    print(\"Removed word:\", removed_word)\n",
    "else:\n",
    "    print(\"Invalid n value.\")"
   ]
  },
  {
   "cell_type": "markdown",
   "id": "6eb9e63f-a706-4f35-ae0e-fed26dd9f606",
   "metadata": {},
   "source": [
    "### 49. Insert a word at the nth position in a string."
   ]
  },
  {
   "cell_type": "code",
   "execution_count": 22,
   "id": "9b094526-c836-4692-b3c5-8a63f8fa18af",
   "metadata": {},
   "outputs": [
    {
     "name": "stdout",
     "output_type": "stream",
     "text": [
      "Original string: This is a test string.\n",
      "Modified string: This is a sample test string.\n"
     ]
    }
   ],
   "source": [
    "def insert_word_at_n(input_string, word_to_insert, n):\n",
    "    # Split the input string into words\n",
    "    words = input_string.split()\n",
    "\n",
    "    # Check if n is within a valid range\n",
    "    if n >= 0 and n <= len(words):\n",
    "        # Insert the word at the nth position in the words list\n",
    "        words.insert(n, word_to_insert)\n",
    "\n",
    "        # Join the words to form the modified string\n",
    "        modified_string = ' '.join(words)\n",
    "\n",
    "        return modified_string\n",
    "    else:\n",
    "        return None\n",
    "\n",
    "# Example string, word to insert, and n value\n",
    "input_str = \"This is a test string.\"\n",
    "word_to_insert = \"sample\"\n",
    "n_value = 3\n",
    "\n",
    "# Insert the word at the nth position\n",
    "modified_str = insert_word_at_n(input_str, word_to_insert, n_value)\n",
    "\n",
    "# Print the results\n",
    "print(\"Original string:\", input_str)\n",
    "if modified_str is not None:\n",
    "    print(\"Modified string:\", modified_str)\n",
    "else:\n",
    "    print(\"Invalid n value.\")"
   ]
  },
  {
   "cell_type": "markdown",
   "id": "3295afe0-a57a-4d8b-9290-cd90559e5521",
   "metadata": {},
   "source": [
    "### 50. Convert a CSV string to a list of lists."
   ]
  },
  {
   "cell_type": "code",
   "execution_count": 23,
   "id": "567a65c6-2079-4895-83ec-cb299e8639f5",
   "metadata": {},
   "outputs": [
    {
     "name": "stdout",
     "output_type": "stream",
     "text": [
      "['Name', ' Age', ' Country']\n",
      "['John', ' 25', ' USA']\n",
      "['Alice', ' 30', ' Canada']\n",
      "['Bob', ' 22', ' UK']\n"
     ]
    }
   ],
   "source": [
    "def csv_string_to_list(csv_string):\n",
    "    # Split the CSV string into lines\n",
    "    lines = csv_string.split('\\n')\n",
    "\n",
    "    # Initialize an empty list to store the result\n",
    "    result = []\n",
    "\n",
    "    for line in lines:\n",
    "        # Split each line into fields using comma as the delimiter\n",
    "        fields = line.split(',')\n",
    "\n",
    "        # Append the fields to the result list as a row\n",
    "        result.append(fields)\n",
    "\n",
    "    return result\n",
    "\n",
    "# Example CSV string\n",
    "csv_data = \"Name, Age, Country\\nJohn, 25, USA\\nAlice, 30, Canada\\nBob, 22, UK\"\n",
    "\n",
    "# Convert CSV string to a list of lists\n",
    "list_of_lists = csv_string_to_list(csv_data)\n",
    "# Print the result\n",
    "for row in list_of_lists:\n",
    "    print(row)"
   ]
  },
  {
   "cell_type": "markdown",
   "id": "7dbc2ffd-97f5-4781-bebd-72e60c25f717",
   "metadata": {},
   "source": [
    "# List based practice problem :"
   ]
  },
  {
   "cell_type": "markdown",
   "id": "22a9cc14-dc51-4612-bfa8-9161d09a35ab",
   "metadata": {},
   "source": [
    "### 1. Create a list with integers from 1 to 10."
   ]
  },
  {
   "cell_type": "code",
   "execution_count": 24,
   "id": "2fae64a2-5559-497a-9a8a-c4b2540a1fc6",
   "metadata": {},
   "outputs": [
    {
     "name": "stdout",
     "output_type": "stream",
     "text": [
      "[1, 2, 3, 4, 5, 6, 7, 8, 9, 10]\n"
     ]
    }
   ],
   "source": [
    "# Use a list comprehension to create a list of integers from 1 to 10\n",
    "integer_list = [i for i in range(1, 11)]\n",
    "\n",
    "# Print the list\n",
    "print(integer_list)"
   ]
  },
  {
   "cell_type": "markdown",
   "id": "c5f11ef8-fd53-4030-9723-4bfb93e6b6c4",
   "metadata": {},
   "source": [
    "### 2. Find the length of a list without using the len() function."
   ]
  },
  {
   "cell_type": "code",
   "execution_count": 25,
   "id": "8e8b0aef-55e4-4f7c-928b-523c72824250",
   "metadata": {},
   "outputs": [
    {
     "name": "stdout",
     "output_type": "stream",
     "text": [
      "Length of the list: 5\n"
     ]
    }
   ],
   "source": [
    "def custom_len(input_list):\n",
    "    count = 0\n",
    "    for _ in input_list:\n",
    "        count += 1\n",
    "    return count\n",
    "\n",
    "# Example list\n",
    "my_list = [10, 20, 30, 40, 50]\n",
    "\n",
    "# Find the length of the list using the custom_len function\n",
    "length = custom_len(my_list)\n",
    "\n",
    "# Print the length of the list\n",
    "print(\"Length of the list:\", length)"
   ]
  },
  {
   "cell_type": "markdown",
   "id": "f51dc039-20cd-4cc7-9ffc-7ba221937d13",
   "metadata": {},
   "source": [
    "### 3. Append an element to the end of a list."
   ]
  },
  {
   "cell_type": "code",
   "execution_count": 26,
   "id": "32cdf2e7-e359-470e-b106-b1beb0144f14",
   "metadata": {},
   "outputs": [
    {
     "name": "stdout",
     "output_type": "stream",
     "text": [
      "Updated list: [10, 20, 30, 40]\n"
     ]
    }
   ],
   "source": [
    "# Example list\n",
    "my_list = [10, 20, 30]\n",
    "\n",
    "# Element to append\n",
    "new_element = 40\n",
    "\n",
    "# Append the new element to the end of the list\n",
    "my_list.append(new_element)\n",
    "\n",
    "# Print the updated list\n",
    "print(\"Updated list:\", my_list)"
   ]
  },
  {
   "cell_type": "markdown",
   "id": "04d1f9af-8434-4908-aa3e-f8ef1555151e",
   "metadata": {},
   "source": [
    "### 4. Insert an element at a specific index in a list."
   ]
  },
  {
   "cell_type": "code",
   "execution_count": 27,
   "id": "795e5d2c-b5d1-4606-8949-088047ac91ba",
   "metadata": {},
   "outputs": [
    {
     "name": "stdout",
     "output_type": "stream",
     "text": [
      "Updated list: [10, 20, 25, 30, 40, 50]\n"
     ]
    }
   ],
   "source": [
    "# Example list\n",
    "my_list = [10, 20, 30, 40, 50]\n",
    "\n",
    "# Element to insert\n",
    "new_element = 25\n",
    "\n",
    "# Index at which to insert the element\n",
    "index_to_insert = 2\n",
    "\n",
    "# Insert the new element at the specified index\n",
    "my_list.insert(index_to_insert, new_element)\n",
    "\n",
    "# Print the updated list\n",
    "print(\"Updated list:\", my_list)"
   ]
  },
  {
   "cell_type": "markdown",
   "id": "97438d1a-447f-46a8-813e-272ae6fa9af5",
   "metadata": {},
   "source": [
    "### 5. Remove an element from a list by its value."
   ]
  },
  {
   "cell_type": "code",
   "execution_count": 28,
   "id": "ef3ced37-eca8-4d9c-b16e-ad949584a39f",
   "metadata": {},
   "outputs": [
    {
     "name": "stdout",
     "output_type": "stream",
     "text": [
      "Updated list: [10, 20, 40, 50]\n"
     ]
    }
   ],
   "source": [
    "# Example list\n",
    "my_list = [10, 20, 30, 40, 50]\n",
    "\n",
    "# Element to remove\n",
    "element_to_remove = 30\n",
    "\n",
    "# Remove the element by its value\n",
    "my_list.remove(element_to_remove)\n",
    "\n",
    "# Print the updated list\n",
    "print(\"Updated list:\", my_list)"
   ]
  },
  {
   "cell_type": "markdown",
   "id": "b8a04276-4ce0-4710-ba88-004c4696159c",
   "metadata": {},
   "source": [
    "### 6. Remove an element from a list by its index."
   ]
  },
  {
   "cell_type": "code",
   "execution_count": 29,
   "id": "ea1a8e44-882f-4d0b-ad15-274d62a80341",
   "metadata": {},
   "outputs": [
    {
     "name": "stdout",
     "output_type": "stream",
     "text": [
      "Updated list: [10, 20, 40, 50]\n",
      "Removed element: 30\n"
     ]
    }
   ],
   "source": [
    "# Example list\n",
    "my_list = [10, 20, 30, 40, 50]\n",
    "\n",
    "# Index of the element to remove\n",
    "index_to_remove = 2\n",
    "\n",
    "# Remove the element at the specified index\n",
    "removed_element = my_list.pop(index_to_remove)\n",
    "\n",
    "# Print the updated list and the removed element\n",
    "print(\"Updated list:\", my_list)\n",
    "print(\"Removed element:\", removed_element)"
   ]
  },
  {
   "cell_type": "markdown",
   "id": "1c28bd9c-4733-4429-a724-b8a4d8592588",
   "metadata": {},
   "source": [
    "### 7. Check if an element exists in a list."
   ]
  },
  {
   "cell_type": "code",
   "execution_count": 30,
   "id": "5c55bc4b-05bb-4818-b1dd-7c1bb1828de3",
   "metadata": {},
   "outputs": [
    {
     "name": "stdout",
     "output_type": "stream",
     "text": [
      "30 exists in the list.\n"
     ]
    }
   ],
   "source": [
    "# Example list\n",
    "my_list = [10, 20, 30, 40, 50]\n",
    "\n",
    "# Element to check\n",
    "element_to_check = 30\n",
    "\n",
    "# Check if the element exists in the list\n",
    "if element_to_check in my_list:\n",
    "    print(f\"{element_to_check} exists in the list.\")\n",
    "else:\n",
    "    print(f\"{element_to_check} does not exist in the list.\")"
   ]
  },
  {
   "cell_type": "markdown",
   "id": "6a6cc4f6-a79d-49f4-a031-663a2f8560cd",
   "metadata": {},
   "source": [
    "### 8. Find the index of the first occurrence of an element in a list."
   ]
  },
  {
   "cell_type": "code",
   "execution_count": 31,
   "id": "ed696db3-5764-481e-9106-fd92e7c3cc95",
   "metadata": {},
   "outputs": [
    {
     "name": "stdout",
     "output_type": "stream",
     "text": [
      "The index of 30 is 2\n"
     ]
    }
   ],
   "source": [
    "# Example list\n",
    "my_list = [10, 20, 30, 40, 50, 30]\n",
    "\n",
    "# Element to find the index of\n",
    "element_to_find = 30\n",
    "\n",
    "# Find the index of the first occurrence of the element\n",
    "index = my_list.index(element_to_find)\n",
    "\n",
    "# Print the index\n",
    "print(f\"The index of {element_to_find} is {index}\")"
   ]
  },
  {
   "cell_type": "markdown",
   "id": "10f51500-7958-4701-ac0d-97e017db81a0",
   "metadata": {},
   "source": [
    "### 9. Count the occurrences of an element in a list."
   ]
  },
  {
   "cell_type": "code",
   "execution_count": 32,
   "id": "28a15433-b62e-4b38-a22b-cd16b6520457",
   "metadata": {},
   "outputs": [
    {
     "name": "stdout",
     "output_type": "stream",
     "text": [
      "The element 30 occurs 3 times in the list.\n"
     ]
    }
   ],
   "source": [
    "# Example list\n",
    "my_list = [10, 20, 30, 40, 50, 30, 30]\n",
    "\n",
    "# Element to count occurrences of\n",
    "element_to_count = 30\n",
    "\n",
    "# Count the occurrences of the element\n",
    "count = my_list.count(element_to_count)\n",
    "\n",
    "# Print the count\n",
    "print(f\"The element {element_to_count} occurs {count} times in the list.\")"
   ]
  },
  {
   "cell_type": "markdown",
   "id": "8a33b719-02b6-4d5b-a80d-7b45c7134097",
   "metadata": {},
   "source": [
    "### 10. Reverse the order of elements in a list."
   ]
  },
  {
   "cell_type": "code",
   "execution_count": 33,
   "id": "2a9a68de-e91c-4052-bd5a-700c589a6573",
   "metadata": {},
   "outputs": [
    {
     "name": "stdout",
     "output_type": "stream",
     "text": [
      "Reversed list: [50, 40, 30, 20, 10]\n"
     ]
    }
   ],
   "source": [
    "# Example list\n",
    "my_list = [10, 20, 30, 40, 50]\n",
    "\n",
    "# Reverse the order of elements in the list\n",
    "my_list.reverse()\n",
    "\n",
    "# Print the reversed list\n",
    "print(\"Reversed list:\", my_list)"
   ]
  },
  {
   "cell_type": "markdown",
   "id": "dffbda12-2d38-4f10-b036-a998b91b5103",
   "metadata": {},
   "source": [
    "### 11. Sort a list in ascending order."
   ]
  },
  {
   "cell_type": "code",
   "execution_count": 34,
   "id": "03fb6a58-d3dc-4cfa-a484-1ecfa7bfc2df",
   "metadata": {},
   "outputs": [
    {
     "name": "stdout",
     "output_type": "stream",
     "text": [
      "Sorted list in ascending order: [10, 20, 30, 40, 50]\n"
     ]
    }
   ],
   "source": [
    "# Example list\n",
    "my_list = [50, 10, 30, 40, 20]\n",
    "\n",
    "# Sort the list in ascending order\n",
    "my_list.sort()\n",
    "\n",
    "# Print the sorted list\n",
    "print(\"Sorted list in ascending order:\", my_list)"
   ]
  },
  {
   "cell_type": "markdown",
   "id": "11d7ef02-c3dd-4dfe-b371-46755476ab1f",
   "metadata": {},
   "source": [
    "### 12. Sort a list in descending order."
   ]
  },
  {
   "cell_type": "code",
   "execution_count": 35,
   "id": "156d9033-57bf-422d-9f61-111f49716d20",
   "metadata": {},
   "outputs": [
    {
     "name": "stdout",
     "output_type": "stream",
     "text": [
      "Sorted list in descending order: [50, 40, 30, 20, 10]\n"
     ]
    }
   ],
   "source": [
    "# Example list\n",
    "my_list = [50, 10, 30, 40, 20]\n",
    "\n",
    "# Sort the list in descending order\n",
    "my_list.sort(reverse=True)\n",
    "\n",
    "# Print the sorted list\n",
    "print(\"Sorted list in descending order:\", my_list)\n"
   ]
  },
  {
   "cell_type": "markdown",
   "id": "9b866c13-422b-4145-bb41-fdee39bffbe2",
   "metadata": {},
   "source": [
    "### 13. Create a list of even numbers from 1 to 20."
   ]
  },
  {
   "cell_type": "code",
   "execution_count": 36,
   "id": "83fa618c-44de-4eac-8aff-2a932f811153",
   "metadata": {},
   "outputs": [
    {
     "name": "stdout",
     "output_type": "stream",
     "text": [
      "List of even numbers: [2, 4, 6, 8, 10, 12, 14, 16, 18, 20]\n"
     ]
    }
   ],
   "source": [
    "# Use a list comprehension to create a list of even numbers from 1 to 20\n",
    "even_numbers = [x for x in range(2, 21, 2)]\n",
    "\n",
    "# Print the list of even numbers\n",
    "print(\"List of even numbers:\", even_numbers)"
   ]
  },
  {
   "cell_type": "markdown",
   "id": "316781ac-b4dc-450c-ad1e-5ac4c9613e2f",
   "metadata": {},
   "source": [
    "### 14. Create a list of odd numbers from 1 to 20."
   ]
  },
  {
   "cell_type": "code",
   "execution_count": 37,
   "id": "a66233ac-2968-4be4-9b85-8357cb97001c",
   "metadata": {},
   "outputs": [
    {
     "name": "stdout",
     "output_type": "stream",
     "text": [
      "List of odd numbers: [1, 3, 5, 7, 9, 11, 13, 15, 17, 19]\n"
     ]
    }
   ],
   "source": [
    "# Use a list comprehension to create a list of odd numbers from 1 to 20\n",
    "odd_numbers = [x for x in range(1, 21, 2)]\n",
    "\n",
    "# Print the list of odd numbers\n",
    "print(\"List of odd numbers:\", odd_numbers)\n"
   ]
  },
  {
   "cell_type": "markdown",
   "id": "fa993b17-494d-4958-9ead-e3c3a1beed38",
   "metadata": {},
   "source": [
    "### 15. Find the sum of all elements in a list."
   ]
  },
  {
   "cell_type": "code",
   "execution_count": 39,
   "id": "904dbbca-289a-47ee-854f-e8c424c6fc48",
   "metadata": {},
   "outputs": [
    {
     "name": "stdout",
     "output_type": "stream",
     "text": [
      "Sum of elements: 150\n"
     ]
    }
   ],
   "source": [
    "# Example list\n",
    "my_list = [10, 20, 30, 40, 50]\n",
    "\n",
    "# Calculate the sum of all elements in the list\n",
    "total_sum = sum(my_list)\n",
    "\n",
    "# Print the sum\n",
    "print(\"Sum of elements:\", total_sum)"
   ]
  },
  {
   "cell_type": "markdown",
   "id": "e5b70bbc-37da-46f9-a9cf-1e9a2041be44",
   "metadata": {},
   "source": [
    "### 16. Find the maximum value in a list."
   ]
  },
  {
   "cell_type": "code",
   "execution_count": 40,
   "id": "b72ce45f-8b38-4f3d-a1c8-690a9d4f1363",
   "metadata": {},
   "outputs": [
    {
     "name": "stdout",
     "output_type": "stream",
     "text": [
      "Maximum value: 50\n"
     ]
    }
   ],
   "source": [
    "# Example list\n",
    "my_list = [10, 20, 30, 40, 50]\n",
    "\n",
    "# Find the maximum value in the list\n",
    "max_value = max(my_list)\n",
    "\n",
    "# Print the maximum value\n",
    "print(\"Maximum value:\", max_value)"
   ]
  },
  {
   "cell_type": "markdown",
   "id": "1d0d74c5-bdb7-46d7-b03e-8933a4208d3f",
   "metadata": {},
   "source": [
    "### 17. Find the minimum value in a list."
   ]
  },
  {
   "cell_type": "code",
   "execution_count": 41,
   "id": "417b15aa-6809-4bf2-9d5c-088cc477cd79",
   "metadata": {},
   "outputs": [
    {
     "name": "stdout",
     "output_type": "stream",
     "text": [
      "Minimum value: 10\n"
     ]
    }
   ],
   "source": [
    "# Example list\n",
    "my_list = [10, 20, 30, 40, 50]\n",
    "\n",
    "# Find the minimum value in the list\n",
    "min_value = min(my_list)\n",
    "\n",
    "# Print the minimum value\n",
    "print(\"Minimum value:\", min_value)"
   ]
  },
  {
   "cell_type": "markdown",
   "id": "ff8e7ddf-7bf8-49d8-9cd9-b68d057437ea",
   "metadata": {},
   "source": [
    "### 18. Create a list of squares of numbers from 1 to 10."
   ]
  },
  {
   "cell_type": "code",
   "execution_count": 42,
   "id": "3e94ff9e-a5d1-424d-8ecd-c47d83589a8b",
   "metadata": {},
   "outputs": [
    {
     "name": "stdout",
     "output_type": "stream",
     "text": [
      "List of squares: [1, 4, 9, 16, 25, 36, 49, 64, 81, 100]\n"
     ]
    }
   ],
   "source": [
    "# Use a list comprehension to create a list of squares of numbers from 1 to 10\n",
    "squares = [x ** 2 for x in range(1, 11)]\n",
    "\n",
    "# Print the list of squares\n",
    "print(\"List of squares:\", squares)\n"
   ]
  },
  {
   "cell_type": "markdown",
   "id": "f2cc2dfa-da79-4b7b-b7c0-624a9590616d",
   "metadata": {},
   "source": [
    "### 19. Create a list of random numbers."
   ]
  },
  {
   "cell_type": "code",
   "execution_count": 43,
   "id": "79409b55-7b4b-4ec8-881b-4fcbaf75bdbf",
   "metadata": {},
   "outputs": [
    {
     "name": "stdout",
     "output_type": "stream",
     "text": [
      "List of random integers: [66, 14, 79, 96, 21, 61, 27, 92, 89, 8]\n"
     ]
    }
   ],
   "source": [
    "import random\n",
    "\n",
    "# Create a list of random integers between 1 and 100\n",
    "random_integers = [random.randint(1, 100) for _ in range(10)]\n",
    "\n",
    "# Print the list of random integers\n",
    "print(\"List of random integers:\", random_integers)"
   ]
  },
  {
   "cell_type": "markdown",
   "id": "6e1b27fd-82c7-4e6b-a83a-c006473c4108",
   "metadata": {},
   "source": [
    "### 20. Remove duplicates from a list."
   ]
  },
  {
   "cell_type": "code",
   "execution_count": 44,
   "id": "2f1ec2dc-cfc8-4c27-b21f-8d1da4e76f29",
   "metadata": {},
   "outputs": [
    {
     "name": "stdout",
     "output_type": "stream",
     "text": [
      "List without duplicates: [40, 10, 50, 20, 30]\n"
     ]
    }
   ],
   "source": [
    "# Example list with duplicates\n",
    "my_list = [10, 20, 30, 20, 40, 10, 50, 30]\n",
    "\n",
    "# Remove duplicates by converting to a set and back to a list\n",
    "unique_list = list(set(my_list))\n",
    "\n",
    "# Print the list without duplicates\n",
    "print(\"List without duplicates:\", unique_list)"
   ]
  },
  {
   "cell_type": "markdown",
   "id": "bc01cd42-0d94-42fa-b175-c9d6d80846ac",
   "metadata": {},
   "source": [
    "### 21. Find the common elements between two lists."
   ]
  },
  {
   "cell_type": "code",
   "execution_count": 45,
   "id": "0fb7a37a-67f1-4c6a-869a-bf1a3116450d",
   "metadata": {},
   "outputs": [
    {
     "name": "stdout",
     "output_type": "stream",
     "text": [
      "Common elements: [30, 40, 50]\n"
     ]
    }
   ],
   "source": [
    "# Example lists\n",
    "list1 = [10, 20, 30, 40, 50]\n",
    "list2 = [30, 40, 50, 60, 70]\n",
    "\n",
    "# Find common elements using list comprehension\n",
    "common_elements = [element for element in list1 if element in list2]\n",
    "\n",
    "# Print the common elements\n",
    "print(\"Common elements:\", common_elements)"
   ]
  },
  {
   "cell_type": "markdown",
   "id": "a28a8e0d-ee38-4a1f-bb0d-c76b8437db35",
   "metadata": {},
   "source": [
    "### 22. Find the difference between two lists."
   ]
  },
  {
   "cell_type": "code",
   "execution_count": 46,
   "id": "ef756777-4731-46bf-a537-16b85d4d8ea6",
   "metadata": {},
   "outputs": [
    {
     "name": "stdout",
     "output_type": "stream",
     "text": [
      "Difference between lists: [20, 10]\n"
     ]
    }
   ],
   "source": [
    "# Example lists\n",
    "list1 = [10, 20, 30, 40, 50]\n",
    "list2 = [30, 40, 50, 60, 70]\n",
    "\n",
    "# Find the difference between lists using the difference() method\n",
    "difference = list(set(list1).difference(list2))\n",
    "\n",
    "# Print the difference\n",
    "print(\"Difference between lists:\", difference)\n"
   ]
  },
  {
   "cell_type": "markdown",
   "id": "42b13d5d-9832-43da-bbab-64f0cef2430d",
   "metadata": {},
   "source": [
    "### 23. Merge two lists."
   ]
  },
  {
   "cell_type": "code",
   "execution_count": 47,
   "id": "c002ba63-823a-4c12-8973-b52f5d191d91",
   "metadata": {},
   "outputs": [
    {
     "name": "stdout",
     "output_type": "stream",
     "text": [
      "Merged list: [10, 20, 30, 40, 50, 60]\n"
     ]
    }
   ],
   "source": [
    "# Example lists\n",
    "list1 = [10, 20, 30]\n",
    "list2 = [40, 50, 60]\n",
    "\n",
    "# Merge lists using the + operator\n",
    "merged_list = list1 + list2\n",
    "\n",
    "# Print the merged list\n",
    "print(\"Merged list:\", merged_list)"
   ]
  },
  {
   "cell_type": "markdown",
   "id": "adb4daac-3191-4a36-9add-429c8d298288",
   "metadata": {},
   "source": [
    "### 24. Multiply all elements in a list by 2."
   ]
  },
  {
   "cell_type": "code",
   "execution_count": 48,
   "id": "98e0b758-ad20-4f8b-8d50-a7d481b03fe7",
   "metadata": {},
   "outputs": [
    {
     "name": "stdout",
     "output_type": "stream",
     "text": [
      "Multiplied list: [20, 40, 60, 80, 100]\n"
     ]
    }
   ],
   "source": [
    "# Example list\n",
    "my_list = [10, 20, 30, 40, 50]\n",
    "\n",
    "# Multiply all elements by 2 using a list comprehension\n",
    "multiplied_list = [x * 2 for x in my_list]\n",
    "\n",
    "# Print the multiplied list\n",
    "print(\"Multiplied list:\", multiplied_list)"
   ]
  },
  {
   "cell_type": "markdown",
   "id": "bc8afdf2-ef26-48e3-9b50-c1ce4e234830",
   "metadata": {},
   "source": [
    "### 25. Filter out all even numbers from a list."
   ]
  },
  {
   "cell_type": "code",
   "execution_count": 49,
   "id": "42ecf133-5a15-4669-bc13-d484500a21fd",
   "metadata": {},
   "outputs": [
    {
     "name": "stdout",
     "output_type": "stream",
     "text": [
      "Filtered list (odd numbers): [15, 25, 35, 45]\n"
     ]
    }
   ],
   "source": [
    "# Example list\n",
    "my_list = [10, 20, 15, 25, 30, 40, 35, 45]\n",
    "\n",
    "# Filter out even numbers using a list comprehension\n",
    "filtered_list = [x for x in my_list if x % 2 != 0]\n",
    "\n",
    "# Print the filtered list\n",
    "print(\"Filtered list (odd numbers):\", filtered_list)"
   ]
  },
  {
   "cell_type": "markdown",
   "id": "2924f162-1cf6-422a-8450-fa88476dfb0d",
   "metadata": {},
   "source": [
    "### 26. Convert a list of strings to a list of integers."
   ]
  },
  {
   "cell_type": "code",
   "execution_count": 50,
   "id": "59de21a6-e006-45e0-9f11-a02a7d5f65f3",
   "metadata": {},
   "outputs": [
    {
     "name": "stdout",
     "output_type": "stream",
     "text": [
      "List of integers: [10, 20, 30, 40, 50]\n"
     ]
    }
   ],
   "source": [
    "# Example list of strings\n",
    "string_list = [\"10\", \"20\", \"30\", \"40\", \"50\"]\n",
    "\n",
    "# Convert list of strings to list of integers using a list comprehension\n",
    "integer_list = [int(x) for x in string_list]\n",
    "\n",
    "# Print the list of integers\n",
    "print(\"List of integers:\", integer_list)\n"
   ]
  },
  {
   "cell_type": "markdown",
   "id": "e6d94a41-1d19-4e68-8afb-fd69fb6fd7ee",
   "metadata": {},
   "source": [
    "### 27. Convert a list of integers to a list of strings."
   ]
  },
  {
   "cell_type": "code",
   "execution_count": 51,
   "id": "677ec55d-bef0-40ef-a52d-343cabda5683",
   "metadata": {},
   "outputs": [
    {
     "name": "stdout",
     "output_type": "stream",
     "text": [
      "List of strings: ['10', '20', '30', '40', '50']\n"
     ]
    }
   ],
   "source": [
    "# Example list of integers\n",
    "integer_list = [10, 20, 30, 40, 50]\n",
    "\n",
    "# Convert list of integers to list of strings using a list comprehension\n",
    "string_list = [str(x) for x in integer_list]\n",
    "\n",
    "# Print the list of strings\n",
    "print(\"List of strings:\", string_list)"
   ]
  },
  {
   "cell_type": "markdown",
   "id": "ce42bc28-04ad-49f1-aeec-cd873471f088",
   "metadata": {},
   "source": [
    "### 28. Flatten a nested list."
   ]
  },
  {
   "cell_type": "code",
   "execution_count": 52,
   "id": "f847b8f8-1f52-4593-863f-31e87d6747ec",
   "metadata": {},
   "outputs": [
    {
     "name": "stdout",
     "output_type": "stream",
     "text": [
      "Flattened list: [1, 2, 3, 4, 5, 6, 7, 8, 9]\n"
     ]
    }
   ],
   "source": [
    "# Example nested list\n",
    "nested_list = [[1, 2, 3], [4, 5], [6, 7, 8, 9]]\n",
    "\n",
    "# Function to flatten a nested list\n",
    "def flatten_list(nested):\n",
    "    flattened = []\n",
    "    for sublist in nested:\n",
    "        if isinstance(sublist, list):\n",
    "            flattened.extend(flatten_list(sublist))\n",
    "        else:\n",
    "            flattened.append(sublist)\n",
    "    return flattened\n",
    "\n",
    "# Flatten the nested list\n",
    "flattened_list = flatten_list(nested_list)\n",
    "\n",
    "# Print the flattened list\n",
    "print(\"Flattened list:\", flattened_list)"
   ]
  },
  {
   "cell_type": "markdown",
   "id": "5fbcb545-7508-4aaf-8ba8-97e7d19e6c02",
   "metadata": {},
   "source": [
    "### 29. Create a list of the first 10 Fibonacci numbers."
   ]
  },
  {
   "cell_type": "code",
   "execution_count": 53,
   "id": "cebf8a2c-353b-492c-934c-a4d54fe014e2",
   "metadata": {},
   "outputs": [
    {
     "name": "stdout",
     "output_type": "stream",
     "text": [
      "First 10 Fibonacci numbers: [0, 1, 1, 2, 3, 5, 8, 13, 21, 34]\n"
     ]
    }
   ],
   "source": [
    "# Function to generate the first n Fibonacci numbers\n",
    "def generate_fibonacci(n):\n",
    "    fibonacci_list = [0, 1]  # Initialize the list with the first two Fibonacci numbers\n",
    "\n",
    "    for i in range(2, n):\n",
    "        next_fibonacci = fibonacci_list[i - 1] + fibonacci_list[i - 2]\n",
    "        fibonacci_list.append(next_fibonacci)\n",
    "\n",
    "    return fibonacci_list\n",
    "\n",
    "# Generate the first 10 Fibonacci numbers\n",
    "fibonacci_numbers = generate_fibonacci(10)\n",
    "\n",
    "# Print the list of Fibonacci numbers\n",
    "print(\"First 10 Fibonacci numbers:\", fibonacci_numbers)"
   ]
  },
  {
   "cell_type": "markdown",
   "id": "cee0c06b-0c28-4bab-89bf-7e83543a1f37",
   "metadata": {},
   "source": [
    "### 30. Check if a list is sorted."
   ]
  },
  {
   "cell_type": "code",
   "execution_count": 54,
   "id": "6c5b8b9c-0116-479c-8f62-3c4fe03141a5",
   "metadata": {},
   "outputs": [
    {
     "name": "stdout",
     "output_type": "stream",
     "text": [
      "The list is sorted in ascending order.\n"
     ]
    }
   ],
   "source": [
    "# Function to check if a list is sorted in ascending order\n",
    "def is_sorted_ascending(lst):\n",
    "    for i in range(1, len(lst)):\n",
    "        if lst[i] < lst[i - 1]:\n",
    "            return False\n",
    "    return True\n",
    "\n",
    "# Example list\n",
    "ascending_list = [10, 20, 30, 40, 50]\n",
    "\n",
    "# Check if the list is sorted in ascending order\n",
    "if is_sorted_ascending(ascending_list):\n",
    "    print(\"The list is sorted in ascending order.\")\n",
    "else:\n",
    "    print(\"The list is not sorted in ascending order.\")"
   ]
  },
  {
   "cell_type": "markdown",
   "id": "a4c972b1-8b49-4c52-89f1-910c034b6ee0",
   "metadata": {},
   "source": [
    "### 31. Rotate a list to the left by n positions."
   ]
  },
  {
   "cell_type": "code",
   "execution_count": 55,
   "id": "b5c646e2-023d-41d0-89ae-60c4fd79e61a",
   "metadata": {},
   "outputs": [
    {
     "name": "stdout",
     "output_type": "stream",
     "text": [
      "Rotated list: [3, 4, 5, 6, 1, 2]\n"
     ]
    }
   ],
   "source": [
    "# Function to rotate a list to the left by n positions\n",
    "def rotate_left(lst, n):\n",
    "    n = n % len(lst)  # Normalize n to handle cases where n is larger than the list length\n",
    "    rotated = lst[n:] + lst[:n]\n",
    "    return rotated\n",
    "\n",
    "# Example list\n",
    "my_list = [1, 2, 3, 4, 5, 6]\n",
    "\n",
    "# Number of positions to rotate by\n",
    "n = 2\n",
    "\n",
    "# Rotate the list to the left by n positions\n",
    "rotated_list = rotate_left(my_list, n)\n",
    "\n",
    "# Print the rotated list\n",
    "print(\"Rotated list:\", rotated_list)"
   ]
  },
  {
   "cell_type": "markdown",
   "id": "23e07680-3818-4baf-abde-cdaadfb98316",
   "metadata": {},
   "source": [
    "### 32. Rotate a list to the right by n positions."
   ]
  },
  {
   "cell_type": "code",
   "execution_count": 56,
   "id": "67989109-4d14-4da5-a7c3-34eab29a0ccc",
   "metadata": {},
   "outputs": [
    {
     "name": "stdout",
     "output_type": "stream",
     "text": [
      "Rotated list: [5, 6, 1, 2, 3, 4]\n"
     ]
    }
   ],
   "source": [
    "# Function to rotate a list to the right by n positions\n",
    "def rotate_right(lst, n):\n",
    "    n = n % len(lst)  # Normalize n to handle cases where n is larger than the list length\n",
    "    rotated = lst[-n:] + lst[:-n]\n",
    "    return rotated\n",
    "\n",
    "# Example list\n",
    "my_list = [1, 2, 3, 4, 5, 6]\n",
    "\n",
    "# Number of positions to rotate by\n",
    "n = 2\n",
    "\n",
    "# Rotate the list to the right by n positions\n",
    "rotated_list = rotate_right(my_list, n)\n",
    "\n",
    "# Print the rotated list\n",
    "print(\"Rotated list:\", rotated_list)"
   ]
  },
  {
   "cell_type": "markdown",
   "id": "dae28c8f-e047-47a7-b86c-c461bc4d35c7",
   "metadata": {},
   "source": [
    "### 33. Create a list of prime numbers up to 50."
   ]
  },
  {
   "cell_type": "code",
   "execution_count": 57,
   "id": "e2bf5597-03ea-4192-9f09-c005f0213dcd",
   "metadata": {},
   "outputs": [
    {
     "name": "stdout",
     "output_type": "stream",
     "text": [
      "List of prime numbers up to 50: [2, 3, 5, 7, 11, 13, 17, 19, 23, 29, 31, 37, 41, 43, 47]\n"
     ]
    }
   ],
   "source": [
    "# Function to check if a number is prime\n",
    "def is_prime(num):\n",
    "    if num <= 1:\n",
    "        return False\n",
    "    if num <= 3:\n",
    "        return True\n",
    "    if num % 2 == 0 or num % 3 == 0:\n",
    "        return False\n",
    "    i = 5\n",
    "    while i * i <= num:\n",
    "        if num % i == 0 or num % (i + 2) == 0:\n",
    "            return False\n",
    "        i += 6\n",
    "    return True\n",
    "\n",
    "# Create a list of prime numbers up to 50\n",
    "prime_numbers = [num for num in range(2, 51) if is_prime(num)]\n",
    "\n",
    "# Print the list of prime numbers\n",
    "print(\"List of prime numbers up to 50:\", prime_numbers)"
   ]
  },
  {
   "cell_type": "markdown",
   "id": "3ef7c752-d75f-423a-9dea-d2b1281633c2",
   "metadata": {},
   "source": [
    "### 34. Split a list into chunks of size n."
   ]
  },
  {
   "cell_type": "code",
   "execution_count": 58,
   "id": "63292c45-cefa-40cd-b699-b2f68c8e327f",
   "metadata": {},
   "outputs": [
    {
     "name": "stdout",
     "output_type": "stream",
     "text": [
      "List of prime numbers up to 50: [2, 3, 5, 7, 11, 13, 17, 19, 23, 29, 31, 37, 41, 43, 47]\n"
     ]
    }
   ],
   "source": [
    "# Create a list of prime numbers up to 50 using Sieve of Eratosthenes algorithm\n",
    "def sieve_of_eratosthenes(limit):\n",
    "    primes = []\n",
    "    is_prime = [True] * (limit + 1)\n",
    "    is_prime[0] = is_prime[1] = False\n",
    "\n",
    "    for num in range(2, int(limit ** 0.5) + 1):\n",
    "        if is_prime[num]:\n",
    "            primes.append(num)\n",
    "            for multiple in range(num * num, limit + 1, num):\n",
    "                is_prime[multiple] = False\n",
    "\n",
    "    for num in range(int(limit ** 0.5) + 1, limit + 1):\n",
    "        if is_prime[num]:\n",
    "            primes.append(num)\n",
    "\n",
    "    return primes\n",
    "\n",
    "# Create a list of prime numbers up to 50\n",
    "prime_numbers = sieve_of_eratosthenes(50)\n",
    "\n",
    "# Print the list of prime numbers\n",
    "print(\"List of prime numbers up to 50:\", prime_numbers)"
   ]
  },
  {
   "cell_type": "markdown",
   "id": "12fcf6d6-65cc-4916-acc9-41aab3bc9143",
   "metadata": {},
   "source": [
    "### 35. Find the second largest number in a list."
   ]
  },
  {
   "cell_type": "code",
   "execution_count": 59,
   "id": "013d2f33-3785-466b-91ba-2fa74b33273c",
   "metadata": {},
   "outputs": [
    {
     "name": "stdout",
     "output_type": "stream",
     "text": [
      "Second largest number: 25\n"
     ]
    }
   ],
   "source": [
    "# Example list\n",
    "my_list = [10, 5, 20, 15, 30, 25]\n",
    "\n",
    "# Remove duplicates and sort the list in ascending order\n",
    "sorted_list = sorted(set(my_list))\n",
    "\n",
    "# Find the second largest number\n",
    "if len(sorted_list) >= 2:\n",
    "    second_largest = sorted_list[-2]\n",
    "    print(\"Second largest number:\", second_largest)\n",
    "else:\n",
    "    print(\"The list does not contain enough elements.\")"
   ]
  },
  {
   "cell_type": "markdown",
   "id": "a0389b99-f2cb-45cd-860c-4c619faa0f94",
   "metadata": {},
   "source": [
    "### 36. Replace every element in a list with its square.\n"
   ]
  },
  {
   "cell_type": "code",
   "execution_count": 60,
   "id": "251c707f-c7f2-4599-854c-90e31105f417",
   "metadata": {},
   "outputs": [
    {
     "name": "stdout",
     "output_type": "stream",
     "text": [
      "Squared list: [4, 16, 36, 64, 100]\n"
     ]
    }
   ],
   "source": [
    "# Example list\n",
    "my_list = [2, 4, 6, 8, 10]\n",
    "\n",
    "# Replace every element with its square using a list comprehension\n",
    "squared_list = [x ** 2 for x in my_list]\n",
    "\n",
    "# Print the squared list\n",
    "print(\"Squared list:\", squared_list)"
   ]
  },
  {
   "cell_type": "markdown",
   "id": "60be0f88-d90c-480b-bdd8-5b81f8a813d4",
   "metadata": {},
   "source": [
    "### 37. Convert a list to a dictionary where list elements become keys and their indices become values."
   ]
  },
  {
   "cell_type": "code",
   "execution_count": 61,
   "id": "cdf0e790-e2b3-489a-84a2-e589bcbdd14f",
   "metadata": {},
   "outputs": [
    {
     "name": "stdout",
     "output_type": "stream",
     "text": [
      "Converted dictionary: {'apple': 0, 'banana': 1, 'cherry': 2, 'date': 3, 'elderberry': 4}\n"
     ]
    }
   ],
   "source": [
    "# Example list\n",
    "my_list = ['apple', 'banana', 'cherry', 'date', 'elderberry']\n",
    "\n",
    "# Convert list to dictionary using dictionary comprehension\n",
    "my_dict = {element: index for index, element in enumerate(my_list)}\n",
    "\n",
    "# Print the resulting dictionary\n",
    "print(\"Converted dictionary:\", my_dict)"
   ]
  },
  {
   "cell_type": "markdown",
   "id": "5648dde6-d648-403c-8e10-49616db71b20",
   "metadata": {},
   "source": [
    "### 38. Shuffle the elements of a list randomly."
   ]
  },
  {
   "cell_type": "code",
   "execution_count": 62,
   "id": "01cf2cfd-3496-4085-9323-ea8a4069b503",
   "metadata": {},
   "outputs": [
    {
     "name": "stdout",
     "output_type": "stream",
     "text": [
      "Shuffled list: [1, 6, 3, 7, 4, 2, 5, 10, 9, 8]\n"
     ]
    }
   ],
   "source": [
    "import random\n",
    "\n",
    "# Example list\n",
    "my_list = [1, 2, 3, 4, 5, 6, 7, 8, 9, 10]\n",
    "\n",
    "# Shuffle the list randomly\n",
    "random.shuffle(my_list)\n",
    "\n",
    "# Print the shuffled list\n",
    "print(\"Shuffled list:\", my_list)"
   ]
  },
  {
   "cell_type": "markdown",
   "id": "72823cc3-3036-451e-abfa-097b04b86201",
   "metadata": {},
   "source": [
    "### 39. Create a list of the first 10 factorial numbers."
   ]
  },
  {
   "cell_type": "code",
   "execution_count": 63,
   "id": "f343c1c2-05dd-4fce-9724-ff39f9c68b7f",
   "metadata": {},
   "outputs": [
    {
     "name": "stdout",
     "output_type": "stream",
     "text": [
      "List of the first 10 factorial numbers: [1, 1, 2, 6, 24, 120, 720, 5040, 40320, 362880]\n"
     ]
    }
   ],
   "source": [
    "# Function to calculate factorial\n",
    "def factorial(n):\n",
    "    if n == 0 or n == 1:\n",
    "        return 1\n",
    "    else:\n",
    "        return n * factorial(n - 1)\n",
    "\n",
    "# Create a list of the first 10 factorial numbers\n",
    "factorial_numbers = [factorial(i) for i in range(10)]\n",
    "\n",
    "# Print the list of factorial numbers\n",
    "print(\"List of the first 10 factorial numbers:\", factorial_numbers)"
   ]
  },
  {
   "cell_type": "markdown",
   "id": "c3f92e36-0965-4fd5-93a0-750f7fcc615d",
   "metadata": {},
   "source": [
    "### 40. Check if two lists have at least one element in common."
   ]
  },
  {
   "cell_type": "code",
   "execution_count": 64,
   "id": "d46c023c-78bc-4c25-b571-73f3ec8d8902",
   "metadata": {},
   "outputs": [
    {
     "name": "stdout",
     "output_type": "stream",
     "text": [
      "The lists have at least one common element.\n"
     ]
    }
   ],
   "source": [
    "# Function to check if two lists have at least one element in common\n",
    "def has_common_element(list1, list2):\n",
    "    for item in list1:\n",
    "        if item in list2:\n",
    "            return True\n",
    "    return False\n",
    "\n",
    "# Example lists\n",
    "list1 = [1, 2, 3, 4, 5]\n",
    "list2 = [4, 5, 6, 7, 8]\n",
    "\n",
    "# Check if the two lists have at least one element in common\n",
    "if has_common_element(list1, list2):\n",
    "    print(\"The lists have at least one common element.\")\n",
    "else:\n",
    "    print(\"The lists do not have any common elements.\")"
   ]
  },
  {
   "cell_type": "markdown",
   "id": "112fe411-dab5-4d52-a853-89c520033b09",
   "metadata": {},
   "source": [
    "### 41. Remove all elements from a list."
   ]
  },
  {
   "cell_type": "code",
   "execution_count": 65,
   "id": "3e37e784-4708-4d59-b2cc-764d68d1588c",
   "metadata": {},
   "outputs": [
    {
     "name": "stdout",
     "output_type": "stream",
     "text": [
      "Empty list: []\n"
     ]
    }
   ],
   "source": [
    "# Example list\n",
    "my_list = [1, 2, 3, 4, 5]\n",
    "\n",
    "# Clear all elements from the list\n",
    "my_list.clear()\n",
    "\n",
    "# Print the empty list\n",
    "print(\"Empty list:\", my_list)\n"
   ]
  },
  {
   "cell_type": "markdown",
   "id": "ab7931df-de98-42a5-b725-07e34c60dddc",
   "metadata": {},
   "source": [
    "### 42. Replace negative numbers in a list with 0."
   ]
  },
  {
   "cell_type": "code",
   "execution_count": 66,
   "id": "fdaca61a-7130-4dfd-8e47-53e1d00afb2f",
   "metadata": {},
   "outputs": [
    {
     "name": "stdout",
     "output_type": "stream",
     "text": [
      "List after replacing negative numbers with 0: [10, 0, 20, 0, 30, 0]\n"
     ]
    }
   ],
   "source": [
    "# Example list\n",
    "my_list = [10, -5, 20, -15, 30, -25]\n",
    "\n",
    "# Step 1: Iterate through the list and replace negative numbers with 0\n",
    "for i in range(len(my_list)):\n",
    "    if my_list[i] < 0:\n",
    "        my_list[i] = 0\n",
    "\n",
    "# Print the list after replacing negative numbers with 0\n",
    "print(\"List after replacing negative numbers with 0:\", my_list)"
   ]
  },
  {
   "cell_type": "markdown",
   "id": "b27e1622-f64c-4a0f-b5ac-91a13d953ea6",
   "metadata": {},
   "source": [
    "### 43. Convert a string into a list of words."
   ]
  },
  {
   "cell_type": "code",
   "execution_count": 67,
   "id": "3595ce2b-6f88-481a-8eac-511d1600ca01",
   "metadata": {},
   "outputs": [
    {
     "name": "stdout",
     "output_type": "stream",
     "text": [
      "List of words: ['Hello,', 'this', 'is', 'a', 'sample', 'sentence.']\n"
     ]
    }
   ],
   "source": [
    "# Example string\n",
    "my_string = \"Hello, this is a sample sentence.\"\n",
    "\n",
    "# Convert the string into a list of words\n",
    "word_list = my_string.split()\n",
    "\n",
    "# Print the list of words\n",
    "print(\"List of words:\", word_list)"
   ]
  },
  {
   "cell_type": "markdown",
   "id": "7caf8a91-1fb5-4212-8446-6cb91dfa30d9",
   "metadata": {},
   "source": [
    "### 44. Convert a list of words into a string."
   ]
  },
  {
   "cell_type": "code",
   "execution_count": 68,
   "id": "b87322cb-6605-4bc1-aa4a-872674177ae0",
   "metadata": {},
   "outputs": [
    {
     "name": "stdout",
     "output_type": "stream",
     "text": [
      "Converted string: Hello, this is a sample sentence.\n"
     ]
    }
   ],
   "source": [
    "# Example list of words\n",
    "word_list = [\"Hello,\", \"this\", \"is\", \"a\", \"sample\", \"sentence.\"]\n",
    "\n",
    "# Convert the list of words into a string\n",
    "my_string = \" \".join(word_list)\n",
    "\n",
    "# Print the resulting string\n",
    "print(\"Converted string:\", my_string)"
   ]
  },
  {
   "cell_type": "markdown",
   "id": "ca905330-3a8c-4cc9-8abd-553882d6a795",
   "metadata": {},
   "source": [
    "### 45. Create a list of the first n powers of 2."
   ]
  },
  {
   "cell_type": "code",
   "execution_count": 69,
   "id": "d35994e4-83e5-44a6-a018-e6053e46e513",
   "metadata": {},
   "outputs": [
    {
     "name": "stdout",
     "output_type": "stream",
     "text": [
      "List of the first 5 powers of 2: [1, 2, 4, 8, 16]\n"
     ]
    }
   ],
   "source": [
    "# Specify the value of n\n",
    "n = 5\n",
    "\n",
    "# Create a list of the first n powers of 2 using a loop\n",
    "power_list = [2 ** i for i in range(n)]\n",
    "\n",
    "# Print the list of powers of 2\n",
    "print(\"List of the first\", n, \"powers of 2:\", power_list)"
   ]
  },
  {
   "cell_type": "markdown",
   "id": "531cff82-74fb-403e-8035-8ab110b88212",
   "metadata": {},
   "source": [
    "### 46. Find the longest string in a list of strings."
   ]
  },
  {
   "cell_type": "code",
   "execution_count": 70,
   "id": "794c3a8f-5131-41d1-8222-5d79f38c3fa3",
   "metadata": {},
   "outputs": [
    {
     "name": "stdout",
     "output_type": "stream",
     "text": [
      "Longest string: elderberry\n"
     ]
    }
   ],
   "source": [
    "# Example list of strings\n",
    "string_list = [\"apple\", \"banana\", \"cherry\", \"date\", \"elderberry\"]\n",
    "\n",
    "# Find the longest string in the list\n",
    "longest_string = \"\"\n",
    "for s in string_list:\n",
    "    if len(s) > len(longest_string):\n",
    "        longest_string = s\n",
    "\n",
    "# Print the longest string\n",
    "print(\"Longest string:\", longest_string)"
   ]
  },
  {
   "cell_type": "markdown",
   "id": "ed3846c8-8295-4022-be4c-1dd0ea2c3e69",
   "metadata": {},
   "source": [
    "### 47. Find the shortest string in a list of strings."
   ]
  },
  {
   "cell_type": "code",
   "execution_count": 71,
   "id": "16ad59ce-908a-4995-86e1-a0eb34fb2a24",
   "metadata": {},
   "outputs": [
    {
     "name": "stdout",
     "output_type": "stream",
     "text": [
      "Shortest string: date\n"
     ]
    }
   ],
   "source": [
    "# Example list of strings\n",
    "string_list = [\"apple\", \"banana\", \"cherry\", \"date\", \"elderberry\"]\n",
    "\n",
    "# Find the shortest string in the list\n",
    "shortest_string = string_list[0]  # Initialize with the first string\n",
    "for s in string_list:\n",
    "    if len(s) < len(shortest_string):\n",
    "        shortest_string = s\n",
    "\n",
    "# Print the shortest string\n",
    "print(\"Shortest string:\", shortest_string)"
   ]
  },
  {
   "cell_type": "markdown",
   "id": "d397c554-4176-40b4-8339-0af8fef03255",
   "metadata": {},
   "source": [
    "### 48. Create a list of the first n triangular numbers."
   ]
  },
  {
   "cell_type": "code",
   "execution_count": 72,
   "id": "c107db2a-ebef-4361-b088-bf5049461337",
   "metadata": {},
   "outputs": [
    {
     "name": "stdout",
     "output_type": "stream",
     "text": [
      "List of the first 5 triangular numbers: [1, 3, 6, 10, 15]\n"
     ]
    }
   ],
   "source": [
    "# Function to calculate triangular numbers\n",
    "def triangular_numbers(n):\n",
    "    return [i * (i + 1) // 2 for i in range(1, n + 1)]\n",
    "\n",
    "# Specify the value of n\n",
    "n = 5\n",
    "\n",
    "# Create a list of the first n triangular numbers\n",
    "triangular_list = triangular_numbers(n)\n",
    "\n",
    "# Print the list of triangular numbers\n",
    "print(\"List of the first\", n, \"triangular numbers:\", triangular_list)"
   ]
  },
  {
   "cell_type": "markdown",
   "id": "16b2a5aa-3919-47da-97cf-777eaa8f6c14",
   "metadata": {},
   "source": [
    "### 49. Check if a list contains another list as a subsequence."
   ]
  },
  {
   "cell_type": "code",
   "execution_count": 73,
   "id": "170a1297-1115-47db-8f96-0c2cb7d7bad6",
   "metadata": {},
   "outputs": [
    {
     "name": "stdout",
     "output_type": "stream",
     "text": [
      "Main list contains the subsequence.\n"
     ]
    }
   ],
   "source": [
    "# Function to check if a list contains another list as a subsequence\n",
    "def is_subsequence(subsequence, main_list):\n",
    "    subseq_index = 0  # Index for the subsequence elements\n",
    "    for element in main_list:\n",
    "        if element == subsequence[subseq_index]:\n",
    "            subseq_index += 1\n",
    "            if subseq_index == len(subsequence):\n",
    "                return True\n",
    "    return False\n",
    "\n",
    "# Example main list and subsequence\n",
    "main_list = [1, 2, 3, 4, 5, 6, 7, 8, 9, 10]\n",
    "subsequence = [3, 5, 8]\n",
    "\n",
    "# Check if the main list contains the subsequence\n",
    "if is_subsequence(subsequence, main_list):\n",
    "    print(\"Main list contains the subsequence.\")\n",
    "else:\n",
    "    print(\"Main list does not contain the subsequence.\")"
   ]
  },
  {
   "cell_type": "markdown",
   "id": "4a6d98df-cb21-42e2-9b4a-dcd9132413cf",
   "metadata": {},
   "source": [
    "### 50. Swap two elements in a list by their indices."
   ]
  },
  {
   "cell_type": "code",
   "execution_count": 74,
   "id": "46ce06dd-3e60-4078-bf20-f5e64362807e",
   "metadata": {},
   "outputs": [
    {
     "name": "stdout",
     "output_type": "stream",
     "text": [
      "List after swapping elements: [1, 4, 3, 2, 5]\n"
     ]
    }
   ],
   "source": [
    "# Example list\n",
    "my_list = [1, 2, 3, 4, 5]\n",
    "\n",
    "# Indices of elements to swap\n",
    "index1 = 1\n",
    "index2 = 3\n",
    "\n",
    "# Swap the elements at the specified indices\n",
    "temp = my_list[index1]\n",
    "my_list[index1] = my_list[index2]\n",
    "my_list[index2] = temp\n",
    "\n",
    "# Print the list after swapping\n",
    "print(\"List after swapping elements:\", my_list)"
   ]
  },
  {
   "cell_type": "markdown",
   "id": "055b2c16-b7f1-4ec0-a949-2bbdd03f41a3",
   "metadata": {},
   "source": [
    "# Tuple based practice problem :\n"
   ]
  },
  {
   "cell_type": "markdown",
   "id": "8517eaff-1335-429b-80e8-54de4962f6cf",
   "metadata": {},
   "source": [
    "### 1. Create a tuple with integers from 1 to 5."
   ]
  },
  {
   "cell_type": "code",
   "execution_count": 75,
   "id": "ffc606d4-31f3-4cfb-88c2-c2d91ad9acb7",
   "metadata": {},
   "outputs": [
    {
     "name": "stdout",
     "output_type": "stream",
     "text": [
      "The third element of the tuple is: 30\n"
     ]
    }
   ],
   "source": [
    "# Step 1: Create a tuple\n",
    "my_tuple = (10, 20, 30, 40, 50)\n",
    "\n",
    "# Step 2: Access the third element of the tuple\n",
    "third_element = my_tuple[2]\n",
    "\n",
    "# Explanation: In this line, we use indexing to access the third element of the tuple.\n",
    "# Since indexing is 0-based, the third element is at index 2.\n",
    "\n",
    "# Step 3: Print the third element\n",
    "print(\"The third element of the tuple is:\", third_element)"
   ]
  },
  {
   "cell_type": "markdown",
   "id": "f6a03646-e41b-42aa-89b8-3342bb4aeacb",
   "metadata": {},
   "source": [
    "### 2. Access the third element of a tuple."
   ]
  },
  {
   "cell_type": "code",
   "execution_count": 76,
   "id": "59721241-4b58-4161-8bed-e0befdcdc9b0",
   "metadata": {},
   "outputs": [
    {
     "name": "stdout",
     "output_type": "stream",
     "text": [
      "The third element of the tuple is: 30\n"
     ]
    }
   ],
   "source": [
    "# Step 1: Create a tuple with some elements\n",
    "my_tuple = (10, 20, 30, 40, 50)\n",
    "\n",
    "# Step 2: Access the third element (index 2) of the tuple\n",
    "third_element = my_tuple[2]\n",
    "\n",
    "# Step 3: Print the third element\n",
    "print(\"The third element of the tuple is:\", third_element)"
   ]
  },
  {
   "cell_type": "markdown",
   "id": "c0abf7a9-b733-4655-97e2-ea817b8a5ca8",
   "metadata": {},
   "source": [
    "### 3. Find the length of a tuple without using the len() function."
   ]
  },
  {
   "cell_type": "code",
   "execution_count": 77,
   "id": "a2495d51-56c4-485f-bad5-b0d54353835b",
   "metadata": {},
   "outputs": [
    {
     "name": "stdout",
     "output_type": "stream",
     "text": [
      "The length of the tuple is: 5\n"
     ]
    }
   ],
   "source": [
    "# Step 1: Create a tuple\n",
    "my_tuple = (10, 20, 30, 40, 50)\n",
    "\n",
    "# Step 2: Initialize a variable to count the elements\n",
    "count = 0\n",
    "\n",
    "# Step 3: Iterate through the tuple and increment the count for each element\n",
    "for _ in my_tuple:\n",
    "    count += 1\n",
    "\n",
    "# Step 4: Print the length of the tuple\n",
    "print(\"The length of the tuple is:\", count)"
   ]
  },
  {
   "cell_type": "markdown",
   "id": "8e17bd72-b27f-44ca-a004-5fe51006c579",
   "metadata": {},
   "source": [
    "### 4. Count the occurrences of an element in a tuple."
   ]
  },
  {
   "cell_type": "code",
   "execution_count": 78,
   "id": "b761ac8e-5ba7-43a2-b3de-ee68b1457a31",
   "metadata": {},
   "outputs": [
    {
     "name": "stdout",
     "output_type": "stream",
     "text": [
      "The element 20 appears 3 times in the tuple.\n"
     ]
    }
   ],
   "source": [
    "# Step 1: Create a tuple\n",
    "my_tuple = (10, 20, 30, 20, 40, 50, 20)\n",
    "\n",
    "# Step 2: Choose the element to count occurrences of\n",
    "element_to_count = 20\n",
    "\n",
    "# Step 3: Initialize a variable to keep track of the count\n",
    "count = 0\n",
    "\n",
    "# Step 4: Iterate through the tuple and count occurrences of the chosen element\n",
    "for item in my_tuple:\n",
    "    if item == element_to_count:\n",
    "        count += 1\n",
    "\n",
    "# Step 5: Print the count of occurrences\n",
    "print(f\"The element {element_to_count} appears {count} times in the tuple.\")"
   ]
  },
  {
   "cell_type": "markdown",
   "id": "3fa1b807-50fc-43ca-b4e7-8da10b9562fe",
   "metadata": {},
   "source": [
    "### 5. Find the index of the first occurrence of an element in a tuple."
   ]
  },
  {
   "cell_type": "code",
   "execution_count": 79,
   "id": "19065b0e-1811-457d-8b03-6b9c04eb6ad9",
   "metadata": {},
   "outputs": [
    {
     "name": "stdout",
     "output_type": "stream",
     "text": [
      "The first occurrence of 20 is at index 1.\n"
     ]
    }
   ],
   "source": [
    "# Step 1: Create a tuple\n",
    "my_tuple = (10, 20, 30, 20, 40, 50)\n",
    "\n",
    "# Step 2: Choose the element to find the index of\n",
    "element_to_find = 20\n",
    "\n",
    "# Step 3: Initialize a variable to keep track of the index\n",
    "index = -1  # Initialize with -1 to indicate that the element was not found\n",
    "\n",
    "# Step 4: Iterate through the tuple and find the index of the chosen element\n",
    "for i, item in enumerate(my_tuple):\n",
    "    if item == element_to_find:\n",
    "        index = i\n",
    "        break  # Exit the loop once the first occurrence is found\n",
    "\n",
    "# Step 5: Print the index of the first occurrence\n",
    "if index != -1:\n",
    "    print(f\"The first occurrence of {element_to_find} is at index {index}.\")\n",
    "else:\n",
    "    print(f\"{element_to_find} is not found in the tuple.\")"
   ]
  },
  {
   "cell_type": "markdown",
   "id": "0cb4e22b-a515-4170-9bf4-936c12cb70af",
   "metadata": {},
   "source": [
    "### 6. Check if an element exists in a tuple."
   ]
  },
  {
   "cell_type": "code",
   "execution_count": 80,
   "id": "789d7069-1796-4825-b860-3500ff5e47f1",
   "metadata": {},
   "outputs": [
    {
     "name": "stdout",
     "output_type": "stream",
     "text": [
      "30 exists in the tuple.\n"
     ]
    }
   ],
   "source": [
    "# Step 1: Create a tuple\n",
    "my_tuple = (10, 20, 30, 40, 50)\n",
    "\n",
    "# Step 2: Choose the element to check for existence\n",
    "element_to_check = 30\n",
    "\n",
    "# Step 3: Check if the element exists in the tuple using the 'in' operator\n",
    "if element_to_check in my_tuple:\n",
    "    print(f\"{element_to_check} exists in the tuple.\")\n",
    "else:\n",
    "    print(f\"{element_to_check} does not exist in the tuple.\")"
   ]
  },
  {
   "cell_type": "markdown",
   "id": "6b24dffd-a175-4e34-8a90-248c7ad9ba29",
   "metadata": {},
   "source": [
    "### 7. Convert a tuple to a list."
   ]
  },
  {
   "cell_type": "code",
   "execution_count": 81,
   "id": "6a22bbe6-1407-42a1-a670-46d0284b1555",
   "metadata": {},
   "outputs": [
    {
     "name": "stdout",
     "output_type": "stream",
     "text": [
      "Tuple: (10, 20, 30, 40, 50)\n",
      "List: [10, 20, 30, 40, 50]\n"
     ]
    }
   ],
   "source": [
    "# Step 1: Create a tuple\n",
    "my_tuple = (10, 20, 30, 40, 50)\n",
    "\n",
    "# Step 2: Convert the tuple to a list\n",
    "my_list = list(my_tuple)\n",
    "\n",
    "# Step 3: Print the resulting list\n",
    "print(\"Tuple:\", my_tuple)\n",
    "print(\"List:\", my_list)"
   ]
  },
  {
   "cell_type": "markdown",
   "id": "6df19898-4f25-47e0-bd09-f2f3cf955b5c",
   "metadata": {},
   "source": [
    "### 8. Convert a list to a tuple."
   ]
  },
  {
   "cell_type": "code",
   "execution_count": 82,
   "id": "8693a2b2-e475-4940-96cd-ba343e3bf355",
   "metadata": {},
   "outputs": [
    {
     "name": "stdout",
     "output_type": "stream",
     "text": [
      "List: [10, 20, 30, 40, 50]\n",
      "Tuple: (10, 20, 30, 40, 50)\n"
     ]
    }
   ],
   "source": [
    "# Step 1: Create a list\n",
    "my_list = [10, 20, 30, 40, 50]\n",
    "\n",
    "# Step 2: Convert the list to a tuple\n",
    "my_tuple = tuple(my_list)\n",
    "\n",
    "# Step 3: Print the resulting tuple\n",
    "print(\"List:\", my_list)\n",
    "print(\"Tuple:\", my_tuple)"
   ]
  },
  {
   "cell_type": "markdown",
   "id": "557b6149-57dc-4b5a-babd-47445066f584",
   "metadata": {},
   "source": [
    "### 9. Unpack the elements of a tuple into variables."
   ]
  },
  {
   "cell_type": "code",
   "execution_count": 83,
   "id": "b4302075-a34c-4c23-b6a9-b8815da6ac5f",
   "metadata": {},
   "outputs": [
    {
     "name": "stdout",
     "output_type": "stream",
     "text": [
      "var1: 10\n",
      "var2: 20\n",
      "var3: 30\n"
     ]
    }
   ],
   "source": [
    "# Step 1: Create a tuple\n",
    "my_tuple = (10, 20, 30)\n",
    "\n",
    "# Step 2: Unpack the elements of the tuple into variables\n",
    "var1, var2, var3 = my_tuple\n",
    "\n",
    "# Step 3: Print the variables\n",
    "print(\"var1:\", var1)\n",
    "print(\"var2:\", var2)\n",
    "print(\"var3:\", var3)"
   ]
  },
  {
   "cell_type": "markdown",
   "id": "46939129-41c1-44b4-b567-1429c434abe6",
   "metadata": {},
   "source": [
    "### 10. Create a tuple of even numbers from 1 to 10"
   ]
  },
  {
   "cell_type": "code",
   "execution_count": 84,
   "id": "c71f280a-c8ca-4dfd-b6f8-898cefd84eac",
   "metadata": {},
   "outputs": [
    {
     "name": "stdout",
     "output_type": "stream",
     "text": [
      "Tuple of even numbers: (2, 4, 6, 8, 10)\n"
     ]
    }
   ],
   "source": [
    "# Step 1: Create a list of even numbers using a list comprehension\n",
    "even_numbers_list = [num for num in range(2, 11, 2)]  # Start from 2, step by 2, end at 10\n",
    "\n",
    "# Step 2: Convert the list to a tuple\n",
    "even_numbers_tuple = tuple(even_numbers_list)\n",
    "\n",
    "# Step 3: Print the resulting tuple\n",
    "print(\"Tuple of even numbers:\", even_numbers_tuple)"
   ]
  },
  {
   "cell_type": "markdown",
   "id": "aa39d05d-d37f-47b7-bd4c-7b73a4b6863e",
   "metadata": {},
   "source": [
    "### 11. Create a tuple of odd numbers from 1 to 10."
   ]
  },
  {
   "cell_type": "code",
   "execution_count": 85,
   "id": "9fc24041-c9c3-4e00-b6ff-6560e70d876d",
   "metadata": {},
   "outputs": [
    {
     "name": "stdout",
     "output_type": "stream",
     "text": [
      "Tuple of even numbers: (2, 4, 6, 8, 10)\n"
     ]
    }
   ],
   "source": [
    "# Step 1: Create a list of even numbers using a list comprehension\n",
    "even_numbers_list = [num for num in range(2, 11, 2)]  # Start from 2, step by 2, end at 10\n",
    "\n",
    "# Step 2: Convert the list to a tuple\n",
    "even_numbers_tuple = tuple(even_numbers_list)\n",
    "\n",
    "# Step 3: Print the resulting tuple\n",
    "print(\"Tuple of even numbers:\", even_numbers_tuple)"
   ]
  },
  {
   "cell_type": "markdown",
   "id": "da003881-251e-4232-a153-d0cb483783ae",
   "metadata": {},
   "source": [
    "### 12. Concatenate two tuples."
   ]
  },
  {
   "cell_type": "code",
   "execution_count": 86,
   "id": "38cba583-97d5-4236-92fc-f751cc6e039d",
   "metadata": {},
   "outputs": [
    {
     "name": "stdout",
     "output_type": "stream",
     "text": [
      "Concatenated tuple: (1, 2, 3, 4, 5, 6)\n"
     ]
    }
   ],
   "source": [
    "# Step 1: Create two tuples\n",
    "tuple1 = (1, 2, 3)\n",
    "tuple2 = (4, 5, 6)\n",
    "\n",
    "# Step 2: Concatenate the two tuples\n",
    "concatenated_tuple = tuple1 + tuple2\n",
    "\n",
    "# Step 3: Print the concatenated tuple\n",
    "print(\"Concatenated tuple:\", concatenated_tuple)"
   ]
  },
  {
   "cell_type": "markdown",
   "id": "299d35b0-1adc-4287-b09d-08fcf69c9b8c",
   "metadata": {},
   "source": [
    "### 13. Repeat a tuple three times."
   ]
  },
  {
   "cell_type": "code",
   "execution_count": 87,
   "id": "54684593-f569-40e8-a2ce-8dfda542adbe",
   "metadata": {},
   "outputs": [
    {
     "name": "stdout",
     "output_type": "stream",
     "text": [
      "Repeated tuple: (1, 2, 3, 1, 2, 3, 1, 2, 3)\n"
     ]
    }
   ],
   "source": [
    "# Step 1: Create a tuple\n",
    "original_tuple = (1, 2, 3)\n",
    "\n",
    "# Step 2: Repeat the tuple three times\n",
    "repeated_tuple = original_tuple * 3\n",
    "\n",
    "# Step 3: Print the repeated tuple\n",
    "print(\"Repeated tuple:\", repeated_tuple)"
   ]
  },
  {
   "cell_type": "markdown",
   "id": "ef0370c0-9557-411a-bd6f-d738cbfd75a7",
   "metadata": {},
   "source": [
    "### 14. Check if a tuple is empty."
   ]
  },
  {
   "cell_type": "code",
   "execution_count": 88,
   "id": "2bc718b9-941e-40fd-bb6a-e15932fc8f3a",
   "metadata": {},
   "outputs": [
    {
     "name": "stdout",
     "output_type": "stream",
     "text": [
      "The empty_tuple is empty.\n",
      "The non_empty_tuple is not empty.\n"
     ]
    }
   ],
   "source": [
    "# Step 1: Create an empty tuple and a non-empty tuple\n",
    "empty_tuple = ()\n",
    "non_empty_tuple = (1, 2, 3)\n",
    "\n",
    "# Step 2: Check if the tuples are empty\n",
    "if not empty_tuple:\n",
    "    print(\"The empty_tuple is empty.\")\n",
    "else:\n",
    "    print(\"The empty_tuple is not empty.\")\n",
    "\n",
    "if not non_empty_tuple:\n",
    "    print(\"The non_empty_tuple is empty.\")\n",
    "else:\n",
    "    print(\"The non_empty_tuple is not empty.\")"
   ]
  },
  {
   "cell_type": "markdown",
   "id": "c934e248-14c1-4f4c-a433-2f9fd9220a2b",
   "metadata": {},
   "source": [
    "### 15. Create a nested tuple."
   ]
  },
  {
   "cell_type": "code",
   "execution_count": 89,
   "id": "b9f5e886-e70d-4cbf-9f1f-9239b9147723",
   "metadata": {},
   "outputs": [
    {
     "name": "stdout",
     "output_type": "stream",
     "text": [
      "Nested tuple: ((1, 2, 3), ('a', 'b', 'c'), (True, False))\n"
     ]
    }
   ],
   "source": [
    "# Step 1: Create a nested tuple\n",
    "nested_tuple = ((1, 2, 3), ('a', 'b', 'c'), (True, False))\n",
    "\n",
    "# Step 2: Print the nested tuple\n",
    "print(\"Nested tuple:\", nested_tuple)"
   ]
  },
  {
   "cell_type": "markdown",
   "id": "df8c7389-63b9-40f3-ab86-0ce7ff442a2e",
   "metadata": {},
   "source": [
    "### 16. Access the first element of a nested tuple."
   ]
  },
  {
   "cell_type": "code",
   "execution_count": 90,
   "id": "4dc0df0c-57f7-4eb1-ad54-b9490c652f76",
   "metadata": {},
   "outputs": [
    {
     "name": "stdout",
     "output_type": "stream",
     "text": [
      "First element of the nested tuple: (1, 2, 3)\n"
     ]
    }
   ],
   "source": [
    "# Step 1: Create a nested tuple\n",
    "nested_tuple = ((1, 2, 3), ('a', 'b', 'c'), (True, False))\n",
    "\n",
    "# Step 2: Access the first element of the nested tuple\n",
    "first_element = nested_tuple[0]\n",
    "\n",
    "# Step 3: Print the first element\n",
    "print(\"First element of the nested tuple:\", first_element)\n"
   ]
  },
  {
   "cell_type": "markdown",
   "id": "41a240af-0de8-438e-9693-f195c1a244ff",
   "metadata": {},
   "source": [
    "### 17. Create a tuple with a single element."
   ]
  },
  {
   "cell_type": "code",
   "execution_count": 91,
   "id": "236ee5cc-bb4b-4449-8591-a6f80febb0a7",
   "metadata": {},
   "outputs": [
    {
     "name": "stdout",
     "output_type": "stream",
     "text": [
      "Single element tuple: (42,)\n"
     ]
    }
   ],
   "source": [
    "# Step 1: Create a tuple with a single element\n",
    "single_element_tuple = (42,)  # Note the trailing comma\n",
    "\n",
    "# Step 2: Print the single element tuple\n",
    "print(\"Single element tuple:\", single_element_tuple)"
   ]
  },
  {
   "cell_type": "markdown",
   "id": "4b0e7111-3c89-4f30-911e-921511f50f85",
   "metadata": {},
   "source": [
    "### 18. Compare two tuples."
   ]
  },
  {
   "cell_type": "code",
   "execution_count": 92,
   "id": "27030db0-b577-43dd-b44f-f38850d6d4ef",
   "metadata": {},
   "outputs": [
    {
     "name": "stdout",
     "output_type": "stream",
     "text": [
      "tuple1 == tuple2: False\n",
      "tuple1 != tuple2: True\n",
      "tuple1 < tuple2: True\n",
      "tuple1 <= tuple2: True\n",
      "tuple1 > tuple2: False\n",
      "tuple1 >= tuple2: False\n"
     ]
    }
   ],
   "source": [
    "# Step 1: Create two tuples\n",
    "tuple1 = (1, 2, 3)\n",
    "tuple2 = (1, 2, 4)\n",
    "\n",
    "# Step 2: Compare the two tuples using comparison operators\n",
    "print(\"tuple1 == tuple2:\", tuple1 == tuple2)  # Equality check\n",
    "print(\"tuple1 != tuple2:\", tuple1 != tuple2)  # Inequality check\n",
    "print(\"tuple1 < tuple2:\", tuple1 < tuple2)    # Less than check\n",
    "print(\"tuple1 <= tuple2:\", tuple1 <= tuple2)  # Less than or equal to check\n",
    "print(\"tuple1 > tuple2:\", tuple1 > tuple2)    # Greater than check\n",
    "print(\"tuple1 >= tuple2:\", tuple1 >= tuple2)  # Greater than or equal to check"
   ]
  },
  {
   "cell_type": "markdown",
   "id": "25afa1c8-8ea8-491d-827f-da8606d0e9e8",
   "metadata": {},
   "source": [
    "### 19. Delete a tuple."
   ]
  },
  {
   "cell_type": "code",
   "execution_count": 93,
   "id": "51b40495-4b65-4bf6-b8a8-309063dd1dfc",
   "metadata": {},
   "outputs": [
    {
     "ename": "NameError",
     "evalue": "name 'my_tuple' is not defined",
     "output_type": "error",
     "traceback": [
      "\u001b[0;31m---------------------------------------------------------------------------\u001b[0m",
      "\u001b[0;31mNameError\u001b[0m                                 Traceback (most recent call last)",
      "Cell \u001b[0;32mIn[93], line 8\u001b[0m\n\u001b[1;32m      5\u001b[0m \u001b[38;5;28;01mdel\u001b[39;00m my_tuple\n\u001b[1;32m      7\u001b[0m \u001b[38;5;66;03m# Step 3: Try to access the tuple (will raise a NameError)\u001b[39;00m\n\u001b[0;32m----> 8\u001b[0m \u001b[38;5;28mprint\u001b[39m(\u001b[43mmy_tuple\u001b[49m)\n",
      "\u001b[0;31mNameError\u001b[0m: name 'my_tuple' is not defined"
     ]
    }
   ],
   "source": [
    "# Step 1: Create a tuple\n",
    "my_tuple = (1, 2, 3, 4, 5)\n",
    "\n",
    "# Step 2: Delete the tuple using the 'del' statement\n",
    "del my_tuple\n",
    "\n",
    "# Step 3: Try to access the tuple (will raise a NameError)\n",
    "print(my_tuple)"
   ]
  },
  {
   "cell_type": "markdown",
   "id": "9402df94-0a6b-4890-91d2-a91bb598b040",
   "metadata": {},
   "source": [
    "### 20. Slice a tuple."
   ]
  },
  {
   "cell_type": "code",
   "execution_count": 94,
   "id": "72594c0b-fe65-4f5e-9f9f-72442801c6f7",
   "metadata": {},
   "outputs": [
    {
     "name": "stdout",
     "output_type": "stream",
     "text": [
      "Sliced tuple: (3, 4, 5, 6)\n"
     ]
    }
   ],
   "source": [
    "# Step 1: Create a tuple\n",
    "my_tuple = (1, 2, 3, 4, 5, 6, 7, 8, 9, 10)\n",
    "\n",
    "# Step 2: Slice the tuple to get a portion of it\n",
    "sliced_tuple = my_tuple[2:6]  # Elements from index 2 to 5 (end index is exclusive)\n",
    "\n",
    "# Step 3: Print the sliced tuple\n",
    "print(\"Sliced tuple:\", sliced_tuple)"
   ]
  },
  {
   "cell_type": "markdown",
   "id": "5904a81f-c61f-4876-8a29-9da467fc11ab",
   "metadata": {},
   "source": [
    "### 21. Find the maximum value in a tuple."
   ]
  },
  {
   "cell_type": "code",
   "execution_count": 95,
   "id": "009045dc-7499-4c12-b364-c17362d329ae",
   "metadata": {},
   "outputs": [
    {
     "name": "stdout",
     "output_type": "stream",
     "text": [
      "Maximum value: 45\n"
     ]
    }
   ],
   "source": [
    "# Step 1: Create a tuple\n",
    "my_tuple = (10, 20, 5, 45, 30)\n",
    "\n",
    "# Step 2: Find the maximum value in the tuple using the 'max()' function\n",
    "max_value = max(my_tuple)\n",
    "\n",
    "# Step 3: Print the maximum value\n",
    "print(\"Maximum value:\", max_value)"
   ]
  },
  {
   "cell_type": "markdown",
   "id": "3954b849-4b77-4353-aea1-2257552a0a68",
   "metadata": {},
   "source": [
    "### 22. Find the minimum value in a tuple.\n"
   ]
  },
  {
   "cell_type": "code",
   "execution_count": 96,
   "id": "575515cb-17c3-4b4b-8843-0b8b80d417a3",
   "metadata": {},
   "outputs": [
    {
     "name": "stdout",
     "output_type": "stream",
     "text": [
      "Minimum value: 5\n"
     ]
    }
   ],
   "source": [
    "# Step 1: Create a tuple\n",
    "my_tuple = (10, 20, 5, 45, 30)\n",
    "\n",
    "# Step 2: Find the minimum value in the tuple using the 'min()' function\n",
    "min_value = min(my_tuple)\n",
    "\n",
    "# Step 3: Print the minimum value\n",
    "print(\"Minimum value:\", min_value)"
   ]
  },
  {
   "cell_type": "markdown",
   "id": "34b1e305-ab4d-4a19-b68e-9cc469c9e653",
   "metadata": {},
   "source": [
    "### 23. Convert a string to a tuple of characters."
   ]
  },
  {
   "cell_type": "code",
   "execution_count": 97,
   "id": "fe931401-c5e2-4c72-ac77-6dae2e931fa3",
   "metadata": {},
   "outputs": [
    {
     "name": "stdout",
     "output_type": "stream",
     "text": [
      "Tuple of characters: ('H', 'e', 'l', 'l', 'o', ',', ' ', 'W', 'o', 'r', 'l', 'd', '!')\n"
     ]
    }
   ],
   "source": [
    "# Step 1: Create a string\n",
    "my_string = \"Hello, World!\"\n",
    "\n",
    "# Step 2: Convert the string to a tuple of characters\n",
    "tuple_of_characters = tuple(my_string)\n",
    "\n",
    "# Step 3: Print the tuple of characters\n",
    "print(\"Tuple of characters:\", tuple_of_characters)"
   ]
  },
  {
   "cell_type": "markdown",
   "id": "e55d25d5-ddf2-4ab0-9725-8acf071a7e97",
   "metadata": {},
   "source": [
    "### 24. Convert a tuple of characters to a string."
   ]
  },
  {
   "cell_type": "code",
   "execution_count": 98,
   "id": "c9f0dff2-b386-4e35-b1b1-0e9f6a92bb39",
   "metadata": {},
   "outputs": [
    {
     "name": "stdout",
     "output_type": "stream",
     "text": [
      "String from tuple: Hello World!\n"
     ]
    }
   ],
   "source": [
    "# Step 1: Create a tuple of characters\n",
    "tuple_of_characters = ('H', 'e', 'l', 'l', 'o', ' ', 'W', 'o', 'r', 'l', 'd', '!')\n",
    "\n",
    "# Step 2: Convert the tuple of characters to a string using the 'join()' method\n",
    "string_from_tuple = ''.join(tuple_of_characters)\n",
    "\n",
    "# Step 3: Print the resulting string\n",
    "print(\"String from tuple:\", string_from_tuple)"
   ]
  },
  {
   "cell_type": "markdown",
   "id": "a03cee0c-c9ac-4ab2-95a4-0fd14b4597ee",
   "metadata": {},
   "source": [
    "### 25. Create a tuple from multiple data types."
   ]
  },
  {
   "cell_type": "code",
   "execution_count": 99,
   "id": "e44fc7c9-be8d-4fe5-b8f6-b58d848a5e55",
   "metadata": {},
   "outputs": [
    {
     "name": "stdout",
     "output_type": "stream",
     "text": [
      "(1, 'hello', 3.14, True)\n"
     ]
    }
   ],
   "source": [
    "# Creating a tuple with elements of different data types\n",
    "mixed_tuple = (1, \"hello\", 3.14, True)\n",
    "\n",
    "# Printing the tuple\n",
    "print(mixed_tuple)"
   ]
  },
  {
   "cell_type": "markdown",
   "id": "0063e227-d7bd-463f-a98b-ca69add94f37",
   "metadata": {},
   "source": [
    "### 26. Check if two tuples are identical."
   ]
  },
  {
   "cell_type": "code",
   "execution_count": 100,
   "id": "fab59d15-c2d0-462a-8be2-a16aca856bb7",
   "metadata": {},
   "outputs": [
    {
     "name": "stdout",
     "output_type": "stream",
     "text": [
      "tuple1 and tuple2 are identical: True\n",
      "tuple1 and tuple3 are identical: False\n"
     ]
    }
   ],
   "source": [
    "# Step 1: Create two tuples\n",
    "tuple1 = (1, 2, 3)\n",
    "tuple2 = (1, 2, 3)\n",
    "tuple3 = (4, 5, 6)\n",
    "\n",
    "# Step 2: Compare the tuples for identity using the equality operator\n",
    "are_identical1 = tuple1 == tuple2\n",
    "are_identical2 = tuple1 == tuple3\n",
    "\n",
    "# Step 3: Print the results\n",
    "print(\"tuple1 and tuple2 are identical:\", are_identical1)\n",
    "print(\"tuple1 and tuple3 are identical:\", are_identical2)"
   ]
  },
  {
   "cell_type": "markdown",
   "id": "9e3b2703-b746-4e0a-8c69-240b0e3cb4ac",
   "metadata": {},
   "source": [
    "### 27. Sort the elements of a tuple."
   ]
  },
  {
   "cell_type": "code",
   "execution_count": 101,
   "id": "079c76fb-cd7d-4bec-aafd-4a32f92c8436",
   "metadata": {},
   "outputs": [
    {
     "name": "stdout",
     "output_type": "stream",
     "text": [
      "Sorted tuple: (1, 2, 3, 5, 8)\n"
     ]
    }
   ],
   "source": [
    "# Step 1: Create a tuple\n",
    "my_tuple = (5, 2, 8, 1, 3)\n",
    "\n",
    "# Step 2: Convert the tuple to a list, sort the list, and convert it back to a tuple\n",
    "sorted_tuple = tuple(sorted(my_tuple))\n",
    "\n",
    "# Step 3: Print the sorted tuple\n",
    "print(\"Sorted tuple:\", sorted_tuple)"
   ]
  },
  {
   "cell_type": "markdown",
   "id": "68814192-4356-47e5-9e2e-f51247c14d09",
   "metadata": {},
   "source": [
    "### 28. Convert a tuple of integers to a tuple of strings."
   ]
  },
  {
   "cell_type": "code",
   "execution_count": 102,
   "id": "958f432c-30d5-47b8-affe-122d749ed6ff",
   "metadata": {},
   "outputs": [
    {
     "name": "stdout",
     "output_type": "stream",
     "text": [
      "Tuple of strings: ('1', '2', '3', '4', '5')\n"
     ]
    }
   ],
   "source": [
    "# Step 1: Create a tuple of integers\n",
    "tuple_of_integers = (1, 2, 3, 4, 5)\n",
    "\n",
    "# Step 2: Convert the tuple of integers to a tuple of strings using a list comprehension\n",
    "tuple_of_strings = tuple(str(item) for item in tuple_of_integers)\n",
    "\n",
    "# Step 3: Print the tuple of strings\n",
    "print(\"Tuple of strings:\", tuple_of_strings)"
   ]
  },
  {
   "cell_type": "markdown",
   "id": "35370fbc-fe5e-4de1-9642-ee8d4de37089",
   "metadata": {},
   "source": [
    "### 29. Convert a tuple of strings to a tuple of integers."
   ]
  },
  {
   "cell_type": "code",
   "execution_count": 103,
   "id": "38a4a3e8-dd87-4572-8ed2-ca9d33149920",
   "metadata": {},
   "outputs": [
    {
     "name": "stdout",
     "output_type": "stream",
     "text": [
      "Tuple of integers: (10, 20, 30, 40, 50)\n"
     ]
    }
   ],
   "source": [
    "# Step 1: Create a tuple of strings\n",
    "tuple_of_strings = ('10', '20', '30', '40', '50')\n",
    "\n",
    "# Step 2: Convert the tuple of strings to a tuple of integers using a list comprehension\n",
    "tuple_of_integers = tuple(int(item) for item in tuple_of_strings)\n",
    "\n",
    "# Step 3: Print the tuple of integers\n",
    "print(\"Tuple of integers:\", tuple_of_integers)"
   ]
  },
  {
   "cell_type": "markdown",
   "id": "7638e196-b87c-4a5a-aad5-b85a9b038db3",
   "metadata": {},
   "source": [
    "### 30. Merge two tuples."
   ]
  },
  {
   "cell_type": "code",
   "execution_count": 104,
   "id": "7c91e794-02e6-4f94-8305-839127015af1",
   "metadata": {},
   "outputs": [
    {
     "name": "stdout",
     "output_type": "stream",
     "text": [
      "Merged tuple: (1, 2, 3, 4, 5, 6)\n"
     ]
    }
   ],
   "source": [
    "# Step 1: Create two tuples\n",
    "tuple1 = (1, 2, 3)\n",
    "tuple2 = (4, 5, 6)\n",
    "\n",
    "# Step 2: Merge the two tuples using the '+' operator\n",
    "merged_tuple = tuple1 + tuple2\n",
    "\n",
    "# Step 3: Print the merged tuple\n",
    "print(\"Merged tuple:\", merged_tuple)"
   ]
  },
  {
   "cell_type": "markdown",
   "id": "abc348a5-b05d-4407-b028-9bce872e7b69",
   "metadata": {},
   "source": [
    "### 31. Flatten a nested tuple."
   ]
  },
  {
   "cell_type": "code",
   "execution_count": 105,
   "id": "756a4d7a-1565-4665-bdae-1de03f521885",
   "metadata": {},
   "outputs": [
    {
     "name": "stdout",
     "output_type": "stream",
     "text": [
      "Flattened tuple: (1, 2, 3, 4, 5, 6, 7, 8)\n"
     ]
    }
   ],
   "source": [
    "# Recursive function to flatten a nested tuple\n",
    "def flatten_tuple(nested_tuple):\n",
    "    flattened = []\n",
    "    for item in nested_tuple:\n",
    "        if isinstance(item, tuple):\n",
    "            flattened.extend(flatten_tuple(item))\n",
    "        else:\n",
    "            flattened.append(item)\n",
    "    return flattened\n",
    "\n",
    "# Step 1: Create a nested tuple\n",
    "nested_tuple = ((1, 2), (3, 4, 5), (6, (7, 8)))\n",
    "\n",
    "# Step 2: Flatten the nested tuple\n",
    "flattened_tuple = tuple(flatten_tuple(nested_tuple))\n",
    "\n",
    "# Step 3: Print the flattened tuple\n",
    "print(\"Flattened tuple:\", flattened_tuple)"
   ]
  },
  {
   "cell_type": "markdown",
   "id": "24bb2a6f-8516-410c-b866-0d0fe3270ef6",
   "metadata": {},
   "source": [
    "### 32. Create a tuple of the first 5 prime numbers."
   ]
  },
  {
   "cell_type": "code",
   "execution_count": 106,
   "id": "9a4d02ca-cdb5-4e82-aecd-c09e7d8aa293",
   "metadata": {},
   "outputs": [
    {
     "name": "stdout",
     "output_type": "stream",
     "text": [
      "Tuple of the first 5 prime numbers: (2, 3, 5, 7, 11)\n"
     ]
    }
   ],
   "source": [
    "# Function to check if a number is prime\n",
    "def is_prime(num):\n",
    "    if num <= 1:\n",
    "        return False\n",
    "    for i in range(2, int(num ** 0.5) + 1):\n",
    "        if num % i == 0:\n",
    "            return False\n",
    "    return True\n",
    "\n",
    "# Generate the first 5 prime numbers\n",
    "prime_numbers_list = [num for num in range(2, 100) if is_prime(num)][:5]\n",
    "\n",
    "# Convert the list to a tuple\n",
    "prime_numbers_tuple = tuple(prime_numbers_list)\n",
    "\n",
    "# Print the tuple of prime numbers\n",
    "print(\"Tuple of the first 5 prime numbers:\", prime_numbers_tuple)"
   ]
  },
  {
   "cell_type": "markdown",
   "id": "b10e4fe3-7053-42c3-a152-1702f1493085",
   "metadata": {},
   "source": [
    "### 33. Check if a tuple is a palindrome."
   ]
  },
  {
   "cell_type": "code",
   "execution_count": 107,
   "id": "bf9a9977-760a-4b3f-b840-24a842ca0e1c",
   "metadata": {},
   "outputs": [
    {
     "name": "stdout",
     "output_type": "stream",
     "text": [
      "palindrome_tuple is a palindrome: True\n",
      "non_palindrome_tuple is a palindrome: False\n"
     ]
    }
   ],
   "source": [
    "# Function to check if a tuple is a palindrome\n",
    "def is_palindrome(tup):\n",
    "    return tup == tup[::-1]\n",
    "\n",
    "# Create tuples for testing\n",
    "palindrome_tuple = (1, 2, 3, 2, 1)\n",
    "non_palindrome_tuple = (1, 2, 3, 4, 5)\n",
    "\n",
    "# Check if the tuples are palindromes\n",
    "is_palindrome1 = is_palindrome(palindrome_tuple)\n",
    "is_palindrome2 = is_palindrome(non_palindrome_tuple)\n",
    "\n",
    "# Print the results\n",
    "print(\"palindrome_tuple is a palindrome:\", is_palindrome1)\n",
    "print(\"non_palindrome_tuple is a palindrome:\", is_palindrome2)"
   ]
  },
  {
   "cell_type": "markdown",
   "id": "2bb61443-70e5-46e2-b1ae-67073c2edf92",
   "metadata": {},
   "source": [
    "### 34. Create a tuple of squares of numbers from 1 to 5."
   ]
  },
  {
   "cell_type": "code",
   "execution_count": 108,
   "id": "bc43be5f-9d6e-48d7-abad-c9492d264ae0",
   "metadata": {},
   "outputs": [
    {
     "name": "stdout",
     "output_type": "stream",
     "text": [
      "Tuple of squares: (1, 4, 9, 16, 25)\n"
     ]
    }
   ],
   "source": [
    "# Create a tuple of squares using a list comprehension\n",
    "squares_tuple = tuple(x ** 2 for x in range(1, 6))\n",
    "\n",
    "# Print the tuple of squares\n",
    "print(\"Tuple of squares:\", squares_tuple)"
   ]
  },
  {
   "cell_type": "markdown",
   "id": "acc141e9-5035-4779-a2a7-851bb2970e71",
   "metadata": {},
   "source": [
    "### 35. Filter out all even numbers from a tuple."
   ]
  },
  {
   "cell_type": "code",
   "execution_count": 109,
   "id": "2de4b144-8df1-4e57-8ab0-eff13206e634",
   "metadata": {},
   "outputs": [
    {
     "name": "stdout",
     "output_type": "stream",
     "text": [
      "Filtered tuple: (1, 3, 5, 7, 9)\n"
     ]
    }
   ],
   "source": [
    "# Create a tuple\n",
    "original_tuple = (1, 2, 3, 4, 5, 6, 7, 8, 9, 10)\n",
    "\n",
    "# Filter out even numbers using a list comprehension\n",
    "filtered_tuple = tuple(num for num in original_tuple if num % 2 != 0)\n",
    "\n",
    "# Print the filtered tuple\n",
    "print(\"Filtered tuple:\", filtered_tuple)"
   ]
  },
  {
   "cell_type": "markdown",
   "id": "c9591445-96ff-4476-a92e-ef9b45654d15",
   "metadata": {},
   "source": [
    "### 36. Multiply all elements in a tuple by 2."
   ]
  },
  {
   "cell_type": "code",
   "execution_count": 110,
   "id": "e30c1c07-7967-476f-b4c8-8cee155d085a",
   "metadata": {},
   "outputs": [
    {
     "name": "stdout",
     "output_type": "stream",
     "text": [
      "Doubled tuple: (2, 4, 6, 8, 10)\n"
     ]
    }
   ],
   "source": [
    "# Create a tuple\n",
    "original_tuple = (1, 2, 3, 4, 5)\n",
    "\n",
    "# Multiply all elements by 2 using a list comprehension and convert to a tuple\n",
    "doubled_tuple = tuple(num * 2 for num in original_tuple)\n",
    "\n",
    "# Print the doubled tuple\n",
    "print(\"Doubled tuple:\", doubled_tuple)"
   ]
  },
  {
   "cell_type": "markdown",
   "id": "b004bd69-874a-4b8c-b22a-17647e66c447",
   "metadata": {},
   "source": [
    "### 37. Create a tuple of random numbers."
   ]
  },
  {
   "cell_type": "code",
   "execution_count": 111,
   "id": "9a30b5e6-2f63-4b66-827c-198b49b1449f",
   "metadata": {},
   "outputs": [
    {
     "name": "stdout",
     "output_type": "stream",
     "text": [
      "Random tuple: (36, 43, 69, 18, 69, 36, 89, 18, 30, 48)\n"
     ]
    }
   ],
   "source": [
    "import random\n",
    "\n",
    "# Create a tuple of random numbers using a list comprehension\n",
    "random_tuple = tuple(random.randint(1, 100) for _ in range(10))  # Generating 10 random numbers between 1 and 100\n",
    "\n",
    "# Print the tuple of random numbers\n",
    "print(\"Random tuple:\", random_tuple)"
   ]
  },
  {
   "cell_type": "markdown",
   "id": "c6df51fd-7999-4669-be00-a6fc0e14d39f",
   "metadata": {},
   "source": [
    "### 38. Check if a tuple is sorted."
   ]
  },
  {
   "cell_type": "code",
   "execution_count": 112,
   "id": "55337170-2d0a-4a30-8505-0d12e98525d8",
   "metadata": {},
   "outputs": [
    {
     "name": "stdout",
     "output_type": "stream",
     "text": [
      "sorted_tuple is sorted: True\n",
      "unsorted_tuple is sorted: False\n"
     ]
    }
   ],
   "source": [
    "# Function to check if a tuple is sorted\n",
    "def is_sorted(tup):\n",
    "    for i in range(len(tup) - 1):\n",
    "        if tup[i] > tup[i + 1]:\n",
    "            return False\n",
    "    return True\n",
    "\n",
    "# Create tuples for testing\n",
    "sorted_tuple = (1, 2, 3, 4, 5)\n",
    "unsorted_tuple = (5, 3, 1, 4, 2)\n",
    "\n",
    "# Check if the tuples are sorted\n",
    "is_sorted1 = is_sorted(sorted_tuple)\n",
    "is_sorted2 = is_sorted(unsorted_tuple)\n",
    "\n",
    "# Print the results\n",
    "print(\"sorted_tuple is sorted:\", is_sorted1)\n",
    "print(\"unsorted_tuple is sorted:\", is_sorted2)"
   ]
  },
  {
   "cell_type": "markdown",
   "id": "ed265cab-c343-47f4-b42c-d3919b8d369d",
   "metadata": {},
   "source": [
    "### 39. Rotate a tuple to the left by n positions."
   ]
  },
  {
   "cell_type": "code",
   "execution_count": 113,
   "id": "2f15affe-4dac-4f96-9289-38ad7fe8fe29",
   "metadata": {},
   "outputs": [
    {
     "name": "stdout",
     "output_type": "stream",
     "text": [
      "(3, 4, 5, 1, 2)\n"
     ]
    }
   ],
   "source": [
    "def rotate_tuple_left(tup, n):\n",
    "    n = n % len(tup)  # Ensure n is within the range of tuple length\n",
    "    rotated_tuple = tup[n:] + tup[:n]  # Rotate the tuple\n",
    "    return rotated_tuple\n",
    "\n",
    "# Example tuple\n",
    "my_tuple = (1, 2, 3, 4, 5)\n",
    "n_positions = 2\n",
    "result = rotate_tuple_left(my_tuple, n_positions)\n",
    "print(result)"
   ]
  },
  {
   "cell_type": "markdown",
   "id": "b457b17d-e60b-4a88-95c5-e6dd130d23a9",
   "metadata": {},
   "source": [
    "### 40. Rotate a tuple to the right by n positions."
   ]
  },
  {
   "cell_type": "code",
   "execution_count": 114,
   "id": "91a48349-2fe2-43ca-bf8a-e2ed861689b8",
   "metadata": {},
   "outputs": [
    {
     "name": "stdout",
     "output_type": "stream",
     "text": [
      "(4, 5, 1, 2, 3)\n"
     ]
    }
   ],
   "source": [
    "def rotate_tuple_right(tup, n):\n",
    "    n = n % len(tup)  # Ensure n is within the range of tuple length\n",
    "    rotated_tuple = tup[-n:] + tup[:-n]  # Rotate the tuple\n",
    "    return rotated_tuple\n",
    "\n",
    "# Example tuple\n",
    "my_tuple = (1, 2, 3, 4, 5)\n",
    "n_positions = 2\n",
    "result = rotate_tuple_right(my_tuple, n_positions)\n",
    "print(result)"
   ]
  },
  {
   "cell_type": "markdown",
   "id": "5041a617-6d1f-4566-93e6-9363927e3e5c",
   "metadata": {},
   "source": [
    "### 41. Create a tuple of the first 5 Fibonacci numbers."
   ]
  },
  {
   "cell_type": "code",
   "execution_count": 115,
   "id": "add764b8-998e-4a3f-870c-3a5f2d5770c5",
   "metadata": {},
   "outputs": [
    {
     "name": "stdout",
     "output_type": "stream",
     "text": [
      "(0, 1, 1, 2, 3)\n"
     ]
    }
   ],
   "source": [
    "# Define a function to generate the first n Fibonacci numbers\n",
    "def generate_fibonacci(n):\n",
    "    fibonacci = [0, 1]  # Initialize the list with the first two Fibonacci numbers\n",
    "    while len(fibonacci) < n:  # Continue generating Fibonacci numbers until the list has n elements\n",
    "        next_number = fibonacci[-1] + fibonacci[-2]  # Calculate the next Fibonacci number\n",
    "        fibonacci.append(next_number)  # Add the next Fibonacci number to the list\n",
    "    return tuple(fibonacci)  # Convert the list to a tuple and return it\n",
    "\n",
    "# Call the generate_fibonacci function to create a tuple of the first 5 Fibonacci numbers\n",
    "fibonacci_tuple = generate_fibonacci(5)\n",
    "\n",
    "# Print the resulting tuple\n",
    "print(fibonacci_tuple)"
   ]
  },
  {
   "cell_type": "markdown",
   "id": "1e86de83-d93e-4f97-bfaf-dc42ef4faf78",
   "metadata": {},
   "source": [
    "### 42. Create a tuple from user input."
   ]
  },
  {
   "cell_type": "code",
   "execution_count": 118,
   "id": "b7f25d89-cff6-4d7f-b0ce-4e734e2f1371",
   "metadata": {},
   "outputs": [
    {
     "name": "stdin",
     "output_type": "stream",
     "text": [
      "Enter elements separated by commas:  rama\n"
     ]
    },
    {
     "name": "stdout",
     "output_type": "stream",
     "text": [
      "User input tuple: ('rama',)\n"
     ]
    }
   ],
   "source": [
    "# Taking user input for creating a tuple\n",
    "input_str = input(\"Enter elements separated by commas: \")\n",
    "\n",
    "# Splitting the input string into a list of strings\n",
    "input_list = input_str.split(',')\n",
    "\n",
    "# Converting the list of strings to a tuple\n",
    "user_tuple = tuple(input_list)\n",
    "\n",
    "# Printing the created tuple\n",
    "print(\"User input tuple:\", user_tuple)"
   ]
  },
  {
   "cell_type": "markdown",
   "id": "c34e5224-927f-46de-b47e-2fde9f87e6db",
   "metadata": {},
   "source": [
    "### 43. Swap two elements in a tuple."
   ]
  },
  {
   "cell_type": "code",
   "execution_count": 119,
   "id": "2de6f20e-1766-4006-a35b-bf49c98bd3c5",
   "metadata": {},
   "outputs": [
    {
     "name": "stdout",
     "output_type": "stream",
     "text": [
      "Swapped tuple: (1, 4, 3, 2, 5)\n"
     ]
    }
   ],
   "source": [
    "# Create a tuple\n",
    "my_tuple = (1, 2, 3, 4, 5)\n",
    "\n",
    "# Swap elements at indices 1 and 3\n",
    "index1 = 1\n",
    "index2 = 3\n",
    "swapped_tuple = tuple(\n",
    "    my_tuple[i] if i not in (index1, index2) else\n",
    "    my_tuple[index2] if i == index1 else\n",
    "    my_tuple[index1]\n",
    "    for i in range(len(my_tuple))\n",
    ")\n",
    "\n",
    "# Print the swapped tuple\n",
    "print(\"Swapped tuple:\", swapped_tuple)"
   ]
  },
  {
   "cell_type": "markdown",
   "id": "aa3711ad-9ab4-46d8-a959-e4ba339b2163",
   "metadata": {},
   "source": [
    "### 44. Reverse the elements of a tuple."
   ]
  },
  {
   "cell_type": "code",
   "execution_count": 120,
   "id": "d1d93b1f-eb81-46ed-89f2-f68eda75816b",
   "metadata": {},
   "outputs": [
    {
     "name": "stdout",
     "output_type": "stream",
     "text": [
      "Reversed tuple: (5, 4, 3, 2, 1)\n"
     ]
    }
   ],
   "source": [
    "# Create a tuple\n",
    "my_tuple = (1, 2, 3, 4, 5)\n",
    "\n",
    "# Reverse the elements using slicing\n",
    "reversed_tuple = my_tuple[::-1]\n",
    "\n",
    "# Print the reversed tuple\n",
    "print(\"Reversed tuple:\", reversed_tuple)"
   ]
  },
  {
   "cell_type": "markdown",
   "id": "0c7823b3-5fcb-474c-bce9-6828d10feadf",
   "metadata": {},
   "source": [
    "### 45. Create a tuple of the first n powers of 2."
   ]
  },
  {
   "cell_type": "code",
   "execution_count": 121,
   "id": "37a6ba08-9e36-4d08-a305-186ba56f8aff",
   "metadata": {},
   "outputs": [
    {
     "name": "stdout",
     "output_type": "stream",
     "text": [
      "Tuple of the first 5 powers of 2: (1, 2, 4, 8, 16)\n"
     ]
    }
   ],
   "source": [
    "# Define the value of n\n",
    "n = 5\n",
    "\n",
    "# Create a tuple of the first n powers of 2 using a list comprehension\n",
    "powers_of_2_tuple = tuple(2 ** i for i in range(n))\n",
    "\n",
    "# Print the tuple of powers of 2\n",
    "print(\"Tuple of the first\", n, \"powers of 2:\", powers_of_2_tuple)"
   ]
  },
  {
   "cell_type": "markdown",
   "id": "c41a6762-9881-4255-a3ee-4727d9492766",
   "metadata": {},
   "source": [
    "### 46. Find the longest string in a tuple of strings."
   ]
  },
  {
   "cell_type": "code",
   "execution_count": 122,
   "id": "0e4a819a-f8e1-4846-a90e-23816803fe43",
   "metadata": {},
   "outputs": [
    {
     "name": "stdout",
     "output_type": "stream",
     "text": [
      "Longest string: watermelon\n"
     ]
    }
   ],
   "source": [
    "# Create a tuple of strings\n",
    "string_tuple = (\"apple\", \"banana\", \"grape\", \"kiwi\", \"watermelon\")\n",
    "\n",
    "# Find the longest string in the tuple\n",
    "longest_string = max(string_tuple, key=len)\n",
    "\n",
    "# Print the longest string\n",
    "print(\"Longest string:\", longest_string)"
   ]
  },
  {
   "cell_type": "markdown",
   "id": "9a264a80-d7ff-4df1-a57c-75aa4f041fb7",
   "metadata": {},
   "source": [
    "### 47. Find the shortest string in a tuple of strings."
   ]
  },
  {
   "cell_type": "code",
   "execution_count": 123,
   "id": "4273ed0f-fcf7-4ba1-9edf-91d844632146",
   "metadata": {},
   "outputs": [
    {
     "name": "stdout",
     "output_type": "stream",
     "text": [
      "Shortest string: kiwi\n"
     ]
    }
   ],
   "source": [
    "# Create a tuple of strings\n",
    "string_tuple = (\"apple\", \"banana\", \"grape\", \"kiwi\", \"watermelon\")\n",
    "\n",
    "# Find the shortest string in the tuple\n",
    "shortest_string = min(string_tuple, key=len)\n",
    "\n",
    "# Print the shortest string\n",
    "print(\"Shortest string:\", shortest_string)\n"
   ]
  },
  {
   "cell_type": "markdown",
   "id": "0ee379fc-068a-4c21-8b20-0b0fb8c23ee6",
   "metadata": {},
   "source": [
    "### 48. Create a tuple of the first n triangular numbers."
   ]
  },
  {
   "cell_type": "code",
   "execution_count": 124,
   "id": "288f658d-6559-4f09-b71d-fca10bca9643",
   "metadata": {},
   "outputs": [
    {
     "name": "stdout",
     "output_type": "stream",
     "text": [
      "Tuple of the first 5 triangular numbers: (1, 3, 6, 10, 15)\n"
     ]
    }
   ],
   "source": [
    "# Define the value of n\n",
    "n = 5\n",
    "\n",
    "# Create a tuple of the first n triangular numbers using a list comprehension\n",
    "triangular_numbers_tuple = tuple((i * (i + 1)) // 2 for i in range(1, n + 1))\n",
    "\n",
    "# Print the tuple of triangular numbers\n",
    "print(\"Tuple of the first\", n, \"triangular numbers:\", triangular_numbers_tuple)"
   ]
  },
  {
   "cell_type": "markdown",
   "id": "071083ef-cd56-4d9f-be59-7aaa1516097a",
   "metadata": {},
   "source": [
    "### 49. Check if a tuple contains another tuple as a subsequence."
   ]
  },
  {
   "cell_type": "code",
   "execution_count": 125,
   "id": "ca14272f-472c-4f5a-bac6-23ac15472bcd",
   "metadata": {},
   "outputs": [
    {
     "name": "stdout",
     "output_type": "stream",
     "text": [
      "Main tuple contains subsequence tuple: True\n"
     ]
    }
   ],
   "source": [
    "# Function to check if a tuple contains another tuple as a subsequence\n",
    "def contains_subsequence(main_tuple, sub_tuple):\n",
    "    sub_length = len(sub_tuple)\n",
    "    for i in range(len(main_tuple) - sub_length + 1):\n",
    "        if main_tuple[i:i+sub_length] == sub_tuple:\n",
    "            return True\n",
    "    return False\n",
    "\n",
    "# Main tuple\n",
    "main_tuple = (1, 2, 3, 4, 5, 6, 7, 8, 9)\n",
    "\n",
    "# Subsequence tuple\n",
    "sub_tuple = (3, 4, 5)\n",
    "\n",
    "# Check if the main tuple contains the subsequence tuple\n",
    "contains_subseq = contains_subsequence(main_tuple, sub_tuple)\n",
    "\n",
    "# Print the result\n",
    "print(\"Main tuple contains subsequence tuple:\", contains_subseq)"
   ]
  },
  {
   "cell_type": "markdown",
   "id": "0f2f32c1-1769-4478-85d9-6614c90c3299",
   "metadata": {},
   "source": [
    "### 50. Create a tuple of alternating 1s and 0s of length n."
   ]
  },
  {
   "cell_type": "code",
   "execution_count": 126,
   "id": "5fb88edb-4a0f-49ac-8071-4dd5929b4b93",
   "metadata": {},
   "outputs": [
    {
     "name": "stdout",
     "output_type": "stream",
     "text": [
      "Tuple of alternating 1s and 0s: (0, 1, 0, 1, 0, 1, 0, 1, 0, 1)\n"
     ]
    }
   ],
   "source": [
    "# Define the value of n\n",
    "n = 10\n",
    "\n",
    "# Create a tuple of alternating 1s and 0s using a list comprehension\n",
    "alternating_tuple = tuple(i % 2 for i in range(n))\n",
    "\n",
    "# Print the tuple of alternating 1s and 0s\n",
    "print(\"Tuple of alternating 1s and 0s:\", alternating_tuple)"
   ]
  },
  {
   "cell_type": "markdown",
   "id": "477e589d-2408-48f5-8170-aa0758ed16f6",
   "metadata": {},
   "source": [
    "# Set based problems:"
   ]
  },
  {
   "cell_type": "markdown",
   "id": "cfef41e1-3a91-4879-b3ba-ad116b699cf5",
   "metadata": {},
   "source": [
    "### 1. Create a set with integers from 1 to 5"
   ]
  },
  {
   "cell_type": "code",
   "execution_count": 127,
   "id": "5c809054-eb08-4482-873f-4bcb58617454",
   "metadata": {},
   "outputs": [
    {
     "name": "stdout",
     "output_type": "stream",
     "text": [
      "{1, 2, 3, 4, 5}\n"
     ]
    }
   ],
   "source": [
    "# Step 1: Create an empty set\n",
    "my_set = set()\n",
    "\n",
    "# Step 2: Add integers from 1 to 5 to the set\n",
    "my_set.add(1)\n",
    "my_set.add(2)\n",
    "my_set.add(3)\n",
    "my_set.add(4)\n",
    "my_set.add(5)\n",
    "\n",
    "# Step 3: Print the final set\n",
    "print(my_set)## Set based problems:"
   ]
  },
  {
   "cell_type": "markdown",
   "id": "1bef699a-2579-496a-b4b5-9711ad5ea48d",
   "metadata": {},
   "source": [
    "### 2. Add an element to a set"
   ]
  },
  {
   "cell_type": "code",
   "execution_count": 128,
   "id": "857248aa-89ba-4773-a7c0-8dbd56e48a67",
   "metadata": {},
   "outputs": [
    {
     "name": "stdout",
     "output_type": "stream",
     "text": [
      "Original set: {1, 2, 3, 4, 5}\n",
      "Set after adding element: {1, 2, 3, 4, 5, 6}\n"
     ]
    }
   ],
   "source": [
    "# Step 1: Create a set\n",
    "my_set = {1, 2, 3, 4, 5}\n",
    "\n",
    "# Step 2: Display the original set\n",
    "print(\"Original set:\", my_set)\n",
    "\n",
    "# Step 3: Add an element to the set\n",
    "element_to_add = 6\n",
    "my_set.add(element_to_add)\n",
    "\n",
    "# Step 4: Display the modified set\n",
    "print(\"Set after adding element:\", my_set)"
   ]
  },
  {
   "cell_type": "markdown",
   "id": "554f8518-00fb-441e-9beb-f5b4d23dbfa6",
   "metadata": {},
   "source": [
    "### 3. Remove an element from a set."
   ]
  },
  {
   "cell_type": "code",
   "execution_count": 129,
   "id": "32a73596-4406-43b0-8778-3236f750cfb6",
   "metadata": {},
   "outputs": [
    {
     "name": "stdout",
     "output_type": "stream",
     "text": [
      "Original Set: {1, 2, 3, 4, 5}\n",
      "Set after removing 3 : {1, 2, 4, 5}\n"
     ]
    }
   ],
   "source": [
    "# Step 1: Create a set with some elements\n",
    "my_set = {1, 2, 3, 4, 5}\n",
    "\n",
    "# Step 2: Print the original set\n",
    "print(\"Original Set:\", my_set)\n",
    "\n",
    "# Step 3: Choose an element to remove\n",
    "element_to_remove = 3\n",
    "\n",
    "# Step 4: Use the remove() method to remove the chosen element\n",
    "# Note: If the element is not present in the set, remove() raises a KeyError.\n",
    "my_set.remove(element_to_remove)\n",
    "\n",
    "# Step 5: Print the modified set after removal\n",
    "print(\"Set after removing\", element_to_remove, \":\", my_set)"
   ]
  },
  {
   "cell_type": "markdown",
   "id": "2477a0fb-1b25-41ed-ba8a-ac573dcc69d0",
   "metadata": {},
   "source": [
    "### 4. Check if an element exists in a set."
   ]
  },
  {
   "cell_type": "code",
   "execution_count": 130,
   "id": "edb6c630-e6ca-4306-a90a-e8cc59024dcc",
   "metadata": {},
   "outputs": [
    {
     "name": "stdin",
     "output_type": "stream",
     "text": [
      "Enter the element to check:  2\n"
     ]
    },
    {
     "name": "stdout",
     "output_type": "stream",
     "text": [
      "2 does not exist in the set.\n"
     ]
    }
   ],
   "source": [
    "# Step 1: Create a set with some elements\n",
    "my_set = {1, 3, 5, 7, 9}\n",
    "\n",
    "# Step 2: Ask the user for the element they want to check\n",
    "element_to_check = int(input(\"Enter the element to check: \"))\n",
    "\n",
    "# Step 3: Use the \"in\" keyword to check if the element exists in the set\n",
    "if element_to_check in my_set:\n",
    "    # Step 4: If the element exists in the set, print a message\n",
    "    print(f\"{element_to_check} exists in the set.\")\n",
    "else:\n",
    "    # Step 5: If the element does not exist in the set, print a message\n",
    "    print(f\"{element_to_check} does not exist in the set.\")"
   ]
  },
  {
   "cell_type": "markdown",
   "id": "64739850-9f45-4dd0-9e04-168cc9c55d4a",
   "metadata": {},
   "source": [
    "### 5. Find the length of a set without using the len() function"
   ]
  },
  {
   "cell_type": "code",
   "execution_count": 131,
   "id": "21a989f8-2c30-4c33-8377-e1f3a1d2429d",
   "metadata": {},
   "outputs": [
    {
     "name": "stdout",
     "output_type": "stream",
     "text": [
      "Length of the set: 5\n"
     ]
    }
   ],
   "source": [
    "# Create a set with some elements\n",
    "my_set = {1, 2, 3, 4, 5}\n",
    "\n",
    "# Initialize a variable to count the elements in the set\n",
    "count = 0\n",
    "\n",
    "# Iterate through each element in the set\n",
    "for _ in my_set:\n",
    "    # Increase the count by 1 for each element\n",
    "    count += 1\n",
    "\n",
    "# Print the count, which is the length of the set\n",
    "print(\"Length of the set:\", count)"
   ]
  },
  {
   "cell_type": "markdown",
   "id": "08a00531-45a5-4655-bf18-4c8af4b7a494",
   "metadata": {},
   "source": [
    "### 6. Clear all elements from a set."
   ]
  },
  {
   "cell_type": "code",
   "execution_count": 132,
   "id": "14edd1f1-4c66-4da5-a37b-b569080dc5e9",
   "metadata": {},
   "outputs": [
    {
     "name": "stdout",
     "output_type": "stream",
     "text": [
      "Original set: {1, 2, 3, 4, 5}\n",
      "Set after clearing: set()\n"
     ]
    }
   ],
   "source": [
    "# Step 1: Create a set with some elements\n",
    "my_set = {1, 2, 3, 4, 5}\n",
    "\n",
    "# Step 2: Display the original set\n",
    "print(\"Original set:\", my_set)\n",
    "\n",
    "# Step 3: Clear all elements from the set using the clear() method\n",
    "my_set.clear()\n",
    "\n",
    "# Step 4: Display the set after clearing\n",
    "print(\"Set after clearing:\", my_set)"
   ]
  },
  {
   "cell_type": "markdown",
   "id": "b53e769f-f148-4f46-bcf3-af3ca26009ee",
   "metadata": {},
   "source": [
    "### 7.Create a set of even numbers from 1 to 10"
   ]
  },
  {
   "cell_type": "code",
   "execution_count": 133,
   "id": "7194e5fd-01e0-45b7-8629-f1d7d2c32525",
   "metadata": {},
   "outputs": [
    {
     "name": "stdout",
     "output_type": "stream",
     "text": [
      "{2, 4, 6, 8, 10}\n"
     ]
    }
   ],
   "source": [
    "# Step 1: Initialize an empty set\n",
    "even_numbers_set = set()\n",
    "\n",
    "# Step 2: Iterate through numbers from 1 to 10\n",
    "for num in range(1, 11):\n",
    "    # Step 3: Check if the number is even\n",
    "    if num % 2 == 0:\n",
    "        # Step 4: Add the even number to the set\n",
    "        even_numbers_set.add(num)\n",
    "\n",
    "# Step 5: Print the set of even numbers\n",
    "print(even_numbers_set)"
   ]
  },
  {
   "cell_type": "markdown",
   "id": "178d1761-a97c-48b7-8eb5-f4c54a62dfa5",
   "metadata": {},
   "source": [
    "### 8. Create a set of odd numbers from 1 to 10"
   ]
  },
  {
   "cell_type": "code",
   "execution_count": 134,
   "id": "f1578b64-9fb9-410b-83bc-237c49cbcc05",
   "metadata": {},
   "outputs": [
    {
     "name": "stdout",
     "output_type": "stream",
     "text": [
      "{1, 3, 5, 7, 9}\n"
     ]
    }
   ],
   "source": [
    "# Step 1: Initialize an empty set to store odd numbers.\n",
    "odd_numbers_set = set()\n",
    "\n",
    "# Step 2: Iterate through numbers from 1 to 10.\n",
    "for num in range(1, 11):\n",
    "    # Step 3: Check if the current number is odd.\n",
    "    if num % 2 != 0:\n",
    "        # Step 4: If the number is odd, add it to the set.\n",
    "        odd_numbers_set.add(num)\n",
    "\n",
    "# Step 5: Print the final set of odd numbers.\n",
    "print(odd_numbers_set)"
   ]
  },
  {
   "cell_type": "markdown",
   "id": "d91358b2-87cb-4925-b6a8-68ad39c5eb9b",
   "metadata": {},
   "source": [
    "### 9. Find the union of two sets"
   ]
  },
  {
   "cell_type": "code",
   "execution_count": 135,
   "id": "bbfb3013-d6e0-4ae9-82ac-1f7c9f5b1da7",
   "metadata": {},
   "outputs": [
    {
     "name": "stdout",
     "output_type": "stream",
     "text": [
      "Set 1: {1, 2, 3, 4, 5}\n",
      "Set 2: {4, 5, 6, 7, 8}\n",
      "Union of Set 1 and Set 2: {1, 2, 3, 4, 5, 6, 7, 8}\n"
     ]
    }
   ],
   "source": [
    "# Define two sets\n",
    "set1 = {1, 2, 3, 4, 5}\n",
    "set2 = {4, 5, 6, 7, 8}\n",
    "\n",
    "# Find the union of the two sets using the `union()` method\n",
    "union_result = set1.union(set2)\n",
    "\n",
    "# Print the original sets and their union\n",
    "print(\"Set 1:\", set1)\n",
    "print(\"Set 2:\", set2)\n",
    "print(\"Union of Set 1 and Set 2:\", union_result)"
   ]
  },
  {
   "cell_type": "markdown",
   "id": "bd57622b-57bf-49e6-9b07-ef2ed4ec2ba1",
   "metadata": {},
   "source": [
    "### 10. Find the intersection of two sets"
   ]
  },
  {
   "cell_type": "code",
   "execution_count": 136,
   "id": "b2f766dd-7fad-46ad-9d0b-84f543e0399f",
   "metadata": {},
   "outputs": [
    {
     "name": "stdout",
     "output_type": "stream",
     "text": [
      "Set 1: {1, 2, 3, 4, 5}\n",
      "Set 2: {3, 4, 5, 6, 7}\n",
      "Intersection: {3, 4, 5}\n"
     ]
    }
   ],
   "source": [
    "# Create two sets\n",
    "set1 = {1, 2, 3, 4, 5}\n",
    "set2 = {3, 4, 5, 6, 7}\n",
    "\n",
    "# Find the intersection using the intersection() method\n",
    "intersection_result = set1.intersection(set2)\n",
    "\n",
    "# Print the original sets and the intersection\n",
    "print(\"Set 1:\", set1)\n",
    "print(\"Set 2:\", set2)\n",
    "print(\"Intersection:\", intersection_result)"
   ]
  },
  {
   "cell_type": "markdown",
   "id": "c1927b74-4931-4621-8715-114d1be75842",
   "metadata": {},
   "source": [
    "### 11. Find the difference between two sets."
   ]
  },
  {
   "cell_type": "code",
   "execution_count": 137,
   "id": "aaa5085a-f54c-493b-b7ae-98b584ccc010",
   "metadata": {},
   "outputs": [
    {
     "name": "stdout",
     "output_type": "stream",
     "text": [
      "Set 1: {1, 2, 3, 4, 5}\n",
      "Set 2: {3, 4, 5, 6, 7}\n",
      "Difference: {1, 2}\n"
     ]
    }
   ],
   "source": [
    "# Create two sets\n",
    "set1 = {1, 2, 3, 4, 5}\n",
    "set2 = {3, 4, 5, 6, 7}\n",
    "\n",
    "# Find the difference between the sets using the difference() method\n",
    "difference_set = set1.difference(set2)\n",
    "\n",
    "# Print the original sets and the difference set\n",
    "print(\"Set 1:\", set1)\n",
    "print(\"Set 2:\", set2)\n",
    "print(\"Difference:\", difference_set)"
   ]
  },
  {
   "cell_type": "markdown",
   "id": "23578cec-3357-4454-aaa2-030c5c45d8aa",
   "metadata": {},
   "source": [
    "### 12. Check if a set is a subset of another set."
   ]
  },
  {
   "cell_type": "code",
   "execution_count": 138,
   "id": "7cc36b70-f786-47ff-ad6b-1283ab475046",
   "metadata": {},
   "outputs": [
    {
     "name": "stdout",
     "output_type": "stream",
     "text": [
      "Is set1 a subset of set2: True\n"
     ]
    }
   ],
   "source": [
    "# Define the two sets\n",
    "set1 = {1, 2, 3}\n",
    "set2 = {1, 2, 3, 4, 5}\n",
    "\n",
    "# Use the \"issubset()\" method to check if set1 is a subset of set2\n",
    "is_subset = set1.issubset(set2)\n",
    "\n",
    "# Print the result\n",
    "print(\"Is set1 a subset of set2:\", is_subset)"
   ]
  },
  {
   "cell_type": "markdown",
   "id": "6db2403b-4332-4562-976d-45ec5b551842",
   "metadata": {},
   "source": [
    "### 13. Check if a set is a superset of another set."
   ]
  },
  {
   "cell_type": "code",
   "execution_count": 139,
   "id": "c8b49afb-3190-4602-9886-68ae2f88271f",
   "metadata": {},
   "outputs": [
    {
     "name": "stdout",
     "output_type": "stream",
     "text": [
      "set1 is a superset of set2\n"
     ]
    }
   ],
   "source": [
    "# Create two sets\n",
    "set1 = {1, 2, 3, 4, 5, 6}\n",
    "set2 = {3, 4}\n",
    "\n",
    "# Check if set1 is a superset of set2\n",
    "is_superset = set1.issuperset(set2)\n",
    "\n",
    "# Print the result\n",
    "if is_superset:\n",
    "    print(\"set1 is a superset of set2\")\n",
    "else:\n",
    "    print(\"set1 is not a superset of set2\")"
   ]
  },
  {
   "cell_type": "markdown",
   "id": "b167e016-38c5-409c-a7f8-2de067f38fbc",
   "metadata": {},
   "source": [
    "### 14. Create a set from a list"
   ]
  },
  {
   "cell_type": "code",
   "execution_count": 140,
   "id": "08934e61-5f43-4d20-8c4c-453094a6d806",
   "metadata": {},
   "outputs": [
    {
     "name": "stdout",
     "output_type": "stream",
     "text": [
      "Original List: [2, 4, 1, 4, 3, 2, 5]\n",
      "Set from List: {1, 2, 3, 4, 5}\n"
     ]
    }
   ],
   "source": [
    "# Step 1: Create a list of elements\n",
    "my_list = [2, 4, 1, 4, 3, 2, 5]\n",
    "\n",
    "# Step 2: Use the set() constructor to convert the list into a set\n",
    "# This automatically removes duplicates and creates a set with unique elements\n",
    "my_set = set(my_list)\n",
    "\n",
    "# Step 3: Print the original list and the resulting set\n",
    "print(\"Original List:\", my_list)\n",
    "print(\"Set from List:\", my_set)"
   ]
  },
  {
   "cell_type": "markdown",
   "id": "03c3feb3-78fa-4d6e-b66e-858d32fc3a01",
   "metadata": {},
   "source": [
    "### 15. Convert a set to a list."
   ]
  },
  {
   "cell_type": "code",
   "execution_count": 142,
   "id": "60481fe2-6fb8-47df-bf09-12c6f6751357",
   "metadata": {},
   "outputs": [
    {
     "name": "stdout",
     "output_type": "stream",
     "text": [
      "Original Set: {1, 2, 3, 4, 5, 6, 9}\n",
      "Converted List: [1, 2, 3, 4, 5, 6, 9]\n"
     ]
    }
   ],
   "source": [
    "# Step 1: Create a set with some elements\n",
    "my_set = {3, 1, 4, 1, 5, 9, 2, 6, 5}\n",
    "\n",
    "# Step 2: Convert the set to a list using the list() function\n",
    "my_list = list(my_set)\n",
    "\n",
    "# Now, my_list contains the elements from my_set in list format\n",
    "\n",
    "# Step 3: Print the original set and the converted list\n",
    "print(\"Original Set:\", my_set)\n",
    "print(\"Converted List:\", my_list)"
   ]
  },
  {
   "cell_type": "markdown",
   "id": "6922c130-144b-4aff-af9f-10774704578d",
   "metadata": {},
   "source": [
    "### 16. Remove a random element from a set."
   ]
  },
  {
   "cell_type": "code",
   "execution_count": 143,
   "id": "96c89c14-13aa-4830-8d8f-7055a6edbb49",
   "metadata": {},
   "outputs": [
    {
     "name": "stdout",
     "output_type": "stream",
     "text": [
      "Original set: {1, 2, 3, 4, 5}\n",
      "Updated set after removing 1 : {2, 3, 4, 5}\n"
     ]
    }
   ],
   "source": [
    "import random  # Import the random module\n",
    "\n",
    "# Create a set with some elements\n",
    "my_set = {1, 2, 3, 4, 5}\n",
    "\n",
    "# Display the original set\n",
    "print(\"Original set:\", my_set)\n",
    "\n",
    "# Choose a random element from the set using the random.choice() function\n",
    "random_element = random.choice(list(my_set))\n",
    "\n",
    "# Remove the chosen random element from the set using the remove() method\n",
    "my_set.remove(random_element)\n",
    "\n",
    "# Display the updated set after removing the random element\n",
    "print(\"Updated set after removing\", random_element, \":\", my_set)"
   ]
  },
  {
   "cell_type": "markdown",
   "id": "3c12951b-2324-4ee1-9c44-b94f4c5c6ea4",
   "metadata": {},
   "source": [
    "### 17. Pop an element from a set."
   ]
  },
  {
   "cell_type": "code",
   "execution_count": 144,
   "id": "bb616f02-917a-436c-b5cd-7e7cbffcd408",
   "metadata": {},
   "outputs": [
    {
     "name": "stdout",
     "output_type": "stream",
     "text": [
      "Original set: {1, 2, 3, 4, 5}\n",
      "Popped element: 1\n",
      "Set after popping: {2, 3, 4, 5}\n"
     ]
    }
   ],
   "source": [
    "# Create a set with some elements\n",
    "my_set = {1, 2, 3, 4, 5}\n",
    "\n",
    "# Print the original set\n",
    "print(\"Original set:\", my_set)\n",
    "\n",
    "# Pop an element from the set using the pop() method\n",
    "popped_element = my_set.pop()\n",
    "\n",
    "# Print the element that was popped\n",
    "print(\"Popped element:\", popped_element)\n",
    "\n",
    "# Print the set after popping an element\n",
    "print(\"Set after popping:\", my_set)"
   ]
  },
  {
   "cell_type": "markdown",
   "id": "850a31ae-c21b-4247-aca3-8527cad343ef",
   "metadata": {},
   "source": [
    "### 18. Check if two sets have no elements in common."
   ]
  },
  {
   "cell_type": "code",
   "execution_count": 145,
   "id": "72062b05-1790-4fe1-9198-4813cfc92464",
   "metadata": {},
   "outputs": [
    {
     "name": "stdout",
     "output_type": "stream",
     "text": [
      "The two sets have no elements in common.\n"
     ]
    }
   ],
   "source": [
    "# Step 1: Define two sets\n",
    "set1 = {1, 2, 3, 4}\n",
    "set2 = {5, 6, 7, 8}\n",
    "\n",
    "# Step 2: Check if the intersection of the two sets is empty\n",
    "# The intersection is the set of elements that are common to both sets\n",
    "common_elements = set1.intersection(set2)\n",
    "\n",
    "# Step 3: Check if the common_elements set is empty\n",
    "if not common_elements:\n",
    "    print(\"The two sets have no elements in common.\")\n",
    "else:\n",
    "    print(\"The two sets have common elements:\", common_elements)"
   ]
  },
  {
   "cell_type": "markdown",
   "id": "39812448-ccd3-4c09-82c2-dfe95e7fcf80",
   "metadata": {},
   "source": [
    "### 19. Find the symmetric difference between two sets."
   ]
  },
  {
   "cell_type": "code",
   "execution_count": 146,
   "id": "efddf740-5fae-43de-b546-ba3b9457dd59",
   "metadata": {},
   "outputs": [
    {
     "name": "stdout",
     "output_type": "stream",
     "text": [
      "Symmetric Difference: {1, 2, 3, 6, 7, 8}\n"
     ]
    }
   ],
   "source": [
    "# Define two sets\n",
    "set1 = {1, 2, 3, 4, 5}\n",
    "set2 = {4, 5, 6, 7, 8}\n",
    "\n",
    "# Calculate the symmetric difference using the ^ operator\n",
    "symmetric_difference = set1 ^ set2\n",
    "\n",
    "# Print the symmetric difference\n",
    "print(\"Symmetric Difference:\", symmetric_difference)"
   ]
  },
  {
   "cell_type": "markdown",
   "id": "36524faa-7c4c-45fb-8176-546f2b1aa6c1",
   "metadata": {},
   "source": [
    "### 20. Update a set with elements from another set."
   ]
  },
  {
   "cell_type": "code",
   "execution_count": 147,
   "id": "37c8f5a6-9fd5-475c-b27b-47e7a5c96bfa",
   "metadata": {},
   "outputs": [
    {
     "name": "stdout",
     "output_type": "stream",
     "text": [
      "Set 1: {1, 2, 3}\n",
      "Set 2: {3, 4, 5}\n",
      "Updated Set 1: {1, 2, 3, 4, 5}\n"
     ]
    }
   ],
   "source": [
    "# Create the first set\n",
    "set1 = {1, 2, 3}\n",
    "print(\"Set 1:\", set1)\n",
    "\n",
    "# Create the second set\n",
    "set2 = {3, 4, 5}\n",
    "print(\"Set 2:\", set2)\n",
    "\n",
    "# Update set1 with elements from set2\n",
    "set1.update(set2)\n",
    "print(\"Updated Set 1:\", set1)"
   ]
  },
  {
   "cell_type": "markdown",
   "id": "5c778cf9-6557-42d7-b737-bd2c5495f28a",
   "metadata": {},
   "source": [
    "### 21. Create a set of the first 5 prime numbers."
   ]
  },
  {
   "cell_type": "code",
   "execution_count": 148,
   "id": "85ea4ab4-4e3f-4bc0-ae8f-6d5dafb76543",
   "metadata": {},
   "outputs": [
    {
     "name": "stdout",
     "output_type": "stream",
     "text": [
      "Set of the first 5 prime numbers: {2, 3, 5, 7, 11}\n"
     ]
    }
   ],
   "source": [
    "# Function to check if a number is prime\n",
    "def is_prime(num):\n",
    "    if num <= 1:\n",
    "        return False\n",
    "    for i in range(2, int(num ** 0.5) + 1):\n",
    "        if num % i == 0:\n",
    "            return False\n",
    "    return True\n",
    "\n",
    "# Create an empty set to store the prime numbers\n",
    "prime_set = set()\n",
    "\n",
    "# Initialize the number to start checking for primes\n",
    "num = 2\n",
    "\n",
    "# Loop until we have found the first 5 prime numbers\n",
    "while len(prime_set) < 5:\n",
    "    # Check if the current number is prime using the is_prime function\n",
    "    if is_prime(num):\n",
    "        # If the number is prime, add it to the prime_set\n",
    "        prime_set.add(num)\n",
    "\n",
    "    # Move on to the next number for the next iteration\n",
    "    num += 1\n",
    "\n",
    "# Print the set of prime numbers\n",
    "print(\"Set of the first 5 prime numbers:\", prime_set)"
   ]
  },
  {
   "cell_type": "markdown",
   "id": "b0f97772-ce91-4ee3-82c0-b664a3ecf40c",
   "metadata": {},
   "source": [
    "### 22. Check if two sets are identical."
   ]
  },
  {
   "cell_type": "code",
   "execution_count": 149,
   "id": "346fe93f-3571-457e-8138-f0c27caa9f0f",
   "metadata": {},
   "outputs": [
    {
     "name": "stdout",
     "output_type": "stream",
     "text": [
      "The sets are identical.\n"
     ]
    }
   ],
   "source": [
    "# Step 1: Define two sets\n",
    "set1 = {1, 2, 3, 4, 5}\n",
    "set2 = {3, 1, 5, 2, 4}  # The order of elements doesn't matter in sets\n",
    "\n",
    "# Step 2: Check if the sets are identical using the `==` operator\n",
    "# Sets are unordered collections, so the order of elements doesn't matter.\n",
    "# The `==` operator compares the content of the sets.\n",
    "if set1 == set2:\n",
    "    print(\"The sets are identical.\")\n",
    "else:\n",
    "    print(\"The sets are not identical.\")\n",
    "    "
   ]
  },
  {
   "cell_type": "markdown",
   "id": "754c0f9e-9cf8-4d83-b435-56d6a9b997c6",
   "metadata": {},
   "source": [
    "### 23. Create a frozen set23. Create a frozen set"
   ]
  },
  {
   "cell_type": "code",
   "execution_count": 150,
   "id": "df67ab0a-2abf-4f5a-b51a-503a8b3e97f4",
   "metadata": {},
   "outputs": [
    {
     "name": "stdout",
     "output_type": "stream",
     "text": [
      "Frozen Set: frozenset({1, 2, 3, 4, 5})\n"
     ]
    }
   ],
   "source": [
    "# Step 2: Define a list of elements that you want to include in the frozen set\n",
    "elements = [1, 2, 3, 4, 5]\n",
    "\n",
    "# Step 3: Create a frozen set using the 'frozenset' constructor and passing the list of elements\n",
    "my_frozen_set = frozenset(elements)\n",
    "\n",
    "# Step 4: Print the frozen set\n",
    "print(\"Frozen Set:\", my_frozen_set)"
   ]
  },
  {
   "cell_type": "markdown",
   "id": "50d9d156-825e-4022-8e24-1c1075b199d4",
   "metadata": {},
   "source": [
    "### 24. Check if a set is disjoint with another set."
   ]
  },
  {
   "cell_type": "code",
   "execution_count": 151,
   "id": "942ee55b-80d3-454d-a4f1-ee7bf9f4ab01",
   "metadata": {},
   "outputs": [
    {
     "name": "stdout",
     "output_type": "stream",
     "text": [
      "Are the sets disjoint? True\n"
     ]
    }
   ],
   "source": [
    "# Step 1: Define the two sets you want to check for disjointness\n",
    "set1 = {1, 2, 3, 4}\n",
    "set2 = {5, 6, 7, 8}\n",
    "\n",
    "# Step 2: Use the `isdisjoint()` method to check if the sets are disjoint\n",
    "# The `isdisjoint()` method returns True if the sets have no common elements,\n",
    "# and False if they have at least one common element.\n",
    "disjoint_status = set1.isdisjoint(set2)\n",
    "\n",
    "# Step 3: Print the result\n",
    "print(\"Are the sets disjoint?\", disjoint_status)"
   ]
  },
  {
   "cell_type": "markdown",
   "id": "d6d8031b-a851-4dc7-bbd3-6bfebf36e345",
   "metadata": {},
   "source": [
    "### 25. Create a set of squares of numbers from 1 to 5."
   ]
  },
  {
   "cell_type": "code",
   "execution_count": 152,
   "id": "31a583e5-6fbf-4dac-be44-52d81123d3ec",
   "metadata": {},
   "outputs": [
    {
     "name": "stdout",
     "output_type": "stream",
     "text": [
      "{1, 4, 9, 16, 25}\n"
     ]
    }
   ],
   "source": [
    "# Step 1: Create an empty set to store the squares of numbers\n",
    "squares_set = set()\n",
    "\n",
    "# Step 2: Use a loop to iterate through numbers from 1 to 5\n",
    "for num in range(1, 6):\n",
    "    # Step 3: Calculate the square of the current number\n",
    "    square = num ** 2\n",
    "\n",
    "    # Step 4: Add the square to the set\n",
    "    squares_set.add(square)\n",
    "\n",
    "# Step 5: Print the set of squares\n",
    "print(squares_set)"
   ]
  },
  {
   "cell_type": "markdown",
   "id": "965adc85-2f37-4a7f-a34e-58863be3b105",
   "metadata": {},
   "source": [
    "### 26. Filter out all even numbers from a set."
   ]
  },
  {
   "cell_type": "code",
   "execution_count": 154,
   "id": "20d63b61-d2cf-40fd-a49c-81236da0f2a4",
   "metadata": {},
   "outputs": [
    {
     "name": "stdout",
     "output_type": "stream",
     "text": [
      "Original Set: {1, 2, 3, 4, 5}\n",
      "Even Numbers Set: {2, 4}\n"
     ]
    }
   ],
   "source": [
    "# Step 1: Create a set with integers from 1 to 5\n",
    "original_set = {1, 2, 3, 4, 5}\n",
    "\n",
    "# Step 2: Initialize an empty set to store the filtered even numbers\n",
    "even_numbers_set = set()\n",
    "\n",
    "# Step 3: Iterate through each element in the original set\n",
    "for num in original_set:\n",
    "    # Step 4: Check if the current number is even (divisible by 2)\n",
    "    if num % 2 == 0:\n",
    "        # Step 5: If even, add it to the even_numbers_set\n",
    "        even_numbers_set.add(num)\n",
    "\n",
    "# Step 6: Print the original set and the set containing even numbers\n",
    "print(\"Original Set:\", original_set)\n",
    "print(\"Even Numbers Set:\", even_numbers_set)"
   ]
  },
  {
   "cell_type": "markdown",
   "id": "a91ba1b9-06b5-429a-a106-d7e9645abcac",
   "metadata": {},
   "source": [
    "### 27. Multiply all elements in a set by 2."
   ]
  },
  {
   "cell_type": "code",
   "execution_count": 155,
   "id": "3aa9a3bb-2190-40c8-b9b8-0a1ed8c343a2",
   "metadata": {},
   "outputs": [
    {
     "name": "stdout",
     "output_type": "stream",
     "text": [
      "Original Set: {1, 2, 3, 4, 5}\n",
      "Multiplied Set: {2, 4, 6, 8, 10}\n"
     ]
    }
   ],
   "source": [
    "# Create a set with integers from 1 to 5\n",
    "original_set = {1, 2, 3, 4, 5}\n",
    "\n",
    "# Initialize an empty set to store the multiplied elements\n",
    "multiplied_set = set()\n",
    "\n",
    "# Loop through each element in the original set\n",
    "for num in original_set:\n",
    "    # Multiply the current element by 2\n",
    "    multiplied_num = num * 2\n",
    "\n",
    "    # Add the multiplied element to the multiplied_set\n",
    "    multiplied_set.add(multiplied_num)\n",
    "\n",
    "# The original_set remains unchanged\n",
    "print(\"Original Set:\", original_set)\n",
    "\n",
    "# Display the set with elements multiplied by 2\n",
    "print(\"Multiplied Set:\", multiplied_set)"
   ]
  },
  {
   "cell_type": "markdown",
   "id": "98e01803-c45d-47ae-8116-210afde40b73",
   "metadata": {},
   "source": [
    "### 28. Create a set of random numbers."
   ]
  },
  {
   "cell_type": "code",
   "execution_count": 156,
   "id": "d34259ec-d768-424b-902d-ff8dcdc87a12",
   "metadata": {},
   "outputs": [
    {
     "name": "stdout",
     "output_type": "stream",
     "text": [
      "Generated set of random numbers: {34, 9, 10, 45, 57}\n"
     ]
    }
   ],
   "source": [
    "# Step 1: Import the `random` module to generate random numbers\n",
    "import random\n",
    "\n",
    "# Step 2: Define the number of random numbers you want in the set\n",
    "num_random_numbers = 5\n",
    "\n",
    "# Step 3: Initialize an empty set to store the random numbers\n",
    "random_number_set = set()\n",
    "\n",
    "# Step 4: Use a loop to generate random numbers and add them to the set\n",
    "for _ in range(num_random_numbers):\n",
    "    # Generate a random integer using the `randint` function from the `random` module\n",
    "    random_num = random.randint(1, 100)  # Generate a random number between 1 and 100\n",
    "    # Add the random number to the set\n",
    "    random_number_set.add(random_num)\n",
    "\n",
    "# Step 5: Print the generated set of random numbers\n",
    "print(\"Generated set of random numbers:\", random_number_set)"
   ]
  },
  {
   "cell_type": "markdown",
   "id": "a06d7caa-3648-40a0-becc-fe0d8836df1b",
   "metadata": {},
   "source": [
    "### 29. Check if a set is empty."
   ]
  },
  {
   "cell_type": "code",
   "execution_count": 157,
   "id": "2e1f5b38-eba6-4321-b295-ea5be109c8cb",
   "metadata": {},
   "outputs": [
    {
     "name": "stdout",
     "output_type": "stream",
     "text": [
      "The set is empty.\n"
     ]
    }
   ],
   "source": [
    "# Step 1: Create a set (you can replace this with your own set)\n",
    "my_set = set()\n",
    "\n",
    "# Step 2: Check if the set is empty using the 'if' statement\n",
    "if not my_set:\n",
    "    print(\"The set is empty.\")\n",
    "else:\n",
    "    print(\"The set is not empty.\")"
   ]
  },
  {
   "cell_type": "markdown",
   "id": "56347f28-8836-4637-b351-76ac7eb412db",
   "metadata": {},
   "source": [
    "### 30. Create a nested set (hint: use frozenset).\n"
   ]
  },
  {
   "cell_type": "code",
   "execution_count": 158,
   "id": "5093994d-33ea-479e-86ef-7f4d19a5494d",
   "metadata": {},
   "outputs": [
    {
     "name": "stdout",
     "output_type": "stream",
     "text": [
      "Nested Set: {frozenset({1, 2, 3, 4, 5}), frozenset({6, 7, 8, 9, 10})}\n"
     ]
    }
   ],
   "source": [
    "# Step 1: Create the inner sets\n",
    "set1 = {1, 2, 3, 4, 5}\n",
    "set2 = {6, 7, 8, 9, 10}\n",
    "\n",
    "# Step 2: Create frozensets from the inner sets\n",
    "frozen_set1 = frozenset(set1)\n",
    "frozen_set2 = frozenset(set2)\n",
    "\n",
    "# Step 3: Create the nested set using the frozensets\n",
    "nested_set = {frozen_set1, frozen_set2}\n",
    "\n",
    "# Print the nested set\n",
    "print(\"Nested Set:\", nested_set)"
   ]
  },
  {
   "cell_type": "markdown",
   "id": "8cf0e1e4-22fe-4efd-a374-7783f37d8bab",
   "metadata": {},
   "source": [
    "### 31. Remove an element from a set using the discard method."
   ]
  },
  {
   "cell_type": "code",
   "execution_count": 159,
   "id": "7f79fea0-045d-44bc-8da8-481e5c8662ac",
   "metadata": {},
   "outputs": [
    {
     "name": "stdout",
     "output_type": "stream",
     "text": [
      "Initial set: {1, 2, 3, 4, 5}\n",
      "Set after removing 3 : {1, 2, 4, 5}\n"
     ]
    }
   ],
   "source": [
    "# Create a set with some elements\n",
    "my_set = {1, 2, 3, 4, 5}\n",
    "\n",
    "# Display the initial set\n",
    "print(\"Initial set:\", my_set)\n",
    "\n",
    "# Define the element to be removed\n",
    "element_to_remove = 3\n",
    "\n",
    "# Use the discard() method to remove the element from the set\n",
    "# If the element is not present in the set, discard() won't raise an error\n",
    "my_set.discard(element_to_remove)\n",
    "\n",
    "# Display the set after removing the element\n",
    "print(\"Set after removing\", element_to_remove, \":\", my_set)"
   ]
  },
  {
   "cell_type": "markdown",
   "id": "5e1c33fd-1dee-472c-b35a-5ece3a31e1a1",
   "metadata": {},
   "source": [
    "### 32. Compare two sets."
   ]
  },
  {
   "cell_type": "code",
   "execution_count": 160,
   "id": "4c68d89e-294a-42cc-be74-b4604facf9d6",
   "metadata": {},
   "outputs": [
    {
     "name": "stdout",
     "output_type": "stream",
     "text": [
      "Set 1: {1, 2, 3, 4, 5}\n",
      "Set 2: {4, 5, 6, 7, 8}\n",
      "Is set1 a subset of set2? False\n",
      "Is set2 a subset of set1? False\n",
      "Intersection: {4, 5}\n",
      "Union: {1, 2, 3, 4, 5, 6, 7, 8}\n",
      "Elements in set1 but not in set2: {1, 2, 3}\n",
      "Elements in set2 but not in set1: {8, 6, 7}\n"
     ]
    }
   ],
   "source": [
    "# Step 1: Define two sets\n",
    "set1 = {1, 2, 3, 4, 5}\n",
    "set2 = {4, 5, 6, 7, 8}\n",
    "\n",
    "# Step 2: Use set operations to compare the sets\n",
    "# Check if set1 is a subset of set2\n",
    "is_subset = set1.issubset(set2)\n",
    "\n",
    "# Check if set2 is a subset of set1\n",
    "is_superset = set1.issuperset(set2)\n",
    "\n",
    "# Find the intersection of the sets\n",
    "intersection = set1.intersection(set2)\n",
    "\n",
    "# Find the union of the sets\n",
    "union = set1.union(set2)\n",
    "\n",
    "# Find the elements that are in set1 but not in set2\n",
    "difference1 = set1.difference(set2)\n",
    "\n",
    "# Find the elements that are in set2 but not in set1\n",
    "difference2 = set2.difference(set1)\n",
    "\n",
    "# Step 3: Print the results\n",
    "print(\"Set 1:\", set1)\n",
    "print(\"Set 2:\", set2)\n",
    "print(\"Is set1 a subset of set2?\", is_subset)\n",
    "print(\"Is set2 a subset of set1?\", is_superset)\n",
    "print(\"Intersection:\", intersection)\n",
    "print(\"Union:\", union)\n",
    "print(\"Elements in set1 but not in set2:\", difference1)\n",
    "print(\"Elements in set2 but not in set1:\", difference2)"
   ]
  },
  {
   "cell_type": "markdown",
   "id": "9ba5772a-377a-4382-873e-1d95ba4a9e63",
   "metadata": {},
   "source": [
    "### 33. Create a set from a string."
   ]
  },
  {
   "cell_type": "code",
   "execution_count": 161,
   "id": "7e507cc5-2757-4921-aa98-cf5c3bf19ce0",
   "metadata": {},
   "outputs": [
    {
     "name": "stdout",
     "output_type": "stream",
     "text": [
      "{'e', 'l', 'o', 'h'}\n"
     ]
    }
   ],
   "source": [
    "# Step 1: Define the input string\n",
    "input_string = \"hello\"\n",
    "\n",
    "# Step 2: Use the set() constructor to create a set from the characters in the string\n",
    "char_set = set(input_string)\n",
    "\n",
    "# Step 3: Print the resulting set\n",
    "print(char_set)"
   ]
  },
  {
   "cell_type": "markdown",
   "id": "ded657ad-e14f-4582-9182-44b69955cf45",
   "metadata": {},
   "source": [
    "### 34. Convert a set of strings to a set of integers."
   ]
  },
  {
   "cell_type": "code",
   "execution_count": 162,
   "id": "8e38e532-2434-476e-9436-fe463820914b",
   "metadata": {},
   "outputs": [
    {
     "name": "stdout",
     "output_type": "stream",
     "text": [
      "Original String Set: {'123', '456', '789'}\n",
      "Converted Integer Set: {456, 123, 789}\n"
     ]
    }
   ],
   "source": [
    "# Step 1: Create a set of strings\n",
    "string_set = {\"123\", \"456\", \"789\"}\n",
    "\n",
    "# Step 2: Initialize an empty set to store integers\n",
    "integer_set = set()\n",
    "\n",
    "# Step 3: Iterate through each string in the string set\n",
    "for string in string_set:\n",
    "    # Step 4: Convert the string to an integer using the int() function\n",
    "    integer_value = int(string)\n",
    "\n",
    "    # Step 5: Add the integer to the integer set\n",
    "    integer_set.add(integer_value)\n",
    "\n",
    "# Step 6: Print the original string set and the converted integer set\n",
    "print(\"Original String Set:\", string_set)\n",
    "print(\"Converted Integer Set:\", integer_set)"
   ]
  },
  {
   "cell_type": "markdown",
   "id": "6b738e53-41c3-4ff5-ba73-05b3defa1731",
   "metadata": {},
   "source": [
    "### 35. Convert a set of integers to a set of strings."
   ]
  },
  {
   "cell_type": "code",
   "execution_count": 163,
   "id": "0c2356fd-6462-4050-85d1-25d171098859",
   "metadata": {},
   "outputs": [
    {
     "name": "stdout",
     "output_type": "stream",
     "text": [
      "Original integers_set: {1, 2, 3, 4, 5}\n",
      "Converted strings_set: {'2', '5', '4', '3', '1'}\n"
     ]
    }
   ],
   "source": [
    "# Step 1: Create a set of integers\n",
    "integers_set = {1, 2, 3, 4, 5}\n",
    "\n",
    "# Step 2: Initialize an empty set to store the strings\n",
    "strings_set = set()\n",
    "\n",
    "# Step 3: Iterate through each integer in the integers_set\n",
    "for num in integers_set:\n",
    "    # Step 4: Convert the integer to a string using the str() function\n",
    "    num_str = str(num)\n",
    "\n",
    "    # Step 5: Add the string representation to the strings_set\n",
    "    strings_set.add(num_str)\n",
    "\n",
    "# Step 6: Print the original integers_set and the converted strings_set\n",
    "print(\"Original integers_set:\", integers_set)\n",
    "print(\"Converted strings_set:\", strings_set)"
   ]
  },
  {
   "cell_type": "markdown",
   "id": "cdcd2cff-83b8-4dc5-ba38-13cb8cf28911",
   "metadata": {},
   "source": [
    "### 36. Create a set from a tuple."
   ]
  },
  {
   "cell_type": "code",
   "execution_count": 164,
   "id": "3c109017-12cb-4bb6-b1a3-8bef5263d139",
   "metadata": {},
   "outputs": [
    {
     "name": "stdout",
     "output_type": "stream",
     "text": [
      "{1, 2, 3, 4, 5}\n"
     ]
    }
   ],
   "source": [
    "# Given tuple\n",
    "input_tuple = (1, 2, 3, 2, 4, 5, 1)\n",
    "\n",
    "# Step 1: Convert the tuple to a set\n",
    "output_set = set(input_tuple)\n",
    "# At this point, the set() function is used to convert the elements of the tuple into a set.\n",
    "# Since sets only contain unique elements, duplicate values are automatically removed.\n",
    "\n",
    "# Step 2: Print the resulting set\n",
    "print(output_set)\n",
    "# The set is now printed, and it will only contain the unique elements from the original tuple."
   ]
  },
  {
   "cell_type": "markdown",
   "id": "70ed45fa-246f-46cd-a65b-491ba5fab3b3",
   "metadata": {},
   "source": [
    "### 37. Convert a set to a tuple."
   ]
  },
  {
   "cell_type": "code",
   "execution_count": 165,
   "id": "52cb3470-e5f0-4215-a5e1-118b08570516",
   "metadata": {},
   "outputs": [
    {
     "name": "stdout",
     "output_type": "stream",
     "text": [
      "Original set: {1, 2, 3, 4, 5}\n",
      "Converted tuple: (1, 2, 3, 4, 5)\n"
     ]
    }
   ],
   "source": [
    "# Step 1: Create a set\n",
    "input_set = {1, 2, 3, 4, 5}\n",
    "\n",
    "# Step 2: Convert the set to a tuple\n",
    "output_tuple = tuple(input_set)\n",
    "\n",
    "# Step 3: Print the original set and the converted tuple\n",
    "print(\"Original set:\", input_set)\n",
    "print(\"Converted tuple:\", output_tuple)"
   ]
  },
  {
   "cell_type": "markdown",
   "id": "f7bd83e3-8b00-49af-a4de-a0e8c4b7d64e",
   "metadata": {},
   "source": [
    "### 38. Find the maximum value in a set."
   ]
  },
  {
   "cell_type": "code",
   "execution_count": 166,
   "id": "148fe936-eb2e-44e8-850d-94e71d261260",
   "metadata": {},
   "outputs": [
    {
     "name": "stdout",
     "output_type": "stream",
     "text": [
      "Maximum value: 22\n"
     ]
    }
   ],
   "source": [
    "# Define a set with some values\n",
    "my_set = {15, 7, 22, 13, 8}\n",
    "\n",
    "# Initialize a variable to store the maximum value\n",
    "max_value = None\n",
    "\n",
    "# Iterate through each element in the set\n",
    "for num in my_set:\n",
    "    # Check if max_value is None (first iteration) or if the current number is greater than max_value\n",
    "    if max_value is None or num > max_value:\n",
    "        max_value = num  # Update max_value with the current number if it's greater\n",
    "\n",
    "# Print the maximum value\n",
    "print(\"Maximum value:\", max_value)"
   ]
  },
  {
   "cell_type": "markdown",
   "id": "3019fc2f-3d6d-47d2-b429-9c2d36851312",
   "metadata": {},
   "source": [
    "### 39. Find the minimum value in a set."
   ]
  },
  {
   "cell_type": "code",
   "execution_count": 167,
   "id": "ce3394e6-2325-41d7-8ba1-198f2660a099",
   "metadata": {},
   "outputs": [
    {
     "name": "stdout",
     "output_type": "stream",
     "text": [
      "The minimum value in the set is: 4\n"
     ]
    }
   ],
   "source": [
    "# Create a sample set of numbers\n",
    "number_set = {15, 8, 23, 4, 42, 11}\n",
    "\n",
    "# Initialize a variable to store the minimum value\n",
    "min_value = None\n",
    "\n",
    "# Iterate through each element in the set\n",
    "for num in number_set:\n",
    "    # Check if min_value is None (first iteration) or if num is smaller than the current min_value\n",
    "    if min_value is None or num < min_value:\n",
    "        # Update min_value to the current num since it's smaller\n",
    "        min_value = num\n",
    "\n",
    "# Print the minimum value found in the set\n",
    "print(\"The minimum value in the set is:\", min_value)"
   ]
  },
  {
   "cell_type": "markdown",
   "id": "f08ccbd4-43da-47c6-b1ad-e9c9def89480",
   "metadata": {},
   "source": [
    "### 40. Create a set from user input."
   ]
  },
  {
   "cell_type": "code",
   "execution_count": 168,
   "id": "70323d68-b011-4909-938d-51d9ad439a86",
   "metadata": {},
   "outputs": [
    {
     "name": "stdout",
     "output_type": "stream",
     "text": [
      "Enter elements for the set (type 'done' to finish):\n"
     ]
    },
    {
     "name": "stdin",
     "output_type": "stream",
     "text": [
      ">  done\n"
     ]
    },
    {
     "name": "stdout",
     "output_type": "stream",
     "text": [
      "Final set: set()\n"
     ]
    }
   ],
   "source": [
    "# Step 1: Initialize an empty set\n",
    "user_set = set()\n",
    "\n",
    "# Step 2: Get input from the user\n",
    "print(\"Enter elements for the set (type 'done' to finish):\")\n",
    "while True:\n",
    "    user_input = input(\"> \")  # Get input from the user\n",
    "\n",
    "    if user_input.lower() == 'done':\n",
    "        break  # Exit the loop if the user enters 'done'\n",
    "\n",
    "    # Step 3: Add the user input to the set\n",
    "    user_set.add(user_input)\n",
    "\n",
    "# Step 4: Display the final set created from user input\n",
    "print(\"Final set:\", user_set)\n"
   ]
  },
  {
   "cell_type": "markdown",
   "id": "b6fa55ae-9d5e-44b2-8dc3-eb323966f93c",
   "metadata": {},
   "source": [
    "### 41. Check if the intersection of two sets is empty."
   ]
  },
  {
   "cell_type": "code",
   "execution_count": 169,
   "id": "781ae559-7878-450a-bc3a-cdd8327e734c",
   "metadata": {},
   "outputs": [
    {
     "name": "stdout",
     "output_type": "stream",
     "text": [
      "The intersection of the two sets is not empty.\n"
     ]
    }
   ],
   "source": [
    "# Step 1: Define two sets\n",
    "set1 = {1, 2, 3, 4, 5}\n",
    "set2 = {4, 5, 6, 7, 8}\n",
    "\n",
    "# Step 2: Find the intersection of the two sets using the `intersection()` method\n",
    "intersection_result = set1.intersection(set2)\n",
    "\n",
    "# Step 3: Check if the intersection result is empty\n",
    "if not intersection_result:\n",
    "    print(\"The intersection of the two sets is empty.\")\n",
    "else:\n",
    "    print(\"The intersection of the two sets is not empty.\")"
   ]
  },
  {
   "cell_type": "markdown",
   "id": "3a0f3665-0838-43b1-88fe-c9489fcec94e",
   "metadata": {},
   "source": [
    "### 42. Create a set of the first 5 Fibonacci numbers."
   ]
  },
  {
   "cell_type": "code",
   "execution_count": 170,
   "id": "edd29078-a628-4d87-bd29-9ff64055d966",
   "metadata": {},
   "outputs": [
    {
     "name": "stdout",
     "output_type": "stream",
     "text": [
      "Set of the first 5 Fibonacci numbers: {0, 1, 2, 3, 5}\n"
     ]
    }
   ],
   "source": [
    "# Create a set to store the first 5 Fibonacci numbers\n",
    "fibonacci_set = set()\n",
    "\n",
    "# Initialize the first two Fibonacci numbers\n",
    "a, b = 0, 1\n",
    "\n",
    "# Loop to generate the first 5 Fibonacci numbers\n",
    "for _ in range(6):\n",
    "    # Add the current Fibonacci number to the set\n",
    "    fibonacci_set.add(a)\n",
    "\n",
    "    # Calculate the next Fibonacci number\n",
    "    a, b = b, a + b\n",
    "\n",
    "# Print the set of Fibonacci numbers\n",
    "print(\"Set of the first 5 Fibonacci numbers:\", fibonacci_set)"
   ]
  },
  {
   "cell_type": "markdown",
   "id": "688b04d7-ef9f-464d-bb1f-4be6c00feb6b",
   "metadata": {},
   "source": [
    "### 43. Remove duplicates from a list using sets."
   ]
  },
  {
   "cell_type": "code",
   "execution_count": 171,
   "id": "a56f17e2-309f-4052-97c5-f15924ab292b",
   "metadata": {},
   "outputs": [
    {
     "name": "stdout",
     "output_type": "stream",
     "text": [
      "Original List: [2, 4, 6, 8, 4, 10, 6, 12, 14, 8]\n",
      "List with Duplicates Removed: [2, 4, 6, 8, 10, 12, 14]\n"
     ]
    }
   ],
   "source": [
    "# Step 1: Define a list with duplicates\n",
    "original_list = [2, 4, 6, 8, 4, 10, 6, 12, 14, 8]\n",
    "\n",
    "# Step 2: Convert the list to a set\n",
    "unique_set = set(original_list)\n",
    "# Now, 'unique_set' contains only unique elements from 'original_list'\n",
    "\n",
    "# Step 3: Convert the set back to a list\n",
    "unique_list = list(unique_set)\n",
    "# Now, 'unique_list' is a list containing only unique elements\n",
    "\n",
    "# Step 4: Print the original list and the list with duplicates removed\n",
    "print(\"Original List:\", original_list)\n",
    "print(\"List with Duplicates Removed:\", unique_list)"
   ]
  },
  {
   "cell_type": "markdown",
   "id": "5f50883d-b3d6-406b-8604-5d41d65e99b2",
   "metadata": {},
   "source": [
    "### 44. Check if two sets have the same elements, regardless of their count."
   ]
  },
  {
   "cell_type": "code",
   "execution_count": 172,
   "id": "4c3de91c-11ff-4542-913b-5acfdefbbb88",
   "metadata": {},
   "outputs": [
    {
     "name": "stdout",
     "output_type": "stream",
     "text": [
      "The sets have the same elements.\n"
     ]
    }
   ],
   "source": [
    "def have_same_elements(set1, set2):\n",
    "    # Convert the sets to lists and sort them\n",
    "    sorted_list1 = sorted(list(set1))\n",
    "    sorted_list2 = sorted(list(set2))\n",
    "\n",
    "    # Compare the sorted lists to check if they are equal\n",
    "    return sorted_list1 == sorted_list2\n",
    "\n",
    "# Example sets\n",
    "set1 = {1, 2, 3, 2, 1}\n",
    "set2 = {3, 1, 2}\n",
    "\n",
    "# Check if the sets have the same elements\n",
    "result = have_same_elements(set1, set2)\n",
    "\n",
    "# Print the result\n",
    "if result:\n",
    "    print(\"The sets have the same elements.\")\n",
    "else:\n",
    "    print(\"The sets do not have the same elements.\")"
   ]
  },
  {
   "cell_type": "markdown",
   "id": "e17903a5-8576-4a7f-9d67-a3e177fccb61",
   "metadata": {},
   "source": [
    "\n",
    "\n",
    "\n",
    "### 45. Create a set of the first n powers of 2"
   ]
  },
  {
   "cell_type": "code",
   "execution_count": 173,
   "id": "14113c20-4f2f-4964-9dc3-5d7b528e9bb2",
   "metadata": {},
   "outputs": [
    {
     "name": "stdout",
     "output_type": "stream",
     "text": [
      "{1, 2, 4, 8, 16}\n"
     ]
    }
   ],
   "source": [
    "def generate_powers_of_2(n):\n",
    "    # Initialize an empty set to store the powers of 2\n",
    "    powers_of_2 = set()\n",
    "\n",
    "    # Loop from 0 to n-1\n",
    "    for i in range(n):\n",
    "        # Calculate the current power of 2 using the exponentiation operator **\n",
    "        power = 2 ** i\n",
    "\n",
    "        # Add the current power of 2 to the set\n",
    "        powers_of_2.add(power)\n",
    "\n",
    "    # Return the set of powers of 2\n",
    "    return powers_of_2\n",
    "\n",
    "# Define the value of n\n",
    "n = 5\n",
    "\n",
    "# Call the function to generate the set of powers of 2\n",
    "powers_set = generate_powers_of_2(n)\n",
    "\n",
    "# Print the resulting set\n",
    "print(powers_set)"
   ]
  },
  {
   "cell_type": "markdown",
   "id": "7716c5a3-1874-4965-993a-f759bd229e13",
   "metadata": {},
   "source": [
    "### 46. Find the common elements between a set and a list."
   ]
  },
  {
   "cell_type": "code",
   "execution_count": 174,
   "id": "54e20af4-751b-4d48-b022-2d912b478f87",
   "metadata": {},
   "outputs": [
    {
     "name": "stdout",
     "output_type": "stream",
     "text": [
      "Common elements: [7, 9, 12]\n"
     ]
    }
   ],
   "source": [
    "# Step 1: Define a set and a list\n",
    "my_set = {3, 7, 9, 12, 15}\n",
    "my_list = [7, 12, 5, 9]\n",
    "\n",
    "# Step 2: Convert the list to a set for efficient comparison\n",
    "list_to_set = set(my_list)\n",
    "\n",
    "# Step 3: Initialize an empty list to store common elements\n",
    "common_elements = []\n",
    "\n",
    "# Step 4: Iterate through the elements in the set\n",
    "for element in my_set:\n",
    "    # Step 5: Check if the element is present in the converted set (list_to_set)\n",
    "    if element in list_to_set:\n",
    "        # Step 6: If the element is present in both the set and the list, add it to the common_elements list\n",
    "        common_elements.append(element)\n",
    "\n",
    "# Step 7: Print the common elements\n",
    "print(\"Common elements:\", common_elements)"
   ]
  },
  {
   "cell_type": "markdown",
   "id": "9f555984-672e-4b61-b5ef-3e7ff9da76fe",
   "metadata": {},
   "source": [
    "### 47. Create a set of the first n triangular numbers.:"
   ]
  },
  {
   "cell_type": "code",
   "execution_count": 175,
   "id": "8880ff2c-572c-42ea-bb37-e0e6d219f62a",
   "metadata": {},
   "outputs": [
    {
     "name": "stdin",
     "output_type": "stream",
     "text": [
      "Enter the value of n:  18\n"
     ]
    },
    {
     "name": "stdout",
     "output_type": "stream",
     "text": [
      "The set of the first 18 triangular numbers is: {1, 66, 3, 36, 6, 136, 105, 10, 171, 45, 78, 15, 21, 55, 120, 153, 91, 28}\n"
     ]
    }
   ],
   "source": [
    "def generate_triangular_numbers(n):\n",
    "    triangular_numbers = set()  # Create an empty set to store the triangular numbers\n",
    "    for i in range(1, n + 1):\n",
    "        triangular_number = i * (i + 1) // 2  # Calculate the ith triangular number using the formula\n",
    "        triangular_numbers.add(triangular_number)  # Add the calculated triangular number to the set\n",
    "    return triangular_numbers\n",
    "\n",
    "# Input the value of 'n'\n",
    "n = int(input(\"Enter the value of n: \"))\n",
    "\n",
    "# Call the function to generate the set of first 'n' triangular numbers\n",
    "triangular_set = generate_triangular_numbers(n)\n",
    "\n",
    "# Display the set of triangular numbers\n",
    "print(f\"The set of the first {n} triangular numbers is:\", triangular_set)"
   ]
  },
  {
   "cell_type": "markdown",
   "id": "424db5c6-7032-4ed9-9867-99931a7bf6e6",
   "metadata": {},
   "source": [
    "### 48. Check if a set contains another set as a subset."
   ]
  },
  {
   "cell_type": "code",
   "execution_count": 176,
   "id": "a84cf2e1-8727-4490-affd-b66790cfcf36",
   "metadata": {},
   "outputs": [
    {
     "name": "stdout",
     "output_type": "stream",
     "text": [
      "set2 is a subset of set1\n"
     ]
    }
   ],
   "source": [
    "# Define two sets\n",
    "set1 = {1, 2, 3, 4, 5}\n",
    "set2 = {3, 4}\n",
    "\n",
    "# Check if set2 is a subset of set1\n",
    "is_subset = set2.issubset(set1)\n",
    "\n",
    "# Print the result\n",
    "if is_subset:\n",
    "    print(\"set2 is a subset of set1\")\n",
    "else:\n",
    "    print(\"set2 is not a subset of set1\")"
   ]
  },
  {
   "cell_type": "markdown",
   "id": "1de4705b-2b20-4a96-b65a-c85de8b9d169",
   "metadata": {},
   "source": [
    "### 49. Create a set of alternating 1s and 0s of length n."
   ]
  },
  {
   "cell_type": "code",
   "execution_count": 177,
   "id": "557ab895-2aa7-4e79-9dd9-3a0795e488d9",
   "metadata": {},
   "outputs": [
    {
     "name": "stdout",
     "output_type": "stream",
     "text": [
      "{0, 1}\n"
     ]
    }
   ],
   "source": [
    "def create_alternating_set(n):\n",
    "    # Initialize an empty set to store the alternating sequence.\n",
    "    alternating_set = set()\n",
    "\n",
    "    # Loop to generate alternating 1s and 0s.\n",
    "    for i in range(n):\n",
    "        # Alternate between adding 1 and 0 to the set based on whether i is even or odd.\n",
    "        if i % 2 == 0:\n",
    "            alternating_set.add(1)  # Add 1 if i is even.\n",
    "        else:\n",
    "            alternating_set.add(0)  # Add 0 if i is odd.\n",
    "\n",
    "    return alternating_set\n",
    "\n",
    "# Define the desired length of the alternating set.\n",
    "length_n = 10\n",
    "\n",
    "# Call the function to create the alternating set of length 'length_n'.\n",
    "result = create_alternating_set(length_n)\n",
    "\n",
    "# Print the resulting set.\n",
    "print(result)"
   ]
  },
  {
   "cell_type": "markdown",
   "id": "bfe53f99-9480-4a0b-8c2d-d806dbe898c8",
   "metadata": {},
   "source": [
    "### 50. Merge multiple sets into one."
   ]
  },
  {
   "cell_type": "code",
   "execution_count": 178,
   "id": "0d663a2c-e2ac-466c-a832-9bfca0b44513",
   "metadata": {},
   "outputs": [
    {
     "name": "stdout",
     "output_type": "stream",
     "text": [
      "Merged Set: {1, 2, 3, 4, 5, 6, 7}\n"
     ]
    }
   ],
   "source": [
    "# Step 1: Create multiple sets\n",
    "set1 = {1, 2, 3}\n",
    "set2 = {3, 4, 5}\n",
    "set3 = {5, 6, 7}\n",
    "\n",
    "# Step 2: Use the union() method to merge sets\n",
    "merged_set = set1.union(set2, set3)\n",
    "\n",
    "# Alternatively, you can use the | operator\n",
    "# merged_set = set1 | set2 | set3\n",
    "\n",
    "# Step 3: Print the merged set\n",
    "print(\"Merged Set:\", merged_set)"
   ]
  },
  {
   "cell_type": "code",
   "execution_count": null,
   "id": "2b146f95-f583-4e9e-9487-7a8a64068c4a",
   "metadata": {},
   "outputs": [],
   "source": []
  }
 ],
 "metadata": {
  "kernelspec": {
   "display_name": "Python 3 (ipykernel)",
   "language": "python",
   "name": "python3"
  },
  "language_info": {
   "codemirror_mode": {
    "name": "ipython",
    "version": 3
   },
   "file_extension": ".py",
   "mimetype": "text/x-python",
   "name": "python",
   "nbconvert_exporter": "python",
   "pygments_lexer": "ipython3",
   "version": "3.10.8"
  }
 },
 "nbformat": 4,
 "nbformat_minor": 5
}
