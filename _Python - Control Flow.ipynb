{
 "cells": [
  {
   "cell_type": "markdown",
   "id": "adfbec21-e676-4d56-bee6-43b56cd2eb0b",
   "metadata": {},
   "source": [
    "# Basic If-Else Statements:"
   ]
  },
  {
   "cell_type": "markdown",
   "id": "08bba563-b09d-40c5-af5b-c2b7abb446b3",
   "metadata": {},
   "source": [
    "### 1. Write a Python program to check if a given number is positive or negative."
   ]
  },
  {
   "cell_type": "code",
   "execution_count": 4,
   "id": "c70c9424-3581-422d-8e99-28ccaa5234cc",
   "metadata": {},
   "outputs": [
    {
     "name": "stdin",
     "output_type": "stream",
     "text": [
      "Enter a number -1\n"
     ]
    },
    {
     "name": "stdout",
     "output_type": "stream",
     "text": [
      "The given number is negative\n"
     ]
    }
   ],
   "source": [
    "num=(int(input(\"Enter a number\"))) # Take a number from the user.\n",
    "if num>0: # check the condition if it is true then if block will executed. \n",
    "    print(\"The given number is positive\") \n",
    "else: # The condition is false else block will be executed. \n",
    "    print(\"The given number is negative\") # print the result."
   ]
  },
  {
   "cell_type": "markdown",
   "id": "4cdfad1f-463d-446e-8cb6-d65133b33ffc",
   "metadata": {},
   "source": [
    "### 2. Create a program that determines if a person is eligible to vote based on their age."
   ]
  },
  {
   "cell_type": "code",
   "execution_count": 5,
   "id": "675eebb0-5b49-48f8-a370-5953416d8916",
   "metadata": {},
   "outputs": [
    {
     "name": "stdin",
     "output_type": "stream",
     "text": [
      "Enter your age 18\n"
     ]
    },
    {
     "name": "stdout",
     "output_type": "stream",
     "text": [
      "Your are eligible to vote\n"
     ]
    }
   ],
   "source": [
    "age=int(input(\"Enter your age\")) # Take a age from the user.\n",
    "if age>=18: # Executed if it is true.\n",
    "    print(\"Your are eligible to vote\")\n",
    "else: # executed if it is true. \n",
    "    print(\"Your are not eligible to vote\") # print the result."
   ]
  },
  {
   "cell_type": "markdown",
   "id": "990dd767-99ba-4996-a00a-ba78501848f4",
   "metadata": {},
   "source": [
    "### 3. Develop a program to find the maximum of two numbers using if-else statements."
   ]
  },
  {
   "cell_type": "code",
   "execution_count": 7,
   "id": "b4dc1221-dc74-439d-9544-7863f5c9812b",
   "metadata": {},
   "outputs": [
    {
     "name": "stdout",
     "output_type": "stream",
     "text": [
      "The maximum number is num1\n"
     ]
    }
   ],
   "source": [
    "num1=55\n",
    "num2=26  # Take two numbers.\n",
    "if num1>num2: # using if statement to check the given condition. \n",
    "    print(\"The maximum number is num1\")\n",
    "else:\n",
    "    num1<num2  # using else statement to check the given condition. \n",
    "    print(\"The maximumnuber is num2\")  # print the result."
   ]
  },
  {
   "cell_type": "markdown",
   "id": "b48000e6-7b6b-4f81-b6a1-4d10ffdc516d",
   "metadata": {},
   "source": [
    "### 4. Write a Python script to classify a given year as a leap year or not."
   ]
  },
  {
   "cell_type": "code",
   "execution_count": 10,
   "id": "19d26c45-24ab-442a-a7c1-3233b9fc31cb",
   "metadata": {},
   "outputs": [
    {
     "name": "stdin",
     "output_type": "stream",
     "text": [
      "Enter a year: 2004\n"
     ]
    },
    {
     "name": "stdout",
     "output_type": "stream",
     "text": [
      "2004 is a leap year\n"
     ]
    }
   ],
   "source": [
    "year=int(input(\"Enter a year:\")) # Take a year from the user.\n",
    "if year%4==0 and year%100!=0: # executed if the given condition is true.\n",
    "         print(year,\"is a leap year\")\n",
    "else:\n",
    "         print(year,\" is not a leap year\") # print the result."
   ]
  },
  {
   "cell_type": "markdown",
   "id": "5582b85a-ded9-4c35-a602-c0d64d195f62",
   "metadata": {},
   "source": [
    "### 5. Create a program that checks whether a character is a vowel or a consonant."
   ]
  },
  {
   "cell_type": "code",
   "execution_count": 11,
   "id": "d6e1b1a8-f648-4224-b437-7f0f9222f80a",
   "metadata": {},
   "outputs": [
    {
     "name": "stdin",
     "output_type": "stream",
     "text": [
      "Enter the characters ramakrishna\n"
     ]
    },
    {
     "name": "stdout",
     "output_type": "stream",
     "text": [
      "ramakrishna is consonants\n"
     ]
    }
   ],
   "source": [
    "a=input(\"Enter the characters\") # Take a input from the user. \n",
    "if a=='a' or a=='e'or a=='i'or a=='o'or a=='u'or a=='A'or a=='E'or a=='I'or a=='O'or a=='U': # Executed if the character is vowel.\n",
    "    print(a,\"is vowels\")\n",
    "else:\n",
    "    print(a,\"is consonants\") # print the result."
   ]
  },
  {
   "cell_type": "markdown",
   "id": "39ee9541-ea9b-49e1-af5d-3fbca3217430",
   "metadata": {},
   "source": [
    "### 6. Implement a program to determine whether a given number is even or odd."
   ]
  },
  {
   "cell_type": "code",
   "execution_count": 16,
   "id": "46d817cc-6908-4eff-9012-b07921bab910",
   "metadata": {},
   "outputs": [
    {
     "name": "stdin",
     "output_type": "stream",
     "text": [
      "Enter the number 82\n"
     ]
    },
    {
     "name": "stdout",
     "output_type": "stream",
     "text": [
      "82 is even number\n"
     ]
    }
   ],
   "source": [
    "b=int(input(\"Enter the number\")) # Take number from number.\n",
    "if b%2==0: # check the if condition.\n",
    "    print(b,\"is even number\") # print the result.\n",
    "else:\n",
    "    print(b,\"is odd number\")   "
   ]
  },
  {
   "cell_type": "markdown",
   "id": "8c532316-eaa2-4a26-8355-7a90a69b745b",
   "metadata": {},
   "source": [
    "### 7. Write a Python function to calculate the absolute value of a number without using the `abs()` function."
   ]
  },
  {
   "cell_type": "code",
   "execution_count": 18,
   "id": "c66e3fae-a949-406e-b9d9-412b183d4e7e",
   "metadata": {},
   "outputs": [
    {
     "name": "stdout",
     "output_type": "stream",
     "text": [
      "25\n",
      "55\n",
      "0\n"
     ]
    }
   ],
   "source": [
    "import math # import math from python library.\n",
    "def absolute_value(num): # Define user defined function.\n",
    "    if num>=0: # Using if condition.\n",
    "        return num\n",
    "    else:\n",
    "        return -num\n",
    "print(absolute_value(25)) # print the result.\n",
    "print(absolute_value(-55))\n",
    "print(absolute_value(0))"
   ]
  },
  {
   "cell_type": "markdown",
   "id": "51633600-91bb-4534-a7b0-765ed11d209f",
   "metadata": {},
   "source": [
    "### 8. Develop a program that determines the largest of three given numbers using if-else statements."
   ]
  },
  {
   "cell_type": "code",
   "execution_count": 21,
   "id": "9592d2e8-e03b-4c81-94c2-70e0804aeb51",
   "metadata": {},
   "outputs": [
    {
     "name": "stdout",
     "output_type": "stream",
     "text": [
      "The largest number is 100\n"
     ]
    }
   ],
   "source": [
    "num1=55\n",
    "num2=26  # Take three numbers.\n",
    "num3=100\n",
    "if num1>num2 and num1>num3: # using if statement to check the given condition. \n",
    "    print(\"The largest number is\",num1)\n",
    "elif num2>num1 and num2>num3:\n",
    "    print(\"The largest number is\",num2)\n",
    "else:  # using else statement to check the given condition. \n",
    "    print(\"The largest number is\",num3)  # print the result."
   ]
  },
  {
   "cell_type": "markdown",
   "id": "cbb08319-5b8e-4728-9ad6-35c3538968f8",
   "metadata": {},
   "source": [
    "### 9. Create a program that checks if a given string is a palindrome."
   ]
  },
  {
   "cell_type": "code",
   "execution_count": 22,
   "id": "15cbaa24-e751-43bc-8d6c-703db0eeebd1",
   "metadata": {},
   "outputs": [
    {
     "name": "stdin",
     "output_type": "stream",
     "text": [
      "Enter the values jamjam\n"
     ]
    },
    {
     "name": "stdout",
     "output_type": "stream",
     "text": [
      "it is not a palindrome\n"
     ]
    }
   ],
   "source": [
    "p=input(\"Enter the values\") # Take values from the user.\n",
    "if p==p[::-1]: # Using if statement to check the condition is true or false.\n",
    "    print('it is a palindrome')\n",
    "else: # Using else statement .\n",
    "    print('it is not a palindrome') # print the result."
   ]
  },
  {
   "cell_type": "markdown",
   "id": "e9e6e606-d471-4d8d-9b16-187e18cbdd4d",
   "metadata": {},
   "source": [
    "### 10. Write a Python program to calculate the grade based on a student's score."
   ]
  },
  {
   "cell_type": "code",
   "execution_count": 23,
   "id": "71bfe266-efce-46ea-b1ab-eae1ae6acd86",
   "metadata": {},
   "outputs": [
    {
     "name": "stdin",
     "output_type": "stream",
     "text": [
      "Enter the students score: 90\n"
     ]
    },
    {
     "name": "stdout",
     "output_type": "stream",
     "text": [
      "90  is A Grade\n"
     ]
    }
   ],
   "source": [
    "score=int(input(\"Enter the students score:\")) # Take score from the user. \n",
    "if score>=80 and score<=100: # Using if condition.\n",
    "    print(score,\" is A Grade\")\n",
    "elif score>=60 and score<80:\n",
    "    print(score,\"is B Grade\")\n",
    "elif score>=50 and score<60: # Using elif condition.\n",
    "    print(score,\"is C Grade\")\n",
    "else:\n",
    "    print(score,\"is D Grade\") # print the result."
   ]
  },
  {
   "cell_type": "markdown",
   "id": "8c29fba4-89c4-4471-ad6e-c0a71e3e620d",
   "metadata": {},
   "source": [
    "# Nested If-Else Statements:"
   ]
  },
  {
   "cell_type": "markdown",
   "id": "ab6abe02-f043-434c-824a-a3cecf29c6c0",
   "metadata": {},
   "source": [
    "### 11. Write a program to find the largest among three numbers using nested if-else statements."
   ]
  },
  {
   "cell_type": "code",
   "execution_count": 25,
   "id": "7a67f05f-2c76-446a-bd2f-812576bc01a4",
   "metadata": {},
   "outputs": [
    {
     "name": "stdout",
     "output_type": "stream",
     "text": [
      "The largest number is 79\n"
     ]
    }
   ],
   "source": [
    "num1=79\n",
    "num2=65  # Take three numbers.\n",
    "num3=10\n",
    "if num1>num2 and num1>num3: # using if statement to check the given condition. \n",
    "    print(\"The largest number is\",num1)\n",
    "elif num2>num1 and num2>num3:\n",
    "    print(\"The largest number is\",num2)\n",
    "else:  # using else statement to check the given condition. \n",
    "    print(\"The largest number is\",num3)  # print the result."
   ]
  },
  {
   "cell_type": "markdown",
   "id": "cd127373-298c-456c-aeab-945307de6f7d",
   "metadata": {},
   "source": [
    "### 12. Implement a program to determine if a triangle is equilateral, isosceles, or scalene."
   ]
  },
  {
   "cell_type": "code",
   "execution_count": 28,
   "id": "4d21891f-f76c-4cd8-948c-363481cb1f57",
   "metadata": {},
   "outputs": [
    {
     "name": "stdin",
     "output_type": "stream",
     "text": [
      "Enter x value: 7\n",
      "Enter y value: 8\n",
      "Enter z value: 9\n"
     ]
    },
    {
     "name": "stdout",
     "output_type": "stream",
     "text": [
      "Scalene Triangle\n"
     ]
    }
   ],
   "source": [
    "x=int(input(\"Enter x value:\"))\n",
    "y=int(input(\"Enter y value:\"))\n",
    "z=int(input(\"Enter z value:\")) # Take triangle values from the user. \n",
    "if x==y==z:\n",
    "    print(\"Equilateral Triangle\")\n",
    "elif x==y or y==z or z==x: # Using elif condition>\n",
    "    print(\"Isosceles Triangle\")\n",
    "else:\n",
    "    print(\"Scalene Triangle\") # print the result."
   ]
  },
  {
   "cell_type": "markdown",
   "id": "5d78f527-0220-48df-a021-eae258c0af3b",
   "metadata": {},
   "source": [
    "### 13. Develop a program that checks if a year is a leap year and also if it is a century year."
   ]
  },
  {
   "cell_type": "code",
   "execution_count": 3,
   "id": "3e75a1b6-345b-40dc-b064-701d5f253df9",
   "metadata": {},
   "outputs": [
    {
     "name": "stdin",
     "output_type": "stream",
     "text": [
      "Enter a year 2000\n"
     ]
    },
    {
     "name": "stdout",
     "output_type": "stream",
     "text": [
      "2000is a century year\n"
     ]
    }
   ],
   "source": [
    "year=int(input(\"Enter a year\")) # Take a input from the user.\n",
    "if year%4==0 and year%100!=0: # if condition is true print leap year.\n",
    "    print(f\"{year}is a leap year\")\n",
    "elif year%100==0: # using elif condition is true print century year \n",
    "    print(f\"{year}is a century year\")\n",
    "else: # else will be printed. \n",
    "    print(f\"{year} is not a leap year and not a century year\") "
   ]
  },
  {
   "cell_type": "markdown",
   "id": "8ba7a172-548b-4488-8300-3bc4798ca781",
   "metadata": {},
   "source": [
    "### 14. Write a Python script to determine if a number is positive, negative, or zero."
   ]
  },
  {
   "cell_type": "code",
   "execution_count": 8,
   "id": "698ab0f0-d4e2-4bee-83f4-bb3523f92316",
   "metadata": {},
   "outputs": [
    {
     "name": "stdin",
     "output_type": "stream",
     "text": [
      "Enter a number: 0\n"
     ]
    },
    {
     "name": "stdout",
     "output_type": "stream",
     "text": [
      "the number is a zero\n"
     ]
    }
   ],
   "source": [
    "num=int(input(\"Enter a number:\")) # Take input from the user. \n",
    "if num>0: # Using if condition for positive number.\n",
    "    print(f\"{num} is a positive number\")\n",
    "elif num<0: # Using elif for negative number.\n",
    "    print(f\"{num} is a negative number\")\n",
    "else: # using else for zero.\n",
    "    num==0\n",
    "    print(\"the number is a zero\")"
   ]
  },
  {
   "cell_type": "markdown",
   "id": "dce4a93e-7104-4196-b147-d045259bcbcc",
   "metadata": {},
   "source": [
    "### 15. Create a program to check if a person is a teenager (between 13 and 19 years old)."
   ]
  },
  {
   "cell_type": "code",
   "execution_count": 18,
   "id": "d79528b2-f1da-480f-af80-5009ce644cad",
   "metadata": {},
   "outputs": [
    {
     "name": "stdin",
     "output_type": "stream",
     "text": [
      "Enter person age: 19\n"
     ]
    },
    {
     "name": "stdout",
     "output_type": "stream",
     "text": [
      "A person is teenagar\n"
     ]
    }
   ],
   "source": [
    "x=int(input(\"Enter person age:\")) # Take a input from the user. \n",
    "if x>=13 and x<=19: # Using if condition executed if condition true.\n",
    "    print(\"A person is teenagar\")\n",
    "elif x>19 and x<=30:  # Using if condition executed elif condition true.\n",
    "    print(\"A person is a young adult\")\n",
    "else: # Using if condition executed else condition true.\n",
    "    x>65\n",
    "    print(\" A person is a old adult\")"
   ]
  },
  {
   "cell_type": "markdown",
   "id": "7680422a-a646-4bda-9365-5eb8bf49cff0",
   "metadata": {},
   "source": [
    "### 16. Develop a program that determines the type of angle based on its measure (acute, obtuse, or right)."
   ]
  },
  {
   "cell_type": "code",
   "execution_count": 20,
   "id": "ad593842-5b23-413e-b711-399d1c6c4730",
   "metadata": {},
   "outputs": [
    {
     "name": "stdin",
     "output_type": "stream",
     "text": [
      "Enter a angle 90\n"
     ]
    },
    {
     "name": "stdout",
     "output_type": "stream",
     "text": [
      "90 is a right angle\n"
     ]
    }
   ],
   "source": [
    "angle=int(input(\"Enter a angle\"))\n",
    "if angle>0 and angle<90:\n",
    "    print(f\"{angle} is a acute angle\")\n",
    "elif angle==90:\n",
    "    print(f\"{angle} is a right angle\")\n",
    "else:\n",
    "    angle>90 and angle<180\n",
    "    print(f\"{angle} is a obtuse angle\")    "
   ]
  },
  {
   "cell_type": "markdown",
   "id": "6a1bde9d-9ca4-41e7-813c-b49efe1515b6",
   "metadata": {},
   "source": [
    "### 17. Write a Python program to calculate the roots of a quadratic equation."
   ]
  },
  {
   "cell_type": "code",
   "execution_count": 6,
   "id": "0d11dd02-ea62-4d1f-8d90-1195d56e0542",
   "metadata": {},
   "outputs": [
    {
     "name": "stdin",
     "output_type": "stream",
     "text": [
      "Enter the coefficient 'a':  2\n",
      "Enter the coefficient 'b':  5\n",
      "Enter the coefficient 'c':  7\n"
     ]
    },
    {
     "name": "stdout",
     "output_type": "stream",
     "text": [
      "The roots are complex: -1.25 + 1.3919410907075054i and -1.25 - 1.3919410907075054i\n"
     ]
    }
   ],
   "source": [
    "import math\n",
    "                                                # Input coefficients a, b, and c from the user\n",
    "a = float(input(\"Enter the coefficient 'a': \"))\n",
    "b = float(input(\"Enter the coefficient 'b': \"))\n",
    "c = float(input(\"Enter the coefficient 'c': \"))\n",
    "                                                # Calculate the discriminant (D = b^2 - 4ac)\n",
    "D = b**2 - 4*a*c\n",
    "                                                # Check if the discriminant is positive, negative, or zero\n",
    "if D > 0:\n",
    "                                                # Two real and distinct roots\n",
    "    root1 = (-b + math.sqrt(D)) / (2*a)\n",
    "    root2 = (-b - math.sqrt(D)) / (2*a)\n",
    "    print(f\"The roots are real and distinct: {root1} and {root2}\")\n",
    "elif D == 0:\n",
    "                                                # One real root (repeated)\n",
    "    root = -b / (2*a)\n",
    "    print(f\"The root is real and repeated: {root}\")\n",
    "else:\n",
    "                                                # Complex roots\n",
    "    real_part = -b / (2*a)\n",
    "    imaginary_part = math.sqrt(abs(D)) / (2*a)\n",
    "    print(f\"The roots are complex: {real_part} + {imaginary_part}i and {real_part} - {imaginary_part}i\")"
   ]
  },
  {
   "cell_type": "markdown",
   "id": "8aa1c41a-db0a-4fd2-86e1-3a11ecc2598b",
   "metadata": {},
   "source": [
    "### 18. Implement a program to determine the day of the week based on a user-provided number (1 for Monday, 2 for Tuesday, etc.)."
   ]
  },
  {
   "cell_type": "code",
   "execution_count": 7,
   "id": "d76d8972-9a37-4262-b04b-00a69bcfa2eb",
   "metadata": {},
   "outputs": [
    {
     "name": "stdin",
     "output_type": "stream",
     "text": [
      "Enter a number (1 for Monday, 2 for Tuesday, etc.):  1\n"
     ]
    },
    {
     "name": "stdout",
     "output_type": "stream",
     "text": [
      "The day corresponding to 1 is Monday.\n"
     ]
    }
   ],
   "source": [
    "                                     # Get user input for the day number\n",
    "day_number = int(input(\"Enter a number (1 to 7): \"))\n",
    "                                     # Check the user input using nested if-else statements\n",
    "if day_number == 1:\n",
    "    day_name = \"Monday\"\n",
    "elif day_number == 2:\n",
    "    day_name = \"Tuesday\"\n",
    "elif day_number == 3:\n",
    "    day_name = \"Wednesday\"\n",
    "elif day_number == 4:\n",
    "    day_name = \"Thursday\"\n",
    "elif day_number == 5:\n",
    "    day_name = \"Friday\"\n",
    "elif day_number == 6:\n",
    "    day_name = \"Saturday\"\n",
    "elif day_number == 7:\n",
    "    day_name = \"Sunday\"\n",
    "else:\n",
    "    day_name = \"Invalid input. Please enter a number between 1 and 7.\"\n",
    "                                                                 # Display the result\n",
    "print(f\"The day corresponding to {day_number} is {day_name}.\")"
   ]
  },
  {
   "cell_type": "markdown",
   "id": "f4dfc8c2-ff3e-44a4-b2c2-a256dae186c0",
   "metadata": {},
   "source": [
    "### 19. Create a program that determines if a year is a leap year and also if it is evenly divisible by 400."
   ]
  },
  {
   "cell_type": "code",
   "execution_count": 43,
   "id": "45f65f51-c470-4672-bd91-df6951a011e8",
   "metadata": {},
   "outputs": [
    {
     "name": "stdin",
     "output_type": "stream",
     "text": [
      "Enter a year: 2022\n"
     ]
    },
    {
     "name": "stdout",
     "output_type": "stream",
     "text": [
      "2022  is not a leap year\n"
     ]
    }
   ],
   "source": [
    "year=int(input(\"Enter a year:\")) # Take a year from the user.\n",
    "if year%4==0 and year%100!=0 or year%400==0: # executed if the given condition is true.\n",
    "         print(year,\"is a leap year\")\n",
    "else:\n",
    "         print(year,\" is not a leap year\") # print the result."
   ]
  },
  {
   "cell_type": "markdown",
   "id": "9a668223-f4e4-4434-ad38-9470921ebdb4",
   "metadata": {},
   "source": [
    "### 20. Develop a program that checks if a given number is prime or not using nested if-else statements."
   ]
  },
  {
   "cell_type": "code",
   "execution_count": 11,
   "id": "ec2b6179-e0e8-4934-8d6f-530c7702a28f",
   "metadata": {},
   "outputs": [
    {
     "name": "stdin",
     "output_type": "stream",
     "text": [
      "Enter a number:  9\n"
     ]
    },
    {
     "name": "stdout",
     "output_type": "stream",
     "text": [
      "9 is not a prime number.\n"
     ]
    }
   ],
   "source": [
    "                                    # Input from the user\n",
    "num = int(input(\"Enter a number: \"))\n",
    "                                    # Check if the number is prime\n",
    "if num <= 1:\n",
    "    is_prime = False\n",
    "elif num <= 3:\n",
    "    is_prime = True\n",
    "else:\n",
    "    is_prime = True\n",
    "    for i in range(2, int(num**0.5) + 1):\n",
    "        if num % i == 0:\n",
    "            is_prime = False\n",
    "            break\n",
    "                                # Display the result\n",
    "if is_prime:\n",
    "    print(num, \"is a prime number.\")\n",
    "else:\n",
    "    print(num, \"is not a prime number.\")"
   ]
  },
  {
   "cell_type": "markdown",
   "id": "05accd7e-f4e8-4719-9005-6d78508a9ae2",
   "metadata": {},
   "source": [
    "# Elif Statements:"
   ]
  },
  {
   "cell_type": "markdown",
   "id": "480ee1b4-6198-4fc0-9b4e-4762f4d89074",
   "metadata": {},
   "source": [
    "### 21. Write a Python program to assign grades based on different ranges of scores using elif statements."
   ]
  },
  {
   "cell_type": "code",
   "execution_count": 12,
   "id": "8ac46fc5-cb40-456f-aa11-d0b8c9a0c6b6",
   "metadata": {},
   "outputs": [
    {
     "name": "stdin",
     "output_type": "stream",
     "text": [
      "Enter the students score: 55\n"
     ]
    },
    {
     "name": "stdout",
     "output_type": "stream",
     "text": [
      "55 is C Grade\n"
     ]
    }
   ],
   "source": [
    "score=int(input(\"Enter the students score:\")) # Take score from the user. \n",
    "if score>=80 and score<=100: # Using if condition.\n",
    "    print(score,\" is A Grade\")\n",
    "elif score>=60 and score<80:\n",
    "    print(score,\"is B Grade\")\n",
    "elif score>=50 and score<60: # Using elif condition.\n",
    "    print(score,\"is C Grade\")\n",
    "else:\n",
    "    print(score,\"is D Grade\") # print the result."
   ]
  },
  {
   "cell_type": "markdown",
   "id": "0dc8e328-ed30-4ac6-b86b-ff1453f839b0",
   "metadata": {},
   "source": [
    "### 22. Implement a program to determine the type of a triangle based on its angles."
   ]
  },
  {
   "cell_type": "code",
   "execution_count": 13,
   "id": "0b7f3391-7c43-4c7e-910a-d9a3acb09682",
   "metadata": {},
   "outputs": [
    {
     "name": "stdin",
     "output_type": "stream",
     "text": [
      "Enter a angle 100\n"
     ]
    },
    {
     "name": "stdout",
     "output_type": "stream",
     "text": [
      "100 is a obtuse angle\n"
     ]
    }
   ],
   "source": [
    "angle=int(input(\"Enter a angle\")) # Take a angles of a triangle\n",
    "if angle>0 and angle<90:  # if angle greater than zero and less than 90.  \n",
    "    print(f\"{angle} is a acute angle\")\n",
    "elif angle==90:  # angle equal to 90\n",
    "    print(f\"{angle} is a right angle\")\n",
    "else:\n",
    "    angle>90 and angle<180  # angle greater than 90 and less than 180. \n",
    "    print(f\"{angle} is a obtuse angle\")"
   ]
  },
  {
   "cell_type": "markdown",
   "id": "adcdb26b-33ed-4b1d-b515-147ce4af111a",
   "metadata": {},
   "source": [
    "### 23. Develop a program to categorize a given person's BMI into underweight, normal, overweight, or obese using elif statements."
   ]
  },
  {
   "cell_type": "code",
   "execution_count": 16,
   "id": "2baae9c6-f43f-401b-b4ff-09b594797b76",
   "metadata": {},
   "outputs": [
    {
     "name": "stdin",
     "output_type": "stream",
     "text": [
      "Enter your BMI 25\n"
     ]
    },
    {
     "name": "stdout",
     "output_type": "stream",
     "text": [
      "25.0 is a over weight\n"
     ]
    }
   ],
   "source": [
    "BMI=float(input(\"Enter your BMI\"))\n",
    "if BMI>=18.5 and BMI<=24.9:  # BMI between 18.5 and 24.9\n",
    "    print(BMI,\"is a normal weight\")\n",
    "elif BMI<18.5: # BMI below 18.5\n",
    "    print(BMI,\"is a under weight\")\n",
    "elif BMI>=25.0and BMI<=29.9: # BMI between 25.5 and 29.9.\n",
    "    print(BMI,\"is a over weight\")\n",
    "else: \n",
    "    BMI>30.0 # BMI above 30 \n",
    "    print(BMI,\"is a obese\")"
   ]
  },
  {
   "cell_type": "markdown",
   "id": "c7c94022-2705-4c41-b45e-98fa76096b43",
   "metadata": {},
   "source": [
    "### 24. Create a program that determines whether a given number is positive, negative, or zero using elif statements."
   ]
  },
  {
   "cell_type": "code",
   "execution_count": 17,
   "id": "b4cf7a7f-d9ed-4064-b06a-83f0715035e7",
   "metadata": {},
   "outputs": [
    {
     "name": "stdin",
     "output_type": "stream",
     "text": [
      "Enter a number: -79\n"
     ]
    },
    {
     "name": "stdout",
     "output_type": "stream",
     "text": [
      "-79 is a negative number\n"
     ]
    }
   ],
   "source": [
    "num=int(input(\"Enter a number:\")) # Take input from the user. \n",
    "if num>0: # Using if condition for positive number.\n",
    "    print(f\"{num} is a positive number\")\n",
    "elif num<0: # Using elif for negative number.\n",
    "    print(f\"{num} is a negative number\")\n",
    "else: # using else for zero.\n",
    "    num==0\n",
    "    print(\"the number is a zero\")"
   ]
  },
  {
   "cell_type": "markdown",
   "id": "a0edd274-fbe5-427a-8ec3-91c4fd9e8a55",
   "metadata": {},
   "source": [
    "### 25. Write a Python script to determine the type of a character (uppercase, lowercase, or special) using elif statements."
   ]
  },
  {
   "cell_type": "code",
   "execution_count": 18,
   "id": "c323ccf8-e6d1-4b45-a539-78b67b53515e",
   "metadata": {},
   "outputs": [
    {
     "name": "stdin",
     "output_type": "stream",
     "text": [
      "Please Enter Your Own Character :  @\n"
     ]
    },
    {
     "name": "stdout",
     "output_type": "stream",
     "text": [
      "The Given Character  @ is special character\n"
     ]
    }
   ],
   "source": [
    "ch = input(\"Please Enter Your Own Character : \")\n",
    "if(ch.isupper()): # using isupper function.\n",
    "    print(\"The Given Character \", ch, \"is an Uppercase Alphabet\")\n",
    "elif(ch.islower()):                                               # Using is lower function\n",
    "    print(\"The Given Character \", ch, \"is a Lowercase Alphabet\")\n",
    "else:\n",
    "    print(\"The Given Character \", ch, \"is special character\")  # else"
   ]
  },
  {
   "cell_type": "markdown",
   "id": "c934bd92-f1c4-49e9-8dc8-e01392fa9a4d",
   "metadata": {},
   "source": [
    "### 26. Implement a program to calculate the discounted price based on different purchase amounts using elif statements."
   ]
  },
  {
   "cell_type": "code",
   "execution_count": 25,
   "id": "0e5b9f42-c260-4940-b7b4-c6c5025be163",
   "metadata": {},
   "outputs": [
    {
     "name": "stdin",
     "output_type": "stream",
     "text": [
      "Enter the price 2000\n"
     ]
    },
    {
     "name": "stdout",
     "output_type": "stream",
     "text": [
      "The price of the product is1600.0\n"
     ]
    }
   ],
   "source": [
    "product_price=int(input(\"Enter the price\")) # Take a input from the user.\n",
    "if product_price>1000:\n",
    "    print(\"The price of the product is{}\".format(product_price*0.8)) # discount price is 20%. \n",
    "elif product_price>=2000:\n",
    "    print(\"The price of the product is {}\".format(product_price*0.7)) # Discount price is 30%.\n",
    "else: \n",
    "    print(\"There is no discount on product\")"
   ]
  },
  {
   "cell_type": "markdown",
   "id": "6a104eaa-7b90-43ba-8e94-5b73bba2fc09",
   "metadata": {},
   "source": [
    "### 27. Develop a program to calculate the electricity bill based on different consumption slabs using elif statements."
   ]
  },
  {
   "cell_type": "code",
   "execution_count": 4,
   "id": "968ddcbd-2e27-4d8f-a3e8-f7e605c67d87",
   "metadata": {},
   "outputs": [
    {
     "name": "stdin",
     "output_type": "stream",
     "text": [
      "Enter your electricity consumption in kWh:  85.5\n"
     ]
    },
    {
     "name": "stdout",
     "output_type": "stream",
     "text": [
      "Your electricity bill is $42.75\n"
     ]
    }
   ],
   "source": [
    "                                  # Input the electricity consumption in kilowatt-hours (kWh)\n",
    "consumption = float(input(\"Enter your electricity consumption in kWh: \"))\n",
    "                                  # Define the electricity rate slabs and their corresponding rates\n",
    "slab1_limit = 100                 # First 100 kWh\n",
    "slab1_rate = 0.5                  # Rate for the first 100 kWh\n",
    "\n",
    "slab2_limit = 200                 # Next 100 kWh\n",
    "slab2_rate = 0.7                  # Rate for the next 100 kWh\n",
    "\n",
    "slab3_rate = 0.9                  # Rate for consumption exceeding 200 kWh\n",
    "                                  # Calculate the electricity bill using elif statements\n",
    "if consumption <= slab1_limit:\n",
    "    bill = consumption * slab1_rate\n",
    "elif consumption <= slab2_limit:\n",
    "    bill = (slab1_limit * slab1_rate) + ((consumption - slab1_limit) * slab2_rate)\n",
    "else:\n",
    "    bill = (slab1_limit * slab1_rate) + (slab2_limit * slab2_rate) + ((consumption - slab2_limit) * slab3_rate)\n",
    "                                                  # Print the electricity bill\n",
    "print(f\"Your electricity bill is ${bill:.2f}\")"
   ]
  },
  {
   "cell_type": "markdown",
   "id": "c71496ca-0f9c-418e-8e4f-b742937c6a69",
   "metadata": {},
   "source": [
    "### 28. Create a program to determine the type of quadrilateral based on its angles and sides using elif statements."
   ]
  },
  {
   "cell_type": "code",
   "execution_count": 2,
   "id": "4e9d190e-d70c-4a02-b0b6-f9c59f9670e2",
   "metadata": {},
   "outputs": [
    {
     "name": "stdin",
     "output_type": "stream",
     "text": [
      "Enter the length of side 1:  4\n",
      "Enter the length of side 2:  4\n",
      "Enter the length of side 3:  8\n",
      "Enter the length of side 4:  8\n",
      "Enter the measure of angle 1 in degrees:  90\n",
      "Enter the measure of angle 2 in degrees:  90\n",
      "Enter the measure of angle 3 in degrees:  90\n",
      "Enter the measure of angle 4 in degrees:  90\n"
     ]
    },
    {
     "name": "stdout",
     "output_type": "stream",
     "text": [
      "It's a rectangle.\n"
     ]
    }
   ],
   "source": [
    "                                                      # Input side lengths and angles\n",
    "side1 = float(input(\"Enter the length of side 1: \"))\n",
    "side2 = float(input(\"Enter the length of side 2: \"))\n",
    "side3 = float(input(\"Enter the length of side 3: \"))\n",
    "side4 = float(input(\"Enter the length of side 4: \"))\n",
    "\n",
    "angle1 = float(input(\"Enter the measure of angle 1 in degrees: \"))\n",
    "angle2 = float(input(\"Enter the measure of angle 2 in degrees: \"))\n",
    "angle3 = float(input(\"Enter the measure of angle 3 in degrees: \"))\n",
    "angle4 = float(input(\"Enter the measure of angle 4 in degrees: \"))\n",
    "                                                             # Check conditions using elif statements\n",
    "if side1 == side2 == side3 == side4 and angle1 == angle2 == angle3 == angle4 == 90:\n",
    "    print(\"It's a square.\")\n",
    "elif angle1 == angle2 == angle3 == angle4 == 90:\n",
    "    print(\"It's a rectangle.\")\n",
    "elif side1 == side2 == side3 == side4:\n",
    "    print(\"It's a rhombus.\")\n",
    "elif side1 == side3 and side2 == side4:\n",
    "    print(\"It's a parallelogram.\")\n",
    "elif side1 == side2 or side2 == side3 or side3 == side4 or side4 == side1:\n",
    "    print(\"It's a trapezoid.\")\n",
    "else:\n",
    "    print(\"It's a general quadrilateral.\")"
   ]
  },
  {
   "cell_type": "markdown",
   "id": "e68e26f2-f352-428b-9a1b-386d725c4c4e",
   "metadata": {},
   "source": [
    "### 29. Write a Python script to determine the season based on a user-provided month using elif statements."
   ]
  },
  {
   "cell_type": "code",
   "execution_count": 5,
   "id": "887db4a7-bc66-4316-b997-5605ac85b658",
   "metadata": {},
   "outputs": [
    {
     "name": "stdin",
     "output_type": "stream",
     "text": [
      "Enter the month march\n"
     ]
    },
    {
     "name": "stdout",
     "output_type": "stream",
     "text": [
      "march is a summer season\n"
     ]
    }
   ],
   "source": [
    "month=input(\"Enter the month\")   # Take a month from user.\n",
    "if month in [\"march\",\"April\",\"May\"\"June\"]: # if month is march to june print summer.\n",
    "    print(month,\"is a summer season\")\n",
    "elif month in[\"July\",\"august\",\"September\",\"Octomber\"]:  # the month is july to octomber print rainy.\n",
    "    print(month,\"is a rainy season\")\n",
    "elif month in [\"November\",\"December\",\"Janauary\", \"February\"]: # the month is november to february print winter.\n",
    "    print(month,\"is a winter season\")\n",
    "else:\n",
    "    print(\"Invalid\") # Invalid."
   ]
  },
  {
   "cell_type": "markdown",
   "id": "a175098f-0e89-4784-883f-caa489429cd9",
   "metadata": {},
   "source": [
    "### 30. Implement a program to determine the type of a year (leap or common) and month (30 or 31 days) using elif statements."
   ]
  },
  {
   "cell_type": "code",
   "execution_count": 6,
   "id": "075d3c5e-5e98-4c78-9333-6044a31c889c",
   "metadata": {},
   "outputs": [
    {
     "name": "stdin",
     "output_type": "stream",
     "text": [
      "Enter a year:  2024\n",
      "Enter a month (1-12):  2\n"
     ]
    },
    {
     "name": "stdout",
     "output_type": "stream",
     "text": [
      "2024 is a leap year.\n",
      "The month 2 has 29 days.\n"
     ]
    }
   ],
   "source": [
    "                                 # Get the year and month from the user\n",
    "year = int(input(\"Enter a year: \"))\n",
    "month = int(input(\"Enter a month (1-12): \"))\n",
    "                                 # Check if the year is a leap year\n",
    "if (year % 4 == 0 and year % 100 != 0) or (year % 400 == 0):\n",
    "    is_leap_year = True\n",
    "else:\n",
    "    is_leap_year = False\n",
    "                               # Check the number of days in the month using elif statements\n",
    "if month == 2:\n",
    "    if is_leap_year:\n",
    "        days_in_month = 29\n",
    "    else:\n",
    "        days_in_month = 28\n",
    "elif month in (4, 6, 9, 11):\n",
    "    days_in_month = 30\n",
    "else:\n",
    "    days_in_month = 31\n",
    "                               # Display the results\n",
    "if is_leap_year:\n",
    "    print(f\"{year} is a leap year.\")\n",
    "else:\n",
    "    print(f\"{year} is a common year.\")\n",
    "print(f\"The month {month} has {days_in_month} days.\")"
   ]
  },
  {
   "cell_type": "markdown",
   "id": "9878f591-1b00-4f1a-b6e5-7c9d0542a7a4",
   "metadata": {},
   "source": [
    "# Basic Level:"
   ]
  },
  {
   "cell_type": "markdown",
   "id": "d99e5915-4d1a-49cd-b48c-ba090598f6cf",
   "metadata": {},
   "source": [
    "### 1. Write a Python program that checks if a given number is positive, negative, or zero."
   ]
  },
  {
   "cell_type": "code",
   "execution_count": 8,
   "id": "1b17ceb7-3d2a-4b73-90ad-b312f6349eb2",
   "metadata": {},
   "outputs": [
    {
     "name": "stdin",
     "output_type": "stream",
     "text": [
      "Enter a number: 8\n"
     ]
    },
    {
     "name": "stdout",
     "output_type": "stream",
     "text": [
      "8 is a positive number\n"
     ]
    }
   ],
   "source": [
    "num=int(input(\"Enter a number:\")) # Take input from the user. \n",
    "if num>0: # Using if condition for positive number.\n",
    "    print(f\"{num} is a positive number\")\n",
    "elif num<0: # Using elif for negative number.\n",
    "    print(f\"{num} is a negative number\")\n",
    "else: # using else for zero.\n",
    "    num==0\n",
    "    print(\"the number is a zero\")"
   ]
  },
  {
   "cell_type": "markdown",
   "id": "3b627898-fcb3-4526-b5a7-c2b186676778",
   "metadata": {},
   "source": [
    "### 2. Create a program to determine if a person is eligible to vote based on their age."
   ]
  },
  {
   "cell_type": "code",
   "execution_count": 10,
   "id": "d47eb73e-f4aa-4793-889a-1379905b756e",
   "metadata": {},
   "outputs": [
    {
     "name": "stdin",
     "output_type": "stream",
     "text": [
      "Enter your age 17\n"
     ]
    },
    {
     "name": "stdout",
     "output_type": "stream",
     "text": [
      "Your are not eligible to vote\n"
     ]
    }
   ],
   "source": [
    "age=int(input(\"Enter your age\")) # Take a age from the user.\n",
    "if age>=18: # Executed if it is true.\n",
    "    print(\"Your are eligible to vote\")\n",
    "else: # executed if it is true. \n",
    "    print(\"Your are not eligible to vote\") # print the result."
   ]
  },
  {
   "cell_type": "markdown",
   "id": "52e1b11a-4789-42ac-b5b5-f5dc20d41456",
   "metadata": {},
   "source": [
    "### 3. Write a program to find the maximum of two given numbers using conditional statements."
   ]
  },
  {
   "cell_type": "code",
   "execution_count": 11,
   "id": "aa0ef786-ca4c-4c89-aab2-d403ef56ce5e",
   "metadata": {},
   "outputs": [
    {
     "name": "stdout",
     "output_type": "stream",
     "text": [
      "The maximum number is num1\n"
     ]
    }
   ],
   "source": [
    "num1=55\n",
    "num2=26  # Take two numbers.\n",
    "if num1>num2: # using if statement to check the given condition. \n",
    "    print(\"The maximum number is num1\")\n",
    "else:\n",
    "    num1<num2  # using else statement to check the given condition. \n",
    "    print(\"The maximumnuber is num2\")  # print the result."
   ]
  },
  {
   "cell_type": "markdown",
   "id": "1019f10d-bbb6-418b-afd5-f3b596d256c0",
   "metadata": {},
   "source": [
    "### 4. Develop a program that calculates the grade of a student based on their exam score."
   ]
  },
  {
   "cell_type": "code",
   "execution_count": 12,
   "id": "b4ba3cec-b7f4-4a02-9dbc-94e03da78985",
   "metadata": {},
   "outputs": [
    {
     "name": "stdin",
     "output_type": "stream",
     "text": [
      "Enter the students score: 50\n"
     ]
    },
    {
     "name": "stdout",
     "output_type": "stream",
     "text": [
      "50 is C Grade\n"
     ]
    }
   ],
   "source": [
    "score=int(input(\"Enter the students score:\")) # Take score from the user. \n",
    "if score>=80 and score<=100: # Using if condition.\n",
    "    print(score,\" is A Grade\")\n",
    "elif score>=60 and score<80:\n",
    "    print(score,\"is B Grade\")\n",
    "elif score>=50 and score<60: # Using elif condition.\n",
    "    print(score,\"is C Grade\")\n",
    "else:\n",
    "    print(score,\"is D Grade\") # print the result."
   ]
  },
  {
   "cell_type": "markdown",
   "id": "f1fa2256-f39a-4453-a025-2846e0d8df0b",
   "metadata": {},
   "source": [
    "### 5. Create a program that checks if a year is a leap year or not."
   ]
  },
  {
   "cell_type": "code",
   "execution_count": 13,
   "id": "df7dff54-1683-455a-9b66-30bd55209f37",
   "metadata": {},
   "outputs": [
    {
     "name": "stdin",
     "output_type": "stream",
     "text": [
      "Enter a year: 1995\n"
     ]
    },
    {
     "name": "stdout",
     "output_type": "stream",
     "text": [
      "1995  is not a leap year\n"
     ]
    }
   ],
   "source": [
    "year=int(input(\"Enter a year:\")) # Take a year from the user.\n",
    "if year%4==0 and year%100!=0: # executed if the given condition is true.\n",
    "         print(year,\"is a leap year\")\n",
    "else:\n",
    "         print(year,\" is not a leap year\") # print the result."
   ]
  },
  {
   "cell_type": "markdown",
   "id": "67b4c7ff-a60a-4d72-a746-a7a1c4fdfbbc",
   "metadata": {},
   "source": [
    "### 6. Write a program to classify a triangle based on its sides' lengths."
   ]
  },
  {
   "cell_type": "code",
   "execution_count": 1,
   "id": "de94b35d-1875-4dc4-b722-0742ed4697a8",
   "metadata": {},
   "outputs": [
    {
     "name": "stdin",
     "output_type": "stream",
     "text": [
      "Enter a angle 6\n"
     ]
    },
    {
     "name": "stdout",
     "output_type": "stream",
     "text": [
      "6 is a acute angle\n"
     ]
    }
   ],
   "source": [
    "angle=int(input(\"Enter a angle\")) # Take a angles of a triangle\n",
    "if angle>0 and angle<90:  # if angle greater than zero and less than 90.  \n",
    "    print(f\"{angle} is a acute angle\")\n",
    "elif angle==90:  # angle equal to 90\n",
    "    print(f\"{angle} is a right angle\")\n",
    "else:\n",
    "    angle>90 and angle<180  # angle greater than 90 and less than 180. \n",
    "    print(f\"{angle} is a obtuse angle\")"
   ]
  },
  {
   "cell_type": "markdown",
   "id": "47fdb4ff-053c-447f-930d-e6cebbfd3c97",
   "metadata": {},
   "source": [
    "### 7. Build a program that determines the largest of three given numbers."
   ]
  },
  {
   "cell_type": "code",
   "execution_count": 2,
   "id": "c6d0c6b2-8e82-4080-bf81-7f4f935626f4",
   "metadata": {},
   "outputs": [
    {
     "name": "stdout",
     "output_type": "stream",
     "text": [
      "The largest number is 79\n"
     ]
    }
   ],
   "source": [
    "num1=79\n",
    "num2=65  # Take three numbers.\n",
    "num3=10\n",
    "if num1>num2 and num1>num3: # using if statement to check the given condition. \n",
    "    print(\"The largest number is\",num1)\n",
    "elif num2>num1 and num2>num3:\n",
    "    print(\"The largest number is\",num2)\n",
    "else:  # using else statement to check the given condition. \n",
    "    print(\"The largest number is\",num3)  # print the result."
   ]
  },
  {
   "cell_type": "markdown",
   "id": "2178a3ee-dddb-42db-b10d-728a7d343e19",
   "metadata": {},
   "source": [
    "### 8. Develop a program that checks whether a character is a vowel or a consonant."
   ]
  },
  {
   "cell_type": "code",
   "execution_count": 3,
   "id": "ac30087a-2990-4232-86bb-d10fa8889193",
   "metadata": {},
   "outputs": [
    {
     "name": "stdin",
     "output_type": "stream",
     "text": [
      "Enter the characters pwskills\n"
     ]
    },
    {
     "name": "stdout",
     "output_type": "stream",
     "text": [
      "pwskills is consonants\n"
     ]
    }
   ],
   "source": [
    "a=input(\"Enter the characters\") # Take a input from the user. \n",
    "if a=='a' or a=='e'or a=='i'or a=='o'or a=='u'or a=='A'or a=='E'or a=='I'or a=='O'or a=='U': # Executed if the character is vowel.\n",
    "    print(a,\"is vowels\")\n",
    "else:\n",
    "    print(a,\"is consonants\") # print the result."
   ]
  },
  {
   "cell_type": "markdown",
   "id": "74053ec6-e25e-4434-af5a-cde88d866baf",
   "metadata": {},
   "source": [
    "### 9. Create a program to calculate the total cost of a shopping cart based on discounts."
   ]
  },
  {
   "cell_type": "code",
   "execution_count": 6,
   "id": "1e4b5291-2e0a-4cf3-81f7-9a0fe86302c6",
   "metadata": {},
   "outputs": [
    {
     "name": "stdin",
     "output_type": "stream",
     "text": [
      "Enter the price 3000\n"
     ]
    },
    {
     "name": "stdout",
     "output_type": "stream",
     "text": [
      "The total cost of a shopping is  2400.0\n"
     ]
    }
   ],
   "source": [
    "product_price=int(input(\"Enter the price\")) # Take a input from the user.\n",
    "if product_price>1000:\n",
    "    print(\"The total cost of a shopping is  {}\".format(product_price*0.8)) # discount price is 20%. \n",
    "elif product_price>=2000:\n",
    "    print(\"The total cost of a shopping is  {}\".format(product_price*0.7)) # Discount price is 30%.\n",
    "else: \n",
    "    print(\"There is no discount on product\")"
   ]
  },
  {
   "cell_type": "markdown",
   "id": "095f9ee7-c578-429e-9faf-422fb7f9f7fe",
   "metadata": {},
   "source": [
    "### 10. Write a program that checks if a given number is even or odd."
   ]
  },
  {
   "cell_type": "code",
   "execution_count": 7,
   "id": "6843532e-4817-405a-8a23-c148d8284d7f",
   "metadata": {},
   "outputs": [
    {
     "name": "stdin",
     "output_type": "stream",
     "text": [
      "Enter the number 77\n"
     ]
    },
    {
     "name": "stdout",
     "output_type": "stream",
     "text": [
      "77 is odd number\n"
     ]
    }
   ],
   "source": [
    "b=int(input(\"Enter the number\")) # Take number from number.\n",
    "if b%2==0: # check the if condition.\n",
    "    print(b,\"is even number\") # print the result.\n",
    "else:\n",
    "    print(b,\"is odd number\")   "
   ]
  },
  {
   "cell_type": "markdown",
   "id": "c911332e-4b06-44c0-897a-e2d70a987850",
   "metadata": {},
   "source": [
    "# Intermediate Level:"
   ]
  },
  {
   "cell_type": "markdown",
   "id": "f93d8c81-03b2-447f-b792-7b449674f930",
   "metadata": {},
   "source": [
    "### 11. Write a program that calculates the roots of a quadratic equation ."
   ]
  },
  {
   "cell_type": "code",
   "execution_count": 9,
   "id": "539696f0-8482-40dd-b8b8-719a99e50250",
   "metadata": {},
   "outputs": [
    {
     "name": "stdin",
     "output_type": "stream",
     "text": [
      "Enter the coefficient 'a':  5.7\n",
      "Enter the coefficient 'b':  6.3\n",
      "Enter the coefficient 'c':  2.4\n"
     ]
    },
    {
     "name": "stdout",
     "output_type": "stream",
     "text": [
      "The roots are complex: -0.5526315789473684 + 0.34007494692947593i and -0.5526315789473684 - 0.34007494692947593i\n"
     ]
    }
   ],
   "source": [
    "import math\n",
    "                                                # Input coefficients a, b, and c from the user\n",
    "a = float(input(\"Enter the coefficient 'a': \"))\n",
    "b = float(input(\"Enter the coefficient 'b': \"))\n",
    "c = float(input(\"Enter the coefficient 'c': \"))\n",
    "                                                # Calculate the discriminant (D = b^2 - 4ac)\n",
    "D = b**2 - 4*a*c\n",
    "                                                # Check if the discriminant is positive, negative, or zero\n",
    "if D > 0:\n",
    "                                                # Two real and distinct roots\n",
    "    root1 = (-b + math.sqrt(D)) / (2*a)\n",
    "    root2 = (-b - math.sqrt(D)) / (2*a)\n",
    "    print(f\"The roots are real and distinct: {root1} and {root2}\")\n",
    "elif D == 0:\n",
    "                                                # One real root (repeated)\n",
    "    root = -b / (2*a)\n",
    "    print(f\"The root is real and repeated: {root}\")\n",
    "else:\n",
    "                                                # Complex roots\n",
    "    real_part = -b / (2*a)\n",
    "    imaginary_part = math.sqrt(abs(D)) / (2*a)\n",
    "    print(f\"The roots are complex: {real_part} + {imaginary_part}i and {real_part} - {imaginary_part}i\")"
   ]
  },
  {
   "cell_type": "markdown",
   "id": "ac24cd55-8c51-4667-9b95-53878a94dcdc",
   "metadata": {},
   "source": [
    "### 12. Create a program that determines the day of the week based on the day number (1-7)."
   ]
  },
  {
   "cell_type": "code",
   "execution_count": 10,
   "id": "ccb81286-f30e-4414-b791-25fb751f3b60",
   "metadata": {},
   "outputs": [
    {
     "name": "stdin",
     "output_type": "stream",
     "text": [
      "Enter a number (1 to 7):  7\n"
     ]
    },
    {
     "name": "stdout",
     "output_type": "stream",
     "text": [
      "The day corresponding to 7 is Sunday.\n"
     ]
    }
   ],
   "source": [
    "       # Get user input for the day number\n",
    "day_number = int(input(\"Enter a number (1 to 7): \"))\n",
    "                                     # Check the user input using nested if-else statements\n",
    "if day_number == 1:\n",
    "    day_name = \"Monday\"\n",
    "elif day_number == 2:\n",
    "    day_name = \"Tuesday\"\n",
    "elif day_number == 3:\n",
    "    day_name = \"Wednesday\"\n",
    "elif day_number == 4:\n",
    "    day_name = \"Thursday\"\n",
    "elif day_number == 5:\n",
    "    day_name = \"Friday\"\n",
    "elif day_number == 6:\n",
    "    day_name = \"Saturday\"\n",
    "elif day_number == 7:\n",
    "    day_name = \"Sunday\"\n",
    "else:\n",
    "    day_name = \"Invalid input. Please enter a number between 1 and 7.\"\n",
    "                                                                 # Display the result\n",
    "print(f\"The day corresponding to {day_number} is {day_name}.\")"
   ]
  },
  {
   "cell_type": "markdown",
   "id": "c5b87a8d-3c5a-4e9f-8ce3-26983a9d548c",
   "metadata": {},
   "source": [
    "### 13. Develop a program that calculates the factorial of a given number using recursion."
   ]
  },
  {
   "cell_type": "code",
   "execution_count": 20,
   "id": "770b7d6b-c73e-4e2d-a674-74a1661cf668",
   "metadata": {},
   "outputs": [
    {
     "name": "stdout",
     "output_type": "stream",
     "text": [
      "The factorial of 7 is 5040\n"
     ]
    }
   ],
   "source": [
    "# Factorial of a number using recursion\n",
    "\n",
    "def recur_factorial(n):\n",
    "    if n == 1:\n",
    "        return n\n",
    "    else:\n",
    "        return n*recur_factorial(n-1)\n",
    "num = 7\n",
    "# check if the number is negative\n",
    "if num < 0: \n",
    "    print(\"Sorry, factorial does not exist for negative numbers\")\n",
    "elif num == 0:\n",
    "    print(\"The factorial of 0 is 1\")\n",
    "else:\n",
    "    print(\"The factorial of\", num, \"is\", recur_factorial(num))"
   ]
  },
  {
   "cell_type": "markdown",
   "id": "134f2f35-5e53-4418-bea8-af71a48321cc",
   "metadata": {},
   "source": [
    "### 14. Write a program to find the largest among three numbers without using the `max()` function."
   ]
  },
  {
   "cell_type": "code",
   "execution_count": 22,
   "id": "4c767045-41a8-4a96-a072-8b026c45123e",
   "metadata": {},
   "outputs": [
    {
     "name": "stdin",
     "output_type": "stream",
     "text": [
      "Enter first number 100\n",
      "Enter second number 568\n",
      "Enter third number 321\n"
     ]
    },
    {
     "name": "stdout",
     "output_type": "stream",
     "text": [
      "The largest number is 568\n"
     ]
    }
   ],
   "source": [
    "num1=int(input(\"Enter first number\"))\n",
    "num2=int(input(\"Enter second number\"))   # Take three numbers.\n",
    "num3=int(input(\"Enter third number\"))\n",
    "if num1>num2 and num1>num3: # using if statement to check the given condition. \n",
    "    print(\"The largest number is\",num1)\n",
    "elif num2>num1 and num2>num3:\n",
    "    print(\"The largest number is\",num2)\n",
    "else:  # using else statement to check the given condition. \n",
    "    print(\"The largest number is\",num3)  # print the result."
   ]
  },
  {
   "cell_type": "markdown",
   "id": "bb4dc78f-b12f-4e59-bfb4-75cad417babb",
   "metadata": {},
   "source": [
    "### 15. Create a program that simulates a basic ATM transaction menu."
   ]
  },
  {
   "cell_type": "code",
   "execution_count": 23,
   "id": "60846491-8497-496e-a3e4-8a0d11350288",
   "metadata": {},
   "outputs": [
    {
     "name": "stdout",
     "output_type": "stream",
     "text": [
      "\n",
      "ATM Menu:\n",
      "1. Display Balance\n",
      "2. Deposit Money\n",
      "3. Withdraw Money\n",
      "4. Exit\n"
     ]
    },
    {
     "name": "stdin",
     "output_type": "stream",
     "text": [
      "Enter your choice (1/2/3/4):  1\n"
     ]
    },
    {
     "name": "stdout",
     "output_type": "stream",
     "text": [
      "Your account balance is $1000.00\n",
      "\n",
      "ATM Menu:\n",
      "1. Display Balance\n",
      "2. Deposit Money\n",
      "3. Withdraw Money\n",
      "4. Exit\n"
     ]
    },
    {
     "name": "stdin",
     "output_type": "stream",
     "text": [
      "Enter your choice (1/2/3/4):  1\n"
     ]
    },
    {
     "name": "stdout",
     "output_type": "stream",
     "text": [
      "Your account balance is $1000.00\n",
      "\n",
      "ATM Menu:\n",
      "1. Display Balance\n",
      "2. Deposit Money\n",
      "3. Withdraw Money\n",
      "4. Exit\n"
     ]
    },
    {
     "name": "stdin",
     "output_type": "stream",
     "text": [
      "Enter your choice (1/2/3/4):  2\n",
      "Enter the amount to deposit: $ 2000\n"
     ]
    },
    {
     "name": "stdout",
     "output_type": "stream",
     "text": [
      "$2000.00 has been deposited.\n",
      "\n",
      "ATM Menu:\n",
      "1. Display Balance\n",
      "2. Deposit Money\n",
      "3. Withdraw Money\n",
      "4. Exit\n"
     ]
    },
    {
     "name": "stdin",
     "output_type": "stream",
     "text": [
      "Enter your choice (1/2/3/4):  3\n",
      "Enter the amount to withdraw: $ 3000\n"
     ]
    },
    {
     "name": "stdout",
     "output_type": "stream",
     "text": [
      "$3000.00 has been withdrawn.\n",
      "\n",
      "ATM Menu:\n",
      "1. Display Balance\n",
      "2. Deposit Money\n",
      "3. Withdraw Money\n",
      "4. Exit\n"
     ]
    },
    {
     "name": "stdin",
     "output_type": "stream",
     "text": [
      "Enter your choice (1/2/3/4):  4\n"
     ]
    },
    {
     "name": "stdout",
     "output_type": "stream",
     "text": [
      "Thank you for using the ATM. Goodbye!\n"
     ]
    }
   ],
   "source": [
    "# Initialize account balance\n",
    "balance = 1000\n",
    "# ATM transaction menu\n",
    "while True:\n",
    "    print(\"\\nATM Menu:\")\n",
    "    print(\"1. Display Balance\")\n",
    "    print(\"2. Deposit Money\")\n",
    "    print(\"3. Withdraw Money\")\n",
    "    print(\"4. Exit\")\n",
    "    choice = input(\"Enter your choice (1/2/3/4): \")\n",
    "    if choice == '1':\n",
    "        print(f\"Your account balance is ${balance:.2f}\")\n",
    "    elif choice == '2':\n",
    "        amount = float(input(\"Enter the amount to deposit: $\"))\n",
    "        if amount > 0:\n",
    "            balance += amount\n",
    "            print(f\"${amount:.2f} has been deposited.\")\n",
    "        else:\n",
    "            print(\"Invalid amount. Please enter a positive amount.\")\n",
    "    elif choice == '3':\n",
    "        amount = float(input(\"Enter the amount to withdraw: $\"))\n",
    "        if amount > 0:\n",
    "            if amount <= balance:\n",
    "                balance -= amount\n",
    "                print(f\"${amount:.2f} has been withdrawn.\")\n",
    "            else:\n",
    "                print(\"Insufficient funds.\")\n",
    "        else:\n",
    "            print(\"Invalid amount. Please enter a positive amount.\")\n",
    "    elif choice == '4':\n",
    "        print(\"Thank you for using the ATM. Goodbye!\")\n",
    "        break\n",
    "    else:\n",
    "        print(\"Invalid choice. Please select a valid option (1/2/3/4).\")  "
   ]
  },
  {
   "cell_type": "markdown",
   "id": "89f6faec-b4e8-439e-8b9a-4ead06fe817c",
   "metadata": {},
   "source": [
    "### 16. Build a program that checks if a given string is a palindrome or not."
   ]
  },
  {
   "cell_type": "code",
   "execution_count": 26,
   "id": "cd3142e5-707b-4d59-b685-d28bb2e993e8",
   "metadata": {},
   "outputs": [
    {
     "name": "stdin",
     "output_type": "stream",
     "text": [
      "Enter a string malayalam\n"
     ]
    },
    {
     "name": "stdout",
     "output_type": "stream",
     "text": [
      "The given string is palindrome\n"
     ]
    }
   ],
   "source": [
    "str=input(\"Enter a string\")\n",
    "if str==str[::-1]:\n",
    "    print(\"The given string is palindrome\")\n",
    "else:\n",
    "    print(\"The given string is not a palindrome\")"
   ]
  },
  {
   "cell_type": "markdown",
   "id": "bce73152-076a-45a4-b558-1b8feaeab461",
   "metadata": {},
   "source": [
    "### 17.Write a program that calculates the average of a list of numbers, excluding the smallest and largest values."
   ]
  },
  {
   "cell_type": "code",
   "execution_count": 1,
   "id": "97418bf6-652e-4327-ad9e-b7711213dee3",
   "metadata": {},
   "outputs": [
    {
     "name": "stdout",
     "output_type": "stream",
     "text": [
      "average of the numbers is: 5.5\n"
     ]
    }
   ],
   "source": [
    "number=[1,2,3,4,5,6,7,8,9,10]\n",
    "print(\"average of the numbers is:\",sum(number)/len(number))"
   ]
  },
  {
   "cell_type": "markdown",
   "id": "0299eb1e-383f-4804-bd53-26394e17f39e",
   "metadata": {},
   "source": [
    "### 18. Develop a program that converts a given temperature from Celsius to Fahrenheit."
   ]
  },
  {
   "cell_type": "code",
   "execution_count": 2,
   "id": "48397038-b244-4059-89fa-b691d3899ceb",
   "metadata": {},
   "outputs": [
    {
     "name": "stdin",
     "output_type": "stream",
     "text": [
      "Input the  temperature you like to convert? (e.g., 45F, 102C etc.) :  100C\n"
     ]
    },
    {
     "name": "stdout",
     "output_type": "stream",
     "text": [
      "The temperature in Fahrenheit is 212 degrees.\n"
     ]
    }
   ],
   "source": [
    "temp = input(\"Input the  temperature you like to convert? (e.g., 45F, 102C etc.) : \")\n",
    "degree = int(temp[:-1])\n",
    "i_convention = temp[-1]\n",
    "if i_convention.upper() == \"C\": # if degree is C then print the result in farenheit.\n",
    "    result = int(round((9 * degree) / 5 + 32))\n",
    "    o_convention = \"Fahrenheit\"\n",
    "elif i_convention.upper() == \"F\": # Elif Degree is F then print the result in celsius.\n",
    "    result = int(round((degree - 32) * 5 / 9))\n",
    "    o_convention = \"Celsius\"\n",
    "else:                             # Else input proper conversion. \n",
    "    print(\"Input proper convention.\")\n",
    "    quit()\n",
    "print(\"The temperature in\", o_convention, \"is\", result, \"degrees.\")"
   ]
  },
  {
   "cell_type": "markdown",
   "id": "8dfe5478-72ef-4701-bc07-439c78995f77",
   "metadata": {},
   "source": [
    "### 19. Create a program that simulates a basic calculator for addition, subtraction, multiplication, and division."
   ]
  },
  {
   "cell_type": "code",
   "execution_count": 7,
   "id": "5b9ad47a-94c6-41f4-a77e-4aa50f4fa1c1",
   "metadata": {},
   "outputs": [
    {
     "name": "stdout",
     "output_type": "stream",
     "text": [
      "Select operation.\n",
      "1.Add\n",
      "2.Subtract\n",
      "3.Multiply\n",
      "4.Divide\n"
     ]
    },
    {
     "name": "stdin",
     "output_type": "stream",
     "text": [
      "Enter choice(1/2/3/4):  4\n",
      "Enter first number:  7\n",
      "Enter second number:  2\n"
     ]
    },
    {
     "name": "stdout",
     "output_type": "stream",
     "text": [
      "7.0 / 2.0 = 3.5\n"
     ]
    },
    {
     "name": "stdin",
     "output_type": "stream",
     "text": [
      "Let's do next calculation? (yes/no):  yes\n",
      "Enter choice(1/2/3/4):  3\n",
      "Enter first number:  8\n",
      "Enter second number:  6\n"
     ]
    },
    {
     "name": "stdout",
     "output_type": "stream",
     "text": [
      "8.0 * 6.0 = 48.0\n"
     ]
    },
    {
     "name": "stdin",
     "output_type": "stream",
     "text": [
      "Let's do next calculation? (yes/no):  no\n"
     ]
    }
   ],
   "source": [
    "# This function adds two numbers\n",
    "def add(x, y):\n",
    "    return x + y\n",
    "# This function subtracts two numbers\n",
    "def subtract(x, y):\n",
    "    return x - y\n",
    "# This function multiplies two numbers\n",
    "def multiply(x, y):\n",
    "    return x * y\n",
    "# This function divides two numbers\n",
    "def divide(x, y):\n",
    "    return x / y\n",
    "print(\"Select operation.\")\n",
    "print(\"1.Add\")\n",
    "print(\"2.Subtract\")\n",
    "print(\"3.Multiply\")\n",
    "print(\"4.Divide\")\n",
    "\n",
    "while True:\n",
    "    # take input from the user\n",
    "    choice = input(\"Enter choice(1/2/3/4): \")\n",
    "\n",
    "    # check if choice is one of the four options\n",
    "    if choice in ('1', '2', '3', '4'):\n",
    "        try:\n",
    "            num1 = float(input(\"Enter first number: \"))\n",
    "            num2 = float(input(\"Enter second number: \"))\n",
    "        except ValueError:\n",
    "            print(\"Invalid input. Please enter a number.\")\n",
    "            continue\n",
    "\n",
    "        if choice == '1':\n",
    "            print(num1, \"+\", num2, \"=\", add(num1, num2))\n",
    "\n",
    "        elif choice == '2':\n",
    "            print(num1, \"-\", num2, \"=\", subtract(num1, num2))\n",
    "\n",
    "        elif choice == '3':\n",
    "            print(num1, \"*\", num2, \"=\", multiply(num1, num2))\n",
    "\n",
    "        elif choice == '4':\n",
    "            print(num1, \"/\", num2, \"=\", divide(num1, num2))\n",
    "        \n",
    "        # check if user wants another calculation\n",
    "        # break the while loop if answer is no\n",
    "        next_calculation = input(\"Let's do next calculation? (yes/no): \")\n",
    "        if next_calculation == \"no\":\n",
    "            break\n",
    "    else:\n",
    "        print(\"Invalid Input\")"
   ]
  },
  {
   "cell_type": "markdown",
   "id": "0cd5ab58-a119-47d0-adc2-b8bce645aae5",
   "metadata": {},
   "source": [
    "### 20. Write a program that determines the roots of a cubic equation using the Cardano formula."
   ]
  },
  {
   "cell_type": "code",
   "execution_count": 11,
   "id": "5304b781-fe90-4b1a-85be-2fcc4b30bcd2",
   "metadata": {},
   "outputs": [
    {
     "name": "stdout",
     "output_type": "stream",
     "text": [
      "ax^3+bx^2+cx+d=0\n"
     ]
    },
    {
     "name": "stdin",
     "output_type": "stream",
     "text": [
      " 1 2 3 4 \n"
     ]
    },
    {
     "name": "stdout",
     "output_type": "stream",
     "text": [
      "{(-0.17468540428030577+1.5468688872313963j), (-0.1746854042803061-1.5468688872313963j), (-1.6506291914393882+1.1102230246251565e-16j)}\n"
     ]
    }
   ],
   "source": [
    "from cmath import *\n",
    "solutions = set()\n",
    "def cbrt(polynomial):\n",
    "    solution = set()\n",
    "    root1 = polynomial ** (1 / 3)\n",
    "    root2 = (polynomial ** (1 / 3)) * (-1 / 2 + (sqrt(3) * 1j) / 2)\n",
    "    root3 = (polynomial ** (1 / 3)) * (-1 / 2 - (sqrt(3) * 1j) / 2)\n",
    "    solution.update({root1, root2, root3})\n",
    "    return solution\n",
    "print('ax^3+bx^2+cx+d=0')\n",
    "a, b, c, d = map(complex, input().split())\n",
    "if a != 0:\n",
    "    p = (3 * a * c - b ** 2) / (3 * a ** 2)\n",
    "    q = (2 * b ** 3 - 9 * a * b * c + 27 * a ** 2 * d) / (27 * a ** 3)\n",
    "    alpha = cbrt(-q / 2 + sqrt((q / 2) ** 2 + (p / 3) ** 3))\n",
    "    beta = cbrt(-q / 2 - sqrt((q / 2) ** 2 + (p / 3) ** 3))\n",
    "    for i in alpha:\n",
    "        for j in beta:\n",
    "            if abs((i * j) + p / 3) <= 0.00001:\n",
    "                x = i + j - b / (3 * a)\n",
    "                solutions.add(x)\n",
    "elif b != 0:\n",
    "    D = c ** 2 - 4 * b * d\n",
    "    solutions.add((-c - sqrt(D)) / 2 * b)\n",
    "    solutions.add((-c + sqrt(D)) / 2 * b)\n",
    "elif c != 0:\n",
    "    solutions.add(-d / c)\n",
    "elif d == 0:\n",
    "    solutions.add(\"True\")\n",
    "else:\n",
    "    solutions.add(\"False\")\n",
    "print(solutions)"
   ]
  },
  {
   "cell_type": "markdown",
   "id": "dadc0664-4095-41da-b1da-ab408245c7bb",
   "metadata": {},
   "source": [
    "# Advanced Level:"
   ]
  },
  {
   "cell_type": "markdown",
   "id": "fdc63feb-788f-44f6-ba4a-3d171f9af765",
   "metadata": {},
   "source": [
    "### 21. Create a program that calculates the income tax based on the user's income and tax brackets."
   ]
  },
  {
   "cell_type": "code",
   "execution_count": 3,
   "id": "461cb4a7-b9f0-4031-9e9a-e7546e817301",
   "metadata": {},
   "outputs": [
    {
     "name": "stdin",
     "output_type": "stream",
     "text": [
      "Enter a user income 750000\n"
     ]
    },
    {
     "name": "stdout",
     "output_type": "stream",
     "text": [
      "The tax is 10% amount is 500000 + 12500\n"
     ]
    }
   ],
   "source": [
    "def income_tax(): # Take user defind function.\n",
    "    n=int(input(\"Enter a user income\")) # Take a input fromthe user.\n",
    "    if n<=250000:              # if condition is satisfy print the result.\n",
    "        print(\"The tax is 0% amount is 250000\")\n",
    "    elif n<= 500000:\n",
    "        print(\"The tax is 5% amount is 250000\")\n",
    "    elif n<= 750000:  # elif condition is satisfy print the result.\n",
    "        print(\"The tax is 10% amount is 500000 + 12500\")\n",
    "    elif n<= 1000000:\n",
    "        print(\"The tax is 15% amount is 750000 + 37500\")\n",
    "    elif n<= 1250000:\n",
    "        print(\"The tax is 20% amount is 1000000 + 75000\")\n",
    "    elif n<= 1500000:\n",
    "        print(\"The tax is 25% amount is  1250000 + 125000\")\n",
    "    else:                                  # else will be printed.\n",
    "        print(\"The tax is 30% amount is  1500000 + 187500\")\n",
    "income_tax()"
   ]
  },
  {
   "cell_type": "markdown",
   "id": "02502544-a1ec-4852-9338-4aa567550db4",
   "metadata": {},
   "source": [
    "### 22. Write a program that simulates a rock-paper-scissors game against the computer."
   ]
  },
  {
   "cell_type": "code",
   "execution_count": 18,
   "id": "8b38bce9-e9fa-4ca6-a08f-947e30d2b525",
   "metadata": {},
   "outputs": [
    {
     "name": "stdin",
     "output_type": "stream",
     "text": [
      "Enter a choice (rock, paper, scissors):  rock\n"
     ]
    },
    {
     "name": "stdout",
     "output_type": "stream",
     "text": [
      "\n",
      "You chose rock, computer chose paper.\n",
      "\n",
      "Paper covers rock! You lose.\n"
     ]
    }
   ],
   "source": [
    "import random\n",
    "user_action = input(\"Enter a choice (rock, paper, scissors): \")  # Take a input from the user.\n",
    "possible_actions = [\"rock\", \"paper\", \"scissors\"]\n",
    "computer_action = random.choice(possible_actions) # computer action will choose random choice. \n",
    "print(f\"\\nYou chose {user_action}, computer chose {computer_action}.\\n\")\n",
    "\n",
    "if user_action == computer_action: # if condition is satisfy if condition wil be printed.\n",
    "    print(f\"Both players selected {user_action}. It's a tie!\")\n",
    "elif user_action == \"rock\":       # elif will be printed if it is true.\n",
    "    if computer_action == \"scissors\":\n",
    "        print(\"Rock smashes scissors! You win!\")\n",
    "    else:\n",
    "        print(\"Paper covers rock! You lose.\")\n",
    "elif user_action == \"paper\":\n",
    "    if computer_action == \"rock\":\n",
    "        print(\"Paper covers rock! You win!\")\n",
    "    else:\n",
    "        print(\"Scissors cuts paper! You lose.\")\n",
    "elif user_action == \"scissors\":\n",
    "    if computer_action == \"paper\":\n",
    "        print(\"Scissors cuts paper! You win!\")\n",
    "    else:\n",
    "        print(\"Rock smashes scissors! You lose.\")  # print the result."
   ]
  },
  {
   "cell_type": "markdown",
   "id": "d119af2f-27d2-4707-82d7-9f61f1b2ab02",
   "metadata": {},
   "source": [
    "### 23. Develop a program that generates a random password based on user preferences (length, complexity)."
   ]
  },
  {
   "cell_type": "code",
   "execution_count": 19,
   "id": "99a709cc-246e-4f56-ad0c-32609c1d133d",
   "metadata": {},
   "outputs": [
    {
     "name": "stdin",
     "output_type": "stream",
     "text": [
      "Enter password length:  11\n"
     ]
    },
    {
     "name": "stdout",
     "output_type": "stream",
     "text": [
      "Choose character set for password from these :\n",
      "\t\t1. Digits\n",
      "\t\t2. Letters\n",
      "\t\t3. Special characters\n",
      "\t\t4. Exit\n"
     ]
    },
    {
     "name": "stdin",
     "output_type": "stream",
     "text": [
      "Pick a number  2\n",
      "Pick a number  3\n",
      "Pick a number  1\n",
      "Pick a number  4\n"
     ]
    },
    {
     "name": "stdout",
     "output_type": "stream",
     "text": [
      "The random password is i[3y<y7rmZo\n"
     ]
    }
   ],
   "source": [
    "import string\n",
    "import random\n",
    "# Getting password length\n",
    "length = int(input(\"Enter password length: \"))\n",
    "print('''Choose character set for password from these :\n",
    "        1. Digits\n",
    "        2. Letters\n",
    "        3. Special characters\n",
    "        4. Exit''')\n",
    "characterList = \"\"\n",
    "# Getting character set for password\n",
    "while(True):\n",
    "    choice = int(input(\"Pick a number \"))\n",
    "\tif(choice == 1):\n",
    "\t\t# Adding letters to possible characters\n",
    "\t\tcharacterList += string.ascii_letters\n",
    "\telif(choice == 2):\n",
    "\t\t# Adding digits to possible characters\n",
    "\t\tcharacterList += string.digits\n",
    "\telif(choice == 3):\n",
    "\t\t# Adding special characters to possible\n",
    "\t\t# characters\n",
    "\t\tcharacterList += string.punctuation\n",
    "\telif(choice == 4):\n",
    "\t\tbreak\n",
    "\telse:\n",
    "\t\tprint(\"Please pick a valid option!\")\n",
    "password = []\n",
    "for i in range(length):\n",
    "# Picking a random character from our\n",
    "# character list\n",
    "    randomchar = random.choice(characterList)\n",
    "   # appending a random character to password\n",
    "    password.append(randomchar)\n",
    "# printing password as a string\n",
    "print(\"The random password is \" + \"\".join(password))"
   ]
  },
  {
   "cell_type": "code",
   "execution_count": 19,
   "id": "c912e1cb-4387-46db-9993-dc6e61e45cf8",
   "metadata": {},
   "outputs": [
    {
     "name": "stdin",
     "output_type": "stream",
     "text": [
      "Enter password length:  11\n"
     ]
    },
    {
     "name": "stdout",
     "output_type": "stream",
     "text": [
      "Choose character set for password from these :\n",
      "\t\t1. Digits\n",
      "\t\t2. Letters\n",
      "\t\t3. Special characters\n",
      "\t\t4. Exit\n"
     ]
    },
    {
     "name": "stdin",
     "output_type": "stream",
     "text": [
      "Pick a number  2\n",
      "Pick a number  3\n",
      "Pick a number  1\n",
      "Pick a number  4\n"
     ]
    },
    {
     "name": "stdout",
     "output_type": "stream",
     "text": [
      "The random password is i[3y<y7rmZo\n"
     ]
    }
   ],
   "source": [
    "import string\n",
    "import random\n",
    "# Getting password length\n",
    "length = int(input(\"Enter password length: \"))\n",
    "print('''Choose character set for password from these :\n",
    "        1. Digits\n",
    "        2. Letters\n",
    "        3. Special characters\n",
    "        4. Exit''')\n",
    "characterList = \"\"\n",
    "# Getting character set for password\n",
    "while(True):\n",
    "    choice = int(input(\"Pick a number \"))\n",
    "\tif(choice == 1):\n",
    "\t\t# Adding letters to possible characters\n",
    "\t\tcharacterList += string.ascii_letters\n",
    "\telif(choice == 2):\n",
    "\t\t# Adding digits to possible characters\n",
    "\t\tcharacterList += string.digits\n",
    "\telif(choice == 3):\n",
    "\t\t# Adding special characters to possible\n",
    "\t\t# characters\n",
    "\t\tcharacterList += string.punctuation\n",
    "\telif(choice == 4):\n",
    "\t\tbreak\n",
    "\telse:\n",
    "\t\tprint(\"Please pick a valid option!\")\n",
    "password = []\n",
    "for i in range(length):\n",
    "# Picking a random character from our\n",
    "# character list\n",
    "    randomchar = random.choice(characterList)\n",
    "   # appending a random character to password\n",
    "    password.append(randomchar)\n",
    "# printing password as a string\n",
    "print(\"The random password is \" + \"\".join(password))"
   ]
  },
  {
   "cell_type": "markdown",
   "id": "f2c58006-17da-4e5a-9231-9a4b5b0eab64",
   "metadata": {},
   "source": [
    "### 24. Create a program that implements a simple text-based adventure game with branching scenarios."
   ]
  },
  {
   "cell_type": "code",
   "execution_count": 1,
   "id": "25329e0a-6150-4fb5-accc-329f3aa0af0e",
   "metadata": {},
   "outputs": [
    {
     "name": "stdout",
     "output_type": "stream",
     "text": [
      "you are in a coridoor,do you go to left or right?\n"
     ]
    },
    {
     "name": "stdin",
     "output_type": "stream",
     "text": [
      "> right\n"
     ]
    },
    {
     "name": "stdout",
     "output_type": "stream",
     "text": [
      "you are in a coridoor,do you go to left or right?\n"
     ]
    },
    {
     "name": "stdin",
     "output_type": "stream",
     "text": [
      "> left\n"
     ]
    },
    {
     "name": "stdout",
     "output_type": "stream",
     "text": [
      "You have fallen to your death\n"
     ]
    }
   ],
   "source": [
    "while True: # using while.\n",
    "    print(\"you are in a coridoor,do you go to left or right?\")\n",
    "    direction=input(\">\") # to give a direction from the user. \n",
    "    if direction==\"left\":  # if direction is left print the result. \n",
    "        print(\"You have fallen to your death\")\n",
    "        break\n",
    "    elif direction==\"right\":  # elif is right then print the result.\n",
    "        continue\n",
    "    else:\n",
    "        print(\"Ahh you are a genius,you've won\")\n",
    "        exit()\n",
    "    print(\"The game is over you've failed\")    "
   ]
  },
  {
   "cell_type": "markdown",
   "id": "3dbe3002-c7d5-4dec-ada5-b2a4e51d71d3",
   "metadata": {},
   "source": [
    "### 25. Build a program that solves a linear equation for x, considering different cases."
   ]
  },
  {
   "cell_type": "code",
   "execution_count": null,
   "id": "5e0e53ec-40f1-4567-95f5-16edbeee441d",
   "metadata": {},
   "outputs": [],
   "source": []
  },
  {
   "cell_type": "markdown",
   "id": "6e5525bc-e435-4f23-8249-0ec0643ae804",
   "metadata": {},
   "source": [
    "### 26. Write a program that simulates a basic quiz game with multiple-choice questions and scoring."
   ]
  },
  {
   "cell_type": "code",
   "execution_count": 2,
   "id": "b9bcd924-9b71-4cfb-b4b7-b183c35666ca",
   "metadata": {},
   "outputs": [
    {
     "name": "stdout",
     "output_type": "stream",
     "text": [
      "Wellcome to quiz game !!\n",
      "NOTE: if your spelling is incorrect then it is considered as wrong answer\n"
     ]
    },
    {
     "name": "stdin",
     "output_type": "stream",
     "text": [
      "Do you want to play ?  yes\n",
      "\n",
      "1. what does CPU stand for?  central processing unit\n"
     ]
    },
    {
     "name": "stdout",
     "output_type": "stream",
     "text": [
      "correct! you got 1 point\n"
     ]
    },
    {
     "name": "stdin",
     "output_type": "stream",
     "text": [
      "\n",
      "2. what does GPU stand for?  graphical user interface\n"
     ]
    },
    {
     "name": "stdout",
     "output_type": "stream",
     "text": [
      "Incorrect!\n",
      "current answer is --> graphics processing unit\n"
     ]
    },
    {
     "name": "stdin",
     "output_type": "stream",
     "text": [
      "\n",
      "3. what does RAM stand for?  random access memory\n"
     ]
    },
    {
     "name": "stdout",
     "output_type": "stream",
     "text": [
      "correct! you got 1 point\n"
     ]
    },
    {
     "name": "stdin",
     "output_type": "stream",
     "text": [
      "\n",
      "4. what does PSU stand for?  power supply unit\n"
     ]
    },
    {
     "name": "stdout",
     "output_type": "stream",
     "text": [
      "correct! you got 1 point\n"
     ]
    },
    {
     "name": "stdin",
     "output_type": "stream",
     "text": [
      "\n",
      "5. what does ROM stand for?  read only memory\n"
     ]
    },
    {
     "name": "stdout",
     "output_type": "stream",
     "text": [
      "correct! you got 1 point\n",
      "\n",
      "number of question is 5\n",
      "your score is 4\n",
      "80.0% questions are correct.\n"
     ]
    }
   ],
   "source": [
    "print(\"Wellcome to quiz game !!\")\n",
    "print('NOTE: if your spelling is incorrect then it is considered as wrong answer')\n",
    "score = 0\n",
    "question_no = 0\n",
    "playing = input('Do you want to play ? ').lower()\n",
    "if playing == 'yes':\n",
    "    question_no += 1\n",
    "    ques = input(f'\\n{question_no}. what does CPU stand for? ').lower()\n",
    "    if ques == 'central processing unit':\n",
    "        score +=1\n",
    "        print('correct! you got 1 point')\n",
    "        \n",
    "    else:\n",
    "        print('Incorrect!')\n",
    "        print(f'current answer is --> central processing unit')\n",
    "    question_no += 1\n",
    "    ques = input(f'\\n{question_no}. what does GPU stand for? ').lower()\n",
    "    \n",
    "    if ques == 'graphics processing unit':\n",
    "        score +=1\n",
    "        print('correct! you got 1 point')\n",
    "        \n",
    "    else:\n",
    "        print('Incorrect!')\n",
    "        print(f'current answer is --> graphics processing unit')\n",
    "\n",
    "# -----2\n",
    "    question_no += 1\n",
    "    ques = input(f'\\n{question_no}. what does RAM stand for? ').lower()\n",
    "    \n",
    "    if ques == 'random access memory':\n",
    "        score +=1\n",
    "        print('correct! you got 1 point')\n",
    "        \n",
    "    else:\n",
    "        print('Incorrect!')\n",
    "        print(f'current answer is --> random access memory')\n",
    "\n",
    "# -----3\n",
    "    question_no += 1\n",
    "    ques = input(f'\\n{question_no}. what does PSU stand for? ').lower()\n",
    "    \n",
    "    if ques == 'power supply unit':\n",
    "        score +=1\n",
    "        print('correct! you got 1 point')\n",
    "        \n",
    "    else:\n",
    "        print('Incorrect!')\n",
    "        print(f'current answer is --> power supply unit')\n",
    "\n",
    "\n",
    "# -----4\n",
    "    question_no += 1\n",
    "    ques = input(f'\\n{question_no}. what does ROM stand for? ').lower()\n",
    "    \n",
    "    if ques == 'read only memory':\n",
    "        score +=1\n",
    "        print('correct! you got 1 point')\n",
    "        \n",
    "    else:\n",
    "        print('Incorrect!')\n",
    "        print(f'current answer is --> read only memory')\n",
    "\n",
    "\n",
    "# ------5 \n",
    "\n",
    "else:\n",
    "    print('thankyou you are out of a game.')\n",
    "    quit()\n",
    "\n",
    "print(f'\\nnumber of question is {question_no}')\n",
    "print(f'your score is {score}')\n",
    "try:\n",
    "    percentage = (score *100)/question_no\n",
    "except ZeroDivisionError:\n",
    "    print('0% quetions are correct')\n",
    "\n",
    "print(f'{percentage}% questions are correct.')"
   ]
  },
  {
   "cell_type": "markdown",
   "id": "047e0283-c85f-4434-9e5b-c06c5b9a7931",
   "metadata": {},
   "source": [
    "### 27. Develop a program that determines whether a given year is a prime number or not."
   ]
  },
  {
   "cell_type": "code",
   "execution_count": 2,
   "id": "f1073815-00cf-4404-8273-5298751d5e7a",
   "metadata": {},
   "outputs": [
    {
     "name": "stdin",
     "output_type": "stream",
     "text": [
      "Enter a year 1685\n"
     ]
    },
    {
     "name": "stdout",
     "output_type": "stream",
     "text": [
      "1685 is not a prime number\n"
     ]
    }
   ],
   "source": [
    "year=int(input(\"Enter a year\"))\n",
    "# If given year is greater than 1\n",
    "if year > 1:\n",
    "    # Iterate from 2 to n / 2\n",
    "    for i in range(2, int(year/2)+1):\n",
    "        # If year is divisible by any number between\n",
    "        # 2 and n / 2, it is not prime\n",
    "        if (year % i) == 0:\n",
    "            print(year, \"is not a prime number\")\n",
    "            break\n",
    "    else:\n",
    "        print(year, \"is a prime number\")\n",
    "else:\n",
    "    print(year, \"is not a prime number\")"
   ]
  },
  {
   "cell_type": "markdown",
   "id": "97d1a810-2fa7-4be3-9d8b-c839a91ba32b",
   "metadata": {},
   "source": [
    "### 28. Create a program that sorts three numbers in ascending order using conditional statements."
   ]
  },
  {
   "cell_type": "code",
   "execution_count": 4,
   "id": "80a00f94-b90d-42de-80e0-2e68e79e9c21",
   "metadata": {},
   "outputs": [
    {
     "name": "stdin",
     "output_type": "stream",
     "text": [
      "Enter First number :  50\n",
      "Enter Second number :  45\n",
      "Enter Third number :  100\n"
     ]
    },
    {
     "name": "stdout",
     "output_type": "stream",
     "text": [
      "Numbers in ascending order are :  45 50 100\n"
     ]
    }
   ],
   "source": [
    "num1=int(input(\"Enter First number : \"))\n",
    "num2=int(input(\"Enter Second number : \"))\n",
    "num3=int(input(\"Enter Third number : \"))           # Take a input from the user.\n",
    "if num1<num2 and num1<num3:\n",
    "    if num2<num3:                                 # if num1 is less than num2 and num3 print num1,num2,num3.\n",
    "        x,y,z=num1,num2,num3                                      \n",
    "    else:                                         # if num2 less than num3 print the result.\n",
    "        x,y,z=num1,num3,num2\n",
    "elif num2<num1 and num2<num3:\n",
    "     if num1<num3:                                # elif num2 less than num1 and num3 print num2,num1,num3.\n",
    "        x,y,z=num2,num1,num3                      \n",
    "    else:                                         # if num1<num3 print the result.\n",
    "        x,y,z=num2,num3,num1\n",
    "else:\n",
    "    if num1<num2:\n",
    "        x,y,z=num3,num1,num2\n",
    "    else:\n",
    "        x,y,z=num3,num2,num1\n",
    "print(\"Numbers in ascending order are : \",x,y,z)"
   ]
  },
  {
   "cell_type": "markdown",
   "id": "24e87044-8770-4aea-978b-e12650212678",
   "metadata": {},
   "source": [
    "### 29. Build a program that determines the roots of a quartic equation using numerical methods."
   ]
  },
  {
   "cell_type": "code",
   "execution_count": 6,
   "id": "c75ac09e-3922-47ce-b57d-c253c7e29628",
   "metadata": {},
   "outputs": [
    {
     "name": "stdout",
     "output_type": "stream",
     "text": [
      "Roots are real and same\n",
      "Root: 1.0\n"
     ]
    }
   ],
   "source": [
    "import math\n",
    "\n",
    "a = 1\n",
    "b = -2\n",
    "c = 1\n",
    "\n",
    "# Calculate the discriminant\n",
    "discriminant = b ** 2 - 4 * a * c\n",
    "\n",
    "if discriminant > 0:\n",
    "\troot1 = (-b + math.sqrt(discriminant)) / (2 * a)\n",
    "\troot2 = (-b - math.sqrt(discriminant)) / (2 * a)\n",
    "\tprint(\"Roots are real and distinct\")\n",
    "\tprint(\"Root 1:\", root1)\n",
    "\tprint(\"Root 2:\", root2)\n",
    "elif discriminant == 0:\n",
    "\troot = -b / (2 * a)\n",
    "\tprint(\"Roots are real and same\")\n",
    "\tprint(\"Root:\", root)\n",
    "else:\n",
    "\trealPart = -b / (2 * a)\n",
    "\timaginaryPart = math.sqrt(-discriminant) / (2 * a)\n",
    "\tprint(\"Roots are complex and different\")\n",
    "\tprint(\"Root 1:\", realPart, \"+\", imaginaryPart, \"i\")\n",
    "\tprint(\"Root 2:\", realPart, \"-\", imaginaryPart, \"i\")\n"
   ]
  },
  {
   "cell_type": "markdown",
   "id": "1492f351-5625-4d59-9b3a-172c9985c6ba",
   "metadata": {},
   "source": [
    "### 30. Write a program that calculates the BMI (Body Mass Index) and provides health recommendations based on the user's input."
   ]
  },
  {
   "cell_type": "code",
   "execution_count": 7,
   "id": "7f904443-968f-4bc9-8604-3d2ca871cc5a",
   "metadata": {},
   "outputs": [
    {
     "name": "stdin",
     "output_type": "stream",
     "text": [
      "Enter your BMI 30.0\n"
     ]
    },
    {
     "name": "stdout",
     "output_type": "stream",
     "text": [
      "30.0 is a obese\n"
     ]
    }
   ],
   "source": [
    "BMI=float(input(\"Enter your BMI\"))\n",
    "if BMI>=18.5 and BMI<=24.9:  # BMI between 18.5 and 24.9\n",
    "    print(BMI,\"is a normal weight\")\n",
    "elif BMI<18.5: # BMI below 18.5\n",
    "    print(BMI,\"is a under weight\")\n",
    "elif BMI>=25.0and BMI<=29.9: # BMI between 25.5 and 29.9.\n",
    "    print(BMI,\"is a over weight\")\n",
    "else: \n",
    "    BMI>30.0 # BMI above 30 \n",
    "    print(BMI,\"is a obese\")"
   ]
  },
  {
   "cell_type": "markdown",
   "id": "3f4e3f81-9bf0-48dc-898d-c3f37ac306e7",
   "metadata": {},
   "source": [
    "# Challenge Level:"
   ]
  },
  {
   "cell_type": "markdown",
   "id": "c178dbcb-2423-4c65-8c41-da3790ad38b4",
   "metadata": {},
   "source": [
    "### 31. Create a program that validates a password based on complexity rules (length, characters, etc.)."
   ]
  },
  {
   "cell_type": "code",
   "execution_count": null,
   "id": "8213d825-6183-467a-bedf-fea6a8545ceb",
   "metadata": {},
   "outputs": [
    {
     "name": "stdin",
     "output_type": "stream",
     "text": [
      "Enter password length:  2\n"
     ]
    },
    {
     "name": "stdout",
     "output_type": "stream",
     "text": [
      "Choose character set for password from these :\n",
      "        1. Digits\n",
      "        2. Letters\n",
      "        3. Special characters\n",
      "        4. Exit\n"
     ]
    }
   ],
   "source": [
    "import random\n",
    "# Getting password length\n",
    "length = int(input(\"Enter password length: \"))\n",
    "print('''Choose character set for password from these :\n",
    "        1. Digits\n",
    "        2. Letters\n",
    "        3. Special characters\n",
    "        4. Exit''')\n",
    "characterList = \"\"\n",
    "# Getting character set for password\n",
    "while(True):\n",
    "    choice = int(input(\"Pick a number \"))\n",
    "    if(choice == 1):\n",
    "\t\t# Adding letters to possible characters\n",
    "        characterList += string.ascii_letters\n",
    "    elif(choice == 2):\n",
    "\t\t# Adding digits to possible characters\n",
    "        characterList += string.digits\n",
    "    elif(choice == 3):\n",
    "\t\t# Adding special characters to possible\n",
    "\t\t# characters\n",
    "        characterList += string.punctuation\n",
    "    elif(choice == 4):\n",
    "        break\n",
    "    else:\n",
    "        print(\"Please pick a valid option!\")\n",
    "password = []\n",
    "for i in range(length):\n",
    "# Picking a random character from our\n",
    "# character list\n",
    "    randomchar = random.choice(characterList)\n",
    "   # appending a random character to password\n",
    "    password.append(randomchar)\n",
    "# printing password as a string\n",
    "print(\"The random password is \" + \"\".join(password))"
   ]
  },
  {
   "cell_type": "markdown",
   "id": "ae671876-22aa-4dd8-8f3c-c19af413a1d8",
   "metadata": {},
   "source": [
    "### 32. Develop a program that performs matrix addition and subtraction based on user input."
   ]
  },
  {
   "cell_type": "code",
   "execution_count": 2,
   "id": "ddc09c77-1a8e-492b-a7db-5b3296f2434d",
   "metadata": {},
   "outputs": [
    {
     "name": "stdin",
     "output_type": "stream",
     "text": [
      "Enter the number of rows:  3\n",
      "Enter the number of columns:  3\n"
     ]
    },
    {
     "name": "stdout",
     "output_type": "stream",
     "text": [
      "Enter the 3x3 matrix:\n"
     ]
    },
    {
     "name": "stdin",
     "output_type": "stream",
     "text": [
      "Enter element at position (1,1):  1\n",
      "Enter element at position (1,2):  2\n",
      "Enter element at position (1,3):  3\n",
      "Enter element at position (2,1):  45\n",
      "Enter element at position (2,2):  6\n",
      "Enter element at position (2,3):  7\n",
      "Enter element at position (3,1):  8\n",
      "Enter element at position (3,2):  9\n",
      "Enter element at position (3,3):  10\n"
     ]
    },
    {
     "name": "stdout",
     "output_type": "stream",
     "text": [
      "Enter the 3x3 matrix:\n"
     ]
    },
    {
     "name": "stdin",
     "output_type": "stream",
     "text": [
      "Enter element at position (1,1):  11\n",
      "Enter element at position (1,2):  12\n",
      "Enter element at position (1,3):  13\n",
      "Enter element at position (2,1):  14\n",
      "Enter element at position (2,2):  15\n",
      "Enter element at position (2,3):  16\n",
      "Enter element at position (3,1):  17\n",
      "Enter element at position (3,2):  18\n",
      "Enter element at position (3,3):  19\n",
      "Enter 'add' for addition or 'subtract' for subtraction:  add\n"
     ]
    },
    {
     "name": "stdout",
     "output_type": "stream",
     "text": [
      "Result of matrix addition:\n",
      "[12.0, 14.0, 16.0]\n",
      "[59.0, 21.0, 23.0]\n",
      "[25.0, 27.0, 29.0]\n"
     ]
    }
   ],
   "source": [
    "def input_matrix(rows, cols):\n",
    "    matrix = []\n",
    "    print(f\"Enter the {rows}x{cols} matrix:\")\n",
    "    for i in range(rows):\n",
    "        row = []\n",
    "        for j in range(cols):\n",
    "            element = float(input(f\"Enter element at position ({i+1},{j+1}): \"))\n",
    "            row.append(element)\n",
    "        matrix.append(row)\n",
    "    return matrix\n",
    "def add_matrices(matrix1, matrix2):\n",
    "    result = []\n",
    "    if len(matrix1) != len(matrix2) or len(matrix1[0]) != len(matrix2[0]):\n",
    "        print(\"Matrix addition is not possible. Matrices must have the same dimensions.\")\n",
    "    else:\n",
    "        for i in range(len(matrix1)):\n",
    "            row = []\n",
    "            for j in range(len(matrix1[0])):\n",
    "                row.append(matrix1[i][j] + matrix2[i][j])\n",
    "            result.append(row)\n",
    "    return result\n",
    "def subtract_matrices(matrix1, matrix2):\n",
    "    result = []\n",
    "    if len(matrix1) != len(matrix2) or len(matrix1[0]) != len(matrix2[0]):\n",
    "        print(\"Matrix subtraction is not possible. Matrices must have the same dimensions.\")\n",
    "    else:\n",
    "        for i in range(len(matrix1)):\n",
    "            row = []\n",
    "            for j in range(len(matrix1[0])):\n",
    "                row.append(matrix1[i][j] - matrix2[i][j])\n",
    "            result.append(row)\n",
    "    return result\n",
    "def print_matrix(matrix):\n",
    "    for row in matrix:\n",
    "        print(row)\n",
    "                                                 # Get user input for matrix dimensions\n",
    "rows = int(input(\"Enter the number of rows: \"))\n",
    "cols = int(input(\"Enter the number of columns: \"))\n",
    "                                                 # Get user input for the first matrix\n",
    "matrix1 = input_matrix(rows, cols)\n",
    "                                                 # Get user input for the second matrix\n",
    "matrix2 = input_matrix(rows, cols)\n",
    "\n",
    "                                                # Perform addition and subtraction based on user choice\n",
    "operation = input(\"Enter 'add' for addition or 'subtract' for subtraction: \")\n",
    "\n",
    "if operation == 'add':\n",
    "    result = add_matrices(matrix1, matrix2)\n",
    "    print(\"Result of matrix addition:\")\n",
    "    print_matrix(result)\n",
    "elif operation == 'subtract':\n",
    "    result = subtract_matrices(matrix1, matrix2)\n",
    "    print(\"Result of matrix subtraction:\")\n",
    "    print_matrix(result)\n",
    "else:\n",
    "    print(\"Invalid operation. Please enter 'add' or 'subtract'.\")"
   ]
  },
  {
   "cell_type": "markdown",
   "id": "552ff2bb-8882-486c-a571-fe94f4987898",
   "metadata": {},
   "source": [
    "### 33. Write a program that calculates the greatest common divisor (GCD) of two numbers using the Euclidean algorithm."
   ]
  },
  {
   "cell_type": "code",
   "execution_count": 3,
   "id": "d0360932-100b-4c96-8545-23a32d589eb7",
   "metadata": {},
   "outputs": [
    {
     "name": "stdout",
     "output_type": "stream",
     "text": [
      "gcd( 10 , 15 ) =  5\n",
      "gcd( 35 , 10 ) =  5\n",
      "gcd( 31 , 2 ) =  1\n"
     ]
    }
   ],
   "source": [
    "# Python3 program to demonstrate Basic Euclidean Algorithm\n",
    "# Function to return gcd of a and b\n",
    "def gcd(a, b):\n",
    "    if a == 0:\n",
    "        return b\n",
    " \n",
    "    return gcd(b % a, a)\n",
    " \n",
    "# Driver code\n",
    "if __name__ == \"__main__\":\n",
    "    a = 10\n",
    "    b = 15\n",
    "    print(\"gcd(\", a, \",\", b, \") = \", gcd(a, b))\n",
    "    a = 35\n",
    "    b = 10\n",
    "    print(\"gcd(\", a, \",\", b, \") = \", gcd(a, b))\n",
    "    a = 31\n",
    "    b = 2\n",
    "    print(\"gcd(\", a, \",\", b, \") = \", gcd(a, b)) # print the result."
   ]
  },
  {
   "cell_type": "markdown",
   "id": "80ca55e8-6b46-412d-be83-e8a431aff55b",
   "metadata": {},
   "source": [
    "### 34. Build a program that performs matrix multiplication using nested loops and conditional statements."
   ]
  },
  {
   "cell_type": "code",
   "execution_count": 4,
   "id": "a11ba006-8cda-4a3c-a31e-f3a567e790c0",
   "metadata": {},
   "outputs": [
    {
     "name": "stdout",
     "output_type": "stream",
     "text": [
      "Result of matrix multiplication:\n",
      "[19, 22]\n",
      "[43, 50]\n"
     ]
    }
   ],
   "source": [
    "def matrix_multiply(matrix1, matrix2):\n",
    "    if len(matrix1[0]) != len(matrix2):\n",
    "        print(\"Matrix multiplication is not possible. The number of columns in the first matrix must be equal to the number of rows in the second matrix.\")\n",
    "        return None\n",
    "\n",
    "    result = []\n",
    "    for i in range(len(matrix1)):\n",
    "        row = []\n",
    "        for j in range(len(matrix2[0])):\n",
    "            element = 0\n",
    "            for k in range(len(matrix2)):\n",
    "                element += matrix1[i][k] * matrix2[k][j]\n",
    "            row.append(element)\n",
    "        result.append(row)\n",
    "    return result\n",
    "\n",
    "# Example matrices (replace with your own matrices)\n",
    "matrix1 = [[1, 2], [3, 4]]\n",
    "matrix2 = [[5, 6], [7, 8]]\n",
    "\n",
    "result = matrix_multiply(matrix1, matrix2)\n",
    "\n",
    "if result:\n",
    "    print(\"Result of matrix multiplication:\")\n",
    "    for row in result:\n",
    "        print(row)\n"
   ]
  },
  {
   "cell_type": "markdown",
   "id": "af4dd0c6-29aa-40a7-ab6d-0faaf73ec5ba",
   "metadata": {},
   "source": [
    "### 35. Create a program that simulates a basic text-based tic-tac-toe game against the computer."
   ]
  },
  {
   "cell_type": "code",
   "execution_count": 19,
   "id": "46fcae2e-081c-426a-963b-2cc316c8c8ba",
   "metadata": {},
   "outputs": [
    {
     "name": "stdout",
     "output_type": "stream",
     "text": [
      "Welcome to Tic-Tac-Toe!\n",
      "  |   |  \n",
      "---------\n",
      "  |   |  \n",
      "---------\n",
      "  |   |  \n",
      "---------\n"
     ]
    },
    {
     "name": "stdin",
     "output_type": "stream",
     "text": [
      "Enter your move (row and column):  1 0\n"
     ]
    },
    {
     "name": "stdout",
     "output_type": "stream",
     "text": [
      "  |   |  \n",
      "---------\n",
      "X |   |  \n",
      "---------\n",
      "  |   |  \n",
      "---------\n",
      "Computer chooses row 1 and column 2\n",
      "  | O |  \n",
      "---------\n",
      "X |   |  \n",
      "---------\n",
      "  |   |  \n",
      "---------\n"
     ]
    },
    {
     "name": "stdin",
     "output_type": "stream",
     "text": [
      "Enter your move (row and column):  1 1\n"
     ]
    },
    {
     "name": "stdout",
     "output_type": "stream",
     "text": [
      "  | O |  \n",
      "---------\n",
      "X | X |  \n",
      "---------\n",
      "  |   |  \n",
      "---------\n",
      "Computer chooses row 1 and column 1\n",
      "O | O |  \n",
      "---------\n",
      "X | X |  \n",
      "---------\n",
      "  |   |  \n",
      "---------\n"
     ]
    },
    {
     "name": "stdin",
     "output_type": "stream",
     "text": [
      "Enter your move (row and column):  1 2\n"
     ]
    },
    {
     "name": "stdout",
     "output_type": "stream",
     "text": [
      "O | O |  \n",
      "---------\n",
      "X | X | X\n",
      "---------\n",
      "  |   |  \n",
      "---------\n",
      "Player X wins!\n"
     ]
    }
   ],
   "source": [
    "import random\n",
    "def print_board(board):\n",
    "    for row in board:\n",
    "        print(\" | \".join(row))\n",
    "        print(\"-\" * 9)\n",
    "def check_win(board, player):\n",
    "                                          # Check rows, columns, and diagonals\n",
    "    for i in range(3):\n",
    "        if all(board[i][j] == player for j in range(3)) or \\\n",
    "           all(board[j][i] == player for j in range(3)):\n",
    "            return True\n",
    "    if all(board[i][i] == player for i in range(3)) or \\\n",
    "       all(board[i][2 - i] == player for i in range(3)):\n",
    "        return True\n",
    "    return False\n",
    "def is_board_full(board):\n",
    "    return all(board[i][j] != ' ' for i in range(3) for j in range(3))\n",
    "def computer_move(board):\n",
    "    empty_cells = [(i, j) for i in range(3) for j in range(3) if board[i][j] == ' ']\n",
    "    return random.choice(empty_cells)\n",
    "def main():\n",
    "    board = [[' ' for _ in range(3)] for _ in range(3)]\n",
    "    player = 'X'\n",
    "    computer = 'O'\n",
    "    print(\"Welcome to Tic-Tac-Toe!\")\n",
    "    print_board(board)\n",
    "    while True:\n",
    "        if player == 'X':\n",
    "            row, col = map(int, input(\"Enter your move (row and column): \").split())\n",
    "        else:\n",
    "            row, col = computer_move(board)\n",
    "            print(f\"Computer chooses row {row + 1} and column {col + 1}\")\n",
    "        if board[row][col] == ' ':\n",
    "            board[row][col] = player\n",
    "        else:\n",
    "            print(\"Invalid move. Try again.\")\n",
    "            continue\n",
    "        print_board(board)\n",
    "        if check_win(board, player):\n",
    "            print(f\"Player {player} wins!\")\n",
    "            break\n",
    "        elif is_board_full(board):\n",
    "            print(\"It's a draw!\")\n",
    "            break\n",
    "\n",
    "        player = 'O' if player == 'X' else 'X'\n",
    "\n",
    "if __name__ == \"__main__\":\n",
    "    main()\n"
   ]
  },
  {
   "cell_type": "markdown",
   "id": "249012fb-b92d-4eab-b827-2de6da80e9b3",
   "metadata": {},
   "source": [
    "### 36. Write a program that generates Fibonacci numbers up to a specified term using iterative methods."
   ]
  },
  {
   "cell_type": "code",
   "execution_count": 20,
   "id": "b4d5eb01-0068-42d7-b49f-ce9b24bfe028",
   "metadata": {},
   "outputs": [
    {
     "name": "stdin",
     "output_type": "stream",
     "text": [
      "Enter the number of Fibonacci terms to generate:  5\n"
     ]
    },
    {
     "name": "stdout",
     "output_type": "stream",
     "text": [
      "Fibonacci Sequence up to term 5 : [0, 1, 1, 2, 3]\n"
     ]
    }
   ],
   "source": [
    "def generate_fibonacci(n):\n",
    "    fib_sequence = [0, 1]\n",
    "\n",
    "    if n <= 0:\n",
    "        return []\n",
    "    elif n == 1:\n",
    "        return [0]\n",
    "    elif n == 2:\n",
    "        return fib_sequence\n",
    "\n",
    "    for i in range(2, n):\n",
    "        next_fib = fib_sequence[-1] + fib_sequence[-2]\n",
    "        fib_sequence.append(next_fib)\n",
    "\n",
    "    return fib_sequence\n",
    "\n",
    "# Input the desired term 'n' for Fibonacci sequence\n",
    "n = int(input(\"Enter the number of Fibonacci terms to generate: \"))\n",
    "\n",
    "if n <= 0:\n",
    "    print(\"Please enter a positive integer.\")\n",
    "else:\n",
    "    fibonacci_sequence = generate_fibonacci(n)\n",
    "    print(\"Fibonacci Sequence up to term\", n, \":\", fibonacci_sequence)\n"
   ]
  },
  {
   "cell_type": "markdown",
   "id": "ef1a3242-e771-4682-a0cb-7cae62de1f27",
   "metadata": {},
   "source": [
    "### 37. Develop a program that calculates the nth term of the Fibonacci sequence using memoization."
   ]
  },
  {
   "cell_type": "code",
   "execution_count": 21,
   "id": "e9e57c5e-dec0-4e6d-b1e0-2b4d8bbae628",
   "metadata": {},
   "outputs": [
    {
     "name": "stdin",
     "output_type": "stream",
     "text": [
      "Enter the value of n:  10\n"
     ]
    },
    {
     "name": "stdout",
     "output_type": "stream",
     "text": [
      "The 10-th Fibonacci number is 55\n"
     ]
    }
   ],
   "source": [
    "# Create a dictionary to store computed Fibonacci values\n",
    "fib_cache = {}\n",
    "\n",
    "def fibonacci(n):\n",
    "    # Check if the value is already in the cache\n",
    "    if n in fib_cache:\n",
    "        return fib_cache[n]\n",
    "    \n",
    "    # Base case: Fibonacci of 0 and 1 is 0 and 1, respectively\n",
    "    if n == 0:\n",
    "        fib_cache[n] = 0\n",
    "    elif n == 1:\n",
    "        fib_cache[n] = 1\n",
    "    else:\n",
    "        # Recursive case: Calculate Fibonacci for n-1 and n-2\n",
    "        fib_cache[n] = fibonacci(n - 1) + fibonacci(n - 2)\n",
    "    \n",
    "    return fib_cache[n]\n",
    "\n",
    "# Input the desired Fibonacci term\n",
    "n = int(input(\"Enter the value of n: \"))\n",
    "\n",
    "# Calculate and print the nth Fibonacci term\n",
    "result = fibonacci(n)\n",
    "print(f\"The {n}-th Fibonacci number is {result}\")\n"
   ]
  },
  {
   "cell_type": "markdown",
   "id": "43274af5-12bd-42f0-9dbd-1005ad870896",
   "metadata": {},
   "source": [
    "### 38. Create a program that generates a calendar for a given month and year using conditional statements."
   ]
  },
  {
   "cell_type": "code",
   "execution_count": 24,
   "id": "15b196d5-f533-4291-9b40-ff890e338d03",
   "metadata": {},
   "outputs": [
    {
     "name": "stdin",
     "output_type": "stream",
     "text": [
      "Enter year:  1875\n",
      "Enter month (1-12):  11\n"
     ]
    },
    {
     "name": "stdout",
     "output_type": "stream",
     "text": [
      "November 1875\n",
      "Mo Tu We Th Fr Sa Su\n",
      " 1  2  3  4  5  6  7 \n",
      " 8  9 10 11 12 13 14 \n",
      "15 16 17 18 19 20 21 \n",
      "22 23 24 25 26 27 28 \n",
      "29 30                     \n"
     ]
    }
   ],
   "source": [
    "import calendar\n",
    "def generate_calendar(year, month):\n",
    "                                               # Create a calendar object\n",
    "    cal = calendar.monthcalendar(year, month)\n",
    "\n",
    "                                               # Define month and year headers\n",
    "    month_name = calendar.month_name[month]\n",
    "    year_str = str(year)\n",
    "    \n",
    "                                               # Print the month and year headers\n",
    "    print(f\"{month_name} {year_str}\")\n",
    "    print(\"Mo Tu We Th Fr Sa Su\")\n",
    "\n",
    "                                               # Iterate through each week in the month\n",
    "    for week in cal:\n",
    "        for day in week:\n",
    "                                                # If day is zero, it's not part of the current month\n",
    "            if day == 0:\n",
    "                print(\"   \", end=\" \")\n",
    "            else:\n",
    "                                                   # Print the day and add leading zero if needed\n",
    "                print(f\"{day:2d}\", end=\" \")\n",
    "        print()                                   # Move to the next line for the next week\n",
    "\n",
    "                                               # Input the year and month you want to generate the calendar for\n",
    "year = int(input(\"Enter year: \"))\n",
    "month = int(input(\"Enter month (1-12): \"))\n",
    "\n",
    "generate_calendar(year, month)"
   ]
  },
  {
   "cell_type": "markdown",
   "id": "08d6165e-da65-4435-9552-ad3141b5f02e",
   "metadata": {},
   "source": [
    "### 39. Build a program that simulates a basic text-based blackjack game against the computer."
   ]
  },
  {
   "cell_type": "code",
   "execution_count": 25,
   "id": "4279e2e8-6b72-4ccb-96e1-fa4f55356c37",
   "metadata": {},
   "outputs": [
    {
     "name": "stdout",
     "output_type": "stream",
     "text": [
      "\n",
      "Player's Hand:\n",
      "Ace of Spades\n",
      "Nine of Diamonds\n",
      "Total Value: 20\n",
      "\n",
      "Dealer's Hand:\n",
      "Two of Spades\n",
      "Hidden Card\n",
      "Total Value: ???\n"
     ]
    },
    {
     "name": "stdin",
     "output_type": "stream",
     "text": [
      "\n",
      "Do you want to 'Hit' or 'Stand'?  Hit\n"
     ]
    },
    {
     "name": "stdout",
     "output_type": "stream",
     "text": [
      "\n",
      "Player's Hand:\n",
      "Ace of Spades\n",
      "Nine of Diamonds\n",
      "King of Clubs\n",
      "Total Value: 20\n",
      "\n",
      "Dealer's Hand:\n",
      "Two of Spades\n",
      "Hidden Card\n",
      "Total Value: ???\n"
     ]
    },
    {
     "name": "stdin",
     "output_type": "stream",
     "text": [
      "\n",
      "Do you want to 'Hit' or 'Stand'?  stand\n"
     ]
    },
    {
     "name": "stdout",
     "output_type": "stream",
     "text": [
      "\n",
      "Player's Hand:\n",
      "Ace of Spades\n",
      "Nine of Diamonds\n",
      "King of Clubs\n",
      "Total Value: 20\n",
      "\n",
      "Dealer's Hand:\n",
      "Two of Spades\n",
      "Hidden Card\n",
      "Total Value: ???\n",
      "You win!\n"
     ]
    }
   ],
   "source": [
    "import random\n",
    "\n",
    "# Define the deck of cards\n",
    "suits = [\"Hearts\", \"Diamonds\", \"Clubs\", \"Spades\"]\n",
    "ranks = [\"Two\", \"Three\", \"Four\", \"Five\", \"Six\", \"Seven\", \"Eight\", \"Nine\", \"Ten\", \"Jack\", \"Queen\", \"King\", \"Ace\"]\n",
    "values = [2, 3, 4, 5, 6, 7, 8, 9, 10, 10, 10, 10, 11]\n",
    "\n",
    "# Function to calculate the total value of a hand\n",
    "def calculate_hand_value(hand):\n",
    "    total = sum(hand)\n",
    "    num_aces = hand.count(11)\n",
    "    while total > 21 and num_aces > 0:\n",
    "        total -= 10\n",
    "        num_aces -= 1\n",
    "    return total\n",
    "\n",
    "# Function to display the player's and dealer's hands\n",
    "def display_hands(player_hand, dealer_hand):\n",
    "    print(\"\\nPlayer's Hand:\")\n",
    "    for card in player_hand:\n",
    "        print(f\"{card[1]} of {card[0]}\")\n",
    "    print(f\"Total Value: {calculate_hand_value([card[2] for card in player_hand])}\")\n",
    "\n",
    "    print(\"\\nDealer's Hand:\")\n",
    "    print(f\"{dealer_hand[0][1]} of {dealer_hand[0][0]}\")\n",
    "    print(\"Hidden Card\")\n",
    "    print(f\"Total Value: ???\")\n",
    "\n",
    "# Initialize the deck and shuffle\n",
    "deck = [(suit, rank, value) for suit in suits for rank, value in zip(ranks, values)]\n",
    "random.shuffle(deck)\n",
    "\n",
    "# Deal initial cards\n",
    "player_hand = [deck.pop(), deck.pop()]\n",
    "dealer_hand = [deck.pop(), deck.pop()]\n",
    "\n",
    "# Game loop\n",
    "while True:\n",
    "    # Display hands\n",
    "    display_hands(player_hand, dealer_hand)\n",
    "\n",
    "    # Check for player blackjack or bust\n",
    "    if calculate_hand_value([card[2] for card in player_hand]) == 21:\n",
    "        print(\"Blackjack! You win!\")\n",
    "        break\n",
    "    elif calculate_hand_value([card[2] for card in player_hand]) > 21:\n",
    "        print(\"Bust! You lose!\")\n",
    "        break\n",
    "\n",
    "    # Ask the player to hit or stand\n",
    "    choice = input(\"\\nDo you want to 'Hit' or 'Stand'? \").lower()\n",
    "    if choice == 'hit':\n",
    "        player_hand.append(deck.pop())\n",
    "    elif choice == 'stand':\n",
    "        # Dealer's turn\n",
    "        while calculate_hand_value([card[2] for card in dealer_hand]) < 17:\n",
    "            dealer_hand.append(deck.pop())\n",
    "\n",
    "        # Display hands\n",
    "        display_hands(player_hand, dealer_hand)\n",
    "\n",
    "        # Check for dealer blackjack or bust\n",
    "        if calculate_hand_value([card[2] for card in dealer_hand]) == 21:\n",
    "            print(\"Dealer has blackjack. You lose!\")\n",
    "        elif calculate_hand_value([card[2] for card in dealer_hand]) > 21:\n",
    "            print(\"Dealer busts. You win!\")\n",
    "        elif calculate_hand_value([card[2] for card in player_hand]) > calculate_hand_value([card[2] for card in dealer_hand]):\n",
    "            print(\"You win!\")\n",
    "        elif calculate_hand_value([card[2] for card in player_hand]) < calculate_hand_value([card[2] for card in dealer_hand]):\n",
    "            print(\"You lose!\")\n",
    "        else:\n",
    "            print(\"It's a tie!\")\n",
    "        break\n"
   ]
  },
  {
   "cell_type": "markdown",
   "id": "15a36a2a-1f04-44cf-81d2-884a8f5bef04",
   "metadata": {},
   "source": [
    "### 40. Write a program that generates the prime factors of a given number using trial division."
   ]
  },
  {
   "cell_type": "code",
   "execution_count": 27,
   "id": "94cc20df-30e0-4245-b59d-1a03bd20ed46",
   "metadata": {},
   "outputs": [
    {
     "name": "stdin",
     "output_type": "stream",
     "text": [
      "Enter a number:  11\n"
     ]
    },
    {
     "name": "stdout",
     "output_type": "stream",
     "text": [
      "11 is a prime number.\n"
     ]
    }
   ],
   "source": [
    "def prime_factors(n):\n",
    "    factors = []\n",
    "    divisor = 2\n",
    "    while divisor <= n:\n",
    "        if n % divisor == 0:\n",
    "            factors.append(divisor)\n",
    "            n //= divisor\n",
    "        else:\n",
    "            divisor += 1\n",
    "    return factors\n",
    "                                        # Input from the user\n",
    "try:\n",
    "    num = int(input(\"Enter a number: \"))\n",
    "    if num <= 0:\n",
    "        print(\"Please enter a positive integer.\")\n",
    "    else:\n",
    "        factors = prime_factors(num)\n",
    "        if len(factors) == 1:\n",
    "            print(f\"{num} is a prime number.\")\n",
    "        else:\n",
    "            print(f\"The prime factors of {num} are: {', '.join(map(str, factors))}\")\n",
    "except ValueError:\n",
    "    print(\"Invalid input. Please enter a valid positive integer.\")"
   ]
  },
  {
   "cell_type": "code",
   "execution_count": null,
   "id": "db49277a-9424-4bc7-8246-f9fb61588a38",
   "metadata": {},
   "outputs": [],
   "source": []
  }
 ],
 "metadata": {
  "kernelspec": {
   "display_name": "Python 3 (ipykernel)",
   "language": "python",
   "name": "python3"
  },
  "language_info": {
   "codemirror_mode": {
    "name": "ipython",
    "version": 3
   },
   "file_extension": ".py",
   "mimetype": "text/x-python",
   "name": "python",
   "nbconvert_exporter": "python",
   "pygments_lexer": "ipython3",
   "version": "3.10.8"
  }
 },
 "nbformat": 4,
 "nbformat_minor": 5
}
