{
 "cells": [
  {
   "cell_type": "markdown",
   "id": "7adfaf4e-e1af-4d8c-94a4-29a7277afa23",
   "metadata": {},
   "source": [
    "# Basic Level:"
   ]
  },
  {
   "cell_type": "markdown",
   "id": "e043c786-2801-4c17-b8be-dc7073d2dadb",
   "metadata": {},
   "source": [
    "### 1. Write a Python program to print the numbers from 1 to 10 using a `for` loop."
   ]
  },
  {
   "cell_type": "code",
   "execution_count": 7,
   "id": "d84a94c9-abda-458c-80db-b2f7dbff1613",
   "metadata": {},
   "outputs": [
    {
     "name": "stdout",
     "output_type": "stream",
     "text": [
      "The range of 1 to 10 is: 1\n",
      "The range of 1 to 10 is: 2\n",
      "The range of 1 to 10 is: 3\n",
      "The range of 1 to 10 is: 4\n",
      "The range of 1 to 10 is: 5\n",
      "The range of 1 to 10 is: 6\n",
      "The range of 1 to 10 is: 7\n",
      "The range of 1 to 10 is: 8\n",
      "The range of 1 to 10 is: 9\n",
      "The range of 1 to 10 is: 10\n"
     ]
    }
   ],
   "source": [
    "for i in range(1,11): # Using for loop range is 1 to 11.\n",
    "    print(\"The range of 1 to 10 is:\",i) # print the result."
   ]
  },
  {
   "cell_type": "markdown",
   "id": "86e6aeef-52a4-489b-82d2-15151d16b69d",
   "metadata": {},
   "source": [
    "### 2. Create a program that calculates the sum of all numbers in a list using a `for` loop."
   ]
  },
  {
   "cell_type": "code",
   "execution_count": 16,
   "id": "97b80206-47ee-4e35-80e1-4b1f8844f7a1",
   "metadata": {},
   "outputs": [
    {
     "name": "stdin",
     "output_type": "stream",
     "text": [
      "How many numbers: 5\n",
      "enter number: 1\n",
      "enter number: 2\n",
      "enter number: 3\n",
      "enter number: 5\n",
      "enter number: 10\n"
     ]
    },
    {
     "name": "stdout",
     "output_type": "stream",
     "text": [
      "the sum of all numbers are: 21\n"
     ]
    }
   ],
   "source": [
    "list=[] # Take a emptylist.\n",
    "num=int(input(\"How many numbers:\")) # Take numbers from the user.  \n",
    "for i in range(num): # using for loop to range of a num.\n",
    "        num=int(input(\"enter number:\")) # Take a number from the user.\n",
    "        list.append(num)\n",
    "print(\"the sum of all numbers are:\",sum(list)) # print the sum of all numbers in a list."
   ]
  },
  {
   "cell_type": "markdown",
   "id": "66da420d-f300-4415-8731-03c24df650cd",
   "metadata": {},
   "source": [
    "### 3. Write a program to print the characters of a string in reverse order using a `for` loop."
   ]
  },
  {
   "cell_type": "code",
   "execution_count": 24,
   "id": "9dad193c-e3ab-4f61-a830-979bffb35b9f",
   "metadata": {},
   "outputs": [
    {
     "name": "stdin",
     "output_type": "stream",
     "text": [
      "enter the character ramakrishna\n"
     ]
    },
    {
     "name": "stdout",
     "output_type": "stream",
     "text": [
      "anhsirkamar\n"
     ]
    }
   ],
   "source": [
    "character=input(\"enter the character\") # Take a value from user.\n",
    "str=\"\" # Take a empty string. \n",
    "for i in character: # Iterate i values.\n",
    "    str=i+str \n",
    "print(str) # print the result.   "
   ]
  },
  {
   "cell_type": "markdown",
   "id": "4d617003-061c-462b-88d6-fd1e67b3bba8",
   "metadata": {},
   "source": [
    "### 4. Develop a program that finds the factorial of a given number using a `for` loop."
   ]
  },
  {
   "cell_type": "code",
   "execution_count": 42,
   "id": "f5c6c1fc-081c-43e1-9898-537b00822571",
   "metadata": {},
   "outputs": [
    {
     "name": "stdout",
     "output_type": "stream",
     "text": [
      "The factorial of 5 is 120\n"
     ]
    }
   ],
   "source": [
    "num=5 # Take a number.\n",
    "factorial=1\n",
    "for i in range(1,num + 1): # using for loop to iterate the number. \n",
    "    factorial = factorial*i\n",
    "print(\"The factorial of\",num,\"is\",factorial) # print the result."
   ]
  },
  {
   "cell_type": "markdown",
   "id": "301e4111-d759-4471-a8d4-211f205900e8",
   "metadata": {},
   "source": [
    "### 5. Create a program to print the multiplication table of a given number using a `for` loop."
   ]
  },
  {
   "cell_type": "code",
   "execution_count": 46,
   "id": "6e54c2c5-79be-4e92-985c-c3ab89040c0b",
   "metadata": {},
   "outputs": [
    {
     "name": "stdin",
     "output_type": "stream",
     "text": [
      "Enter the number for multipication table 12\n"
     ]
    },
    {
     "name": "stdout",
     "output_type": "stream",
     "text": [
      "The multiplication table of: 12 is\n",
      "12 x 1 = 12\n",
      "12 x 2 = 24\n",
      "12 x 3 = 36\n",
      "12 x 4 = 48\n",
      "12 x 5 = 60\n",
      "12 x 6 = 72\n",
      "12 x 7 = 84\n",
      "12 x 8 = 96\n",
      "12 x 9 = 108\n",
      "12 x 10 = 120\n"
     ]
    }
   ],
   "source": [
    "number=int(input(\"Enter the number for multipication table\")) # Take a value from the user.\n",
    "print(\"The multiplication table of:\",number,\"is\") # To print the multiplication number. \n",
    "for count in range(1,11): # Using for to iterate the value is 10.\n",
    "    print(number,'x',count,'=',number*count) # print the result."
   ]
  },
  {
   "cell_type": "markdown",
   "id": "06fd235b-a59b-41e5-afa1-7b7c2dbc655c",
   "metadata": {},
   "source": [
    "### 6. Write a program that counts the number of even and odd numbers in a list using a `for` loop."
   ]
  },
  {
   "cell_type": "code",
   "execution_count": 56,
   "id": "50937263-e7bc-4e3c-87ed-e543bb120677",
   "metadata": {},
   "outputs": [
    {
     "name": "stdout",
     "output_type": "stream",
     "text": [
      "The count of even is: 1\n",
      "The count of even is: 2\n",
      "The count of even is: 2\n",
      "The count of even is: 3\n",
      "The count of odd is: 1\n"
     ]
    }
   ],
   "source": [
    "n=[2,8,5,6] # Take a numbers.\n",
    "even_count,odd_count=0,0 # Define even and odd.\n",
    "for i in n: # To iterate the value.\n",
    "    if(i%2==0): # Using if statement to print the value if it is satisfied.\n",
    "        even_count+=1 # if it satisfied increment the even count value.\n",
    "    print(\"The count of even is:\",even_count) # print the result.  \n",
    "else:\n",
    "    odd_count+=1 # else will be satisfied then increment the odd count value. \n",
    "    print(\"The count of odd is:\",odd_count) # print the result."
   ]
  },
  {
   "cell_type": "markdown",
   "id": "ddc0f7e0-62be-4f28-a448-5084d1e1239a",
   "metadata": {},
   "source": [
    "### 7. Develop a program that prints the squares of numbers from 1 to 5 using a `for` loop."
   ]
  },
  {
   "cell_type": "code",
   "execution_count": 61,
   "id": "5beb84a3-5af0-4152-bc35-ddf4f0f727ff",
   "metadata": {},
   "outputs": [
    {
     "name": "stdout",
     "output_type": "stream",
     "text": [
      "1\n",
      "4\n",
      "9\n",
      "16\n",
      "25\n"
     ]
    }
   ],
   "source": [
    "x=1,2,3,4,5 # Take a values from 1 to 6.\n",
    "for x in range(1,6): # Using for loop to iterate the value.\n",
    "    print(x**2) # print the result."
   ]
  },
  {
   "cell_type": "markdown",
   "id": "f8a3c1ba-70fc-4a4f-aaa1-9d0ae5383b9f",
   "metadata": {},
   "source": [
    "### 8. Create a program to find the length of a string without using the `len()` function."
   ]
  },
  {
   "cell_type": "code",
   "execution_count": 62,
   "id": "d7c75ae8-322f-4d71-88cd-31c0b5aab16c",
   "metadata": {},
   "outputs": [
    {
     "name": "stdin",
     "output_type": "stream",
     "text": [
      "Enter the any string pwskills ineuron\n"
     ]
    },
    {
     "name": "stdout",
     "output_type": "stream",
     "text": [
      "The length of string is: 16\n"
     ]
    }
   ],
   "source": [
    "string=input(\"Enter the any string\") # Take a input from the user.\n",
    "count=0\n",
    "for i in string: # To increment the string value. \n",
    "    count=count+1\n",
    "print(\"The length of string is:\",count) # print the result.    "
   ]
  },
  {
   "cell_type": "markdown",
   "id": "060fdad6-bbbe-4192-8615-a8471748eeef",
   "metadata": {},
   "source": [
    "### 9. Write a program that calculates the average of a list of numbers using a `for` loop."
   ]
  },
  {
   "cell_type": "code",
   "execution_count": 76,
   "id": "0a5565f3-0c81-42c3-b066-1b5167ab9e8f",
   "metadata": {},
   "outputs": [
    {
     "name": "stdin",
     "output_type": "stream",
     "text": [
      "Enter the number of elements to be inserted:  3\n",
      "Enter element:  4\n",
      "Enter element:  5\n",
      "Enter element:  6\n"
     ]
    },
    {
     "name": "stdout",
     "output_type": "stream",
     "text": [
      "Average of elements in the list 5.0\n"
     ]
    }
   ],
   "source": [
    "n=int(input(\"Enter the number of elements to be inserted: \")) # Take input from the user.\n",
    "a=[] # create empty list.\n",
    "for i in range(0,n): # iterate the value. \n",
    "    elem=int(input(\"Enter element: \"))\n",
    "    a.append(elem)\n",
    "avg=sum(a)/n # using average formule.\n",
    "print(\"Average of elements in the list\",round(avg,2)) # print the result."
   ]
  },
  {
   "cell_type": "markdown",
   "id": "c34894a8-91ce-460c-9120-83038ce25cdf",
   "metadata": {},
   "source": [
    "### 10. Develop a program that prints the first `n` Fibonacci numbers using a `for` loop."
   ]
  },
  {
   "cell_type": "code",
   "execution_count": 78,
   "id": "83c9584a-d483-4294-b076-21c285f4f109",
   "metadata": {},
   "outputs": [
    {
     "name": "stdout",
     "output_type": "stream",
     "text": [
      "the first value is: 0\n",
      "the second value is: 1\n",
      "1\n",
      "2\n",
      "3\n",
      "5\n",
      "8\n",
      "13\n",
      "21\n",
      "34\n"
     ]
    }
   ],
   "source": [
    " first = 0\n",
    "second = 1\n",
    "print(\"the first value is:\",first)\n",
    "print(\"the second value is:\",second)\n",
    "for x in range(1,9): # To iterate the values\n",
    "    third = first + second # to print the third value.\n",
    "    print(third) # print the result.\n",
    "    first,second=second,third # To print the first and value."
   ]
  },
  {
   "cell_type": "markdown",
   "id": "6eced0e0-3f90-4283-9398-d83b8ee130ef",
   "metadata": {},
   "source": [
    "# Intermediate Level:"
   ]
  },
  {
   "cell_type": "markdown",
   "id": "aaf776c1-aab1-4c46-8f07-0767cf36e25d",
   "metadata": {},
   "source": [
    "### 11. Write a program to check if a given list contains any duplicates using a `for` loop."
   ]
  },
  {
   "cell_type": "code",
   "execution_count": 11,
   "id": "3eb161c1-cc7e-4a44-84a0-aa313d52266a",
   "metadata": {},
   "outputs": [
    {
     "name": "stdout",
     "output_type": "stream",
     "text": [
      "The Duplicate values are: ['pwskills']\n"
     ]
    }
   ],
   "source": [
    "l=[\"pwskills\",\"ineuron\",\"rama\",\"pwskills\"] # Take a values on list.\n",
    "l1=[] # Take empty list and name as l1.\n",
    "l2=[] # Take empty list and name as l2.\n",
    "for i in l:   # iterate i values.\n",
    "    if i not in l1: # print if conditon true.\n",
    "        l1.append(i)\n",
    "    elif i not in l2: # prints elif is true.\n",
    "        l2.append(i)\n",
    "print(\"The Duplicate values are:\",l2)  # print the result.   "
   ]
  },
  {
   "cell_type": "markdown",
   "id": "3dcb35b8-eecb-444d-80b5-d79aa193e9b6",
   "metadata": {},
   "source": [
    "### 12. Create a program that prints the prime numbers in a given range using a `for` loop."
   ]
  },
  {
   "cell_type": "code",
   "execution_count": 16,
   "id": "05b1a420-fb23-4d69-89f6-e49ced9ec409",
   "metadata": {},
   "outputs": [
    {
     "name": "stdin",
     "output_type": "stream",
     "text": [
      " Enter the Lowest Range Value:  10\n",
      " Enter the Upper Range Value:  20\n"
     ]
    },
    {
     "name": "stdout",
     "output_type": "stream",
     "text": [
      "The Prime Numbers in the range are: \n",
      "11\n",
      "13\n",
      "17\n",
      "19\n"
     ]
    }
   ],
   "source": [
    "lower_value = int(input (\" Enter the Lowest Range Value: \"))  # Take a input of starting range. \n",
    "upper_value = int(input (\" Enter the Upper Range Value: \"))  # Take a input of ending range.\n",
    "  \n",
    "print (\"The Prime Numbers in the range are: \")  \n",
    "for number in range (lower_value, upper_value + 1):  # iterate the start and end value +1.\n",
    "    if number > 1:  # if number lessthan 1 condition is true.\n",
    "        for i in range (2, number):  \n",
    "            if (number % i) == 0:  # if  number divided by i and return zero.\n",
    "                break  \n",
    "        else:  \n",
    "            print (number)  # print the result."
   ]
  },
  {
   "cell_type": "markdown",
   "id": "d6ff63bf-cdaa-4b52-b9f6-6672ef86b70b",
   "metadata": {},
   "source": [
    "### 13. Develop a program that counts the number of vowels in a string using a `for` loop."
   ]
  },
  {
   "cell_type": "code",
   "execution_count": 21,
   "id": "41cd6945-d414-4a27-abfc-01d5fdce067d",
   "metadata": {},
   "outputs": [
    {
     "name": "stdin",
     "output_type": "stream",
     "text": [
      "Enter the string ramakrishna\n"
     ]
    },
    {
     "name": "stdout",
     "output_type": "stream",
     "text": [
      "The number of vowels in string is: 1\n",
      "The number of vowels in string is: 2\n",
      "The number of vowels in string is: 3\n",
      "The number of vowels in string is: 4\n"
     ]
    }
   ],
   "source": [
    "a=input(\"Enter the string\") # Take input from the user.\n",
    "count=0\n",
    "for i in a: # Iterate i in a.\n",
    "    if i=='a'or i=='e'or i=='i'or i=='o'or i=='u'or i=='A'or i=='E'or i=='I'or i=='O'or i=='U': # if i is equal to vowels.\n",
    "        count=count+1 # vowels +1.\n",
    "        print(\"The number of vowels in string is:\",count) # print the result."
   ]
  },
  {
   "cell_type": "markdown",
   "id": "99ea2c3b-0ed7-47f9-b7ed-a3b077ef4c80",
   "metadata": {},
   "source": [
    "### 14. Write a program to find the maximum element in a 2D list using a nested `for` loop."
   ]
  },
  {
   "cell_type": "code",
   "execution_count": 8,
   "id": "6a878210-9548-41e7-b40a-3ff3a96c69b0",
   "metadata": {},
   "outputs": [
    {
     "name": "stdout",
     "output_type": "stream",
     "text": [
      "25\n"
     ]
    }
   ],
   "source": [
    "import sys\n",
    "N = 4 # Define m,n values.\n",
    "M = 4\n",
    "def findMax(mat): # using findmax function to find the maximum element.  \n",
    "    maxElement = -sys.maxsize - 1\n",
    "    for i in range(N): # Iterate the i value in range of n.\n",
    "        for j in range(M): # Iterate j value in range of m.\n",
    "            if (mat[i][j] > maxElement):\n",
    "                maxElement = mat[i][j]    \n",
    "    return maxElement # return the maxelement.\n",
    "if __name__ == '__main__':\n",
    "    mat = [[1, 2, 3, 4],\n",
    "           [25, 6, 7, 8],\n",
    "           [9, 10, 11, 12],\n",
    "           [13, 14, 15, 16]]\n",
    "    print(findMax(mat)) # print the result."
   ]
  },
  {
   "cell_type": "markdown",
   "id": "d80b6597-4cf2-4d3e-8437-1dfaaa20ecf7",
   "metadata": {},
   "source": [
    "### 15. Create a program that removes all occurrences of a specific element from a list using a `for` loop."
   ]
  },
  {
   "cell_type": "code",
   "execution_count": 32,
   "id": "35ae4c5c-6583-4f44-b1d5-3aa30d440623",
   "metadata": {},
   "outputs": [
    {
     "name": "stdout",
     "output_type": "stream",
     "text": [
      "the original is: [10, 20, 10, 30, 10, 40, 10]\n",
      "the list after removing elements [20, 30, 40]\n"
     ]
    }
   ],
   "source": [
    "list=[10,20,10,30,10,40,10] # Take a list.\n",
    "n=10\n",
    "print(\"the original is:\",list)\n",
    "for i in list: # Iterate i in list.\n",
    "    if i==n:\n",
    "        list.remove(i) # using remove function to remove the occurrenecs.\n",
    "print(\"the list after removing elements\",list) # print the result.       "
   ]
  },
  {
   "cell_type": "markdown",
   "id": "885988e5-64ed-413c-96d5-cc3f8e48066f",
   "metadata": {},
   "source": [
    "### 16. Develop a program that generates a multiplication table for numbers from 1 to 5 using a nested `for` loop."
   ]
  },
  {
   "cell_type": "code",
   "execution_count": 12,
   "id": "3a6e26a7-3c9d-4d3a-b613-4cddbe958c9e",
   "metadata": {},
   "outputs": [
    {
     "name": "stdout",
     "output_type": "stream",
     "text": [
      "Multiplication table for 1:\n",
      "1 x 1 = 1\n",
      "1 x 2 = 2\n",
      "1 x 3 = 3\n",
      "1 x 4 = 4\n",
      "1 x 5 = 5\n",
      "1 x 6 = 6\n",
      "1 x 7 = 7\n",
      "1 x 8 = 8\n",
      "1 x 9 = 9\n",
      "1 x 10 = 10\n",
      "\n",
      "Multiplication table for 2:\n",
      "2 x 1 = 2\n",
      "2 x 2 = 4\n",
      "2 x 3 = 6\n",
      "2 x 4 = 8\n",
      "2 x 5 = 10\n",
      "2 x 6 = 12\n",
      "2 x 7 = 14\n",
      "2 x 8 = 16\n",
      "2 x 9 = 18\n",
      "2 x 10 = 20\n",
      "\n",
      "Multiplication table for 3:\n",
      "3 x 1 = 3\n",
      "3 x 2 = 6\n",
      "3 x 3 = 9\n",
      "3 x 4 = 12\n",
      "3 x 5 = 15\n",
      "3 x 6 = 18\n",
      "3 x 7 = 21\n",
      "3 x 8 = 24\n",
      "3 x 9 = 27\n",
      "3 x 10 = 30\n",
      "\n",
      "Multiplication table for 4:\n",
      "4 x 1 = 4\n",
      "4 x 2 = 8\n",
      "4 x 3 = 12\n",
      "4 x 4 = 16\n",
      "4 x 5 = 20\n",
      "4 x 6 = 24\n",
      "4 x 7 = 28\n",
      "4 x 8 = 32\n",
      "4 x 9 = 36\n",
      "4 x 10 = 40\n",
      "\n",
      "Multiplication table for 5:\n",
      "5 x 1 = 5\n",
      "5 x 2 = 10\n",
      "5 x 3 = 15\n",
      "5 x 4 = 20\n",
      "5 x 5 = 25\n",
      "5 x 6 = 30\n",
      "5 x 7 = 35\n",
      "5 x 8 = 40\n",
      "5 x 9 = 45\n",
      "5 x 10 = 50\n",
      "\n"
     ]
    }
   ],
   "source": [
    "start_num = 1 # Define the range of numbers for the multiplication table\n",
    "end_num = 5\n",
    "for i in range(start_num, end_num + 1): # Iterate through the range of numbers\n",
    "    print(f\"Multiplication table for {i}:\")\n",
    "    for j in range(1, 11):         # Nested loop to generate the multiplication table\n",
    "        product = i * j\n",
    "        print(f\"{i} x {j} = {product}\")\n",
    "    print()     # Print a blank line to separate the tables"
   ]
  },
  {
   "cell_type": "markdown",
   "id": "f7fcefe4-ff2b-47de-acd2-fbac62fb6053",
   "metadata": {},
   "source": [
    "### 17. Write a program that converts a list of Fahrenheit temperatures to Celsius using a `for` loop."
   ]
  },
  {
   "cell_type": "code",
   "execution_count": 13,
   "id": "3a36955c-5ce2-4c99-9142-92e425a384f6",
   "metadata": {},
   "outputs": [
    {
     "name": "stdout",
     "output_type": "stream",
     "text": [
      "32°F is equal to 0.00°C\n",
      "68°F is equal to 20.00°C\n",
      "100°F is equal to 37.78°C\n",
      "212°F is equal to 100.00°C\n"
     ]
    }
   ],
   "source": [
    "def fahrenheit_to_celsius(fahrenheit): # Function to convert Fahrenheit to Celsius\n",
    "    return (fahrenheit - 32) * 5.0/9.0\n",
    "fahrenheit_temperatures = [32, 68, 100, 212] # List of Fahrenheit temperatures\n",
    "celsius_temperatures = [] # Initialize an empty list to store Celsius temperatures\n",
    "for fahrenheit in fahrenheit_temperatures: # Convert each Fahrenheit temperature to Celsius and store in the celsius_temperatures list\n",
    "    celsius = fahrenheit_to_celsius(fahrenheit)\n",
    "    celsius_temperatures.append(celsius)\n",
    "for i in range(len(fahrenheit_temperatures)):# Print the converted Celsius temperatures\n",
    "    print(f\"{fahrenheit_temperatures[i]}°F is equal to {celsius_temperatures[i]:.2f}°C\")"
   ]
  },
  {
   "cell_type": "markdown",
   "id": "5836c40c-3565-4015-84d7-e749873c07d9",
   "metadata": {},
   "source": [
    "### 18. Create a program to print the common elements from two lists using a `for` loop."
   ]
  },
  {
   "cell_type": "code",
   "execution_count": 18,
   "id": "f8b37a48-29a6-412a-a769-1d4a4aeffc77",
   "metadata": {},
   "outputs": [
    {
     "name": "stdout",
     "output_type": "stream",
     "text": [
      "Common elements in the lists are: [3, 4, 5]\n"
     ]
    }
   ],
   "source": [
    "# Two lists with some common elements\n",
    "list1 = [1, 2, 3, 4, 5]\n",
    "list2 = [3, 4, 5, 6, 7]\n",
    "# Initialize an empty list to store common elements\n",
    "common_elements = []\n",
    "# Iterate through the elements of list1\n",
    "for element in list1:\n",
    "    # Check if the element is also in list2\n",
    "    if element in list2:\n",
    "        # If it's common, add it to the common_elements list\n",
    "        common_elements.append(element)\n",
    "# Print the common elements\n",
    "if common_elements:\n",
    "    print(\"Common elements in the lists are:\", common_elements)\n",
    "else:\n",
    "    print(\"There are no common elements in the lists.\")"
   ]
  },
  {
   "cell_type": "markdown",
   "id": "cabc229b-a3f9-4223-a358-639f5e2d8e51",
   "metadata": {},
   "source": [
    "### 19. Develop a program that prints the pattern of right-angled triangles using a `for` loop. Use ‘*’ to draw the"
   ]
  },
  {
   "cell_type": "code",
   "execution_count": 2,
   "id": "4a1f6289-6e84-4120-aec6-e566e986c9d8",
   "metadata": {},
   "outputs": [
    {
     "name": "stdin",
     "output_type": "stream",
     "text": [
      "Enter the number of rows for the pattern:  5\n"
     ]
    },
    {
     "name": "stdout",
     "output_type": "stream",
     "text": [
      "*\n",
      "**\n",
      "***\n",
      "****\n",
      "*****\n"
     ]
    }
   ],
   "source": [
    "num_rows = int(input(\"Enter the number of rows for the pattern: \")) # Input the number of rows for the pattern\n",
    "for i in range(1, num_rows + 1): # Loop through each row\n",
    "    for j in range(i): # Print '*' for each column in the current row\n",
    "        print('*', end='')\n",
    "    print()  # Move to the next line after printing the row"
   ]
  },
  {
   "cell_type": "markdown",
   "id": "c325ae7c-0532-4064-b9e1-1f01ef367205",
   "metadata": {},
   "source": [
    "### 20. Write a program to find the greatest common divisor (GCD) of two numbers using a `for` loop."
   ]
  },
  {
   "cell_type": "code",
   "execution_count": 7,
   "id": "e35678fb-95a4-4aed-93f5-b9e73f764dcf",
   "metadata": {},
   "outputs": [
    {
     "name": "stdout",
     "output_type": "stream",
     "text": [
      "GCD of 10 and 20 is: 10\n"
     ]
    }
   ],
   "source": [
    "x = 10 # define value as variable.\n",
    "y = 20\n",
    "if x > y: # if condition will satisfy then s and y values are repalce.\n",
    "  x, y = y, x\n",
    "for i in range(1,x+1): # To iterate the range of x. \n",
    "  if x%i == 0 and y%i == 0:\n",
    "    gcd = i\n",
    "print(\"GCD of\", x, \"and\", y, \"is:\", gcd) #  print the result."
   ]
  },
  {
   "cell_type": "markdown",
   "id": "0da4783a-b4da-4899-9810-cbeacb12563c",
   "metadata": {},
   "source": [
    "# Advanced Level:"
   ]
  },
  {
   "cell_type": "markdown",
   "id": "eb84d9e5-3dee-4df8-bc22-6bf0eca1daeb",
   "metadata": {},
   "source": [
    "### 21. Create a program that calculates the sum of the digits of numbers in a list using a list comprehension."
   ]
  },
  {
   "cell_type": "code",
   "execution_count": 18,
   "id": "8fb11e79-176f-4228-b2b7-7a763e224456",
   "metadata": {},
   "outputs": [
    {
     "name": "stdout",
     "output_type": "stream",
     "text": [
      "The sum of digits in 123 is 6\n",
      "The sum of digits in 456 is 15\n",
      "The sum of digits in 789 is 24\n"
     ]
    }
   ],
   "source": [
    "# Function to calculate the sum of digits of a number\n",
    "def digit_sum(number):\n",
    "    return sum(int(digit) for digit in str(number))\n",
    "\n",
    "# List of numbers\n",
    "numbers = [123, 456, 789]\n",
    "\n",
    "# Calculate the sum of digits for each number using a list comprehension\n",
    "digit_sums = [digit_sum(num) for num in numbers]\n",
    "\n",
    "# Print the results\n",
    "for i in range(len(numbers)):\n",
    "    print(f\"The sum of digits in {numbers[i]} is {digit_sums[i]}\")"
   ]
  },
  {
   "cell_type": "markdown",
   "id": "359369e5-2d57-4d19-ba58-c61ffa508d9a",
   "metadata": {},
   "source": [
    "\n",
    "### 22. Write a program to find the prime factors of a given number using a `for` loop and list comprehension."
   ]
  },
  {
   "cell_type": "code",
   "execution_count": 2,
   "id": "dbab5429-88c3-4723-b7b1-08afe5ee127f",
   "metadata": {},
   "outputs": [
    {
     "name": "stdin",
     "output_type": "stream",
     "text": [
      "Enter a number:  10\n"
     ]
    },
    {
     "name": "stdout",
     "output_type": "stream",
     "text": [
      "Prime factors of 10: [2, 5]\n"
     ]
    }
   ],
   "source": [
    "def prime_factors(n):\n",
    "    factors = []\n",
    "    \n",
    "    # Divide n by 2 until it's odd\n",
    "    while n % 2 == 0:\n",
    "        factors.append(2)\n",
    "        n = n // 2\n",
    "    \n",
    "    # Check for odd prime factors starting from 3\n",
    "    for i in range(3, int(n**0.5) + 1, 2):\n",
    "        while n % i == 0:\n",
    "            factors.append(i)\n",
    "            n = n // i\n",
    "    \n",
    "    # If n is a prime number greater than 2, add it to the factors list\n",
    "    if n > 2:\n",
    "        factors.append(n)\n",
    "    \n",
    "    return factors\n",
    "\n",
    "# Input a number from the user\n",
    "num = int(input(\"Enter a number: \"))\n",
    "\n",
    "# Find and print the prime factors\n",
    "factors = prime_factors(num)\n",
    "print(f\"Prime factors of {num}: {factors}\")"
   ]
  },
  {
   "cell_type": "markdown",
   "id": "4a00e6eb-69d7-4afd-88d6-1a63e3112137",
   "metadata": {},
   "source": [
    "### 23. Develop a program that extracts unique elements from a list and stores them in a new list using a list comprehension."
   ]
  },
  {
   "cell_type": "code",
   "execution_count": 3,
   "id": "be6325a0-88e1-4a1e-87d7-c0b003d9b526",
   "metadata": {},
   "outputs": [
    {
     "name": "stdout",
     "output_type": "stream",
     "text": [
      "Unique Elements: [1, 3, 5, 7]\n"
     ]
    }
   ],
   "source": [
    "# Original list with duplicate elements\n",
    "original_list = [1, 2, 2, 3, 4, 4, 5, 6, 6, 7]\n",
    "\n",
    "# Initialize an empty list to store unique elements\n",
    "unique_elements = []\n",
    "\n",
    "# Iterate through each element in the original list\n",
    "for x in original_list:\n",
    "    # Check if the current element appears only once in the original list (is unique)\n",
    "    if original_list.count(x) == 1:\n",
    "        # If it's unique, add it to the unique_elements list\n",
    "        unique_elements.append(x)\n",
    "\n",
    "# Print the unique elements\n",
    "print(\"Unique Elements:\", unique_elements)\n"
   ]
  },
  {
   "cell_type": "markdown",
   "id": "82f60c58-5717-41c5-a4c4-2e5846864e40",
   "metadata": {},
   "source": [
    "### 24. Create a program that generates a list of all palindromic numbers up to a specified limit using a list comprehension."
   ]
  },
  {
   "cell_type": "code",
   "execution_count": 4,
   "id": "e65a742f-cd79-4b8a-9a3a-74c7970437fe",
   "metadata": {},
   "outputs": [
    {
     "name": "stdout",
     "output_type": "stream",
     "text": [
      "Palindromic Numbers up to 1000 are: [1, 2, 3, 4, 5, 6, 7, 8, 9, 11, 22, 33, 44, 55, 66, 77, 88, 99, 101, 111, 121, 131, 141, 151, 161, 171, 181, 191, 202, 212, 222, 232, 242, 252, 262, 272, 282, 292, 303, 313, 323, 333, 343, 353, 363, 373, 383, 393, 404, 414, 424, 434, 444, 454, 464, 474, 484, 494, 505, 515, 525, 535, 545, 555, 565, 575, 585, 595, 606, 616, 626, 636, 646, 656, 666, 676, 686, 696, 707, 717, 727, 737, 747, 757, 767, 777, 787, 797, 808, 818, 828, 838, 848, 858, 868, 878, 888, 898, 909, 919, 929, 939, 949, 959, 969, 979, 989, 999]\n"
     ]
    }
   ],
   "source": [
    "# Function to check if a number is a palindrome\n",
    "def is_palindrome(number):\n",
    "    return str(number) == str(number)[::-1]\n",
    "\n",
    "# Specify the limit for palindromic numbers\n",
    "limit = 1000\n",
    "\n",
    "# Initialize an empty list to store palindromic numbers\n",
    "palindromic_numbers = []\n",
    "\n",
    "# Iterate through numbers from 1 to the specified limit\n",
    "for num in range(1, limit + 1):\n",
    "    if is_palindrome(num):\n",
    "        palindromic_numbers.append(num)\n",
    "\n",
    "# Print the list of palindromic numbers\n",
    "print(\"Palindromic Numbers up to\", limit, \"are:\", palindromic_numbers)\n"
   ]
  },
  {
   "cell_type": "markdown",
   "id": "927665d7-dfc6-4a8e-acc8-08168d46bd63",
   "metadata": {},
   "source": [
    "### 25. Write a program to flatten a nested list using list comprehension."
   ]
  },
  {
   "cell_type": "code",
   "execution_count": 5,
   "id": "1f9edc26-c4ec-4a76-aa80-3fe6edaa3ec2",
   "metadata": {},
   "outputs": [
    {
     "name": "stdout",
     "output_type": "stream",
     "text": [
      "Flattened List: [1, 2, 3, 4, 5, 6, 7, 8]\n"
     ]
    }
   ],
   "source": [
    "# Nested list with sublists\n",
    "nested_list = [[1, 2, 3], [4, 5], [6, 7, 8]]\n",
    "\n",
    "# Flatten the nested list using list comprehension\n",
    "flattened_list = [item for sublist in nested_list for item in sublist]\n",
    "\n",
    "# Print the flattened list\n",
    "print(\"Flattened List:\", flattened_list)\n"
   ]
  },
  {
   "cell_type": "markdown",
   "id": "cfa44142-e51e-4112-9f57-5559c6837d02",
   "metadata": {},
   "source": [
    "### 26. Develop a program that computes the sum of even and odd numbers in a list separately using list comprehension."
   ]
  },
  {
   "cell_type": "code",
   "execution_count": 6,
   "id": "f9bab9cb-0c37-43df-b4bd-3860dcc5a39f",
   "metadata": {},
   "outputs": [
    {
     "name": "stdout",
     "output_type": "stream",
     "text": [
      "Sum of Even Numbers: 20\n",
      "Sum of Odd Numbers: 25\n"
     ]
    }
   ],
   "source": [
    "# Original list of numbers\n",
    "numbers = [1, 2, 3, 4, 5, 6, 7, 8, 9]\n",
    "\n",
    "# Initialize variables to store the sums\n",
    "sum_even = 0\n",
    "sum_odd = 0\n",
    "\n",
    "# Iterate through the numbers in the list\n",
    "for num in numbers:\n",
    "    if num % 2 == 0:\n",
    "        # Add even numbers to the sum_even variable\n",
    "        sum_even += num\n",
    "    else:\n",
    "        # Add odd numbers to the sum_odd variable\n",
    "        sum_odd += num\n",
    "\n",
    "# Print the sums of even and odd numbers\n",
    "print(\"Sum of Even Numbers:\", sum_even)\n",
    "print(\"Sum of Odd Numbers:\", sum_odd)\n"
   ]
  },
  {
   "cell_type": "markdown",
   "id": "44707f90-1107-4fca-b040-8f6ad0ac5975",
   "metadata": {},
   "source": [
    "### 27. Create a program that generates a list of squares of odd numbers between 1 and 10 using list comprehension."
   ]
  },
  {
   "cell_type": "code",
   "execution_count": 7,
   "id": "961593a1-2c69-4d2a-8574-486a3b3343e1",
   "metadata": {},
   "outputs": [
    {
     "name": "stdout",
     "output_type": "stream",
     "text": [
      "Squares of Odd Numbers between 1 and 10: [1, 9, 25, 49, 81]\n"
     ]
    }
   ],
   "source": [
    "# Initialize an empty list to store the squares of odd numbers\n",
    "squares_of_odd_numbers = []\n",
    "\n",
    "# Use a for loop to iterate through numbers from 1 to 10\n",
    "for x in range(1, 11):\n",
    "    if x % 2 != 0:  # Check if the number is odd\n",
    "        square = x ** 2  # Calculate the square of the odd number\n",
    "        squares_of_odd_numbers.append(square)  # Append the square to the list\n",
    "\n",
    "# Print the list of squares\n",
    "print(\"Squares of Odd Numbers between 1 and 10:\", squares_of_odd_numbers)\n"
   ]
  },
  {
   "cell_type": "markdown",
   "id": "24c2e7c2-24af-4eb6-8052-bb0edd8d6ad4",
   "metadata": {},
   "source": [
    "### 28. Write a program that combines two lists into a dictionary using list comprehension."
   ]
  },
  {
   "cell_type": "code",
   "execution_count": 8,
   "id": "3d181177-f358-4e43-a751-657ec5f966f0",
   "metadata": {},
   "outputs": [
    {
     "name": "stdout",
     "output_type": "stream",
     "text": [
      "Combined Dictionary: {'name': 'Alice', 'age': 30, 'city': 'New York'}\n"
     ]
    }
   ],
   "source": [
    "# Two lists to combine into a dictionary\n",
    "keys = [\"name\", \"age\", \"city\"]\n",
    "values = [\"Alice\", 30, \"New York\"]\n",
    "\n",
    "# Initialize an empty dictionary\n",
    "combined_dict = {}\n",
    "\n",
    "# Use a for loop to combine the two lists into a dictionary\n",
    "for i in range(len(keys)):\n",
    "    combined_dict[keys[i]] = values[i]\n",
    "\n",
    "# Print the resulting dictionary\n",
    "print(\"Combined Dictionary:\", combined_dict)"
   ]
  },
  {
   "cell_type": "markdown",
   "id": "186117fc-84bc-45b2-9c1b-eee7421b6fa5",
   "metadata": {},
   "source": [
    "### 29. Develop a program that extracts the vowels from a string and stores them in a list using list comprehension."
   ]
  },
  {
   "cell_type": "code",
   "execution_count": 9,
   "id": "9b5c9fe1-d3c5-477d-a777-8f1627fb0a73",
   "metadata": {},
   "outputs": [
    {
     "name": "stdout",
     "output_type": "stream",
     "text": [
      "Vowels (For Loop): ['e', 'o', 'o']\n"
     ]
    }
   ],
   "source": [
    "# Input string\n",
    "input_string = \"Hello, World!\"\n",
    "\n",
    "# Initialize an empty list to store vowels\n",
    "vowels = []\n",
    "\n",
    "# Iterate through each character in the input string\n",
    "for char in input_string:\n",
    "    if char.lower() in 'aeiou':\n",
    "        # If the character is a vowel, append it to the vowels list\n",
    "        vowels.append(char.lower())\n",
    "\n",
    "# Print the list of vowels\n",
    "print(\"Vowels (For Loop):\", vowels)\n"
   ]
  },
  {
   "cell_type": "markdown",
   "id": "9b39e00d-6106-4e82-8239-0c9fd02f9d1c",
   "metadata": {},
   "source": [
    "### 30. Create a program that removes all non-numeric characters from a list of strings using list comprehension."
   ]
  },
  {
   "cell_type": "code",
   "execution_count": 10,
   "id": "91772a00-51c5-42d3-9cee-402860b57d70",
   "metadata": {},
   "outputs": [
    {
     "name": "stdout",
     "output_type": "stream",
     "text": [
      "Numeric Strings (For Loop): ['123', '456', '789', '']\n"
     ]
    }
   ],
   "source": [
    "# List of strings containing alphanumeric characters\n",
    "string_list = [\"abc123\", \"456def\", \"789ghi\", \"jklmno\"]\n",
    "\n",
    "# Initialize an empty list to store numeric strings\n",
    "numeric_strings = []\n",
    "\n",
    "# Iterate through each string in the list\n",
    "for string in string_list:\n",
    "    numeric_string = ''.join(char for char in string if char.isnumeric())\n",
    "    numeric_strings.append(numeric_string)\n",
    "\n",
    "# Print the list of numeric strings\n",
    "print(\"Numeric Strings (For Loop):\", numeric_strings)\n"
   ]
  },
  {
   "cell_type": "markdown",
   "id": "3ca6f622-2b6c-4dde-b9a0-83321929aa1b",
   "metadata": {},
   "source": [
    "# Challenge Level:"
   ]
  },
  {
   "cell_type": "markdown",
   "id": "07921394-776f-4046-8e06-73d4351d850c",
   "metadata": {},
   "source": [
    "### 31. Write a program to generate a list of prime numbers using the Sieve of Eratosthenes algorithm and list comprehension."
   ]
  },
  {
   "cell_type": "code",
   "execution_count": 11,
   "id": "40dab824-f43b-41b8-a9a4-71dfb04b6071",
   "metadata": {},
   "outputs": [
    {
     "name": "stdout",
     "output_type": "stream",
     "text": [
      "Prime Numbers up to 100 are: [2, 3, 5, 7, 11, 13, 17, 19, 23, 29, 31, 37, 41, 43, 47, 53, 59, 61, 67, 71, 73, 79, 83, 89, 97]\n"
     ]
    }
   ],
   "source": [
    "# Specify the upper limit for prime numbers\n",
    "upper_limit = 100\n",
    "\n",
    "# Create a boolean list to mark numbers as prime or not\n",
    "is_prime = [True] * (upper_limit + 1)\n",
    "is_prime[0] = is_prime[1] = False\n",
    "\n",
    "# Use the Sieve of Eratosthenes algorithm to mark non-prime numbers\n",
    "for num in range(2, int(upper_limit**0.5) + 1):\n",
    "    if is_prime[num]:\n",
    "        for multiple in range(num * num, upper_limit + 1, num):\n",
    "            is_prime[multiple] = False\n",
    "\n",
    "# Generate a list of prime numbers using list comprehension\n",
    "prime_numbers = [num for num in range(2, upper_limit + 1) if is_prime[num]]\n",
    "\n",
    "# Print the list of prime numbers\n",
    "print(\"Prime Numbers up to\", upper_limit, \"are:\", prime_numbers)\n"
   ]
  },
  {
   "cell_type": "markdown",
   "id": "66281027-2c19-444c-89b1-3086c36b767a",
   "metadata": {},
   "source": [
    "### 32. Create a program that generates a list of all Pythagorean triplets up to a specified limit using list comprehension."
   ]
  },
  {
   "cell_type": "code",
   "execution_count": 12,
   "id": "1a780d7d-e59a-4ef0-bab1-5603566edba9",
   "metadata": {},
   "outputs": [
    {
     "name": "stdout",
     "output_type": "stream",
     "text": [
      "Pythagorean Triplets up to 20 are: [(3, 4, 5), (5, 12, 13), (6, 8, 10), (8, 15, 17), (9, 12, 15), (12, 16, 20)]\n"
     ]
    }
   ],
   "source": [
    "# Specify the upper limit for generating Pythagorean triplets\n",
    "limit = 20\n",
    "\n",
    "# Generate a list of Pythagorean triplets using list comprehension\n",
    "pythagorean_triplets = [(a, b, c) for a in range(1, limit+1) for b in range(a, limit+1) for c in range(b, limit+1) if a**2 + b**2 == c**2]\n",
    "\n",
    "# Print the list of Pythagorean triplets\n",
    "print(\"Pythagorean Triplets up to\", limit, \"are:\", pythagorean_triplets)\n"
   ]
  },
  {
   "cell_type": "markdown",
   "id": "49ec0d5c-58e8-4536-a01c-fea3ccf4f20e",
   "metadata": {},
   "source": [
    "### 33. Develop a program that generates a list of all possible combinations of two lists using list comprehension."
   ]
  },
  {
   "cell_type": "code",
   "execution_count": 13,
   "id": "f7b72969-9686-49f8-9dd8-85fc2251d2f2",
   "metadata": {},
   "outputs": [
    {
     "name": "stdout",
     "output_type": "stream",
     "text": [
      "All Possible Combinations: [(1, 'a'), (1, 'b'), (1, 'c'), (2, 'a'), (2, 'b'), (2, 'c'), (3, 'a'), (3, 'b'), (3, 'c')]\n"
     ]
    }
   ],
   "source": [
    "# Two lists to combine\n",
    "list1 = [1, 2, 3]\n",
    "list2 = ['a', 'b', 'c']\n",
    "\n",
    "# Generate a list of all possible combinations using list comprehension\n",
    "combinations = [(x, y) for x in list1 for y in list2]\n",
    "\n",
    "# Print the list of combinations\n",
    "print(\"All Possible Combinations:\", combinations)\n"
   ]
  },
  {
   "cell_type": "markdown",
   "id": "96490ea3-cbb8-4e69-93e4-c013232c2390",
   "metadata": {},
   "source": [
    "### 34. Write a program that calculates the mean, median, and mode of a list of numbers using list comprehension."
   ]
  },
  {
   "cell_type": "code",
   "execution_count": 14,
   "id": "5a08a253-4646-4ab6-ba00-34b23dbc22e5",
   "metadata": {},
   "outputs": [
    {
     "name": "stdout",
     "output_type": "stream",
     "text": [
      "Mean: 3.888888888888889\n",
      "Median: 4\n",
      "Mode: [2, 5]\n"
     ]
    }
   ],
   "source": [
    "from collections import Counter\n",
    "import statistics\n",
    "\n",
    "# List of numbers\n",
    "numbers = [1, 2, 2, 3, 4, 5, 5, 6, 7]\n",
    "\n",
    "# Calculate the mean using list comprehension\n",
    "mean = sum(numbers) / len(numbers)\n",
    "\n",
    "# Calculate the median using the statistics library\n",
    "median = statistics.median(numbers)\n",
    "\n",
    "# Calculate the mode using Counter and list comprehension\n",
    "counts = Counter(numbers)\n",
    "mode = [num for num, count in counts.items() if count == max(counts.values())]\n",
    "\n",
    "# Print the results\n",
    "print(\"Mean:\", mean)\n",
    "print(\"Median:\", median)\n",
    "print(\"Mode:\", mode)\n"
   ]
  },
  {
   "cell_type": "markdown",
   "id": "bde847a8-a37f-495a-896c-d149e437ed98",
   "metadata": {},
   "source": [
    "### 35. Create a program that generates Pascal's triangle up to a specified number of rows using list comprehension."
   ]
  },
  {
   "cell_type": "code",
   "execution_count": 15,
   "id": "57d185db-6623-44e5-b0f0-9398dec2c583",
   "metadata": {},
   "outputs": [
    {
     "name": "stdout",
     "output_type": "stream",
     "text": [
      "[1]\n",
      "[1, 1]\n",
      "[1, 2, 1]\n",
      "[1, 3, 3, 1]\n",
      "[1, 4, 6, 4, 1]\n"
     ]
    }
   ],
   "source": [
    "# Function to generate Pascal's triangle up to 'n' rows\n",
    "def generate_pascals_triangle(n):\n",
    "    triangle = [[1]]\n",
    "    \n",
    "    for _ in range(1, n):\n",
    "        row = [1] + [triangle[-1][i] + triangle[-1][i + 1] for i in range(len(triangle[-1]) - 1)] + [1]\n",
    "        triangle.append(row)\n",
    "    \n",
    "    return triangle\n",
    "\n",
    "# Specify the number of rows for Pascal's triangle\n",
    "num_rows = 5  # Change this to the desired number of rows\n",
    "\n",
    "# Generate Pascal's triangle using the function\n",
    "pascals_triangle = generate_pascals_triangle(num_rows)\n",
    "\n",
    "# Print Pascal's triangle\n",
    "for row in pascals_triangle:\n",
    "    print(row)\n"
   ]
  },
  {
   "cell_type": "markdown",
   "id": "6d190c51-cb4b-4011-bace-ab63e8a517b0",
   "metadata": {},
   "source": [
    "### 36. Develop a program that calculates the sum of the digits of a factorial of numbers from 1 to 5 using list comprehension."
   ]
  },
  {
   "cell_type": "code",
   "execution_count": 16,
   "id": "a4e4c3e7-51cc-4b24-a7b6-ae29bb765eaa",
   "metadata": {},
   "outputs": [
    {
     "name": "stdout",
     "output_type": "stream",
     "text": [
      "Sums of Digits of Factorials (1 to 5): [1, 2, 6, 6, 3]\n"
     ]
    }
   ],
   "source": [
    "# Function to calculate the factorial of a number\n",
    "def factorial(n):\n",
    "    if n == 0 or n == 1:\n",
    "        return 1\n",
    "    else:\n",
    "        return n * factorial(n - 1)\n",
    "\n",
    "# Calculate the sum of digits of factorial for numbers from 1 to 5 using list comprehension\n",
    "sums_of_digit_sums = [sum(int(digit) for digit in str(factorial(num))) for num in range(1, 6)]\n",
    "\n",
    "# Print the list of sums of digit sums\n",
    "print(\"Sums of Digits of Factorials (1 to 5):\", sums_of_digit_sums)\n"
   ]
  },
  {
   "cell_type": "markdown",
   "id": "7a0171e9-aa1c-4a03-8647-ddf9264d842a",
   "metadata": {},
   "source": [
    "\n",
    "### 37. Write a program that finds the longest word in a sentence using list comprehension."
   ]
  },
  {
   "cell_type": "code",
   "execution_count": 17,
   "id": "50edd124-c587-4159-bb0f-ec9422d3c1ad",
   "metadata": {},
   "outputs": [
    {
     "name": "stdout",
     "output_type": "stream",
     "text": [
      "Longest Word: different\n"
     ]
    }
   ],
   "source": [
    "# Input sentence\n",
    "sentence = \"This is a sample sentence with several words of different lengths.\"\n",
    "\n",
    "# Split the sentence into words\n",
    "words = sentence.split()\n",
    "\n",
    "# Find the longest word using list comprehension\n",
    "longest_word = max(words, key=lambda word: len(word))\n",
    "\n",
    "# Print the longest word\n",
    "print(\"Longest Word:\", longest_word)\n"
   ]
  },
  {
   "cell_type": "markdown",
   "id": "f070cb83-cc21-4d74-a721-8c25631790e7",
   "metadata": {},
   "source": [
    "### 38. Create a program that filters a list of strings to include only those with more than three vowels using list comprehension."
   ]
  },
  {
   "cell_type": "code",
   "execution_count": 18,
   "id": "9c905520-276b-4a52-90fc-a9f6b6461967",
   "metadata": {},
   "outputs": [
    {
     "name": "stdout",
     "output_type": "stream",
     "text": [
      "Strings with More Than Three Vowels: ['awesome']\n"
     ]
    }
   ],
   "source": [
    "# List of strings\n",
    "string_list = [\"hello\", \"world\", \"programming\", \"is\", \"fun\", \"awesome\"]\n",
    "\n",
    "# Function to count vowels in a string\n",
    "def count_vowels(s):\n",
    "    vowels = \"aeiouAEIOU\"\n",
    "    return sum(1 for char in s if char in vowels)\n",
    "\n",
    "# Filter strings with more than three vowels using list comprehension\n",
    "filtered_strings = [string for string in string_list if count_vowels(string) > 3]\n",
    "\n",
    "# Print the filtered list of strings\n",
    "print(\"Strings with More Than Three Vowels:\", filtered_strings)\n"
   ]
  },
  {
   "cell_type": "markdown",
   "id": "7e1dd3d2-53eb-4c3f-ba35-32f94b15734c",
   "metadata": {},
   "source": [
    "### 39. Develop a program that calculates the sum of the digits of numbers from 1 to 1000 using list comprehension."
   ]
  },
  {
   "cell_type": "code",
   "execution_count": 19,
   "id": "34a47883-9e91-410a-aa53-f14c7e6e2b97",
   "metadata": {},
   "outputs": [
    {
     "name": "stdout",
     "output_type": "stream",
     "text": [
      "Sum of Digits of Numbers from 1 to 1000: [1, 2, 3, 4, 5, 6, 7, 8, 9, 1, 2, 3, 4, 5, 6, 7, 8, 9, 10, 2, 3, 4, 5, 6, 7, 8, 9, 10, 11, 3, 4, 5, 6, 7, 8, 9, 10, 11, 12, 4, 5, 6, 7, 8, 9, 10, 11, 12, 13, 5, 6, 7, 8, 9, 10, 11, 12, 13, 14, 6, 7, 8, 9, 10, 11, 12, 13, 14, 15, 7, 8, 9, 10, 11, 12, 13, 14, 15, 16, 8, 9, 10, 11, 12, 13, 14, 15, 16, 17, 9, 10, 11, 12, 13, 14, 15, 16, 17, 18, 1, 2, 3, 4, 5, 6, 7, 8, 9, 10, 2, 3, 4, 5, 6, 7, 8, 9, 10, 11, 3, 4, 5, 6, 7, 8, 9, 10, 11, 12, 4, 5, 6, 7, 8, 9, 10, 11, 12, 13, 5, 6, 7, 8, 9, 10, 11, 12, 13, 14, 6, 7, 8, 9, 10, 11, 12, 13, 14, 15, 7, 8, 9, 10, 11, 12, 13, 14, 15, 16, 8, 9, 10, 11, 12, 13, 14, 15, 16, 17, 9, 10, 11, 12, 13, 14, 15, 16, 17, 18, 10, 11, 12, 13, 14, 15, 16, 17, 18, 19, 2, 3, 4, 5, 6, 7, 8, 9, 10, 11, 3, 4, 5, 6, 7, 8, 9, 10, 11, 12, 4, 5, 6, 7, 8, 9, 10, 11, 12, 13, 5, 6, 7, 8, 9, 10, 11, 12, 13, 14, 6, 7, 8, 9, 10, 11, 12, 13, 14, 15, 7, 8, 9, 10, 11, 12, 13, 14, 15, 16, 8, 9, 10, 11, 12, 13, 14, 15, 16, 17, 9, 10, 11, 12, 13, 14, 15, 16, 17, 18, 10, 11, 12, 13, 14, 15, 16, 17, 18, 19, 11, 12, 13, 14, 15, 16, 17, 18, 19, 20, 3, 4, 5, 6, 7, 8, 9, 10, 11, 12, 4, 5, 6, 7, 8, 9, 10, 11, 12, 13, 5, 6, 7, 8, 9, 10, 11, 12, 13, 14, 6, 7, 8, 9, 10, 11, 12, 13, 14, 15, 7, 8, 9, 10, 11, 12, 13, 14, 15, 16, 8, 9, 10, 11, 12, 13, 14, 15, 16, 17, 9, 10, 11, 12, 13, 14, 15, 16, 17, 18, 10, 11, 12, 13, 14, 15, 16, 17, 18, 19, 11, 12, 13, 14, 15, 16, 17, 18, 19, 20, 12, 13, 14, 15, 16, 17, 18, 19, 20, 21, 4, 5, 6, 7, 8, 9, 10, 11, 12, 13, 5, 6, 7, 8, 9, 10, 11, 12, 13, 14, 6, 7, 8, 9, 10, 11, 12, 13, 14, 15, 7, 8, 9, 10, 11, 12, 13, 14, 15, 16, 8, 9, 10, 11, 12, 13, 14, 15, 16, 17, 9, 10, 11, 12, 13, 14, 15, 16, 17, 18, 10, 11, 12, 13, 14, 15, 16, 17, 18, 19, 11, 12, 13, 14, 15, 16, 17, 18, 19, 20, 12, 13, 14, 15, 16, 17, 18, 19, 20, 21, 13, 14, 15, 16, 17, 18, 19, 20, 21, 22, 5, 6, 7, 8, 9, 10, 11, 12, 13, 14, 6, 7, 8, 9, 10, 11, 12, 13, 14, 15, 7, 8, 9, 10, 11, 12, 13, 14, 15, 16, 8, 9, 10, 11, 12, 13, 14, 15, 16, 17, 9, 10, 11, 12, 13, 14, 15, 16, 17, 18, 10, 11, 12, 13, 14, 15, 16, 17, 18, 19, 11, 12, 13, 14, 15, 16, 17, 18, 19, 20, 12, 13, 14, 15, 16, 17, 18, 19, 20, 21, 13, 14, 15, 16, 17, 18, 19, 20, 21, 22, 14, 15, 16, 17, 18, 19, 20, 21, 22, 23, 6, 7, 8, 9, 10, 11, 12, 13, 14, 15, 7, 8, 9, 10, 11, 12, 13, 14, 15, 16, 8, 9, 10, 11, 12, 13, 14, 15, 16, 17, 9, 10, 11, 12, 13, 14, 15, 16, 17, 18, 10, 11, 12, 13, 14, 15, 16, 17, 18, 19, 11, 12, 13, 14, 15, 16, 17, 18, 19, 20, 12, 13, 14, 15, 16, 17, 18, 19, 20, 21, 13, 14, 15, 16, 17, 18, 19, 20, 21, 22, 14, 15, 16, 17, 18, 19, 20, 21, 22, 23, 15, 16, 17, 18, 19, 20, 21, 22, 23, 24, 7, 8, 9, 10, 11, 12, 13, 14, 15, 16, 8, 9, 10, 11, 12, 13, 14, 15, 16, 17, 9, 10, 11, 12, 13, 14, 15, 16, 17, 18, 10, 11, 12, 13, 14, 15, 16, 17, 18, 19, 11, 12, 13, 14, 15, 16, 17, 18, 19, 20, 12, 13, 14, 15, 16, 17, 18, 19, 20, 21, 13, 14, 15, 16, 17, 18, 19, 20, 21, 22, 14, 15, 16, 17, 18, 19, 20, 21, 22, 23, 15, 16, 17, 18, 19, 20, 21, 22, 23, 24, 16, 17, 18, 19, 20, 21, 22, 23, 24, 25, 8, 9, 10, 11, 12, 13, 14, 15, 16, 17, 9, 10, 11, 12, 13, 14, 15, 16, 17, 18, 10, 11, 12, 13, 14, 15, 16, 17, 18, 19, 11, 12, 13, 14, 15, 16, 17, 18, 19, 20, 12, 13, 14, 15, 16, 17, 18, 19, 20, 21, 13, 14, 15, 16, 17, 18, 19, 20, 21, 22, 14, 15, 16, 17, 18, 19, 20, 21, 22, 23, 15, 16, 17, 18, 19, 20, 21, 22, 23, 24, 16, 17, 18, 19, 20, 21, 22, 23, 24, 25, 17, 18, 19, 20, 21, 22, 23, 24, 25, 26, 9, 10, 11, 12, 13, 14, 15, 16, 17, 18, 10, 11, 12, 13, 14, 15, 16, 17, 18, 19, 11, 12, 13, 14, 15, 16, 17, 18, 19, 20, 12, 13, 14, 15, 16, 17, 18, 19, 20, 21, 13, 14, 15, 16, 17, 18, 19, 20, 21, 22, 14, 15, 16, 17, 18, 19, 20, 21, 22, 23, 15, 16, 17, 18, 19, 20, 21, 22, 23, 24, 16, 17, 18, 19, 20, 21, 22, 23, 24, 25, 17, 18, 19, 20, 21, 22, 23, 24, 25, 26, 18, 19, 20, 21, 22, 23, 24, 25, 26, 27, 1]\n"
     ]
    }
   ],
   "source": [
    "# Function to calculate the sum of digits of a number\n",
    "def sum_of_digits(n):\n",
    "    digit_sum = 0\n",
    "    while n > 0:\n",
    "        digit_sum += n % 10\n",
    "        n //= 10\n",
    "    return digit_sum\n",
    "\n",
    "# Calculate the sum of digits for numbers from 1 to 1000 using a for loop\n",
    "digit_sums = []\n",
    "for num in range(1, 1001):\n",
    "    digit_sums.append(sum_of_digits(num))\n",
    "\n",
    "# Print the list of digit sums\n",
    "print(\"Sum of Digits of Numbers from 1 to 1000:\", digit_sums)\n"
   ]
  },
  {
   "cell_type": "markdown",
   "id": "7dde1fdc-92d7-42d3-8d8f-0c48208f2005",
   "metadata": {},
   "source": [
    "### 40. Write a program that generates a list of prime palindromic numbers using list comprehension."
   ]
  },
  {
   "cell_type": "code",
   "execution_count": 20,
   "id": "fca873a6-7d1c-4307-a721-8d80cc8c2d91",
   "metadata": {},
   "outputs": [
    {
     "name": "stdout",
     "output_type": "stream",
     "text": [
      "Prime Palindromic Numbers up to 1000: [2, 3, 5, 7, 11, 101, 131, 151, 181, 191, 313, 353, 373, 383, 727, 757, 787, 797, 919, 929]\n"
     ]
    }
   ],
   "source": [
    "# Function to check if a number is prime\n",
    "def is_prime(n):\n",
    "    if n <= 1:\n",
    "        return False\n",
    "    if n == 2:\n",
    "        return True\n",
    "    if n % 2 == 0:\n",
    "        return False\n",
    "    for i in range(3, int(n**0.5) + 1, 2):\n",
    "        if n % i == 0:\n",
    "            return False\n",
    "    return True\n",
    "\n",
    "# Generate a list of prime palindromic numbers using list comprehension\n",
    "prime_palindromic_numbers = [num for num in range(2, 1000) if is_prime(num) and str(num) == str(num)[::-1]]\n",
    "\n",
    "# Print the list of prime palindromic numbers\n",
    "print(\"Prime Palindromic Numbers up to 1000:\", prime_palindromic_numbers)\n"
   ]
  },
  {
   "cell_type": "code",
   "execution_count": null,
   "id": "23555336-2f92-464c-ab40-6f3f1197b0f6",
   "metadata": {},
   "outputs": [],
   "source": []
  }
 ],
 "metadata": {
  "kernelspec": {
   "display_name": "Python 3 (ipykernel)",
   "language": "python",
   "name": "python3"
  },
  "language_info": {
   "codemirror_mode": {
    "name": "ipython",
    "version": 3
   },
   "file_extension": ".py",
   "mimetype": "text/x-python",
   "name": "python",
   "nbconvert_exporter": "python",
   "pygments_lexer": "ipython3",
   "version": "3.10.8"
  }
 },
 "nbformat": 4,
 "nbformat_minor": 5
}
